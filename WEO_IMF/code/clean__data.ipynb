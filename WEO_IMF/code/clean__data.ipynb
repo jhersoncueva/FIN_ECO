{
 "cells": [
  {
   "cell_type": "code",
   "execution_count": 6,
   "id": "5c674a6d",
   "metadata": {},
   "outputs": [],
   "source": [
    "import pandas as pd\n",
    "import plotly.express as px\n",
    "import plotly.graph_objects as go\n"
   ]
  },
  {
   "cell_type": "code",
   "execution_count": 7,
   "id": "05d6ee47",
   "metadata": {},
   "outputs": [
    {
     "data": {
      "text/html": [
       "<div>\n",
       "<style scoped>\n",
       "    .dataframe tbody tr th:only-of-type {\n",
       "        vertical-align: middle;\n",
       "    }\n",
       "\n",
       "    .dataframe tbody tr th {\n",
       "        vertical-align: top;\n",
       "    }\n",
       "\n",
       "    .dataframe thead th {\n",
       "        text-align: right;\n",
       "    }\n",
       "</style>\n",
       "<table border=\"1\" class=\"dataframe\">\n",
       "  <thead>\n",
       "    <tr style=\"text-align: right;\">\n",
       "      <th></th>\n",
       "      <th>WEO Country Code</th>\n",
       "      <th>ISO</th>\n",
       "      <th>WEO Subject Code</th>\n",
       "      <th>Country</th>\n",
       "      <th>Subject Descriptor</th>\n",
       "      <th>Subject Notes</th>\n",
       "      <th>Units</th>\n",
       "      <th>Scale</th>\n",
       "      <th>Country/Series-specific Notes</th>\n",
       "      <th>1980</th>\n",
       "      <th>...</th>\n",
       "      <th>2021</th>\n",
       "      <th>2022</th>\n",
       "      <th>2023</th>\n",
       "      <th>2024</th>\n",
       "      <th>2025</th>\n",
       "      <th>2026</th>\n",
       "      <th>2027</th>\n",
       "      <th>2028</th>\n",
       "      <th>2029</th>\n",
       "      <th>Estimates Start After</th>\n",
       "    </tr>\n",
       "  </thead>\n",
       "  <tbody>\n",
       "    <tr>\n",
       "      <th>0</th>\n",
       "      <td>512</td>\n",
       "      <td>AFG</td>\n",
       "      <td>NGDP_R</td>\n",
       "      <td>Afghanistan</td>\n",
       "      <td>Gross domestic product, constant prices</td>\n",
       "      <td>Expressed in billions of national currency uni...</td>\n",
       "      <td>National currency</td>\n",
       "      <td>Billions</td>\n",
       "      <td>Source: National Statistics Office Latest actu...</td>\n",
       "      <td>NaN</td>\n",
       "      <td>...</td>\n",
       "      <td>1101.445</td>\n",
       "      <td>1032.711</td>\n",
       "      <td>NaN</td>\n",
       "      <td>NaN</td>\n",
       "      <td>NaN</td>\n",
       "      <td>NaN</td>\n",
       "      <td>NaN</td>\n",
       "      <td>NaN</td>\n",
       "      <td>NaN</td>\n",
       "      <td>2023.0</td>\n",
       "    </tr>\n",
       "    <tr>\n",
       "      <th>1</th>\n",
       "      <td>512</td>\n",
       "      <td>AFG</td>\n",
       "      <td>NGDP_RPCH</td>\n",
       "      <td>Afghanistan</td>\n",
       "      <td>Gross domestic product, constant prices</td>\n",
       "      <td>Annual percentages of constant price GDP are y...</td>\n",
       "      <td>Percent change</td>\n",
       "      <td>Units</td>\n",
       "      <td>See notes for:  Gross domestic product, consta...</td>\n",
       "      <td>NaN</td>\n",
       "      <td>...</td>\n",
       "      <td>-14.542</td>\n",
       "      <td>-6.24</td>\n",
       "      <td>NaN</td>\n",
       "      <td>NaN</td>\n",
       "      <td>NaN</td>\n",
       "      <td>NaN</td>\n",
       "      <td>NaN</td>\n",
       "      <td>NaN</td>\n",
       "      <td>NaN</td>\n",
       "      <td>2023.0</td>\n",
       "    </tr>\n",
       "    <tr>\n",
       "      <th>2</th>\n",
       "      <td>512</td>\n",
       "      <td>AFG</td>\n",
       "      <td>NGDP</td>\n",
       "      <td>Afghanistan</td>\n",
       "      <td>Gross domestic product, current prices</td>\n",
       "      <td>Expressed in billions of national currency uni...</td>\n",
       "      <td>National currency</td>\n",
       "      <td>Billions</td>\n",
       "      <td>Source: National Statistics Office Latest actu...</td>\n",
       "      <td>NaN</td>\n",
       "      <td>...</td>\n",
       "      <td>1251.171</td>\n",
       "      <td>1283.442</td>\n",
       "      <td>NaN</td>\n",
       "      <td>NaN</td>\n",
       "      <td>NaN</td>\n",
       "      <td>NaN</td>\n",
       "      <td>NaN</td>\n",
       "      <td>NaN</td>\n",
       "      <td>NaN</td>\n",
       "      <td>2023.0</td>\n",
       "    </tr>\n",
       "    <tr>\n",
       "      <th>3</th>\n",
       "      <td>512</td>\n",
       "      <td>AFG</td>\n",
       "      <td>NGDPD</td>\n",
       "      <td>Afghanistan</td>\n",
       "      <td>Gross domestic product, current prices</td>\n",
       "      <td>Values are based upon GDP in national currency...</td>\n",
       "      <td>U.S. dollars</td>\n",
       "      <td>Billions</td>\n",
       "      <td>See notes for:  Gross domestic product, curren...</td>\n",
       "      <td>NaN</td>\n",
       "      <td>...</td>\n",
       "      <td>14.288</td>\n",
       "      <td>14.467</td>\n",
       "      <td>NaN</td>\n",
       "      <td>NaN</td>\n",
       "      <td>NaN</td>\n",
       "      <td>NaN</td>\n",
       "      <td>NaN</td>\n",
       "      <td>NaN</td>\n",
       "      <td>NaN</td>\n",
       "      <td>2023.0</td>\n",
       "    </tr>\n",
       "    <tr>\n",
       "      <th>4</th>\n",
       "      <td>512</td>\n",
       "      <td>AFG</td>\n",
       "      <td>PPPGDP</td>\n",
       "      <td>Afghanistan</td>\n",
       "      <td>Gross domestic product, current prices</td>\n",
       "      <td>These data form the basis for the country weig...</td>\n",
       "      <td>Purchasing power parity; international dollars</td>\n",
       "      <td>Billions</td>\n",
       "      <td>See notes for:  Gross domestic product, curren...</td>\n",
       "      <td>NaN</td>\n",
       "      <td>...</td>\n",
       "      <td>72.251</td>\n",
       "      <td>72.512</td>\n",
       "      <td>NaN</td>\n",
       "      <td>NaN</td>\n",
       "      <td>NaN</td>\n",
       "      <td>NaN</td>\n",
       "      <td>NaN</td>\n",
       "      <td>NaN</td>\n",
       "      <td>NaN</td>\n",
       "      <td>2023.0</td>\n",
       "    </tr>\n",
       "    <tr>\n",
       "      <th>...</th>\n",
       "      <td>...</td>\n",
       "      <td>...</td>\n",
       "      <td>...</td>\n",
       "      <td>...</td>\n",
       "      <td>...</td>\n",
       "      <td>...</td>\n",
       "      <td>...</td>\n",
       "      <td>...</td>\n",
       "      <td>...</td>\n",
       "      <td>...</td>\n",
       "      <td>...</td>\n",
       "      <td>...</td>\n",
       "      <td>...</td>\n",
       "      <td>...</td>\n",
       "      <td>...</td>\n",
       "      <td>...</td>\n",
       "      <td>...</td>\n",
       "      <td>...</td>\n",
       "      <td>...</td>\n",
       "      <td>...</td>\n",
       "      <td>...</td>\n",
       "    </tr>\n",
       "    <tr>\n",
       "      <th>8621</th>\n",
       "      <td>698</td>\n",
       "      <td>ZWE</td>\n",
       "      <td>NGDP_FY</td>\n",
       "      <td>Zimbabwe</td>\n",
       "      <td>Gross domestic product corresponding to fiscal...</td>\n",
       "      <td>Gross domestic product corresponding to fiscal...</td>\n",
       "      <td>National currency</td>\n",
       "      <td>Billions</td>\n",
       "      <td>Source: Ministry of Finance or Treasury Latest...</td>\n",
       "      <td>NaN</td>\n",
       "      <td>...</td>\n",
       "      <td>3189.937</td>\n",
       "      <td>12388.438</td>\n",
       "      <td>119017.541</td>\n",
       "      <td>811827.334</td>\n",
       "      <td>5485747.888</td>\n",
       "      <td>34601211.994</td>\n",
       "      <td>207008486.681</td>\n",
       "      <td>1174863691.236</td>\n",
       "      <td>5782867007.209</td>\n",
       "      <td>2023.0</td>\n",
       "    </tr>\n",
       "    <tr>\n",
       "      <th>8622</th>\n",
       "      <td>698</td>\n",
       "      <td>ZWE</td>\n",
       "      <td>BCA</td>\n",
       "      <td>Zimbabwe</td>\n",
       "      <td>Current account balance</td>\n",
       "      <td>Current account is all transactions other than...</td>\n",
       "      <td>U.S. dollars</td>\n",
       "      <td>Billions</td>\n",
       "      <td>Source: Reserve Bank of Zimbabwe and Ministry ...</td>\n",
       "      <td>-0.301</td>\n",
       "      <td>...</td>\n",
       "      <td>0.348</td>\n",
       "      <td>0.305</td>\n",
       "      <td>0.135</td>\n",
       "      <td>0.073</td>\n",
       "      <td>0.347</td>\n",
       "      <td>0.405</td>\n",
       "      <td>0.466</td>\n",
       "      <td>0.531</td>\n",
       "      <td>0.452</td>\n",
       "      <td>2022.0</td>\n",
       "    </tr>\n",
       "    <tr>\n",
       "      <th>8623</th>\n",
       "      <td>698</td>\n",
       "      <td>ZWE</td>\n",
       "      <td>BCA_NGDPD</td>\n",
       "      <td>Zimbabwe</td>\n",
       "      <td>Current account balance</td>\n",
       "      <td>Current account is all transactions other than...</td>\n",
       "      <td>Percent of GDP</td>\n",
       "      <td>Units</td>\n",
       "      <td>See notes for:  Gross domestic product, curren...</td>\n",
       "      <td>NaN</td>\n",
       "      <td>...</td>\n",
       "      <td>0.967</td>\n",
       "      <td>0.975</td>\n",
       "      <td>0.419</td>\n",
       "      <td>0.212</td>\n",
       "      <td>0.982</td>\n",
       "      <td>1.113</td>\n",
       "      <td>1.242</td>\n",
       "      <td>1.371</td>\n",
       "      <td>1.133</td>\n",
       "      <td>2022.0</td>\n",
       "    </tr>\n",
       "    <tr>\n",
       "      <th>8624</th>\n",
       "      <td>NaN</td>\n",
       "      <td>NaN</td>\n",
       "      <td>NaN</td>\n",
       "      <td>NaN</td>\n",
       "      <td>NaN</td>\n",
       "      <td>NaN</td>\n",
       "      <td>NaN</td>\n",
       "      <td>NaN</td>\n",
       "      <td>NaN</td>\n",
       "      <td>NaN</td>\n",
       "      <td>...</td>\n",
       "      <td>NaN</td>\n",
       "      <td>NaN</td>\n",
       "      <td>NaN</td>\n",
       "      <td>NaN</td>\n",
       "      <td>NaN</td>\n",
       "      <td>NaN</td>\n",
       "      <td>NaN</td>\n",
       "      <td>NaN</td>\n",
       "      <td>NaN</td>\n",
       "      <td>NaN</td>\n",
       "    </tr>\n",
       "    <tr>\n",
       "      <th>8625</th>\n",
       "      <td>International Monetary Fund, World Economic Ou...</td>\n",
       "      <td>NaN</td>\n",
       "      <td>NaN</td>\n",
       "      <td>NaN</td>\n",
       "      <td>NaN</td>\n",
       "      <td>NaN</td>\n",
       "      <td>NaN</td>\n",
       "      <td>NaN</td>\n",
       "      <td>NaN</td>\n",
       "      <td>NaN</td>\n",
       "      <td>...</td>\n",
       "      <td>NaN</td>\n",
       "      <td>NaN</td>\n",
       "      <td>NaN</td>\n",
       "      <td>NaN</td>\n",
       "      <td>NaN</td>\n",
       "      <td>NaN</td>\n",
       "      <td>NaN</td>\n",
       "      <td>NaN</td>\n",
       "      <td>NaN</td>\n",
       "      <td>NaN</td>\n",
       "    </tr>\n",
       "  </tbody>\n",
       "</table>\n",
       "<p>8626 rows × 60 columns</p>\n",
       "</div>"
      ],
      "text/plain": [
       "                                       WEO Country Code  ISO WEO Subject Code  \\\n",
       "0                                                   512  AFG           NGDP_R   \n",
       "1                                                   512  AFG        NGDP_RPCH   \n",
       "2                                                   512  AFG             NGDP   \n",
       "3                                                   512  AFG            NGDPD   \n",
       "4                                                   512  AFG           PPPGDP   \n",
       "...                                                 ...  ...              ...   \n",
       "8621                                                698  ZWE          NGDP_FY   \n",
       "8622                                                698  ZWE              BCA   \n",
       "8623                                                698  ZWE        BCA_NGDPD   \n",
       "8624                                                NaN  NaN              NaN   \n",
       "8625  International Monetary Fund, World Economic Ou...  NaN              NaN   \n",
       "\n",
       "          Country                                 Subject Descriptor  \\\n",
       "0     Afghanistan            Gross domestic product, constant prices   \n",
       "1     Afghanistan            Gross domestic product, constant prices   \n",
       "2     Afghanistan             Gross domestic product, current prices   \n",
       "3     Afghanistan             Gross domestic product, current prices   \n",
       "4     Afghanistan             Gross domestic product, current prices   \n",
       "...           ...                                                ...   \n",
       "8621     Zimbabwe  Gross domestic product corresponding to fiscal...   \n",
       "8622     Zimbabwe                            Current account balance   \n",
       "8623     Zimbabwe                            Current account balance   \n",
       "8624          NaN                                                NaN   \n",
       "8625          NaN                                                NaN   \n",
       "\n",
       "                                          Subject Notes  \\\n",
       "0     Expressed in billions of national currency uni...   \n",
       "1     Annual percentages of constant price GDP are y...   \n",
       "2     Expressed in billions of national currency uni...   \n",
       "3     Values are based upon GDP in national currency...   \n",
       "4     These data form the basis for the country weig...   \n",
       "...                                                 ...   \n",
       "8621  Gross domestic product corresponding to fiscal...   \n",
       "8622  Current account is all transactions other than...   \n",
       "8623  Current account is all transactions other than...   \n",
       "8624                                                NaN   \n",
       "8625                                                NaN   \n",
       "\n",
       "                                               Units     Scale  \\\n",
       "0                                  National currency  Billions   \n",
       "1                                     Percent change     Units   \n",
       "2                                  National currency  Billions   \n",
       "3                                       U.S. dollars  Billions   \n",
       "4     Purchasing power parity; international dollars  Billions   \n",
       "...                                              ...       ...   \n",
       "8621                               National currency  Billions   \n",
       "8622                                    U.S. dollars  Billions   \n",
       "8623                                  Percent of GDP     Units   \n",
       "8624                                             NaN       NaN   \n",
       "8625                                             NaN       NaN   \n",
       "\n",
       "                          Country/Series-specific Notes   1980  ...      2021  \\\n",
       "0     Source: National Statistics Office Latest actu...    NaN  ...  1101.445   \n",
       "1     See notes for:  Gross domestic product, consta...    NaN  ...   -14.542   \n",
       "2     Source: National Statistics Office Latest actu...    NaN  ...  1251.171   \n",
       "3     See notes for:  Gross domestic product, curren...    NaN  ...    14.288   \n",
       "4     See notes for:  Gross domestic product, curren...    NaN  ...    72.251   \n",
       "...                                                 ...    ...  ...       ...   \n",
       "8621  Source: Ministry of Finance or Treasury Latest...    NaN  ...  3189.937   \n",
       "8622  Source: Reserve Bank of Zimbabwe and Ministry ... -0.301  ...     0.348   \n",
       "8623  See notes for:  Gross domestic product, curren...    NaN  ...     0.967   \n",
       "8624                                                NaN    NaN  ...       NaN   \n",
       "8625                                                NaN    NaN  ...       NaN   \n",
       "\n",
       "           2022        2023        2024         2025          2026  \\\n",
       "0      1032.711         NaN         NaN          NaN           NaN   \n",
       "1         -6.24         NaN         NaN          NaN           NaN   \n",
       "2      1283.442         NaN         NaN          NaN           NaN   \n",
       "3        14.467         NaN         NaN          NaN           NaN   \n",
       "4        72.512         NaN         NaN          NaN           NaN   \n",
       "...         ...         ...         ...          ...           ...   \n",
       "8621  12388.438  119017.541  811827.334  5485747.888  34601211.994   \n",
       "8622      0.305       0.135       0.073        0.347         0.405   \n",
       "8623      0.975       0.419       0.212        0.982         1.113   \n",
       "8624        NaN         NaN         NaN          NaN           NaN   \n",
       "8625        NaN         NaN         NaN          NaN           NaN   \n",
       "\n",
       "               2027            2028            2029 Estimates Start After  \n",
       "0               NaN             NaN             NaN                2023.0  \n",
       "1               NaN             NaN             NaN                2023.0  \n",
       "2               NaN             NaN             NaN                2023.0  \n",
       "3               NaN             NaN             NaN                2023.0  \n",
       "4               NaN             NaN             NaN                2023.0  \n",
       "...             ...             ...             ...                   ...  \n",
       "8621  207008486.681  1174863691.236  5782867007.209                2023.0  \n",
       "8622          0.466           0.531           0.452                2022.0  \n",
       "8623          1.242           1.371           1.133                2022.0  \n",
       "8624            NaN             NaN             NaN                   NaN  \n",
       "8625            NaN             NaN             NaN                   NaN  \n",
       "\n",
       "[8626 rows x 60 columns]"
      ]
     },
     "execution_count": 7,
     "metadata": {},
     "output_type": "execute_result"
    }
   ],
   "source": [
    "file = \"../data/WEOApr2024all.xlsx\"\n",
    "df = pd.read_excel(file)\n",
    "df"
   ]
  },
  {
   "cell_type": "code",
   "execution_count": null,
   "id": "ac96eb1f",
   "metadata": {},
   "outputs": [],
   "source": []
  },
  {
   "cell_type": "code",
   "execution_count": 8,
   "id": "7e1173db",
   "metadata": {},
   "outputs": [
    {
     "name": "stderr",
     "output_type": "stream",
     "text": [
      "c:\\ProgramData\\Anaconda3\\lib\\site-packages\\plotly\\express\\_core.py:1979: FutureWarning:\n",
      "\n",
      "When grouping with a length-1 list-like, you will need to pass a length-1 tuple to get_group in a future version of pandas. Pass `(name,)` instead of `name` to silence this warning.\n",
      "\n"
     ]
    },
    {
     "data": {
      "application/vnd.plotly.v1+json": {
       "config": {
        "plotlyServerURL": "https://plot.ly"
       },
       "data": [
        {
         "hovertemplate": "<b>%{hovertext}</b><br><br>Country=Brazil<br>Year=%{x}<br>Inflation (%)=%{y}<extra></extra>",
         "hovertext": [
          "Brazil",
          "Brazil",
          "Brazil",
          "Brazil",
          "Brazil",
          "Brazil",
          "Brazil",
          "Brazil",
          "Brazil",
          "Brazil",
          "Brazil",
          "Brazil",
          "Brazil",
          "Brazil",
          "Brazil",
          "Brazil",
          "Brazil",
          "Brazil",
          "Brazil",
          "Brazil",
          "Brazil",
          "Brazil",
          "Brazil",
          "Brazil",
          "Brazil"
         ],
         "legendgroup": "Brazil",
         "line": {
          "color": "#636efa",
          "dash": "solid"
         },
         "marker": {
          "symbol": "circle"
         },
         "mode": "lines",
         "name": "Brazil",
         "orientation": "v",
         "showlegend": true,
         "type": "scatter",
         "x": [
          2000,
          2001,
          2002,
          2003,
          2004,
          2005,
          2006,
          2007,
          2008,
          2009,
          2010,
          2011,
          2012,
          2013,
          2014,
          2015,
          2016,
          2017,
          2018,
          2019,
          2020,
          2021,
          2022,
          2023,
          2024
         ],
         "xaxis": "x",
         "y": [
          5.974,
          7.673,
          12.53,
          9.3,
          7.601,
          5.69,
          3.142,
          4.457,
          5.902,
          4.312,
          5.909,
          6.503,
          5.839,
          5.911,
          6.408,
          10.673,
          6.288,
          2.947,
          3.745,
          4.306,
          4.517,
          10.061,
          5.785,
          4.621,
          3.796
         ],
         "yaxis": "y"
        },
        {
         "hovertemplate": "<b>%{hovertext}</b><br><br>Country=Chile<br>Year=%{x}<br>Inflation (%)=%{y}<extra></extra>",
         "hovertext": [
          "Chile",
          "Chile",
          "Chile",
          "Chile",
          "Chile",
          "Chile",
          "Chile",
          "Chile",
          "Chile",
          "Chile",
          "Chile",
          "Chile",
          "Chile",
          "Chile",
          "Chile",
          "Chile",
          "Chile",
          "Chile",
          "Chile",
          "Chile",
          "Chile",
          "Chile",
          "Chile",
          "Chile",
          "Chile"
         ],
         "legendgroup": "Chile",
         "line": {
          "color": "#EF553B",
          "dash": "solid"
         },
         "marker": {
          "symbol": "circle"
         },
         "mode": "lines",
         "name": "Chile",
         "orientation": "v",
         "showlegend": true,
         "type": "scatter",
         "x": [
          2000,
          2001,
          2002,
          2003,
          2004,
          2005,
          2006,
          2007,
          2008,
          2009,
          2010,
          2011,
          2012,
          2013,
          2014,
          2015,
          2016,
          2017,
          2018,
          2019,
          2020,
          2021,
          2022,
          2023,
          2024
         ],
         "xaxis": "x",
         "y": [
          4.554,
          2.666,
          2.866,
          1.1,
          2.444,
          3.671,
          2.607,
          7.861,
          7.089,
          -1.507,
          2.942,
          4.389,
          1.457,
          3.056,
          4.698,
          4.427,
          2.729,
          2.26,
          2.115,
          2.95,
          2.928,
          7.137,
          12.772,
          3.929,
          3
         ],
         "yaxis": "y"
        },
        {
         "hovertemplate": "<b>%{hovertext}</b><br><br>Country=China<br>Year=%{x}<br>Inflation (%)=%{y}<extra></extra>",
         "hovertext": [
          "China",
          "China",
          "China",
          "China",
          "China",
          "China",
          "China",
          "China",
          "China",
          "China",
          "China",
          "China",
          "China",
          "China",
          "China",
          "China",
          "China",
          "China",
          "China",
          "China",
          "China",
          "China",
          "China",
          "China",
          "China"
         ],
         "legendgroup": "China",
         "line": {
          "color": "#00cc96",
          "dash": "solid"
         },
         "marker": {
          "symbol": "circle"
         },
         "mode": "lines",
         "name": "China",
         "orientation": "v",
         "showlegend": true,
         "type": "scatter",
         "x": [
          2000,
          2001,
          2002,
          2003,
          2004,
          2005,
          2006,
          2007,
          2008,
          2009,
          2010,
          2011,
          2012,
          2013,
          2014,
          2015,
          2016,
          2017,
          2018,
          2019,
          2020,
          2021,
          2022,
          2023,
          2024
         ],
         "xaxis": "x",
         "y": [
          1.905,
          -0.471,
          -0.41,
          3.264,
          2.409,
          1.678,
          2.888,
          6.63,
          1.222,
          1.632,
          4.53,
          4.096,
          2.448,
          2.553,
          1.542,
          1.676,
          2.102,
          1.679,
          1.779,
          4.491,
          0.18,
          1.42,
          1.824,
          -0.261,
          1.89
         ],
         "yaxis": "y"
        },
        {
         "hovertemplate": "<b>%{hovertext}</b><br><br>Country=Germany<br>Year=%{x}<br>Inflation (%)=%{y}<extra></extra>",
         "hovertext": [
          "Germany",
          "Germany",
          "Germany",
          "Germany",
          "Germany",
          "Germany",
          "Germany",
          "Germany",
          "Germany",
          "Germany",
          "Germany",
          "Germany",
          "Germany",
          "Germany",
          "Germany",
          "Germany",
          "Germany",
          "Germany",
          "Germany",
          "Germany",
          "Germany",
          "Germany",
          "Germany",
          "Germany",
          "Germany"
         ],
         "legendgroup": "Germany",
         "line": {
          "color": "#ab63fa",
          "dash": "solid"
         },
         "marker": {
          "symbol": "circle"
         },
         "mode": "lines",
         "name": "Germany",
         "orientation": "v",
         "showlegend": true,
         "type": "scatter",
         "x": [
          2000,
          2001,
          2002,
          2003,
          2004,
          2005,
          2006,
          2007,
          2008,
          2009,
          2010,
          2011,
          2012,
          2013,
          2014,
          2015,
          2016,
          2017,
          2018,
          2019,
          2020,
          2021,
          2022,
          2023,
          2024
         ],
         "xaxis": "x",
         "y": [
          2.041,
          1.375,
          0.986,
          1.099,
          2.174,
          2.128,
          1.389,
          3.082,
          0.997,
          0.877,
          1.848,
          2.348,
          2.086,
          1.328,
          0.202,
          0.201,
          1.707,
          1.579,
          1.846,
          1.336,
          -0.534,
          5.428,
          10.805,
          2.971,
          2.222
         ],
         "yaxis": "y"
        },
        {
         "hovertemplate": "<b>%{hovertext}</b><br><br>Country=Mexico<br>Year=%{x}<br>Inflation (%)=%{y}<extra></extra>",
         "hovertext": [
          "Mexico",
          "Mexico",
          "Mexico",
          "Mexico",
          "Mexico",
          "Mexico",
          "Mexico",
          "Mexico",
          "Mexico",
          "Mexico",
          "Mexico",
          "Mexico",
          "Mexico",
          "Mexico",
          "Mexico",
          "Mexico",
          "Mexico",
          "Mexico",
          "Mexico",
          "Mexico",
          "Mexico",
          "Mexico",
          "Mexico",
          "Mexico",
          "Mexico"
         ],
         "legendgroup": "Mexico",
         "line": {
          "color": "#FFA15A",
          "dash": "solid"
         },
         "marker": {
          "symbol": "circle"
         },
         "mode": "lines",
         "name": "Mexico",
         "orientation": "v",
         "showlegend": true,
         "type": "scatter",
         "x": [
          2000,
          2001,
          2002,
          2003,
          2004,
          2005,
          2006,
          2007,
          2008,
          2009,
          2010,
          2011,
          2012,
          2013,
          2014,
          2015,
          2016,
          2017,
          2018,
          2019,
          2020,
          2021,
          2022,
          2023,
          2024
         ],
         "xaxis": "x",
         "y": [
          8.959,
          4.403,
          5.7,
          3.977,
          5.191,
          3.333,
          4.053,
          3.759,
          6.528,
          3.574,
          4.402,
          3.819,
          3.568,
          3.974,
          4.081,
          2.131,
          3.36,
          6.773,
          4.831,
          2.829,
          3.15,
          7.355,
          7.817,
          4.42,
          3.515
         ],
         "yaxis": "y"
        },
        {
         "hovertemplate": "<b>%{hovertext}</b><br><br>Country=Peru<br>Year=%{x}<br>Inflation (%)=%{y}<extra></extra>",
         "hovertext": [
          "Peru",
          "Peru",
          "Peru",
          "Peru",
          "Peru",
          "Peru",
          "Peru",
          "Peru",
          "Peru",
          "Peru",
          "Peru",
          "Peru",
          "Peru",
          "Peru",
          "Peru",
          "Peru",
          "Peru",
          "Peru",
          "Peru",
          "Peru",
          "Peru",
          "Peru",
          "Peru",
          "Peru",
          "Peru"
         ],
         "legendgroup": "Peru",
         "line": {
          "color": "#19d3f3",
          "dash": "solid"
         },
         "marker": {
          "symbol": "circle"
         },
         "mode": "lines",
         "name": "Peru",
         "orientation": "v",
         "showlegend": true,
         "type": "scatter",
         "x": [
          2000,
          2001,
          2002,
          2003,
          2004,
          2005,
          2006,
          2007,
          2008,
          2009,
          2010,
          2011,
          2012,
          2013,
          2014,
          2015,
          2016,
          2017,
          2018,
          2019,
          2020,
          2021,
          2022,
          2023,
          2024
         ],
         "xaxis": "x",
         "y": [
          3.734,
          -0.127,
          1.516,
          2.484,
          3.481,
          1.494,
          1.138,
          3.928,
          6.65,
          0.245,
          2.073,
          4.747,
          2.644,
          2.858,
          3.23,
          4.394,
          3.235,
          1.365,
          2.193,
          1.9,
          1.973,
          6.427,
          8.46,
          3.237,
          2.401
         ],
         "yaxis": "y"
        },
        {
         "hovertemplate": "<b>%{hovertext}</b><br><br>Country=United States<br>Year=%{x}<br>Inflation (%)=%{y}<extra></extra>",
         "hovertext": [
          "United States",
          "United States",
          "United States",
          "United States",
          "United States",
          "United States",
          "United States",
          "United States",
          "United States",
          "United States",
          "United States",
          "United States",
          "United States",
          "United States",
          "United States",
          "United States",
          "United States",
          "United States",
          "United States",
          "United States",
          "United States",
          "United States",
          "United States",
          "United States",
          "United States"
         ],
         "legendgroup": "United States",
         "line": {
          "color": "#FF6692",
          "dash": "solid"
         },
         "marker": {
          "symbol": "circle"
         },
         "mode": "lines",
         "name": "United States",
         "orientation": "v",
         "showlegend": true,
         "type": "scatter",
         "x": [
          2000,
          2001,
          2002,
          2003,
          2004,
          2005,
          2006,
          2007,
          2008,
          2009,
          2010,
          2011,
          2012,
          2013,
          2014,
          2015,
          2016,
          2017,
          2018,
          2019,
          2020,
          2021,
          2022,
          2023,
          2024
         ],
         "xaxis": "x",
         "y": [
          3.427,
          1.552,
          2.616,
          1.909,
          3.209,
          3.683,
          2.199,
          4.084,
          0.701,
          1.919,
          1.689,
          3.086,
          1.822,
          1.319,
          0.524,
          0.695,
          2.197,
          2.178,
          1.921,
          2.086,
          1.561,
          7.392,
          6.413,
          3.201,
          2.39
         ],
         "yaxis": "y"
        }
       ],
       "layout": {
        "hovermode": "x unified",
        "legend": {
         "title": {
          "text": "Country"
         },
         "tracegroupgap": 0
        },
        "template": {
         "data": {
          "bar": [
           {
            "error_x": {
             "color": "#2a3f5f"
            },
            "error_y": {
             "color": "#2a3f5f"
            },
            "marker": {
             "line": {
              "color": "#E5ECF6",
              "width": 0.5
             },
             "pattern": {
              "fillmode": "overlay",
              "size": 10,
              "solidity": 0.2
             }
            },
            "type": "bar"
           }
          ],
          "barpolar": [
           {
            "marker": {
             "line": {
              "color": "#E5ECF6",
              "width": 0.5
             },
             "pattern": {
              "fillmode": "overlay",
              "size": 10,
              "solidity": 0.2
             }
            },
            "type": "barpolar"
           }
          ],
          "carpet": [
           {
            "aaxis": {
             "endlinecolor": "#2a3f5f",
             "gridcolor": "white",
             "linecolor": "white",
             "minorgridcolor": "white",
             "startlinecolor": "#2a3f5f"
            },
            "baxis": {
             "endlinecolor": "#2a3f5f",
             "gridcolor": "white",
             "linecolor": "white",
             "minorgridcolor": "white",
             "startlinecolor": "#2a3f5f"
            },
            "type": "carpet"
           }
          ],
          "choropleth": [
           {
            "colorbar": {
             "outlinewidth": 0,
             "ticks": ""
            },
            "type": "choropleth"
           }
          ],
          "contour": [
           {
            "colorbar": {
             "outlinewidth": 0,
             "ticks": ""
            },
            "colorscale": [
             [
              0,
              "#0d0887"
             ],
             [
              0.1111111111111111,
              "#46039f"
             ],
             [
              0.2222222222222222,
              "#7201a8"
             ],
             [
              0.3333333333333333,
              "#9c179e"
             ],
             [
              0.4444444444444444,
              "#bd3786"
             ],
             [
              0.5555555555555556,
              "#d8576b"
             ],
             [
              0.6666666666666666,
              "#ed7953"
             ],
             [
              0.7777777777777778,
              "#fb9f3a"
             ],
             [
              0.8888888888888888,
              "#fdca26"
             ],
             [
              1,
              "#f0f921"
             ]
            ],
            "type": "contour"
           }
          ],
          "contourcarpet": [
           {
            "colorbar": {
             "outlinewidth": 0,
             "ticks": ""
            },
            "type": "contourcarpet"
           }
          ],
          "heatmap": [
           {
            "colorbar": {
             "outlinewidth": 0,
             "ticks": ""
            },
            "colorscale": [
             [
              0,
              "#0d0887"
             ],
             [
              0.1111111111111111,
              "#46039f"
             ],
             [
              0.2222222222222222,
              "#7201a8"
             ],
             [
              0.3333333333333333,
              "#9c179e"
             ],
             [
              0.4444444444444444,
              "#bd3786"
             ],
             [
              0.5555555555555556,
              "#d8576b"
             ],
             [
              0.6666666666666666,
              "#ed7953"
             ],
             [
              0.7777777777777778,
              "#fb9f3a"
             ],
             [
              0.8888888888888888,
              "#fdca26"
             ],
             [
              1,
              "#f0f921"
             ]
            ],
            "type": "heatmap"
           }
          ],
          "heatmapgl": [
           {
            "colorbar": {
             "outlinewidth": 0,
             "ticks": ""
            },
            "colorscale": [
             [
              0,
              "#0d0887"
             ],
             [
              0.1111111111111111,
              "#46039f"
             ],
             [
              0.2222222222222222,
              "#7201a8"
             ],
             [
              0.3333333333333333,
              "#9c179e"
             ],
             [
              0.4444444444444444,
              "#bd3786"
             ],
             [
              0.5555555555555556,
              "#d8576b"
             ],
             [
              0.6666666666666666,
              "#ed7953"
             ],
             [
              0.7777777777777778,
              "#fb9f3a"
             ],
             [
              0.8888888888888888,
              "#fdca26"
             ],
             [
              1,
              "#f0f921"
             ]
            ],
            "type": "heatmapgl"
           }
          ],
          "histogram": [
           {
            "marker": {
             "pattern": {
              "fillmode": "overlay",
              "size": 10,
              "solidity": 0.2
             }
            },
            "type": "histogram"
           }
          ],
          "histogram2d": [
           {
            "colorbar": {
             "outlinewidth": 0,
             "ticks": ""
            },
            "colorscale": [
             [
              0,
              "#0d0887"
             ],
             [
              0.1111111111111111,
              "#46039f"
             ],
             [
              0.2222222222222222,
              "#7201a8"
             ],
             [
              0.3333333333333333,
              "#9c179e"
             ],
             [
              0.4444444444444444,
              "#bd3786"
             ],
             [
              0.5555555555555556,
              "#d8576b"
             ],
             [
              0.6666666666666666,
              "#ed7953"
             ],
             [
              0.7777777777777778,
              "#fb9f3a"
             ],
             [
              0.8888888888888888,
              "#fdca26"
             ],
             [
              1,
              "#f0f921"
             ]
            ],
            "type": "histogram2d"
           }
          ],
          "histogram2dcontour": [
           {
            "colorbar": {
             "outlinewidth": 0,
             "ticks": ""
            },
            "colorscale": [
             [
              0,
              "#0d0887"
             ],
             [
              0.1111111111111111,
              "#46039f"
             ],
             [
              0.2222222222222222,
              "#7201a8"
             ],
             [
              0.3333333333333333,
              "#9c179e"
             ],
             [
              0.4444444444444444,
              "#bd3786"
             ],
             [
              0.5555555555555556,
              "#d8576b"
             ],
             [
              0.6666666666666666,
              "#ed7953"
             ],
             [
              0.7777777777777778,
              "#fb9f3a"
             ],
             [
              0.8888888888888888,
              "#fdca26"
             ],
             [
              1,
              "#f0f921"
             ]
            ],
            "type": "histogram2dcontour"
           }
          ],
          "mesh3d": [
           {
            "colorbar": {
             "outlinewidth": 0,
             "ticks": ""
            },
            "type": "mesh3d"
           }
          ],
          "parcoords": [
           {
            "line": {
             "colorbar": {
              "outlinewidth": 0,
              "ticks": ""
             }
            },
            "type": "parcoords"
           }
          ],
          "pie": [
           {
            "automargin": true,
            "type": "pie"
           }
          ],
          "scatter": [
           {
            "fillpattern": {
             "fillmode": "overlay",
             "size": 10,
             "solidity": 0.2
            },
            "type": "scatter"
           }
          ],
          "scatter3d": [
           {
            "line": {
             "colorbar": {
              "outlinewidth": 0,
              "ticks": ""
             }
            },
            "marker": {
             "colorbar": {
              "outlinewidth": 0,
              "ticks": ""
             }
            },
            "type": "scatter3d"
           }
          ],
          "scattercarpet": [
           {
            "marker": {
             "colorbar": {
              "outlinewidth": 0,
              "ticks": ""
             }
            },
            "type": "scattercarpet"
           }
          ],
          "scattergeo": [
           {
            "marker": {
             "colorbar": {
              "outlinewidth": 0,
              "ticks": ""
             }
            },
            "type": "scattergeo"
           }
          ],
          "scattergl": [
           {
            "marker": {
             "colorbar": {
              "outlinewidth": 0,
              "ticks": ""
             }
            },
            "type": "scattergl"
           }
          ],
          "scattermapbox": [
           {
            "marker": {
             "colorbar": {
              "outlinewidth": 0,
              "ticks": ""
             }
            },
            "type": "scattermapbox"
           }
          ],
          "scatterpolar": [
           {
            "marker": {
             "colorbar": {
              "outlinewidth": 0,
              "ticks": ""
             }
            },
            "type": "scatterpolar"
           }
          ],
          "scatterpolargl": [
           {
            "marker": {
             "colorbar": {
              "outlinewidth": 0,
              "ticks": ""
             }
            },
            "type": "scatterpolargl"
           }
          ],
          "scatterternary": [
           {
            "marker": {
             "colorbar": {
              "outlinewidth": 0,
              "ticks": ""
             }
            },
            "type": "scatterternary"
           }
          ],
          "surface": [
           {
            "colorbar": {
             "outlinewidth": 0,
             "ticks": ""
            },
            "colorscale": [
             [
              0,
              "#0d0887"
             ],
             [
              0.1111111111111111,
              "#46039f"
             ],
             [
              0.2222222222222222,
              "#7201a8"
             ],
             [
              0.3333333333333333,
              "#9c179e"
             ],
             [
              0.4444444444444444,
              "#bd3786"
             ],
             [
              0.5555555555555556,
              "#d8576b"
             ],
             [
              0.6666666666666666,
              "#ed7953"
             ],
             [
              0.7777777777777778,
              "#fb9f3a"
             ],
             [
              0.8888888888888888,
              "#fdca26"
             ],
             [
              1,
              "#f0f921"
             ]
            ],
            "type": "surface"
           }
          ],
          "table": [
           {
            "cells": {
             "fill": {
              "color": "#EBF0F8"
             },
             "line": {
              "color": "white"
             }
            },
            "header": {
             "fill": {
              "color": "#C8D4E3"
             },
             "line": {
              "color": "white"
             }
            },
            "type": "table"
           }
          ]
         },
         "layout": {
          "annotationdefaults": {
           "arrowcolor": "#2a3f5f",
           "arrowhead": 0,
           "arrowwidth": 1
          },
          "autotypenumbers": "strict",
          "coloraxis": {
           "colorbar": {
            "outlinewidth": 0,
            "ticks": ""
           }
          },
          "colorscale": {
           "diverging": [
            [
             0,
             "#8e0152"
            ],
            [
             0.1,
             "#c51b7d"
            ],
            [
             0.2,
             "#de77ae"
            ],
            [
             0.3,
             "#f1b6da"
            ],
            [
             0.4,
             "#fde0ef"
            ],
            [
             0.5,
             "#f7f7f7"
            ],
            [
             0.6,
             "#e6f5d0"
            ],
            [
             0.7,
             "#b8e186"
            ],
            [
             0.8,
             "#7fbc41"
            ],
            [
             0.9,
             "#4d9221"
            ],
            [
             1,
             "#276419"
            ]
           ],
           "sequential": [
            [
             0,
             "#0d0887"
            ],
            [
             0.1111111111111111,
             "#46039f"
            ],
            [
             0.2222222222222222,
             "#7201a8"
            ],
            [
             0.3333333333333333,
             "#9c179e"
            ],
            [
             0.4444444444444444,
             "#bd3786"
            ],
            [
             0.5555555555555556,
             "#d8576b"
            ],
            [
             0.6666666666666666,
             "#ed7953"
            ],
            [
             0.7777777777777778,
             "#fb9f3a"
            ],
            [
             0.8888888888888888,
             "#fdca26"
            ],
            [
             1,
             "#f0f921"
            ]
           ],
           "sequentialminus": [
            [
             0,
             "#0d0887"
            ],
            [
             0.1111111111111111,
             "#46039f"
            ],
            [
             0.2222222222222222,
             "#7201a8"
            ],
            [
             0.3333333333333333,
             "#9c179e"
            ],
            [
             0.4444444444444444,
             "#bd3786"
            ],
            [
             0.5555555555555556,
             "#d8576b"
            ],
            [
             0.6666666666666666,
             "#ed7953"
            ],
            [
             0.7777777777777778,
             "#fb9f3a"
            ],
            [
             0.8888888888888888,
             "#fdca26"
            ],
            [
             1,
             "#f0f921"
            ]
           ]
          },
          "colorway": [
           "#636efa",
           "#EF553B",
           "#00cc96",
           "#ab63fa",
           "#FFA15A",
           "#19d3f3",
           "#FF6692",
           "#B6E880",
           "#FF97FF",
           "#FECB52"
          ],
          "font": {
           "color": "#2a3f5f"
          },
          "geo": {
           "bgcolor": "white",
           "lakecolor": "white",
           "landcolor": "#E5ECF6",
           "showlakes": true,
           "showland": true,
           "subunitcolor": "white"
          },
          "hoverlabel": {
           "align": "left"
          },
          "hovermode": "closest",
          "mapbox": {
           "style": "light"
          },
          "paper_bgcolor": "white",
          "plot_bgcolor": "#E5ECF6",
          "polar": {
           "angularaxis": {
            "gridcolor": "white",
            "linecolor": "white",
            "ticks": ""
           },
           "bgcolor": "#E5ECF6",
           "radialaxis": {
            "gridcolor": "white",
            "linecolor": "white",
            "ticks": ""
           }
          },
          "scene": {
           "xaxis": {
            "backgroundcolor": "#E5ECF6",
            "gridcolor": "white",
            "gridwidth": 2,
            "linecolor": "white",
            "showbackground": true,
            "ticks": "",
            "zerolinecolor": "white"
           },
           "yaxis": {
            "backgroundcolor": "#E5ECF6",
            "gridcolor": "white",
            "gridwidth": 2,
            "linecolor": "white",
            "showbackground": true,
            "ticks": "",
            "zerolinecolor": "white"
           },
           "zaxis": {
            "backgroundcolor": "#E5ECF6",
            "gridcolor": "white",
            "gridwidth": 2,
            "linecolor": "white",
            "showbackground": true,
            "ticks": "",
            "zerolinecolor": "white"
           }
          },
          "shapedefaults": {
           "line": {
            "color": "#2a3f5f"
           }
          },
          "ternary": {
           "aaxis": {
            "gridcolor": "white",
            "linecolor": "white",
            "ticks": ""
           },
           "baxis": {
            "gridcolor": "white",
            "linecolor": "white",
            "ticks": ""
           },
           "bgcolor": "#E5ECF6",
           "caxis": {
            "gridcolor": "white",
            "linecolor": "white",
            "ticks": ""
           }
          },
          "title": {
           "x": 0.05
          },
          "xaxis": {
           "automargin": true,
           "gridcolor": "white",
           "linecolor": "white",
           "ticks": "",
           "title": {
            "standoff": 15
           },
           "zerolinecolor": "white",
           "zerolinewidth": 2
          },
          "yaxis": {
           "automargin": true,
           "gridcolor": "white",
           "linecolor": "white",
           "ticks": "",
           "title": {
            "standoff": 15
           },
           "zerolinecolor": "white",
           "zerolinewidth": 2
          }
         }
        },
        "title": {
         "text": "Inflation Rate Over Time for Selected Countries"
        },
        "xaxis": {
         "anchor": "y",
         "domain": [
          0,
          1
         ],
         "title": {
          "text": "Year"
         }
        },
        "yaxis": {
         "anchor": "x",
         "domain": [
          0,
          1
         ],
         "title": {
          "text": "Inflation (%)"
         }
        }
       }
      }
     },
     "metadata": {},
     "output_type": "display_data"
    }
   ],
   "source": [
    "countries_of_interest = ['United States', 'Brazil','Mexico','Peru','Chile','Germany', 'China']\n",
    "\n",
    "# Filtrar solo datos de inflación y los países seleccionados\n",
    "df_filtered = df[(df['WEO Subject Code'] == 'PCPIEPCH') & \n",
    "                 (df['Country'].isin(countries_of_interest))]\n",
    "\n",
    "# Transformar de ancho a largo (melt)\n",
    "df_melted = df_filtered.melt(id_vars=['Country'], \n",
    "                             value_vars=list(range(2000,2025)), \n",
    "                             var_name='Year', \n",
    "                             value_name='Inflation Rate')\n",
    "\n",
    "# Crear gráfico interactivo usando Plotly Express\n",
    "fig = px.line(df_melted, \n",
    "              x='Year', \n",
    "              y='Inflation Rate', \n",
    "              color='Country', \n",
    "              title='Inflation Rate Over Time for Selected Countries',\n",
    "              labels={'Inflation Rate': 'Inflation (%)'},\n",
    "              hover_name='Country')\n",
    "\n",
    "fig.update_layout(hovermode='x unified')\n",
    "fig.show()\n"
   ]
  },
  {
   "cell_type": "code",
   "execution_count": 10,
   "id": "bec61bae",
   "metadata": {},
   "outputs": [
    {
     "data": {
      "application/vnd.plotly.v1+json": {
       "config": {
        "plotlyServerURL": "https://plot.ly"
       },
       "data": [
        {
         "mode": "lines",
         "name": "United States",
         "type": "scatter",
         "visible": true,
         "x": [
          2000,
          2001,
          2002,
          2003,
          2004,
          2005,
          2006,
          2007,
          2008,
          2009,
          2010,
          2011,
          2012,
          2013,
          2014,
          2015,
          2016,
          2017,
          2018,
          2019,
          2020,
          2021,
          2022,
          2023,
          2024
         ],
         "y": [
          3.427,
          1.552,
          2.616,
          1.909,
          3.209,
          3.683,
          2.199,
          4.084,
          0.701,
          1.919,
          1.689,
          3.086,
          1.822,
          1.319,
          0.524,
          0.695,
          2.197,
          2.178,
          1.921,
          2.086,
          1.561,
          7.392,
          6.413,
          3.201,
          2.39
         ]
        },
        {
         "mode": "lines",
         "name": "Brazil",
         "type": "scatter",
         "visible": "legendonly",
         "x": [
          2000,
          2001,
          2002,
          2003,
          2004,
          2005,
          2006,
          2007,
          2008,
          2009,
          2010,
          2011,
          2012,
          2013,
          2014,
          2015,
          2016,
          2017,
          2018,
          2019,
          2020,
          2021,
          2022,
          2023,
          2024
         ],
         "y": [
          5.974,
          7.673,
          12.53,
          9.3,
          7.601,
          5.69,
          3.142,
          4.457,
          5.902,
          4.312,
          5.909,
          6.503,
          5.839,
          5.911,
          6.408,
          10.673,
          6.288,
          2.947,
          3.745,
          4.306,
          4.517,
          10.061,
          5.785,
          4.621,
          3.796
         ]
        },
        {
         "mode": "lines",
         "name": "Mexico",
         "type": "scatter",
         "visible": "legendonly",
         "x": [
          2000,
          2001,
          2002,
          2003,
          2004,
          2005,
          2006,
          2007,
          2008,
          2009,
          2010,
          2011,
          2012,
          2013,
          2014,
          2015,
          2016,
          2017,
          2018,
          2019,
          2020,
          2021,
          2022,
          2023,
          2024
         ],
         "y": [
          8.959,
          4.403,
          5.7,
          3.977,
          5.191,
          3.333,
          4.053,
          3.759,
          6.528,
          3.574,
          4.402,
          3.819,
          3.568,
          3.974,
          4.081,
          2.131,
          3.36,
          6.773,
          4.831,
          2.829,
          3.15,
          7.355,
          7.817,
          4.42,
          3.515
         ]
        },
        {
         "mode": "lines",
         "name": "Peru",
         "type": "scatter",
         "visible": "legendonly",
         "x": [
          2000,
          2001,
          2002,
          2003,
          2004,
          2005,
          2006,
          2007,
          2008,
          2009,
          2010,
          2011,
          2012,
          2013,
          2014,
          2015,
          2016,
          2017,
          2018,
          2019,
          2020,
          2021,
          2022,
          2023,
          2024
         ],
         "y": [
          3.734,
          -0.127,
          1.516,
          2.484,
          3.481,
          1.494,
          1.138,
          3.928,
          6.65,
          0.245,
          2.073,
          4.747,
          2.644,
          2.858,
          3.23,
          4.394,
          3.235,
          1.365,
          2.193,
          1.9,
          1.973,
          6.427,
          8.46,
          3.237,
          2.401
         ]
        },
        {
         "mode": "lines",
         "name": "Chile",
         "type": "scatter",
         "visible": "legendonly",
         "x": [
          2000,
          2001,
          2002,
          2003,
          2004,
          2005,
          2006,
          2007,
          2008,
          2009,
          2010,
          2011,
          2012,
          2013,
          2014,
          2015,
          2016,
          2017,
          2018,
          2019,
          2020,
          2021,
          2022,
          2023,
          2024
         ],
         "y": [
          4.554,
          2.666,
          2.866,
          1.1,
          2.444,
          3.671,
          2.607,
          7.861,
          7.089,
          -1.507,
          2.942,
          4.389,
          1.457,
          3.056,
          4.698,
          4.427,
          2.729,
          2.26,
          2.115,
          2.95,
          2.928,
          7.137,
          12.772,
          3.929,
          3
         ]
        },
        {
         "mode": "lines",
         "name": "Germany",
         "type": "scatter",
         "visible": "legendonly",
         "x": [
          2000,
          2001,
          2002,
          2003,
          2004,
          2005,
          2006,
          2007,
          2008,
          2009,
          2010,
          2011,
          2012,
          2013,
          2014,
          2015,
          2016,
          2017,
          2018,
          2019,
          2020,
          2021,
          2022,
          2023,
          2024
         ],
         "y": [
          2.041,
          1.375,
          0.986,
          1.099,
          2.174,
          2.128,
          1.389,
          3.082,
          0.997,
          0.877,
          1.848,
          2.348,
          2.086,
          1.328,
          0.202,
          0.201,
          1.707,
          1.579,
          1.846,
          1.336,
          -0.534,
          5.428,
          10.805,
          2.971,
          2.222
         ]
        },
        {
         "mode": "lines",
         "name": "China",
         "type": "scatter",
         "visible": "legendonly",
         "x": [
          2000,
          2001,
          2002,
          2003,
          2004,
          2005,
          2006,
          2007,
          2008,
          2009,
          2010,
          2011,
          2012,
          2013,
          2014,
          2015,
          2016,
          2017,
          2018,
          2019,
          2020,
          2021,
          2022,
          2023,
          2024
         ],
         "y": [
          1.905,
          -0.471,
          -0.41,
          3.264,
          2.409,
          1.678,
          2.888,
          6.63,
          1.222,
          1.632,
          4.53,
          4.096,
          2.448,
          2.553,
          1.542,
          1.676,
          2.102,
          1.679,
          1.779,
          4.491,
          0.18,
          1.42,
          1.824,
          -0.261,
          1.89
         ]
        }
       ],
       "layout": {
        "template": {
         "data": {
          "bar": [
           {
            "error_x": {
             "color": "#2a3f5f"
            },
            "error_y": {
             "color": "#2a3f5f"
            },
            "marker": {
             "line": {
              "color": "#E5ECF6",
              "width": 0.5
             },
             "pattern": {
              "fillmode": "overlay",
              "size": 10,
              "solidity": 0.2
             }
            },
            "type": "bar"
           }
          ],
          "barpolar": [
           {
            "marker": {
             "line": {
              "color": "#E5ECF6",
              "width": 0.5
             },
             "pattern": {
              "fillmode": "overlay",
              "size": 10,
              "solidity": 0.2
             }
            },
            "type": "barpolar"
           }
          ],
          "carpet": [
           {
            "aaxis": {
             "endlinecolor": "#2a3f5f",
             "gridcolor": "white",
             "linecolor": "white",
             "minorgridcolor": "white",
             "startlinecolor": "#2a3f5f"
            },
            "baxis": {
             "endlinecolor": "#2a3f5f",
             "gridcolor": "white",
             "linecolor": "white",
             "minorgridcolor": "white",
             "startlinecolor": "#2a3f5f"
            },
            "type": "carpet"
           }
          ],
          "choropleth": [
           {
            "colorbar": {
             "outlinewidth": 0,
             "ticks": ""
            },
            "type": "choropleth"
           }
          ],
          "contour": [
           {
            "colorbar": {
             "outlinewidth": 0,
             "ticks": ""
            },
            "colorscale": [
             [
              0,
              "#0d0887"
             ],
             [
              0.1111111111111111,
              "#46039f"
             ],
             [
              0.2222222222222222,
              "#7201a8"
             ],
             [
              0.3333333333333333,
              "#9c179e"
             ],
             [
              0.4444444444444444,
              "#bd3786"
             ],
             [
              0.5555555555555556,
              "#d8576b"
             ],
             [
              0.6666666666666666,
              "#ed7953"
             ],
             [
              0.7777777777777778,
              "#fb9f3a"
             ],
             [
              0.8888888888888888,
              "#fdca26"
             ],
             [
              1,
              "#f0f921"
             ]
            ],
            "type": "contour"
           }
          ],
          "contourcarpet": [
           {
            "colorbar": {
             "outlinewidth": 0,
             "ticks": ""
            },
            "type": "contourcarpet"
           }
          ],
          "heatmap": [
           {
            "colorbar": {
             "outlinewidth": 0,
             "ticks": ""
            },
            "colorscale": [
             [
              0,
              "#0d0887"
             ],
             [
              0.1111111111111111,
              "#46039f"
             ],
             [
              0.2222222222222222,
              "#7201a8"
             ],
             [
              0.3333333333333333,
              "#9c179e"
             ],
             [
              0.4444444444444444,
              "#bd3786"
             ],
             [
              0.5555555555555556,
              "#d8576b"
             ],
             [
              0.6666666666666666,
              "#ed7953"
             ],
             [
              0.7777777777777778,
              "#fb9f3a"
             ],
             [
              0.8888888888888888,
              "#fdca26"
             ],
             [
              1,
              "#f0f921"
             ]
            ],
            "type": "heatmap"
           }
          ],
          "heatmapgl": [
           {
            "colorbar": {
             "outlinewidth": 0,
             "ticks": ""
            },
            "colorscale": [
             [
              0,
              "#0d0887"
             ],
             [
              0.1111111111111111,
              "#46039f"
             ],
             [
              0.2222222222222222,
              "#7201a8"
             ],
             [
              0.3333333333333333,
              "#9c179e"
             ],
             [
              0.4444444444444444,
              "#bd3786"
             ],
             [
              0.5555555555555556,
              "#d8576b"
             ],
             [
              0.6666666666666666,
              "#ed7953"
             ],
             [
              0.7777777777777778,
              "#fb9f3a"
             ],
             [
              0.8888888888888888,
              "#fdca26"
             ],
             [
              1,
              "#f0f921"
             ]
            ],
            "type": "heatmapgl"
           }
          ],
          "histogram": [
           {
            "marker": {
             "pattern": {
              "fillmode": "overlay",
              "size": 10,
              "solidity": 0.2
             }
            },
            "type": "histogram"
           }
          ],
          "histogram2d": [
           {
            "colorbar": {
             "outlinewidth": 0,
             "ticks": ""
            },
            "colorscale": [
             [
              0,
              "#0d0887"
             ],
             [
              0.1111111111111111,
              "#46039f"
             ],
             [
              0.2222222222222222,
              "#7201a8"
             ],
             [
              0.3333333333333333,
              "#9c179e"
             ],
             [
              0.4444444444444444,
              "#bd3786"
             ],
             [
              0.5555555555555556,
              "#d8576b"
             ],
             [
              0.6666666666666666,
              "#ed7953"
             ],
             [
              0.7777777777777778,
              "#fb9f3a"
             ],
             [
              0.8888888888888888,
              "#fdca26"
             ],
             [
              1,
              "#f0f921"
             ]
            ],
            "type": "histogram2d"
           }
          ],
          "histogram2dcontour": [
           {
            "colorbar": {
             "outlinewidth": 0,
             "ticks": ""
            },
            "colorscale": [
             [
              0,
              "#0d0887"
             ],
             [
              0.1111111111111111,
              "#46039f"
             ],
             [
              0.2222222222222222,
              "#7201a8"
             ],
             [
              0.3333333333333333,
              "#9c179e"
             ],
             [
              0.4444444444444444,
              "#bd3786"
             ],
             [
              0.5555555555555556,
              "#d8576b"
             ],
             [
              0.6666666666666666,
              "#ed7953"
             ],
             [
              0.7777777777777778,
              "#fb9f3a"
             ],
             [
              0.8888888888888888,
              "#fdca26"
             ],
             [
              1,
              "#f0f921"
             ]
            ],
            "type": "histogram2dcontour"
           }
          ],
          "mesh3d": [
           {
            "colorbar": {
             "outlinewidth": 0,
             "ticks": ""
            },
            "type": "mesh3d"
           }
          ],
          "parcoords": [
           {
            "line": {
             "colorbar": {
              "outlinewidth": 0,
              "ticks": ""
             }
            },
            "type": "parcoords"
           }
          ],
          "pie": [
           {
            "automargin": true,
            "type": "pie"
           }
          ],
          "scatter": [
           {
            "fillpattern": {
             "fillmode": "overlay",
             "size": 10,
             "solidity": 0.2
            },
            "type": "scatter"
           }
          ],
          "scatter3d": [
           {
            "line": {
             "colorbar": {
              "outlinewidth": 0,
              "ticks": ""
             }
            },
            "marker": {
             "colorbar": {
              "outlinewidth": 0,
              "ticks": ""
             }
            },
            "type": "scatter3d"
           }
          ],
          "scattercarpet": [
           {
            "marker": {
             "colorbar": {
              "outlinewidth": 0,
              "ticks": ""
             }
            },
            "type": "scattercarpet"
           }
          ],
          "scattergeo": [
           {
            "marker": {
             "colorbar": {
              "outlinewidth": 0,
              "ticks": ""
             }
            },
            "type": "scattergeo"
           }
          ],
          "scattergl": [
           {
            "marker": {
             "colorbar": {
              "outlinewidth": 0,
              "ticks": ""
             }
            },
            "type": "scattergl"
           }
          ],
          "scattermapbox": [
           {
            "marker": {
             "colorbar": {
              "outlinewidth": 0,
              "ticks": ""
             }
            },
            "type": "scattermapbox"
           }
          ],
          "scatterpolar": [
           {
            "marker": {
             "colorbar": {
              "outlinewidth": 0,
              "ticks": ""
             }
            },
            "type": "scatterpolar"
           }
          ],
          "scatterpolargl": [
           {
            "marker": {
             "colorbar": {
              "outlinewidth": 0,
              "ticks": ""
             }
            },
            "type": "scatterpolargl"
           }
          ],
          "scatterternary": [
           {
            "marker": {
             "colorbar": {
              "outlinewidth": 0,
              "ticks": ""
             }
            },
            "type": "scatterternary"
           }
          ],
          "surface": [
           {
            "colorbar": {
             "outlinewidth": 0,
             "ticks": ""
            },
            "colorscale": [
             [
              0,
              "#0d0887"
             ],
             [
              0.1111111111111111,
              "#46039f"
             ],
             [
              0.2222222222222222,
              "#7201a8"
             ],
             [
              0.3333333333333333,
              "#9c179e"
             ],
             [
              0.4444444444444444,
              "#bd3786"
             ],
             [
              0.5555555555555556,
              "#d8576b"
             ],
             [
              0.6666666666666666,
              "#ed7953"
             ],
             [
              0.7777777777777778,
              "#fb9f3a"
             ],
             [
              0.8888888888888888,
              "#fdca26"
             ],
             [
              1,
              "#f0f921"
             ]
            ],
            "type": "surface"
           }
          ],
          "table": [
           {
            "cells": {
             "fill": {
              "color": "#EBF0F8"
             },
             "line": {
              "color": "white"
             }
            },
            "header": {
             "fill": {
              "color": "#C8D4E3"
             },
             "line": {
              "color": "white"
             }
            },
            "type": "table"
           }
          ]
         },
         "layout": {
          "annotationdefaults": {
           "arrowcolor": "#2a3f5f",
           "arrowhead": 0,
           "arrowwidth": 1
          },
          "autotypenumbers": "strict",
          "coloraxis": {
           "colorbar": {
            "outlinewidth": 0,
            "ticks": ""
           }
          },
          "colorscale": {
           "diverging": [
            [
             0,
             "#8e0152"
            ],
            [
             0.1,
             "#c51b7d"
            ],
            [
             0.2,
             "#de77ae"
            ],
            [
             0.3,
             "#f1b6da"
            ],
            [
             0.4,
             "#fde0ef"
            ],
            [
             0.5,
             "#f7f7f7"
            ],
            [
             0.6,
             "#e6f5d0"
            ],
            [
             0.7,
             "#b8e186"
            ],
            [
             0.8,
             "#7fbc41"
            ],
            [
             0.9,
             "#4d9221"
            ],
            [
             1,
             "#276419"
            ]
           ],
           "sequential": [
            [
             0,
             "#0d0887"
            ],
            [
             0.1111111111111111,
             "#46039f"
            ],
            [
             0.2222222222222222,
             "#7201a8"
            ],
            [
             0.3333333333333333,
             "#9c179e"
            ],
            [
             0.4444444444444444,
             "#bd3786"
            ],
            [
             0.5555555555555556,
             "#d8576b"
            ],
            [
             0.6666666666666666,
             "#ed7953"
            ],
            [
             0.7777777777777778,
             "#fb9f3a"
            ],
            [
             0.8888888888888888,
             "#fdca26"
            ],
            [
             1,
             "#f0f921"
            ]
           ],
           "sequentialminus": [
            [
             0,
             "#0d0887"
            ],
            [
             0.1111111111111111,
             "#46039f"
            ],
            [
             0.2222222222222222,
             "#7201a8"
            ],
            [
             0.3333333333333333,
             "#9c179e"
            ],
            [
             0.4444444444444444,
             "#bd3786"
            ],
            [
             0.5555555555555556,
             "#d8576b"
            ],
            [
             0.6666666666666666,
             "#ed7953"
            ],
            [
             0.7777777777777778,
             "#fb9f3a"
            ],
            [
             0.8888888888888888,
             "#fdca26"
            ],
            [
             1,
             "#f0f921"
            ]
           ]
          },
          "colorway": [
           "#636efa",
           "#EF553B",
           "#00cc96",
           "#ab63fa",
           "#FFA15A",
           "#19d3f3",
           "#FF6692",
           "#B6E880",
           "#FF97FF",
           "#FECB52"
          ],
          "font": {
           "color": "#2a3f5f"
          },
          "geo": {
           "bgcolor": "white",
           "lakecolor": "white",
           "landcolor": "#E5ECF6",
           "showlakes": true,
           "showland": true,
           "subunitcolor": "white"
          },
          "hoverlabel": {
           "align": "left"
          },
          "hovermode": "closest",
          "mapbox": {
           "style": "light"
          },
          "paper_bgcolor": "white",
          "plot_bgcolor": "#E5ECF6",
          "polar": {
           "angularaxis": {
            "gridcolor": "white",
            "linecolor": "white",
            "ticks": ""
           },
           "bgcolor": "#E5ECF6",
           "radialaxis": {
            "gridcolor": "white",
            "linecolor": "white",
            "ticks": ""
           }
          },
          "scene": {
           "xaxis": {
            "backgroundcolor": "#E5ECF6",
            "gridcolor": "white",
            "gridwidth": 2,
            "linecolor": "white",
            "showbackground": true,
            "ticks": "",
            "zerolinecolor": "white"
           },
           "yaxis": {
            "backgroundcolor": "#E5ECF6",
            "gridcolor": "white",
            "gridwidth": 2,
            "linecolor": "white",
            "showbackground": true,
            "ticks": "",
            "zerolinecolor": "white"
           },
           "zaxis": {
            "backgroundcolor": "#E5ECF6",
            "gridcolor": "white",
            "gridwidth": 2,
            "linecolor": "white",
            "showbackground": true,
            "ticks": "",
            "zerolinecolor": "white"
           }
          },
          "shapedefaults": {
           "line": {
            "color": "#2a3f5f"
           }
          },
          "ternary": {
           "aaxis": {
            "gridcolor": "white",
            "linecolor": "white",
            "ticks": ""
           },
           "baxis": {
            "gridcolor": "white",
            "linecolor": "white",
            "ticks": ""
           },
           "bgcolor": "#E5ECF6",
           "caxis": {
            "gridcolor": "white",
            "linecolor": "white",
            "ticks": ""
           }
          },
          "title": {
           "x": 0.05
          },
          "xaxis": {
           "automargin": true,
           "gridcolor": "white",
           "linecolor": "white",
           "ticks": "",
           "title": {
            "standoff": 15
           },
           "zerolinecolor": "white",
           "zerolinewidth": 2
          },
          "yaxis": {
           "automargin": true,
           "gridcolor": "white",
           "linecolor": "white",
           "ticks": "",
           "title": {
            "standoff": 15
           },
           "zerolinecolor": "white",
           "zerolinewidth": 2
          }
         }
        },
        "title": {
         "text": "Interactive Inflation Rate Chart for Selected Countries"
        },
        "updatemenus": [
         {
          "active": 0,
          "buttons": [
           {
            "args": [
             {
              "visible": [
               true,
               false,
               false,
               false,
               false,
               false,
               false
              ]
             },
             {
              "title": "Inflation Rate Over Time: United States"
             }
            ],
            "label": "United States",
            "method": "update"
           },
           {
            "args": [
             {
              "visible": [
               false,
               true,
               false,
               false,
               false,
               false,
               false
              ]
             },
             {
              "title": "Inflation Rate Over Time: Brazil"
             }
            ],
            "label": "Brazil",
            "method": "update"
           },
           {
            "args": [
             {
              "visible": [
               false,
               false,
               true,
               false,
               false,
               false,
               false
              ]
             },
             {
              "title": "Inflation Rate Over Time: Mexico"
             }
            ],
            "label": "Mexico",
            "method": "update"
           },
           {
            "args": [
             {
              "visible": [
               false,
               false,
               false,
               true,
               false,
               false,
               false
              ]
             },
             {
              "title": "Inflation Rate Over Time: Peru"
             }
            ],
            "label": "Peru",
            "method": "update"
           },
           {
            "args": [
             {
              "visible": [
               false,
               false,
               false,
               false,
               true,
               false,
               false
              ]
             },
             {
              "title": "Inflation Rate Over Time: Chile"
             }
            ],
            "label": "Chile",
            "method": "update"
           },
           {
            "args": [
             {
              "visible": [
               false,
               false,
               false,
               false,
               false,
               true,
               false
              ]
             },
             {
              "title": "Inflation Rate Over Time: Germany"
             }
            ],
            "label": "Germany",
            "method": "update"
           },
           {
            "args": [
             {
              "visible": [
               false,
               false,
               false,
               false,
               false,
               false,
               true
              ]
             },
             {
              "title": "Inflation Rate Over Time: China"
             }
            ],
            "label": "China",
            "method": "update"
           }
          ]
         }
        ],
        "yaxis": {
         "title": {
          "text": "Inflation (%)"
         }
        }
       }
      }
     },
     "metadata": {},
     "output_type": "display_data"
    }
   ],
   "source": [
    "fig = go.Figure()\n",
    "\n",
    "for country in countries_of_interest:\n",
    "    country_data = df_melted[df_melted['Country'] == country]\n",
    "    fig.add_trace(go.Scatter(\n",
    "        x=country_data['Year'],\n",
    "        y=country_data['Inflation Rate'],\n",
    "        mode='lines',\n",
    "        name=country,\n",
    "        visible=True if country == 'United States' else 'legendonly'\n",
    "    ))\n",
    "\n",
    "# Configuración de la interfaz interactiva\n",
    "fig.update_layout(\n",
    "    title='Interactive Inflation Rate Chart for Selected Countries',\n",
    "    # xaxis_title='Year',\n",
    "    yaxis_title='Inflation (%)',\n",
    "    updatemenus=[\n",
    "        dict(\n",
    "            active=0,\n",
    "            buttons=[\n",
    "                dict(label=country,\n",
    "                     method=\"update\",\n",
    "                     args=[{\"visible\": [c == country for c in countries_of_interest]},\n",
    "                           {\"title\": f\"Inflation Rate Over Time: {country}\"}])\n",
    "                for country in countries_of_interest\n",
    "            ],\n",
    "        )\n",
    "    ]\n",
    ")\n",
    "\n",
    "fig.show()"
   ]
  },
  {
   "cell_type": "code",
   "execution_count": 11,
   "id": "7687cba1",
   "metadata": {},
   "outputs": [
    {
     "data": {
      "text/html": [
       "<div>\n",
       "<style scoped>\n",
       "    .dataframe tbody tr th:only-of-type {\n",
       "        vertical-align: middle;\n",
       "    }\n",
       "\n",
       "    .dataframe tbody tr th {\n",
       "        vertical-align: top;\n",
       "    }\n",
       "\n",
       "    .dataframe thead th {\n",
       "        text-align: right;\n",
       "    }\n",
       "</style>\n",
       "<table border=\"1\" class=\"dataframe\">\n",
       "  <thead>\n",
       "    <tr style=\"text-align: right;\">\n",
       "      <th></th>\n",
       "      <th>WEO Country Code</th>\n",
       "      <th>ISO</th>\n",
       "      <th>WEO Subject Code</th>\n",
       "      <th>Country</th>\n",
       "      <th>Subject Descriptor</th>\n",
       "      <th>Subject Notes</th>\n",
       "      <th>Units</th>\n",
       "      <th>Scale</th>\n",
       "      <th>Country/Series-specific Notes</th>\n",
       "      <th>1980</th>\n",
       "      <th>...</th>\n",
       "      <th>2021</th>\n",
       "      <th>2022</th>\n",
       "      <th>2023</th>\n",
       "      <th>2024</th>\n",
       "      <th>2025</th>\n",
       "      <th>2026</th>\n",
       "      <th>2027</th>\n",
       "      <th>2028</th>\n",
       "      <th>2029</th>\n",
       "      <th>Estimates Start After</th>\n",
       "    </tr>\n",
       "  </thead>\n",
       "  <tbody>\n",
       "    <tr>\n",
       "      <th>1075</th>\n",
       "      <td>223</td>\n",
       "      <td>BRA</td>\n",
       "      <td>PCPIEPCH</td>\n",
       "      <td>Brazil</td>\n",
       "      <td>Inflation, end of period consumer prices</td>\n",
       "      <td>Annual percentages of end of period consumer p...</td>\n",
       "      <td>Percent change</td>\n",
       "      <td>Units</td>\n",
       "      <td>See notes for:  Inflation, end of period consu...</td>\n",
       "      <td>NaN</td>\n",
       "      <td>...</td>\n",
       "      <td>10.061</td>\n",
       "      <td>5.785</td>\n",
       "      <td>4.621</td>\n",
       "      <td>3.796</td>\n",
       "      <td>3.001</td>\n",
       "      <td>3.002</td>\n",
       "      <td>2.998</td>\n",
       "      <td>3</td>\n",
       "      <td>3</td>\n",
       "      <td>2023.0</td>\n",
       "    </tr>\n",
       "    <tr>\n",
       "      <th>1559</th>\n",
       "      <td>228</td>\n",
       "      <td>CHL</td>\n",
       "      <td>PCPIEPCH</td>\n",
       "      <td>Chile</td>\n",
       "      <td>Inflation, end of period consumer prices</td>\n",
       "      <td>Annual percentages of end of period consumer p...</td>\n",
       "      <td>Percent change</td>\n",
       "      <td>Units</td>\n",
       "      <td>See notes for:  Inflation, end of period consu...</td>\n",
       "      <td>31.238</td>\n",
       "      <td>...</td>\n",
       "      <td>7.137</td>\n",
       "      <td>12.772</td>\n",
       "      <td>3.929</td>\n",
       "      <td>3</td>\n",
       "      <td>3</td>\n",
       "      <td>3</td>\n",
       "      <td>3</td>\n",
       "      <td>3</td>\n",
       "      <td>3</td>\n",
       "      <td>2023.0</td>\n",
       "    </tr>\n",
       "    <tr>\n",
       "      <th>1603</th>\n",
       "      <td>924</td>\n",
       "      <td>CHN</td>\n",
       "      <td>PCPIEPCH</td>\n",
       "      <td>China</td>\n",
       "      <td>Inflation, end of period consumer prices</td>\n",
       "      <td>Annual percentages of end of period consumer p...</td>\n",
       "      <td>Percent change</td>\n",
       "      <td>Units</td>\n",
       "      <td>See notes for:  Inflation, end of period consu...</td>\n",
       "      <td>NaN</td>\n",
       "      <td>...</td>\n",
       "      <td>1.42</td>\n",
       "      <td>1.824</td>\n",
       "      <td>-0.261</td>\n",
       "      <td>1.89</td>\n",
       "      <td>2.018</td>\n",
       "      <td>2.018</td>\n",
       "      <td>2.018</td>\n",
       "      <td>2.018</td>\n",
       "      <td>2.018</td>\n",
       "      <td>2022.0</td>\n",
       "    </tr>\n",
       "    <tr>\n",
       "      <th>2835</th>\n",
       "      <td>134</td>\n",
       "      <td>DEU</td>\n",
       "      <td>PCPIEPCH</td>\n",
       "      <td>Germany</td>\n",
       "      <td>Inflation, end of period consumer prices</td>\n",
       "      <td>Annual percentages of end of period consumer p...</td>\n",
       "      <td>Percent change</td>\n",
       "      <td>Units</td>\n",
       "      <td>See notes for:  Inflation, end of period consu...</td>\n",
       "      <td>NaN</td>\n",
       "      <td>...</td>\n",
       "      <td>5.428</td>\n",
       "      <td>10.805</td>\n",
       "      <td>2.971</td>\n",
       "      <td>2.222</td>\n",
       "      <td>1.959</td>\n",
       "      <td>1.971</td>\n",
       "      <td>1.974</td>\n",
       "      <td>1.988</td>\n",
       "      <td>2.009</td>\n",
       "      <td>2023.0</td>\n",
       "    </tr>\n",
       "    <tr>\n",
       "      <th>4947</th>\n",
       "      <td>273</td>\n",
       "      <td>MEX</td>\n",
       "      <td>PCPIEPCH</td>\n",
       "      <td>Mexico</td>\n",
       "      <td>Inflation, end of period consumer prices</td>\n",
       "      <td>Annual percentages of end of period consumer p...</td>\n",
       "      <td>Percent change</td>\n",
       "      <td>Units</td>\n",
       "      <td>See notes for:  Inflation, end of period consu...</td>\n",
       "      <td>NaN</td>\n",
       "      <td>...</td>\n",
       "      <td>7.355</td>\n",
       "      <td>7.817</td>\n",
       "      <td>4.42</td>\n",
       "      <td>3.515</td>\n",
       "      <td>3.014</td>\n",
       "      <td>3.002</td>\n",
       "      <td>3.001</td>\n",
       "      <td>3</td>\n",
       "      <td>3</td>\n",
       "      <td>2023.0</td>\n",
       "    </tr>\n",
       "    <tr>\n",
       "      <th>6003</th>\n",
       "      <td>293</td>\n",
       "      <td>PER</td>\n",
       "      <td>PCPIEPCH</td>\n",
       "      <td>Peru</td>\n",
       "      <td>Inflation, end of period consumer prices</td>\n",
       "      <td>Annual percentages of end of period consumer p...</td>\n",
       "      <td>Percent change</td>\n",
       "      <td>Units</td>\n",
       "      <td>See notes for:  Inflation, end of period consu...</td>\n",
       "      <td>NaN</td>\n",
       "      <td>...</td>\n",
       "      <td>6.427</td>\n",
       "      <td>8.46</td>\n",
       "      <td>3.237</td>\n",
       "      <td>2.401</td>\n",
       "      <td>2.018</td>\n",
       "      <td>2.018</td>\n",
       "      <td>2.018</td>\n",
       "      <td>2.018</td>\n",
       "      <td>2</td>\n",
       "      <td>2023.0</td>\n",
       "    </tr>\n",
       "    <tr>\n",
       "      <th>8203</th>\n",
       "      <td>111</td>\n",
       "      <td>USA</td>\n",
       "      <td>PCPIEPCH</td>\n",
       "      <td>United States</td>\n",
       "      <td>Inflation, end of period consumer prices</td>\n",
       "      <td>Annual percentages of end of period consumer p...</td>\n",
       "      <td>Percent change</td>\n",
       "      <td>Units</td>\n",
       "      <td>See notes for:  Inflation, end of period consu...</td>\n",
       "      <td>11.887</td>\n",
       "      <td>...</td>\n",
       "      <td>7.392</td>\n",
       "      <td>6.413</td>\n",
       "      <td>3.201</td>\n",
       "      <td>2.39</td>\n",
       "      <td>1.964</td>\n",
       "      <td>2.101</td>\n",
       "      <td>2.371</td>\n",
       "      <td>2.135</td>\n",
       "      <td>2.152</td>\n",
       "      <td>2023.0</td>\n",
       "    </tr>\n",
       "  </tbody>\n",
       "</table>\n",
       "<p>7 rows × 60 columns</p>\n",
       "</div>"
      ],
      "text/plain": [
       "     WEO Country Code  ISO WEO Subject Code        Country  \\\n",
       "1075              223  BRA         PCPIEPCH         Brazil   \n",
       "1559              228  CHL         PCPIEPCH          Chile   \n",
       "1603              924  CHN         PCPIEPCH          China   \n",
       "2835              134  DEU         PCPIEPCH        Germany   \n",
       "4947              273  MEX         PCPIEPCH         Mexico   \n",
       "6003              293  PER         PCPIEPCH           Peru   \n",
       "8203              111  USA         PCPIEPCH  United States   \n",
       "\n",
       "                            Subject Descriptor  \\\n",
       "1075  Inflation, end of period consumer prices   \n",
       "1559  Inflation, end of period consumer prices   \n",
       "1603  Inflation, end of period consumer prices   \n",
       "2835  Inflation, end of period consumer prices   \n",
       "4947  Inflation, end of period consumer prices   \n",
       "6003  Inflation, end of period consumer prices   \n",
       "8203  Inflation, end of period consumer prices   \n",
       "\n",
       "                                          Subject Notes           Units  \\\n",
       "1075  Annual percentages of end of period consumer p...  Percent change   \n",
       "1559  Annual percentages of end of period consumer p...  Percent change   \n",
       "1603  Annual percentages of end of period consumer p...  Percent change   \n",
       "2835  Annual percentages of end of period consumer p...  Percent change   \n",
       "4947  Annual percentages of end of period consumer p...  Percent change   \n",
       "6003  Annual percentages of end of period consumer p...  Percent change   \n",
       "8203  Annual percentages of end of period consumer p...  Percent change   \n",
       "\n",
       "      Scale                      Country/Series-specific Notes    1980  ...  \\\n",
       "1075  Units  See notes for:  Inflation, end of period consu...     NaN  ...   \n",
       "1559  Units  See notes for:  Inflation, end of period consu...  31.238  ...   \n",
       "1603  Units  See notes for:  Inflation, end of period consu...     NaN  ...   \n",
       "2835  Units  See notes for:  Inflation, end of period consu...     NaN  ...   \n",
       "4947  Units  See notes for:  Inflation, end of period consu...     NaN  ...   \n",
       "6003  Units  See notes for:  Inflation, end of period consu...     NaN  ...   \n",
       "8203  Units  See notes for:  Inflation, end of period consu...  11.887  ...   \n",
       "\n",
       "        2021    2022   2023   2024   2025   2026   2027   2028   2029  \\\n",
       "1075  10.061   5.785  4.621  3.796  3.001  3.002  2.998      3      3   \n",
       "1559   7.137  12.772  3.929      3      3      3      3      3      3   \n",
       "1603    1.42   1.824 -0.261   1.89  2.018  2.018  2.018  2.018  2.018   \n",
       "2835   5.428  10.805  2.971  2.222  1.959  1.971  1.974  1.988  2.009   \n",
       "4947   7.355   7.817   4.42  3.515  3.014  3.002  3.001      3      3   \n",
       "6003   6.427    8.46  3.237  2.401  2.018  2.018  2.018  2.018      2   \n",
       "8203   7.392   6.413  3.201   2.39  1.964  2.101  2.371  2.135  2.152   \n",
       "\n",
       "     Estimates Start After  \n",
       "1075                2023.0  \n",
       "1559                2023.0  \n",
       "1603                2022.0  \n",
       "2835                2023.0  \n",
       "4947                2023.0  \n",
       "6003                2023.0  \n",
       "8203                2023.0  \n",
       "\n",
       "[7 rows x 60 columns]"
      ]
     },
     "execution_count": 11,
     "metadata": {},
     "output_type": "execute_result"
    }
   ],
   "source": [
    "df_filtered"
   ]
  },
  {
   "cell_type": "code",
   "execution_count": null,
   "id": "bc0ffe5c",
   "metadata": {},
   "outputs": [],
   "source": []
  }
 ],
 "metadata": {
  "kernelspec": {
   "display_name": "base",
   "language": "python",
   "name": "python3"
  },
  "language_info": {
   "codemirror_mode": {
    "name": "ipython",
    "version": 3
   },
   "file_extension": ".py",
   "mimetype": "text/x-python",
   "name": "python",
   "nbconvert_exporter": "python",
   "pygments_lexer": "ipython3",
   "version": "3.9.13"
  }
 },
 "nbformat": 4,
 "nbformat_minor": 5
}
