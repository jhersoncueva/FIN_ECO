{
 "cells": [
  {
   "cell_type": "code",
   "execution_count": 1,
   "id": "2ac0e1e6",
   "metadata": {},
   "outputs": [
    {
     "name": "stdout",
     "output_type": "stream",
     "text": [
      "Defaulting to user installation because normal site-packages is not writeable\n",
      "Requirement already satisfied: BeautifulSoup4 in c:\\users\\hp support\\appdata\\roaming\\python\\python39\\site-packages (4.12.3)\n",
      "Requirement already satisfied: soupsieve>1.2 in c:\\programdata\\anaconda3\\lib\\site-packages (from BeautifulSoup4) (2.3.1)\n",
      "Note: you may need to restart the kernel to use updated packages.\n"
     ]
    }
   ],
   "source": [
    "# autor: https://github.com/alfredoalvaradoenciso/wbg-wdi/blob/main/scrap-bar-graph.py\n",
    "# pip install BeautifulSoup4\n",
    "\n"
   ]
  },
  {
   "cell_type": "code",
   "execution_count": 2,
   "id": "fb6d165d",
   "metadata": {},
   "outputs": [
    {
     "name": "stderr",
     "output_type": "stream",
     "text": [
      "C:\\Users\\HP SUPPORT\\AppData\\Roaming\\Python\\Python39\\site-packages\\pandas\\core\\computation\\expressions.py:21: UserWarning: Pandas requires version '2.8.4' or newer of 'numexpr' (version '2.8.3' currently installed).\n",
      "  from pandas.core.computation.check import NUMEXPR_INSTALLED\n",
      "C:\\Users\\HP SUPPORT\\AppData\\Roaming\\Python\\Python39\\site-packages\\pandas\\core\\arrays\\masked.py:60: UserWarning: Pandas requires version '1.3.6' or newer of 'bottleneck' (version '1.3.5' currently installed).\n",
      "  from pandas.core import (\n"
     ]
    }
   ],
   "source": [
    "import requests\n",
    "import pandas as pd\n",
    "from bs4 import BeautifulSoup\n",
    "import re"
   ]
  },
  {
   "cell_type": "code",
   "execution_count": 3,
   "id": "63fed8a4",
   "metadata": {},
   "outputs": [
    {
     "name": "stdout",
     "output_type": "stream",
     "text": [
      "    countryiso3code  date     value\n",
      "0               EAP  2021  7.601224\n",
      "1               EAP  2021  7.601224\n",
      "2               EAP  2020  1.246173\n",
      "3               EAP  2019  5.781694\n",
      "4               EAP  2018  6.524927\n",
      "..              ...   ...       ...\n",
      "164             WLD  1984  4.711277\n",
      "165             WLD  1983  2.602788\n",
      "166             WLD  1982  0.300389\n",
      "167             WLD  1981  2.012104\n",
      "168             WLD  1980  1.898538\n",
      "\n",
      "[169 rows x 3 columns]\n"
     ]
    }
   ],
   "source": [
    "def extract_pages_value(url):\n",
    "    response = requests.get(url)\n",
    "    if response.status_code == 200:\n",
    "        content = response.content.decode('utf-8')  # Decode response content as text\n",
    "        first_two_lines = content.split(\"\\n\", 2)[:2]\n",
    "        for line in first_two_lines:\n",
    "            pages_match = re.search(r'pages=\"(\\d+)\"', line)\n",
    "            if pages_match:\n",
    "                pages_value = int(pages_match.group(1))\n",
    "                return pages_value\n",
    "    return None\n",
    "\n",
    "# URL for the World Bank API\n",
    "url = \"https://api.worldbank.org/v2/country/LCN;EAP;WLD;ECA/indicator/NY.GDP.MKTP.KD.ZG?date=1980:2021\"\n",
    "\n",
    "# Extract the value of \"pages\"\n",
    "pages_value = extract_pages_value(url)\n",
    "perpage = pages_value*50\n",
    "url = f\"https://api.worldbank.org/v2/country/LCN;EAP;WLD;ECA/indicator/NY.GDP.MKTP.KD.ZG?date=1980:2021&per_page={perpage}\"\n",
    "\n",
    "\n",
    "# Make the API request\n",
    "response = requests.get(url)\n",
    "\n",
    "# Check if the request was successful\n",
    "if response.status_code == 200:\n",
    "    try:\n",
    "        soup = BeautifulSoup(response.content, \"xml\")\n",
    "\n",
    "        # Extract the relevant data from the API response\n",
    "        extracted_data = []\n",
    "        for data_element in soup.find_all(\"data\"):\n",
    "            countryiso3code = data_element.find(\"countryiso3code\").text\n",
    "            date = int(data_element.find(\"date\").text)\n",
    "            value = data_element.find(\"value\").text\n",
    "            if value.strip() == \"\":\n",
    "                value = None\n",
    "            else:\n",
    "                value = float(value)\n",
    "            extracted_data.append({\"countryiso3code\": countryiso3code, \"date\": date, \"value\": value})\n",
    "\n",
    "        # Create a DataFrame from the extracted data\n",
    "        df = pd.DataFrame(extracted_data)\n",
    "        print(df)\n",
    "\n",
    "    except Exception as e:\n",
    "        print(\"Error parsing XML:\", e)\n",
    "\n",
    "else:\n",
    "    print(\"Error: Unable to fetch data from the API.\")\n",
    "    \n",
    "df = df.pivot_table(index='date', columns='countryiso3code', values='value', aggfunc='first')\n",
    "\n"
   ]
  },
  {
   "cell_type": "code",
   "execution_count": 5,
   "id": "2ed18580",
   "metadata": {},
   "outputs": [
    {
     "data": {
      "text/plain": [
       "pandas.core.frame.DataFrame"
      ]
     },
     "execution_count": 5,
     "metadata": {},
     "output_type": "execute_result"
    }
   ],
   "source": [
    "type(df)"
   ]
  },
  {
   "cell_type": "code",
   "execution_count": 8,
   "id": "605a7f2d",
   "metadata": {},
   "outputs": [
    {
     "data": {
      "text/plain": [
       "array([[  7.5660051 ,          nan,   6.63412238,   1.89853848],\n",
       "       [  5.59859415,          nan,   1.22548491,   2.01210406],\n",
       "       [  6.43794922,          nan,  -0.16872927,   0.30038913],\n",
       "       [  7.73682154,          nan,  -2.27977457,   2.60278786],\n",
       "       [  9.95517536,          nan,   3.89093986,   4.7112772 ],\n",
       "       [  7.89879379,          nan,   3.1325736 ,   3.71791096],\n",
       "       [  7.13293375,          nan,   3.47848062,   3.37663581],\n",
       "       [  9.14535384,          nan,   3.29834938,   3.74394664],\n",
       "       [  9.73126618,          nan,   0.61536716,   4.62591384],\n",
       "       [  5.75768529,          nan,   1.71047664,   3.71093075],\n",
       "       [  5.1637713 ,  -1.45700441,  -0.3741457 ,   2.80826818],\n",
       "       [  8.0041157 ,  -4.91009249,   2.94911662,   1.37562352],\n",
       "       [ 11.1923656 , -10.66783595,   2.57025183,   2.04760184],\n",
       "       [ 11.28641466,  -5.93168409,   4.39258614,   1.84383059],\n",
       "       [ 10.93634731, -11.16687233,   5.22517675,   3.32606178],\n",
       "       [  9.87477803,  -1.85863633,   0.83006629,   3.07898635],\n",
       "       [  9.06335933,  -0.11211999,   3.96580735,   3.57819134],\n",
       "       [  7.34355128,   2.85859432,   5.38940163,   3.92103479],\n",
       "       [  2.89511839,  -1.56293153,   2.98012449,   2.8567621 ],\n",
       "       [  6.38931383,   2.35612865,   0.67393357,   3.55473318],\n",
       "       [  7.63908645,   8.42343207,   3.60753159,   4.5290392 ],\n",
       "       [  6.97953365,   2.6493365 ,   0.45380341,   2.02749819],\n",
       "       [  8.05999478,   5.48850377,   0.45498506,   2.29871991],\n",
       "       [  8.94423887,   6.94025093,   2.45268931,   3.10560021],\n",
       "       [  9.1211662 ,   8.28919064,   5.46017192,   4.47149414],\n",
       "       [  9.97680989,   7.35840029,   3.93152228,   4.00667776],\n",
       "       [ 11.0778612 ,   8.18572701,   5.1297439 ,   4.4401532 ],\n",
       "       [ 12.48623913,   7.80333454,   5.18335056,   4.37542905],\n",
       "       [  8.61520146,   4.23323821,   3.64015824,   2.06370094],\n",
       "       [  7.98454114,  -5.72776796,  -2.28460315,  -1.36468093],\n",
       "       [  9.92114148,   5.64122511,   6.37721915,   4.52780699],\n",
       "       [  8.64284262,   6.28585435,   4.38865733,   3.3169773 ],\n",
       "       [  7.58014715,   3.97541601,   2.56641425,   2.69770422],\n",
       "       [  7.29844843,   4.04673862,   2.72260145,   2.79970173],\n",
       "       [  6.98351436,   2.04979986,   1.32968122,   3.0670083 ],\n",
       "       [  6.70715197,   0.91150889,   0.40733582,   3.06959306],\n",
       "       [  6.56526491,   1.57722146,  -0.34485537,   2.78675708],\n",
       "       [  6.70748483,   3.92635281,   1.82183847,   3.39605662],\n",
       "       [  6.52492669,   3.17395578,   1.57710453,   3.27628312],\n",
       "       [  5.78169363,   2.2534145 ,   0.71436057,   2.59078546],\n",
       "       [  1.24617255,  -1.22737876,  -6.62110449,  -3.05780977],\n",
       "       [  7.60122401,   7.46092143,   7.02604764,   6.22859396]])"
      ]
     },
     "execution_count": 8,
     "metadata": {},
     "output_type": "execute_result"
    }
   ],
   "source": [
    "df1 = df.values\n",
    "df1"
   ]
  },
  {
   "cell_type": "code",
   "execution_count": 12,
   "id": "63b8c372",
   "metadata": {},
   "outputs": [
    {
     "data": {
      "text/plain": [
       "[<matplotlib.lines.Line2D at 0x29d673ddac0>]"
      ]
     },
     "execution_count": 12,
     "metadata": {},
     "output_type": "execute_result"
    },
    {
     "data": {
      "image/png": "[encoded data removed]",
      "text/plain": [
       "<Figure size 640x480 with 1 Axes>"
      ]
     },
     "metadata": {},
     "output_type": "display_data"
    }
   ],
   "source": [
    "import matplotlib.pyplot as plt\n",
    "\n",
    "plt.plot(df1[:,3]) \n"
   ]
  },
  {
   "cell_type": "markdown",
   "id": "485be55e",
   "metadata": {},
   "source": []
  },
  {
   "cell_type": "markdown",
   "id": "50546bd9",
   "metadata": {},
   "source": []
  },
  {
   "cell_type": "markdown",
   "id": "dae5d83e",
   "metadata": {},
   "source": [
    "## scrap-bar-graph.py"
   ]
  },
  {
   "cell_type": "code",
   "execution_count": 13,
   "id": "f89d1597",
   "metadata": {},
   "outputs": [
    {
     "name": "stderr",
     "output_type": "stream",
     "text": [
      "C:\\Users\\HP SUPPORT\\AppData\\Local\\Temp\\ipykernel_6040\\4271531275.py:77: FutureWarning: The default of observed=False is deprecated and will be changed to True in a future version of pandas. Pass observed=False to retain current behavior or observed=True to adopt the future default and silence this warning.\n",
      "  collapsed_data = df.groupby('date').agg({'EAP': 'mean', 'ECA': 'mean', 'LCN': 'mean', 'WLD': 'mean'}).reset_index()\n",
      "posx and posy should be finite values\n"
     ]
    },
    {
     "name": "stdout",
     "output_type": "stream",
     "text": [
      "    countryiso3code  date     value\n",
      "0               EAP  2021  7.601224\n",
      "1               EAP  2021  7.601224\n",
      "2               EAP  2020  1.246173\n",
      "3               EAP  2019  5.781694\n",
      "4               EAP  2018  6.524927\n",
      "..              ...   ...       ...\n",
      "164             WLD  1984  4.711277\n",
      "165             WLD  1983  2.602788\n",
      "166             WLD  1982  0.300389\n",
      "167             WLD  1981  2.012104\n",
      "168             WLD  1980  1.898538\n",
      "\n",
      "[169 rows x 3 columns]\n"
     ]
    },
    {
     "name": "stderr",
     "output_type": "stream",
     "text": [
      "posx and posy should be finite values\n"
     ]
    },
    {
     "data": {
      "image/png": "[encoded data removed]",
      "text/plain": [
       "<Figure size 1000x600 with 1 Axes>"
      ]
     },
     "metadata": {},
     "output_type": "display_data"
    }
   ],
   "source": [
    "import requests\n",
    "import pandas as pd\n",
    "from bs4 import BeautifulSoup\n",
    "import re\n",
    "\n",
    "#import wbgapi as wb   # I use wb as a namespace in all my work\n",
    "import matplotlib.pyplot as plt\n",
    "\n",
    "def extract_pages_value(url):\n",
    "    response = requests.get(url)\n",
    "    if response.status_code == 200:\n",
    "        content = response.content.decode('utf-8')  # Decode response content as text\n",
    "        first_two_lines = content.split(\"\\n\", 2)[:2]\n",
    "        for line in first_two_lines:\n",
    "            pages_match = re.search(r'pages=\"(\\d+)\"', line)\n",
    "            if pages_match:\n",
    "                pages_value = int(pages_match.group(1))\n",
    "                return pages_value\n",
    "    return None\n",
    "\n",
    "# URL for the World Bank API\n",
    "url = \"https://api.worldbank.org/v2/country/LCN;EAP;WLD;ECA/indicator/NY.GDP.MKTP.KD.ZG?date=1980:2021\"\n",
    "\n",
    "# Extract the value of \"pages\"\n",
    "pages_value = extract_pages_value(url)\n",
    "perpage = pages_value*50\n",
    "url = f\"https://api.worldbank.org/v2/country/LCN;EAP;WLD;ECA/indicator/NY.GDP.MKTP.KD.ZG?date=1980:2021&per_page={perpage}\"\n",
    "\n",
    "\n",
    "# Make the API request\n",
    "response = requests.get(url)\n",
    "\n",
    "# Check if the request was successful\n",
    "if response.status_code == 200:\n",
    "    try:\n",
    "        soup = BeautifulSoup(response.content, \"xml\")\n",
    "\n",
    "        # Extract the relevant data from the API response\n",
    "        extracted_data = []\n",
    "        for data_element in soup.find_all(\"data\"):\n",
    "            countryiso3code = data_element.find(\"countryiso3code\").text\n",
    "            date = int(data_element.find(\"date\").text)\n",
    "            value = data_element.find(\"value\").text\n",
    "            if value.strip() == \"\":\n",
    "                value = None\n",
    "            else:\n",
    "                value = float(value)\n",
    "            extracted_data.append({\"countryiso3code\": countryiso3code, \"date\": date, \"value\": value})\n",
    "\n",
    "        # Create a DataFrame from the extracted data\n",
    "        df = pd.DataFrame(extracted_data)\n",
    "        print(df)\n",
    "\n",
    "    except Exception as e:\n",
    "        print(\"Error parsing XML:\", e)\n",
    "\n",
    "else:\n",
    "    print(\"Error: Unable to fetch data from the API.\")\n",
    "\n",
    "df = df.pivot_table(index='date', columns='countryiso3code', values='value', aggfunc='first')\n",
    "\n",
    "# Missing values\n",
    "#df['ECA'] = df['ECA'].fillna(0)\n",
    "df.reset_index(inplace=True)\n",
    "\n",
    "#rename data column\n",
    "df.rename(columns={'date': 'year'}, inplace=True)\n",
    "\n",
    "# Recode based on the specified intervals\n",
    "df['date'] = pd.cut(df['year'], [1979, 1989, 2002, 2013, 2019, 2022], labels=[1, 2, 3, 4, 5])\n",
    "\n",
    "# Define labels for 'date'\n",
    "date_labels = {1: \"1980-1989\", 2: \"1990-2002\", 3: \"2003-2013\", 4: \"2014-2019\", 5: \"2020-2021\"}\n",
    "df['date'] = df['date'].map(date_labels)\n",
    "\n",
    "# Collapse the data by 'date' and calculate the mean of 'EAP', 'ECA', 'LCN', and 'WLD'\n",
    "collapsed_data = df.groupby('date').agg({'EAP': 'mean', 'ECA': 'mean', 'LCN': 'mean', 'WLD': 'mean'}).reset_index()\n",
    "\n",
    "width = 0.2\n",
    "date_values = collapsed_data['date'].unique()\n",
    "x = range(len(date_values))\n",
    "\n",
    "%matplotlib inline\n",
    "\n",
    "plt.figure(figsize=(10, 6))\n",
    "plt.bar(x, collapsed_data['LCN'], width=width, label=\"LAC\")\n",
    "plt.bar([i + width for i in x], collapsed_data['EAP'], width=width, label=\"EAP\")\n",
    "plt.bar([i + 2 * width for i in x], collapsed_data['WLD'], width=width, label=\"World\")\n",
    "plt.bar([i + 3 * width for i in x], collapsed_data['ECA'], width=width, label=\"ECA\")\n",
    "\n",
    "plt.xlabel(\"\")\n",
    "plt.ylabel(\"Annual % change\")\n",
    "plt.title(\"Average GDP growth rate\")\n",
    "plt.xticks([i + 1.5 * width for i in x], date_values)\n",
    "plt.legend()\n",
    "\n",
    "# Annotate the bars with their values\n",
    "for i in x:\n",
    "    plt.text(i, collapsed_data['LCN'][i], f\"{collapsed_data['LCN'][i]:.1f}\", ha='center', va='bottom')\n",
    "    plt.text(i + width, collapsed_data['EAP'][i], f\"{collapsed_data['EAP'][i]:.1f}\", ha='center', va='bottom')\n",
    "    plt.text(i + 2 * width, collapsed_data['WLD'][i], f\"{collapsed_data['WLD'][i]:.1f}\", ha='center', va='bottom')\n",
    "    plt.text(i + 3 * width, collapsed_data['ECA'][i], f\"{collapsed_data['ECA'][i]:.1f}\", ha='center', va='bottom')\n",
    "\n",
    "\n",
    "plt.show()"
   ]
  }
 ],
 "metadata": {
  "kernelspec": {
   "display_name": "Python 3 (ipykernel)",
   "language": "python",
   "name": "python3"
  },
  "language_info": {
   "codemirror_mode": {
    "name": "ipython",
    "version": 3
   },
   "file_extension": ".py",
   "mimetype": "text/x-python",
   "name": "python",
   "nbconvert_exporter": "python",
   "pygments_lexer": "ipython3",
   "version": "3.9.13"
  }
 },
 "nbformat": 4,
 "nbformat_minor": 5
}
