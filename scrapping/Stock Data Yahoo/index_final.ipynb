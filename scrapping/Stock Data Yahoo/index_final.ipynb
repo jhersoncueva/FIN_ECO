{
 "cells": [
  {
   "cell_type": "code",
   "execution_count": 1,
   "id": "f3b47a27",
   "metadata": {},
   "outputs": [],
   "source": [
    "import yfinance as yf\n",
    "import pandas as pd\n",
    "import datetime as dt\n",
    "import pandas_datareader.data as web\n",
    "\n",
    "import matplotlib.pyplot as plt\n",
    "import yfinance as yf\n",
    "import pandas as pd\n",
    "import datetime as dt\n",
    "import plotly.graph_objects as go"
   ]
  },
  {
   "cell_type": "code",
   "execution_count": null,
   "id": "ed43a01f",
   "metadata": {},
   "outputs": [
    {
     "name": "stderr",
     "output_type": "stream",
     "text": [
      "C:\\Users\\HP SUPPORT\\AppData\\Roaming\\Python\\Python39\\site-packages\\yfinance\\utils.py:775: FutureWarning:\n",
      "\n",
      "The 'unit' keyword in TimedeltaIndex construction is deprecated and will be removed in a future version. Use pd.to_timedelta instead.\n",
      "\n",
      "[*********************100%%**********************]  1 of 1 completed\n",
      "C:\\Users\\HP SUPPORT\\AppData\\Local\\Temp\\ipykernel_21068\\3887239315.py:40: SettingWithCopyWarning:\n",
      "\n",
      "\n",
      "A value is trying to be set on a copy of a slice from a DataFrame\n",
      "\n",
      "See the caveats in the documentation: https://pandas.pydata.org/pandas-docs/stable/user_guide/indexing.html#returning-a-view-versus-a-copy\n",
      "\n",
      "C:\\Users\\HP SUPPORT\\AppData\\Roaming\\Python\\Python39\\site-packages\\yfinance\\utils.py:775: FutureWarning:\n",
      "\n",
      "The 'unit' keyword in TimedeltaIndex construction is deprecated and will be removed in a future version. Use pd.to_timedelta instead.\n",
      "\n",
      "[*********************100%%**********************]  1 of 1 completed\n",
      "C:\\Users\\HP SUPPORT\\AppData\\Local\\Temp\\ipykernel_21068\\3887239315.py:40: SettingWithCopyWarning:\n",
      "\n",
      "\n",
      "A value is trying to be set on a copy of a slice from a DataFrame\n",
      "\n",
      "See the caveats in the documentation: https://pandas.pydata.org/pandas-docs/stable/user_guide/indexing.html#returning-a-view-versus-a-copy\n",
      "\n",
      "C:\\Users\\HP SUPPORT\\AppData\\Roaming\\Python\\Python39\\site-packages\\yfinance\\utils.py:775: FutureWarning:\n",
      "\n",
      "The 'unit' keyword in TimedeltaIndex construction is deprecated and will be removed in a future version. Use pd.to_timedelta instead.\n",
      "\n",
      "[*********************100%%**********************]  1 of 1 completed\n",
      "C:\\Users\\HP SUPPORT\\AppData\\Local\\Temp\\ipykernel_21068\\3887239315.py:40: SettingWithCopyWarning:\n",
      "\n",
      "\n",
      "A value is trying to be set on a copy of a slice from a DataFrame\n",
      "\n",
      "See the caveats in the documentation: https://pandas.pydata.org/pandas-docs/stable/user_guide/indexing.html#returning-a-view-versus-a-copy\n",
      "\n",
      "C:\\Users\\HP SUPPORT\\AppData\\Roaming\\Python\\Python39\\site-packages\\yfinance\\utils.py:775: FutureWarning:\n",
      "\n",
      "The 'unit' keyword in TimedeltaIndex construction is deprecated and will be removed in a future version. Use pd.to_timedelta instead.\n",
      "\n",
      "[*********************100%%**********************]  1 of 1 completed\n",
      "C:\\Users\\HP SUPPORT\\AppData\\Local\\Temp\\ipykernel_21068\\3887239315.py:40: SettingWithCopyWarning:\n",
      "\n",
      "\n",
      "A value is trying to be set on a copy of a slice from a DataFrame\n",
      "\n",
      "See the caveats in the documentation: https://pandas.pydata.org/pandas-docs/stable/user_guide/indexing.html#returning-a-view-versus-a-copy\n",
      "\n",
      "C:\\Users\\HP SUPPORT\\AppData\\Roaming\\Python\\Python39\\site-packages\\yfinance\\utils.py:775: FutureWarning:\n",
      "\n",
      "The 'unit' keyword in TimedeltaIndex construction is deprecated and will be removed in a future version. Use pd.to_timedelta instead.\n",
      "\n",
      "[*********************100%%**********************]  1 of 1 completed\n",
      "C:\\Users\\HP SUPPORT\\AppData\\Local\\Temp\\ipykernel_21068\\3887239315.py:40: SettingWithCopyWarning:\n",
      "\n",
      "\n",
      "A value is trying to be set on a copy of a slice from a DataFrame\n",
      "\n",
      "See the caveats in the documentation: https://pandas.pydata.org/pandas-docs/stable/user_guide/indexing.html#returning-a-view-versus-a-copy\n",
      "\n",
      "C:\\Users\\HP SUPPORT\\AppData\\Roaming\\Python\\Python39\\site-packages\\yfinance\\utils.py:775: FutureWarning:\n",
      "\n",
      "The 'unit' keyword in TimedeltaIndex construction is deprecated and will be removed in a future version. Use pd.to_timedelta instead.\n",
      "\n",
      "[*********************100%%**********************]  1 of 1 completed\n",
      "C:\\Users\\HP SUPPORT\\AppData\\Local\\Temp\\ipykernel_21068\\3887239315.py:40: SettingWithCopyWarning:\n",
      "\n",
      "\n",
      "A value is trying to be set on a copy of a slice from a DataFrame\n",
      "\n",
      "See the caveats in the documentation: https://pandas.pydata.org/pandas-docs/stable/user_guide/indexing.html#returning-a-view-versus-a-copy\n",
      "\n",
      "C:\\Users\\HP SUPPORT\\AppData\\Roaming\\Python\\Python39\\site-packages\\yfinance\\utils.py:775: FutureWarning:\n",
      "\n",
      "The 'unit' keyword in TimedeltaIndex construction is deprecated and will be removed in a future version. Use pd.to_timedelta instead.\n",
      "\n",
      "[*********************100%%**********************]  1 of 1 completed\n",
      "C:\\Users\\HP SUPPORT\\AppData\\Local\\Temp\\ipykernel_21068\\3887239315.py:40: SettingWithCopyWarning:\n",
      "\n",
      "\n",
      "A value is trying to be set on a copy of a slice from a DataFrame\n",
      "\n",
      "See the caveats in the documentation: https://pandas.pydata.org/pandas-docs/stable/user_guide/indexing.html#returning-a-view-versus-a-copy\n",
      "\n",
      "C:\\Users\\HP SUPPORT\\AppData\\Roaming\\Python\\Python39\\site-packages\\yfinance\\utils.py:775: FutureWarning:\n",
      "\n",
      "The 'unit' keyword in TimedeltaIndex construction is deprecated and will be removed in a future version. Use pd.to_timedelta instead.\n",
      "\n",
      "[*********************100%%**********************]  1 of 1 completed\n",
      "C:\\Users\\HP SUPPORT\\AppData\\Local\\Temp\\ipykernel_21068\\3887239315.py:40: SettingWithCopyWarning:\n",
      "\n",
      "\n",
      "A value is trying to be set on a copy of a slice from a DataFrame\n",
      "\n",
      "See the caveats in the documentation: https://pandas.pydata.org/pandas-docs/stable/user_guide/indexing.html#returning-a-view-versus-a-copy\n",
      "\n",
      "C:\\Users\\HP SUPPORT\\AppData\\Roaming\\Python\\Python39\\site-packages\\yfinance\\utils.py:775: FutureWarning:\n",
      "\n",
      "The 'unit' keyword in TimedeltaIndex construction is deprecated and will be removed in a future version. Use pd.to_timedelta instead.\n",
      "\n",
      "[*********************100%%**********************]  1 of 1 completed\n",
      "C:\\Users\\HP SUPPORT\\AppData\\Local\\Temp\\ipykernel_21068\\3887239315.py:40: SettingWithCopyWarning:\n",
      "\n",
      "\n",
      "A value is trying to be set on a copy of a slice from a DataFrame\n",
      "\n",
      "See the caveats in the documentation: https://pandas.pydata.org/pandas-docs/stable/user_guide/indexing.html#returning-a-view-versus-a-copy\n",
      "\n",
      "C:\\Users\\HP SUPPORT\\AppData\\Roaming\\Python\\Python39\\site-packages\\yfinance\\utils.py:775: FutureWarning:\n",
      "\n",
      "The 'unit' keyword in TimedeltaIndex construction is deprecated and will be removed in a future version. Use pd.to_timedelta instead.\n",
      "\n",
      "[*********************100%%**********************]  1 of 1 completed\n",
      "C:\\Users\\HP SUPPORT\\AppData\\Local\\Temp\\ipykernel_21068\\3887239315.py:40: SettingWithCopyWarning:\n",
      "\n",
      "\n",
      "A value is trying to be set on a copy of a slice from a DataFrame\n",
      "\n",
      "See the caveats in the documentation: https://pandas.pydata.org/pandas-docs/stable/user_guide/indexing.html#returning-a-view-versus-a-copy\n",
      "\n",
      "C:\\Users\\HP SUPPORT\\AppData\\Roaming\\Python\\Python39\\site-packages\\yfinance\\utils.py:775: FutureWarning:\n",
      "\n",
      "The 'unit' keyword in TimedeltaIndex construction is deprecated and will be removed in a future version. Use pd.to_timedelta instead.\n",
      "\n",
      "[*********************100%%**********************]  1 of 1 completed\n",
      "C:\\Users\\HP SUPPORT\\AppData\\Local\\Temp\\ipykernel_21068\\3887239315.py:40: SettingWithCopyWarning:\n",
      "\n",
      "\n",
      "A value is trying to be set on a copy of a slice from a DataFrame\n",
      "\n",
      "See the caveats in the documentation: https://pandas.pydata.org/pandas-docs/stable/user_guide/indexing.html#returning-a-view-versus-a-copy\n",
      "\n",
      "[*********************100%%**********************]  1 of 1 completed\n",
      "\n",
      "1 Failed download:\n",
      "['^COLCAP']: Exception('%ticker%: No timezone found, symbol may be delisted')\n",
      "C:\\Users\\HP SUPPORT\\AppData\\Local\\Temp\\ipykernel_21068\\3887239315.py:40: SettingWithCopyWarning:\n",
      "\n",
      "\n",
      "A value is trying to be set on a copy of a slice from a DataFrame\n",
      "\n",
      "See the caveats in the documentation: https://pandas.pydata.org/pandas-docs/stable/user_guide/indexing.html#returning-a-view-versus-a-copy\n",
      "\n",
      "[*********************100%%**********************]  1 of 1 completed\n",
      "\n",
      "1 Failed download:\n",
      "['^SPBLPGPT']: Exception('%ticker%: No price data found, symbol may be delisted (1d 2024-01-01 00:00:00 -> 2024-12-01 18:14:53.658691)')\n",
      "C:\\Users\\HP SUPPORT\\AppData\\Local\\Temp\\ipykernel_21068\\3887239315.py:40: SettingWithCopyWarning:\n",
      "\n",
      "\n",
      "A value is trying to be set on a copy of a slice from a DataFrame\n",
      "\n",
      "See the caveats in the documentation: https://pandas.pydata.org/pandas-docs/stable/user_guide/indexing.html#returning-a-view-versus-a-copy\n",
      "\n",
      "C:\\Users\\HP SUPPORT\\AppData\\Roaming\\Python\\Python39\\site-packages\\yfinance\\utils.py:775: FutureWarning:\n",
      "\n",
      "The 'unit' keyword in TimedeltaIndex construction is deprecated and will be removed in a future version. Use pd.to_timedelta instead.\n",
      "\n",
      "[*********************100%%**********************]  1 of 1 completed\n",
      "C:\\Users\\HP SUPPORT\\AppData\\Local\\Temp\\ipykernel_21068\\3887239315.py:40: SettingWithCopyWarning:\n",
      "\n",
      "\n",
      "A value is trying to be set on a copy of a slice from a DataFrame\n",
      "\n",
      "See the caveats in the documentation: https://pandas.pydata.org/pandas-docs/stable/user_guide/indexing.html#returning-a-view-versus-a-copy\n",
      "\n",
      "C:\\Users\\HP SUPPORT\\AppData\\Roaming\\Python\\Python39\\site-packages\\yfinance\\utils.py:775: FutureWarning:\n",
      "\n",
      "The 'unit' keyword in TimedeltaIndex construction is deprecated and will be removed in a future version. Use pd.to_timedelta instead.\n",
      "\n",
      "[*********************100%%**********************]  1 of 1 completed\n",
      "C:\\Users\\HP SUPPORT\\AppData\\Local\\Temp\\ipykernel_21068\\3887239315.py:40: SettingWithCopyWarning:\n",
      "\n",
      "\n",
      "A value is trying to be set on a copy of a slice from a DataFrame\n",
      "\n",
      "See the caveats in the documentation: https://pandas.pydata.org/pandas-docs/stable/user_guide/indexing.html#returning-a-view-versus-a-copy\n",
      "\n",
      "C:\\Users\\HP SUPPORT\\AppData\\Roaming\\Python\\Python39\\site-packages\\yfinance\\utils.py:775: FutureWarning:\n",
      "\n",
      "The 'unit' keyword in TimedeltaIndex construction is deprecated and will be removed in a future version. Use pd.to_timedelta instead.\n",
      "\n",
      "[*********************100%%**********************]  1 of 1 completed\n",
      "C:\\Users\\HP SUPPORT\\AppData\\Local\\Temp\\ipykernel_21068\\3887239315.py:40: SettingWithCopyWarning:\n",
      "\n",
      "\n",
      "A value is trying to be set on a copy of a slice from a DataFrame\n",
      "\n",
      "See the caveats in the documentation: https://pandas.pydata.org/pandas-docs/stable/user_guide/indexing.html#returning-a-view-versus-a-copy\n",
      "\n",
      "C:\\Users\\HP SUPPORT\\AppData\\Roaming\\Python\\Python39\\site-packages\\yfinance\\utils.py:775: FutureWarning:\n",
      "\n",
      "The 'unit' keyword in TimedeltaIndex construction is deprecated and will be removed in a future version. Use pd.to_timedelta instead.\n",
      "\n",
      "[*********************100%%**********************]  1 of 1 completed\n",
      "C:\\Users\\HP SUPPORT\\AppData\\Local\\Temp\\ipykernel_21068\\3887239315.py:40: SettingWithCopyWarning:\n",
      "\n",
      "\n",
      "A value is trying to be set on a copy of a slice from a DataFrame\n",
      "\n",
      "See the caveats in the documentation: https://pandas.pydata.org/pandas-docs/stable/user_guide/indexing.html#returning-a-view-versus-a-copy\n",
      "\n",
      "C:\\Users\\HP SUPPORT\\AppData\\Roaming\\Python\\Python39\\site-packages\\yfinance\\utils.py:775: FutureWarning:\n",
      "\n",
      "The 'unit' keyword in TimedeltaIndex construction is deprecated and will be removed in a future version. Use pd.to_timedelta instead.\n",
      "\n",
      "[*********************100%%**********************]  1 of 1 completed\n",
      "C:\\Users\\HP SUPPORT\\AppData\\Local\\Temp\\ipykernel_21068\\3887239315.py:40: SettingWithCopyWarning:\n",
      "\n",
      "\n",
      "A value is trying to be set on a copy of a slice from a DataFrame\n",
      "\n",
      "See the caveats in the documentation: https://pandas.pydata.org/pandas-docs/stable/user_guide/indexing.html#returning-a-view-versus-a-copy\n",
      "\n",
      "C:\\Users\\HP SUPPORT\\AppData\\Local\\Temp\\ipykernel_21068\\3887239315.py:59: FutureWarning:\n",
      "\n",
      "DataFrame.fillna with 'method' is deprecated and will raise in a future version. Use obj.ffill() or obj.bfill() instead.\n",
      "\n",
      "C:\\Users\\HP SUPPORT\\AppData\\Local\\Temp\\ipykernel_21068\\3887239315.py:59: FutureWarning:\n",
      "\n",
      "DataFrame.fillna with 'method' is deprecated and will raise in a future version. Use obj.ffill() or obj.bfill() instead.\n",
      "\n",
      "C:\\Users\\HP SUPPORT\\AppData\\Local\\Temp\\ipykernel_21068\\3887239315.py:59: FutureWarning:\n",
      "\n",
      "DataFrame.fillna with 'method' is deprecated and will raise in a future version. Use obj.ffill() or obj.bfill() instead.\n",
      "\n",
      "C:\\Users\\HP SUPPORT\\AppData\\Local\\Temp\\ipykernel_21068\\3887239315.py:59: FutureWarning:\n",
      "\n",
      "DataFrame.fillna with 'method' is deprecated and will raise in a future version. Use obj.ffill() or obj.bfill() instead.\n",
      "\n"
     ]
    },
    {
     "data": {
      "application/vnd.plotly.v1+json": {
       "config": {
        "plotlyServerURL": "https://plot.ly"
       },
       "data": [
        {
         "mode": "lines",
         "name": "S&P 500",
         "type": "scatter",
         "x": [
          "2024-01-02T00:00:00",
          "2024-01-03T00:00:00",
          "2024-01-04T00:00:00",
          "2024-01-05T00:00:00",
          "2024-01-08T00:00:00",
          "2024-01-09T00:00:00",
          "2024-01-10T00:00:00",
          "2024-01-11T00:00:00",
          "2024-01-12T00:00:00",
          "2024-01-16T00:00:00",
          "2024-01-17T00:00:00",
          "2024-01-18T00:00:00",
          "2024-01-19T00:00:00",
          "2024-01-22T00:00:00",
          "2024-01-23T00:00:00",
          "2024-01-24T00:00:00",
          "2024-01-25T00:00:00",
          "2024-01-26T00:00:00",
          "2024-01-29T00:00:00",
          "2024-01-30T00:00:00",
          "2024-01-31T00:00:00",
          "2024-02-01T00:00:00",
          "2024-02-02T00:00:00",
          "2024-02-05T00:00:00",
          "2024-02-06T00:00:00",
          "2024-02-07T00:00:00",
          "2024-02-08T00:00:00",
          "2024-02-09T00:00:00",
          "2024-02-12T00:00:00",
          "2024-02-13T00:00:00",
          "2024-02-14T00:00:00",
          "2024-02-15T00:00:00",
          "2024-02-16T00:00:00",
          "2024-02-20T00:00:00",
          "2024-02-21T00:00:00",
          "2024-02-22T00:00:00",
          "2024-02-23T00:00:00",
          "2024-02-26T00:00:00",
          "2024-02-27T00:00:00",
          "2024-02-28T00:00:00",
          "2024-02-29T00:00:00",
          "2024-03-01T00:00:00",
          "2024-03-04T00:00:00",
          "2024-03-05T00:00:00",
          "2024-03-06T00:00:00",
          "2024-03-07T00:00:00",
          "2024-03-08T00:00:00",
          "2024-03-11T00:00:00",
          "2024-03-12T00:00:00",
          "2024-03-13T00:00:00",
          "2024-03-14T00:00:00",
          "2024-03-15T00:00:00",
          "2024-03-18T00:00:00",
          "2024-03-19T00:00:00",
          "2024-03-20T00:00:00",
          "2024-03-21T00:00:00",
          "2024-03-22T00:00:00",
          "2024-03-25T00:00:00",
          "2024-03-26T00:00:00",
          "2024-03-27T00:00:00",
          "2024-03-28T00:00:00",
          "2024-04-01T00:00:00",
          "2024-04-02T00:00:00",
          "2024-04-03T00:00:00",
          "2024-04-04T00:00:00",
          "2024-04-05T00:00:00",
          "2024-04-08T00:00:00",
          "2024-04-09T00:00:00",
          "2024-04-10T00:00:00",
          "2024-04-11T00:00:00",
          "2024-04-12T00:00:00",
          "2024-04-15T00:00:00",
          "2024-04-16T00:00:00",
          "2024-04-17T00:00:00",
          "2024-04-18T00:00:00",
          "2024-04-19T00:00:00",
          "2024-04-22T00:00:00",
          "2024-04-23T00:00:00",
          "2024-04-24T00:00:00",
          "2024-04-25T00:00:00",
          "2024-04-26T00:00:00",
          "2024-04-29T00:00:00",
          "2024-04-30T00:00:00",
          "2024-05-01T00:00:00",
          "2024-05-02T00:00:00",
          "2024-05-03T00:00:00",
          "2024-05-06T00:00:00",
          "2024-05-07T00:00:00",
          "2024-05-08T00:00:00",
          "2024-05-09T00:00:00",
          "2024-05-10T00:00:00",
          "2024-05-13T00:00:00",
          "2024-05-14T00:00:00",
          "2024-05-15T00:00:00",
          "2024-05-16T00:00:00",
          "2024-05-17T00:00:00",
          "2024-05-20T00:00:00",
          "2024-05-21T00:00:00",
          "2024-05-22T00:00:00",
          "2024-05-23T00:00:00",
          "2024-05-24T00:00:00",
          "2024-05-28T00:00:00",
          "2024-05-29T00:00:00",
          "2024-05-30T00:00:00",
          "2024-05-31T00:00:00",
          "2024-06-03T00:00:00",
          "2024-06-04T00:00:00",
          "2024-06-05T00:00:00",
          "2024-06-06T00:00:00",
          "2024-06-07T00:00:00",
          "2024-06-10T00:00:00",
          "2024-06-11T00:00:00",
          "2024-06-12T00:00:00",
          "2024-06-13T00:00:00",
          "2024-06-14T00:00:00",
          "2024-06-17T00:00:00",
          "2024-06-18T00:00:00",
          "2024-06-20T00:00:00",
          "2024-06-21T00:00:00",
          "2024-06-24T00:00:00",
          "2024-06-25T00:00:00",
          "2024-06-26T00:00:00",
          "2024-06-27T00:00:00",
          "2024-06-28T00:00:00",
          "2024-07-01T00:00:00",
          "2024-07-02T00:00:00",
          "2024-07-03T00:00:00",
          "2024-07-05T00:00:00",
          "2024-07-08T00:00:00",
          "2024-07-09T00:00:00",
          "2024-07-10T00:00:00",
          "2024-07-11T00:00:00",
          "2024-07-12T00:00:00",
          "2024-07-15T00:00:00",
          "2024-07-16T00:00:00",
          "2024-07-17T00:00:00",
          "2024-07-18T00:00:00",
          "2024-07-19T00:00:00",
          "2024-07-22T00:00:00",
          "2024-07-23T00:00:00",
          "2024-07-24T00:00:00",
          "2024-07-25T00:00:00",
          "2024-07-26T00:00:00",
          "2024-07-29T00:00:00",
          "2024-07-30T00:00:00",
          "2024-07-31T00:00:00",
          "2024-08-01T00:00:00",
          "2024-08-02T00:00:00",
          "2024-08-05T00:00:00",
          "2024-08-06T00:00:00",
          "2024-08-07T00:00:00",
          "2024-08-08T00:00:00",
          "2024-08-09T00:00:00",
          "2024-08-12T00:00:00",
          "2024-08-13T00:00:00",
          "2024-08-14T00:00:00",
          "2024-08-15T00:00:00",
          "2024-08-16T00:00:00",
          "2024-08-19T00:00:00",
          "2024-08-20T00:00:00",
          "2024-08-21T00:00:00",
          "2024-08-22T00:00:00",
          "2024-08-23T00:00:00",
          "2024-08-26T00:00:00",
          "2024-08-27T00:00:00",
          "2024-08-28T00:00:00",
          "2024-08-29T00:00:00",
          "2024-08-30T00:00:00",
          "2024-09-03T00:00:00",
          "2024-09-04T00:00:00",
          "2024-09-05T00:00:00",
          "2024-09-06T00:00:00",
          "2024-09-09T00:00:00",
          "2024-09-10T00:00:00",
          "2024-09-11T00:00:00",
          "2024-09-12T00:00:00",
          "2024-09-13T00:00:00",
          "2024-09-16T00:00:00",
          "2024-09-17T00:00:00",
          "2024-09-18T00:00:00",
          "2024-09-19T00:00:00",
          "2024-09-20T00:00:00",
          "2024-09-23T00:00:00",
          "2024-09-24T00:00:00",
          "2024-09-25T00:00:00",
          "2024-09-26T00:00:00",
          "2024-09-27T00:00:00",
          "2024-09-30T00:00:00",
          "2024-10-01T00:00:00",
          "2024-10-02T00:00:00",
          "2024-10-03T00:00:00",
          "2024-10-04T00:00:00",
          "2024-10-07T00:00:00",
          "2024-10-08T00:00:00",
          "2024-10-09T00:00:00",
          "2024-10-10T00:00:00",
          "2024-10-11T00:00:00",
          "2024-10-14T00:00:00",
          "2024-10-15T00:00:00",
          "2024-10-16T00:00:00",
          "2024-10-17T00:00:00",
          "2024-10-18T00:00:00",
          "2024-10-21T00:00:00",
          "2024-10-22T00:00:00",
          "2024-10-23T00:00:00",
          "2024-10-24T00:00:00",
          "2024-10-25T00:00:00",
          "2024-10-28T00:00:00",
          "2024-10-29T00:00:00",
          "2024-10-30T00:00:00",
          "2024-10-31T00:00:00",
          "2024-11-01T00:00:00",
          "2024-11-04T00:00:00",
          "2024-11-05T00:00:00",
          "2024-11-06T00:00:00",
          "2024-11-07T00:00:00",
          "2024-11-08T00:00:00",
          "2024-11-11T00:00:00",
          "2024-11-12T00:00:00",
          "2024-11-13T00:00:00",
          "2024-11-14T00:00:00",
          "2024-11-15T00:00:00",
          "2024-11-18T00:00:00",
          "2024-11-19T00:00:00",
          "2024-11-20T00:00:00",
          "2024-11-21T00:00:00",
          "2024-11-22T00:00:00",
          "2024-11-25T00:00:00",
          "2024-11-26T00:00:00",
          "2024-11-27T00:00:00",
          "2024-11-29T00:00:00"
         ],
         "y": [
          100,
          99.19836850772693,
          98.8582786764067,
          99.03876286944644,
          100.43665829465446,
          100.28822288907311,
          100.85645314123414,
          100.78877285573742,
          100.86446276431242,
          100.48810313594245,
          99.92367179241363,
          100.80352579901653,
          102.04477029265804,
          102.2686897039075,
          102.56745482181368,
          102.65073225250781,
          103.19071262584272,
          103.12345444130511,
          103.90273517303463,
          103.84032600195442,
          102.16790023098187,
          103.4443541217026,
          104.54959974533928,
          104.21646943227213,
          104.45725229159639,
          105.31813234532883,
          105.37822510870645,
          105.98334286663793,
          105.88276959176454,
          104.43490153105284,
          105.4353631653701,
          106.04912884539121,
          105.53972505373036,
          104.90592502086827,
          105.03854708320002,
          107.25726415160383,
          107.29458405347876,
          106.8882861424461,
          107.07067493737463,
          106.89313515590351,
          107.45208948210889,
          108.31254743488216,
          108.18330218022352,
          107.08057886719632,
          107.63109117421898,
          108.74013570648788,
          108.03022366409165,
          107.90898803251126,
          109.11776163773526,
          108.90776126299195,
          108.5950771085796,
          107.89106418446595,
          108.57272634803603,
          109.186069927098,
          110.15828168258915,
          110.514812861025,
          110.35985033329503,
          110.02270491354342,
          109.71466386968159,
          110.66157015791518,
          110.78512219719816,
          110.56204698786696,
          109.7616817984713,
          109.8814452242674,
          108.52613052020546,
          109.73068311583809,
          109.6895746004763,
          109.8481301339316,
          108.80929849291425,
          109.61936170922473,
          108.02432454580908,
          106.72572579745166,
          106.50624359384582,
          105.8905733119359,
          105.65674997086474,
          104.73135024125644,
          105.64578564107252,
          106.9097927010714,
          106.93256556257408,
          106.44319612375423,
          107.52988989547956,
          107.87166813063634,
          106.17479138946987,
          105.8100343899035,
          106.77591463100757,
          108.11667199955195,
          109.23309815103308,
          109.3798451527779,
          109.37920685376652,
          109.93605067517622,
          110.11737907013423,
          110.0908072999993,
          110.623406054122,
          111.91946190157924,
          111.68648276242634,
          111.81657221900328,
          111.9190398006201,
          112.19904716370806,
          111.89542273719913,
          111.06954617763903,
          111.84714880067735,
          111.87497657854435,
          111.05078842282079,
          110.38725601020289,
          111.27343123604751,
          111.39762157434185,
          111.5650309327937,
          112.88681434846761,
          112.86425768501715,
          112.73838923803159,
          113.0293506357664,
          113.3357032757917,
          114.29947301210008,
          114.56746594057066,
          114.52234231852438,
          115.40008582033158,
          115.69104721806642,
          115.39881951745419,
          115.2185515224667,
          114.86538685655856,
          115.31722019545127,
          115.49854859040929,
          115.60334287487404,
          115.1312589850881,
          115.43930002894996,
          116.15448318576271,
          116.74506419846735,
          117.38118063903202,
          117.50052196386898,
          117.58759830319532,
          118.78794018438195,
          117.74699803856892,
          118.39661141468063,
          118.7312242286774,
          119.4898426036999,
          117.82564265385787,
          116.90466983674783,
          116.06993945219119,
          117.32257037658407,
          117.13976977584176,
          114.42809026289271,
          113.83963005012912,
          115.10216490434368,
          115.19577866096398,
          114.62438779918207,
          116.43469645175757,
          114.84029758735328,
          112.72931921498281,
          109.35095697494037,
          110.48318617452577,
          109.62863763518041,
          112.15476774358004,
          112.67871857561312,
          112.68356758907049,
          114.58201298094286,
          115.02014348138164,
          116.87579195405564,
          117.1083489922494,
          118.24690970622184,
          118.0122421632324,
          118.5125759318445,
          117.4539261360384,
          118.80269312766103,
          118.42802190312763,
          118.61693782020475,
          117.90808617777904,
          117.90344306722854,
          119.09344862248896,
          116.57449423039465,
          116.38767852296785,
          116.03641845894852,
          114.03360088357056,
          115.35411799636705,
          115.87005920532185,
          117.10581638649458,
          117.98355988830178,
          118.62158093075526,
          118.77064434020267,
          118.802065123795,
          118.45796018579031,
          120.46900358229877,
          120.23516994608225,
          120.5729433696999,
          120.87572359429055,
          120.6507437830706,
          121.1380130122401,
          120.98620079898564,
          121.49876520026734,
          120.36589770167056,
          120.38255524683848,
          120.18014239421429,
          121.25818824385,
          120.09580456354966,
          121.2594545467274,
          122.12202300429638,
          121.86921541520938,
          122.60674933256573,
          123.55176131405588,
          122.61159834602313,
          123.18531591065296,
          123.16423145298681,
          123.65338469375442,
          123.42799307672065,
          123.3693828142727,
          122.2354549157054,
          122.49774433365495,
          122.46106273079143,
          122.78576131982115,
          122.98395316285395,
          122.57807735278045,
          120.29632310943039,
          120.78863695981887,
          120.44896922945779,
          121.92635347187304,
          125.0105937045598,
          125.93957614474809,
          126.41271013935919,
          126.53521207381702,
          126.16918877137324,
          126.19848875502456,
          125.43502136654465,
          123.7788413349262,
          124.26378386124779,
          124.75631390968852,
          124.75905241835024,
          125.42532333962984,
          125.86029323044777,
          126.24045176744995,
          126.9628003454227,
          126.48018452194904,
          127.1894582653339
         ]
        },
        {
         "mode": "lines",
         "name": "Nasdaq",
         "type": "scatter",
         "x": [
          "2024-01-02T00:00:00",
          "2024-01-03T00:00:00",
          "2024-01-04T00:00:00",
          "2024-01-05T00:00:00",
          "2024-01-08T00:00:00",
          "2024-01-09T00:00:00",
          "2024-01-10T00:00:00",
          "2024-01-11T00:00:00",
          "2024-01-12T00:00:00",
          "2024-01-16T00:00:00",
          "2024-01-17T00:00:00",
          "2024-01-18T00:00:00",
          "2024-01-19T00:00:00",
          "2024-01-22T00:00:00",
          "2024-01-23T00:00:00",
          "2024-01-24T00:00:00",
          "2024-01-25T00:00:00",
          "2024-01-26T00:00:00",
          "2024-01-29T00:00:00",
          "2024-01-30T00:00:00",
          "2024-01-31T00:00:00",
          "2024-02-01T00:00:00",
          "2024-02-02T00:00:00",
          "2024-02-05T00:00:00",
          "2024-02-06T00:00:00",
          "2024-02-07T00:00:00",
          "2024-02-08T00:00:00",
          "2024-02-09T00:00:00",
          "2024-02-12T00:00:00",
          "2024-02-13T00:00:00",
          "2024-02-14T00:00:00",
          "2024-02-15T00:00:00",
          "2024-02-16T00:00:00",
          "2024-02-20T00:00:00",
          "2024-02-21T00:00:00",
          "2024-02-22T00:00:00",
          "2024-02-23T00:00:00",
          "2024-02-26T00:00:00",
          "2024-02-27T00:00:00",
          "2024-02-28T00:00:00",
          "2024-02-29T00:00:00",
          "2024-03-01T00:00:00",
          "2024-03-04T00:00:00",
          "2024-03-05T00:00:00",
          "2024-03-06T00:00:00",
          "2024-03-07T00:00:00",
          "2024-03-08T00:00:00",
          "2024-03-11T00:00:00",
          "2024-03-12T00:00:00",
          "2024-03-13T00:00:00",
          "2024-03-14T00:00:00",
          "2024-03-15T00:00:00",
          "2024-03-18T00:00:00",
          "2024-03-19T00:00:00",
          "2024-03-20T00:00:00",
          "2024-03-21T00:00:00",
          "2024-03-22T00:00:00",
          "2024-03-25T00:00:00",
          "2024-03-26T00:00:00",
          "2024-03-27T00:00:00",
          "2024-03-28T00:00:00",
          "2024-04-01T00:00:00",
          "2024-04-02T00:00:00",
          "2024-04-03T00:00:00",
          "2024-04-04T00:00:00",
          "2024-04-05T00:00:00",
          "2024-04-08T00:00:00",
          "2024-04-09T00:00:00",
          "2024-04-10T00:00:00",
          "2024-04-11T00:00:00",
          "2024-04-12T00:00:00",
          "2024-04-15T00:00:00",
          "2024-04-16T00:00:00",
          "2024-04-17T00:00:00",
          "2024-04-18T00:00:00",
          "2024-04-19T00:00:00",
          "2024-04-22T00:00:00",
          "2024-04-23T00:00:00",
          "2024-04-24T00:00:00",
          "2024-04-25T00:00:00",
          "2024-04-26T00:00:00",
          "2024-04-29T00:00:00",
          "2024-04-30T00:00:00",
          "2024-05-01T00:00:00",
          "2024-05-02T00:00:00",
          "2024-05-03T00:00:00",
          "2024-05-06T00:00:00",
          "2024-05-07T00:00:00",
          "2024-05-08T00:00:00",
          "2024-05-09T00:00:00",
          "2024-05-10T00:00:00",
          "2024-05-13T00:00:00",
          "2024-05-14T00:00:00",
          "2024-05-15T00:00:00",
          "2024-05-16T00:00:00",
          "2024-05-17T00:00:00",
          "2024-05-20T00:00:00",
          "2024-05-21T00:00:00",
          "2024-05-22T00:00:00",
          "2024-05-23T00:00:00",
          "2024-05-24T00:00:00",
          "2024-05-28T00:00:00",
          "2024-05-29T00:00:00",
          "2024-05-30T00:00:00",
          "2024-05-31T00:00:00",
          "2024-06-03T00:00:00",
          "2024-06-04T00:00:00",
          "2024-06-05T00:00:00",
          "2024-06-06T00:00:00",
          "2024-06-07T00:00:00",
          "2024-06-10T00:00:00",
          "2024-06-11T00:00:00",
          "2024-06-12T00:00:00",
          "2024-06-13T00:00:00",
          "2024-06-14T00:00:00",
          "2024-06-17T00:00:00",
          "2024-06-18T00:00:00",
          "2024-06-20T00:00:00",
          "2024-06-21T00:00:00",
          "2024-06-24T00:00:00",
          "2024-06-25T00:00:00",
          "2024-06-26T00:00:00",
          "2024-06-27T00:00:00",
          "2024-06-28T00:00:00",
          "2024-07-01T00:00:00",
          "2024-07-02T00:00:00",
          "2024-07-03T00:00:00",
          "2024-07-05T00:00:00",
          "2024-07-08T00:00:00",
          "2024-07-09T00:00:00",
          "2024-07-10T00:00:00",
          "2024-07-11T00:00:00",
          "2024-07-12T00:00:00",
          "2024-07-15T00:00:00",
          "2024-07-16T00:00:00",
          "2024-07-17T00:00:00",
          "2024-07-18T00:00:00",
          "2024-07-19T00:00:00",
          "2024-07-22T00:00:00",
          "2024-07-23T00:00:00",
          "2024-07-24T00:00:00",
          "2024-07-25T00:00:00",
          "2024-07-26T00:00:00",
          "2024-07-29T00:00:00",
          "2024-07-30T00:00:00",
          "2024-07-31T00:00:00",
          "2024-08-01T00:00:00",
          "2024-08-02T00:00:00",
          "2024-08-05T00:00:00",
          "2024-08-06T00:00:00",
          "2024-08-07T00:00:00",
          "2024-08-08T00:00:00",
          "2024-08-09T00:00:00",
          "2024-08-12T00:00:00",
          "2024-08-13T00:00:00",
          "2024-08-14T00:00:00",
          "2024-08-15T00:00:00",
          "2024-08-16T00:00:00",
          "2024-08-19T00:00:00",
          "2024-08-20T00:00:00",
          "2024-08-21T00:00:00",
          "2024-08-22T00:00:00",
          "2024-08-23T00:00:00",
          "2024-08-26T00:00:00",
          "2024-08-27T00:00:00",
          "2024-08-28T00:00:00",
          "2024-08-29T00:00:00",
          "2024-08-30T00:00:00",
          "2024-09-03T00:00:00",
          "2024-09-04T00:00:00",
          "2024-09-05T00:00:00",
          "2024-09-06T00:00:00",
          "2024-09-09T00:00:00",
          "2024-09-10T00:00:00",
          "2024-09-11T00:00:00",
          "2024-09-12T00:00:00",
          "2024-09-13T00:00:00",
          "2024-09-16T00:00:00",
          "2024-09-17T00:00:00",
          "2024-09-18T00:00:00",
          "2024-09-19T00:00:00",
          "2024-09-20T00:00:00",
          "2024-09-23T00:00:00",
          "2024-09-24T00:00:00",
          "2024-09-25T00:00:00",
          "2024-09-26T00:00:00",
          "2024-09-27T00:00:00",
          "2024-09-30T00:00:00",
          "2024-10-01T00:00:00",
          "2024-10-02T00:00:00",
          "2024-10-03T00:00:00",
          "2024-10-04T00:00:00",
          "2024-10-07T00:00:00",
          "2024-10-08T00:00:00",
          "2024-10-09T00:00:00",
          "2024-10-10T00:00:00",
          "2024-10-11T00:00:00",
          "2024-10-14T00:00:00",
          "2024-10-15T00:00:00",
          "2024-10-16T00:00:00",
          "2024-10-17T00:00:00",
          "2024-10-18T00:00:00",
          "2024-10-21T00:00:00",
          "2024-10-22T00:00:00",
          "2024-10-23T00:00:00",
          "2024-10-24T00:00:00",
          "2024-10-25T00:00:00",
          "2024-10-28T00:00:00",
          "2024-10-29T00:00:00",
          "2024-10-30T00:00:00",
          "2024-10-31T00:00:00",
          "2024-11-01T00:00:00",
          "2024-11-04T00:00:00",
          "2024-11-05T00:00:00",
          "2024-11-06T00:00:00",
          "2024-11-07T00:00:00",
          "2024-11-08T00:00:00",
          "2024-11-11T00:00:00",
          "2024-11-12T00:00:00",
          "2024-11-13T00:00:00",
          "2024-11-14T00:00:00",
          "2024-11-15T00:00:00",
          "2024-11-18T00:00:00",
          "2024-11-19T00:00:00",
          "2024-11-20T00:00:00",
          "2024-11-21T00:00:00",
          "2024-11-22T00:00:00",
          "2024-11-25T00:00:00",
          "2024-11-26T00:00:00",
          "2024-11-27T00:00:00",
          "2024-11-29T00:00:00"
         ],
         "y": [
          100,
          98.82343783264417,
          98.26871423315494,
          98.36197282293506,
          100.52708530102169,
          100.62149465986936,
          101.37959354439717,
          101.38325087367512,
          101.40065129561056,
          101.20824799840587,
          100.6073415230614,
          101.96201496489195,
          103.69112485229317,
          104.02513888096175,
          104.46974578519254,
          104.84885805680209,
          105.04241212307434,
          104.66898756064933,
          105.83843347790918,
          105.03835136326123,
          102.69586172200158,
          104.03427889734895,
          105.84459736739751,
          105.6328227908888,
          105.70948781980385,
          106.7093540263657,
          106.96040686432427,
          108.29422096340137,
          107.96840120412772,
          106.02507631616072,
          107.40359184125894,
          107.72202419220807,
          106.8381012760111,
          105.8569912825275,
          105.5189826301991,
          108.6393392522104,
          108.33593964890828,
          108.19663045557955,
          108.59653593378924,
          108.00355256961112,
          108.97998673705582,
          110.21946422705389,
          109.76280070207495,
          107.94835533605995,
          108.57107351476552,
          110.20889566975521,
          108.93386999735388,
          108.48797343813357,
          110.15647615464299,
          109.56138966078966,
          109.22792456219355,
          108.1757711128261,
          109.058073693267,
          109.48703278362505,
          110.85924553331301,
          111.07887047121943,
          111.26159143557979,
          110.96124070894517,
          110.49550330373235,
          111.06315652119336,
          110.92730624868265,
          111.04494262457223,
          109.98588456079939,
          110.23652735460743,
          108.68986065972268,
          110.0405328642781,
          110.0773773152862,
          110.43414218069283,
          109.5112121612746,
          111.35219796561225,
          109.54324190032183,
          107.5787865113728,
          107.44490048261535,
          106.21314769532371,
          105.65869525406302,
          103.4949980896572,
          104.64155428425703,
          106.3030135004391,
          106.41211831255193,
          105.7281778967288,
          107.86919036054982,
          108.24288608120342,
          106.04011567742302,
          105.6856523501515,
          107.28040002849146,
          109.41619434981646,
          110.72271405842322,
          110.60968075880389,
          110.40786628698342,
          110.7024631682802,
          110.66596262526932,
          110.98676926412222,
          111.8193572981212,
          113.38519686385007,
          113.08673763120008,
          113.00310185172631,
          113.74059932449856,
          113.99625523872739,
          113.78577031720818,
          113.342115773585,
          114.59337211248727,
          115.26445566010726,
          114.59195679880648,
          113.34923202368097,
          113.3352772953329,
          113.96950977832947,
          114.16171466707424,
          116.40234140500834,
          116.30223772336082,
          116.0314234027937,
          116.4336899416765,
          117.45645909812905,
          119.25037580215714,
          119.65076407428599,
          119.7951525241888,
          120.93384513016025,
          120.9691353815656,
          120.01666895607983,
          119.79839319570091,
          118.49445279707318,
          119.98998963183524,
          120.5826357016315,
          120.94508827622268,
          120.0912308553197,
          121.08474137754861,
          122.09692874947183,
          123.17739508607058,
          124.29116758947542,
          124.63642476420642,
          124.80945016849176,
          126.28690537893932,
          123.82150831037141,
          124.60059219634397,
          125.10256559995445,
          125.35158144439109,
          121.88129843522522,
          121.03002032430128,
          120.05289834086217,
          121.95342652402333,
          121.88420842597078,
          117.44873439542263,
          116.3604904471948,
          117.55350728949374,
          117.63693143327691,
          116.12819382231451,
          119.1891601786549,
          116.4446685431257,
          113.61389568199039,
          109.71248431663794,
          110.84190463391556,
          109.6835629767962,
          112.82735163792465,
          113.40490543753596,
          113.64402731343768,
          116.40037054763977,
          116.43416612198033,
          119.15597305692478,
          119.40804439164427,
          121.0675988866111,
          120.66240912975206,
          121.35353193182448,
          119.32426311263325,
          121.07450350101647,
          120.04497522969582,
          120.24171705855755,
          118.89543629458181,
          118.62725419291638,
          119.96268862774954,
          116.05289119815761,
          115.70072940902124,
          115.99437392971038,
          113.03601120161255,
          114.34828475555715,
          115.30508971269992,
          117.80847538772817,
          118.98788140967625,
          119.76196540245867,
          119.13992842613217,
          119.38325656138431,
          119.01240469532297,
          121.99683829505494,
          121.55216525467081,
          121.72790224124182,
          122.40682953664417,
          122.45891837098984,
          123.19086040688416,
          122.71206111139293,
          123.18328120371503,
          121.29508079953052,
          121.39503898164081,
          121.35007962462177,
          122.83572249084891,
          121.38678518970791,
          123.14095406559767,
          123.87710236084241,
          123.81230215783089,
          124.22466107370855,
          125.30654272398812,
          124.03944016275315,
          124.38814964468683,
          124.43236827678878,
          125.21756314332704,
          125.55928864747135,
          125.82855538205102,
          123.77572886505138,
          124.71599978386705,
          125.4143578811114,
          125.7433587893592,
          126.7291446088817,
          126.01926559373102,
          122.54654877412341,
          123.52697756522795,
          123.12104708345186,
          124.87636672840918,
          128.56255782366554,
          130.49938152776232,
          130.6166673820394,
          130.69780321491808,
          130.58023958879716,
          130.23701940758804,
          129.40354514913471,
          126.50815726621714,
          127.26456967883557,
          128.58964719206065,
          128.4451926060045,
          128.4877181525818,
          128.69922157086197,
          129.04589405927373,
          129.8549243954643,
          129.08409430142464,
          130.15202122335614
         ]
        },
        {
         "mode": "lines",
         "name": "Dow Jones",
         "type": "scatter",
         "x": [
          "2024-01-02T00:00:00",
          "2024-01-03T00:00:00",
          "2024-01-04T00:00:00",
          "2024-01-05T00:00:00",
          "2024-01-08T00:00:00",
          "2024-01-09T00:00:00",
          "2024-01-10T00:00:00",
          "2024-01-11T00:00:00",
          "2024-01-12T00:00:00",
          "2024-01-16T00:00:00",
          "2024-01-17T00:00:00",
          "2024-01-18T00:00:00",
          "2024-01-19T00:00:00",
          "2024-01-22T00:00:00",
          "2024-01-23T00:00:00",
          "2024-01-24T00:00:00",
          "2024-01-25T00:00:00",
          "2024-01-26T00:00:00",
          "2024-01-29T00:00:00",
          "2024-01-30T00:00:00",
          "2024-01-31T00:00:00",
          "2024-02-01T00:00:00",
          "2024-02-02T00:00:00",
          "2024-02-05T00:00:00",
          "2024-02-06T00:00:00",
          "2024-02-07T00:00:00",
          "2024-02-08T00:00:00",
          "2024-02-09T00:00:00",
          "2024-02-12T00:00:00",
          "2024-02-13T00:00:00",
          "2024-02-14T00:00:00",
          "2024-02-15T00:00:00",
          "2024-02-16T00:00:00",
          "2024-02-20T00:00:00",
          "2024-02-21T00:00:00",
          "2024-02-22T00:00:00",
          "2024-02-23T00:00:00",
          "2024-02-26T00:00:00",
          "2024-02-27T00:00:00",
          "2024-02-28T00:00:00",
          "2024-02-29T00:00:00",
          "2024-03-01T00:00:00",
          "2024-03-04T00:00:00",
          "2024-03-05T00:00:00",
          "2024-03-06T00:00:00",
          "2024-03-07T00:00:00",
          "2024-03-08T00:00:00",
          "2024-03-11T00:00:00",
          "2024-03-12T00:00:00",
          "2024-03-13T00:00:00",
          "2024-03-14T00:00:00",
          "2024-03-15T00:00:00",
          "2024-03-18T00:00:00",
          "2024-03-19T00:00:00",
          "2024-03-20T00:00:00",
          "2024-03-21T00:00:00",
          "2024-03-22T00:00:00",
          "2024-03-25T00:00:00",
          "2024-03-26T00:00:00",
          "2024-03-27T00:00:00",
          "2024-03-28T00:00:00",
          "2024-04-01T00:00:00",
          "2024-04-02T00:00:00",
          "2024-04-03T00:00:00",
          "2024-04-04T00:00:00",
          "2024-04-05T00:00:00",
          "2024-04-08T00:00:00",
          "2024-04-09T00:00:00",
          "2024-04-10T00:00:00",
          "2024-04-11T00:00:00",
          "2024-04-12T00:00:00",
          "2024-04-15T00:00:00",
          "2024-04-16T00:00:00",
          "2024-04-17T00:00:00",
          "2024-04-18T00:00:00",
          "2024-04-19T00:00:00",
          "2024-04-22T00:00:00",
          "2024-04-23T00:00:00",
          "2024-04-24T00:00:00",
          "2024-04-25T00:00:00",
          "2024-04-26T00:00:00",
          "2024-04-29T00:00:00",
          "2024-04-30T00:00:00",
          "2024-05-01T00:00:00",
          "2024-05-02T00:00:00",
          "2024-05-03T00:00:00",
          "2024-05-06T00:00:00",
          "2024-05-07T00:00:00",
          "2024-05-08T00:00:00",
          "2024-05-09T00:00:00",
          "2024-05-10T00:00:00",
          "2024-05-13T00:00:00",
          "2024-05-14T00:00:00",
          "2024-05-15T00:00:00",
          "2024-05-16T00:00:00",
          "2024-05-17T00:00:00",
          "2024-05-20T00:00:00",
          "2024-05-21T00:00:00",
          "2024-05-22T00:00:00",
          "2024-05-23T00:00:00",
          "2024-05-24T00:00:00",
          "2024-05-28T00:00:00",
          "2024-05-29T00:00:00",
          "2024-05-30T00:00:00",
          "2024-05-31T00:00:00",
          "2024-06-03T00:00:00",
          "2024-06-04T00:00:00",
          "2024-06-05T00:00:00",
          "2024-06-06T00:00:00",
          "2024-06-07T00:00:00",
          "2024-06-10T00:00:00",
          "2024-06-11T00:00:00",
          "2024-06-12T00:00:00",
          "2024-06-13T00:00:00",
          "2024-06-14T00:00:00",
          "2024-06-17T00:00:00",
          "2024-06-18T00:00:00",
          "2024-06-20T00:00:00",
          "2024-06-21T00:00:00",
          "2024-06-24T00:00:00",
          "2024-06-25T00:00:00",
          "2024-06-26T00:00:00",
          "2024-06-27T00:00:00",
          "2024-06-28T00:00:00",
          "2024-07-01T00:00:00",
          "2024-07-02T00:00:00",
          "2024-07-03T00:00:00",
          "2024-07-05T00:00:00",
          "2024-07-08T00:00:00",
          "2024-07-09T00:00:00",
          "2024-07-10T00:00:00",
          "2024-07-11T00:00:00",
          "2024-07-12T00:00:00",
          "2024-07-15T00:00:00",
          "2024-07-16T00:00:00",
          "2024-07-17T00:00:00",
          "2024-07-18T00:00:00",
          "2024-07-19T00:00:00",
          "2024-07-22T00:00:00",
          "2024-07-23T00:00:00",
          "2024-07-24T00:00:00",
          "2024-07-25T00:00:00",
          "2024-07-26T00:00:00",
          "2024-07-29T00:00:00",
          "2024-07-30T00:00:00",
          "2024-07-31T00:00:00",
          "2024-08-01T00:00:00",
          "2024-08-02T00:00:00",
          "2024-08-05T00:00:00",
          "2024-08-06T00:00:00",
          "2024-08-07T00:00:00",
          "2024-08-08T00:00:00",
          "2024-08-09T00:00:00",
          "2024-08-12T00:00:00",
          "2024-08-13T00:00:00",
          "2024-08-14T00:00:00",
          "2024-08-15T00:00:00",
          "2024-08-16T00:00:00",
          "2024-08-19T00:00:00",
          "2024-08-20T00:00:00",
          "2024-08-21T00:00:00",
          "2024-08-22T00:00:00",
          "2024-08-23T00:00:00",
          "2024-08-26T00:00:00",
          "2024-08-27T00:00:00",
          "2024-08-28T00:00:00",
          "2024-08-29T00:00:00",
          "2024-08-30T00:00:00",
          "2024-09-03T00:00:00",
          "2024-09-04T00:00:00",
          "2024-09-05T00:00:00",
          "2024-09-06T00:00:00",
          "2024-09-09T00:00:00",
          "2024-09-10T00:00:00",
          "2024-09-11T00:00:00",
          "2024-09-12T00:00:00",
          "2024-09-13T00:00:00",
          "2024-09-16T00:00:00",
          "2024-09-17T00:00:00",
          "2024-09-18T00:00:00",
          "2024-09-19T00:00:00",
          "2024-09-20T00:00:00",
          "2024-09-23T00:00:00",
          "2024-09-24T00:00:00",
          "2024-09-25T00:00:00",
          "2024-09-26T00:00:00",
          "2024-09-27T00:00:00",
          "2024-09-30T00:00:00",
          "2024-10-01T00:00:00",
          "2024-10-02T00:00:00",
          "2024-10-03T00:00:00",
          "2024-10-04T00:00:00",
          "2024-10-07T00:00:00",
          "2024-10-08T00:00:00",
          "2024-10-09T00:00:00",
          "2024-10-10T00:00:00",
          "2024-10-11T00:00:00",
          "2024-10-14T00:00:00",
          "2024-10-15T00:00:00",
          "2024-10-16T00:00:00",
          "2024-10-17T00:00:00",
          "2024-10-18T00:00:00",
          "2024-10-21T00:00:00",
          "2024-10-22T00:00:00",
          "2024-10-23T00:00:00",
          "2024-10-24T00:00:00",
          "2024-10-25T00:00:00",
          "2024-10-28T00:00:00",
          "2024-10-29T00:00:00",
          "2024-10-30T00:00:00",
          "2024-10-31T00:00:00",
          "2024-11-01T00:00:00",
          "2024-11-04T00:00:00",
          "2024-11-05T00:00:00",
          "2024-11-06T00:00:00",
          "2024-11-07T00:00:00",
          "2024-11-08T00:00:00",
          "2024-11-11T00:00:00",
          "2024-11-12T00:00:00",
          "2024-11-13T00:00:00",
          "2024-11-14T00:00:00",
          "2024-11-15T00:00:00",
          "2024-11-18T00:00:00",
          "2024-11-19T00:00:00",
          "2024-11-20T00:00:00",
          "2024-11-21T00:00:00",
          "2024-11-22T00:00:00",
          "2024-11-25T00:00:00",
          "2024-11-26T00:00:00",
          "2024-11-27T00:00:00",
          "2024-11-29T00:00:00"
         ],
         "y": [
          100,
          99.24473721006105,
          99.27164540836144,
          99.33997234607796,
          99.91508070905898,
          99.4965432597449,
          99.94880399376493,
          99.9893423648764,
          99.67636625392929,
          99.06159988814144,
          98.81117135592254,
          99.34660100154842,
          100.39443607231449,
          100.76035856883185,
          100.50486532954257,
          100.24221521380004,
          100.88582658815852,
          101.0457118295607,
          101.63969114608417,
          101.99461421743025,
          101.15407998922844,
          102.13389884050315,
          102.49073800757115,
          101.76343985789819,
          102.13792782015629,
          102.55155592151257,
          102.68139471054008,
          102.53652751668815,
          102.8697831704652,
          101.4787494627164,
          101.88049777059673,
          102.80546449785346,
          102.4206503332453,
          102.2504596040414,
          102.37888980378145,
          103.59026623373259,
          103.7557754750105,
          103.59058730923196,
          103.33387191159031,
          103.27185255384488,
          103.3974552177358,
          103.63870720503779,
          103.38005499712585,
          102.30717603741046,
          102.50831430184203,
          102.85380189641691,
          102.6717520882854,
          102.79628795293654,
          103.42157730928375,
          103.52188750964521,
          103.15688681052922,
          102.6507475362634,
          102.85135757971217,
          103.70070584823485,
          104.76491576946778,
          105.47880124908727,
          104.66885205151708,
          104.23863159693632,
          104.1556076871689,
          105.42234374757251,
          105.54773926597998,
          104.91001082335151,
          103.85840570478662,
          103.7441338988405,
          102.33843429086333,
          103.15258854174758,
          103.12279066395307,
          103.09858571421174,
          101.97924402255813,
          101.97279144074862,
          100.71112008741538,
          100.05321567469873,
          100.22253639287213,
          100.10147021506879,
          100.1599888141439,
          100.71949912222102,
          101.39186228968259,
          102.09108186907369,
          101.97768007415809,
          100.98306067809074,
          101.39101299320046,
          101.77926577283391,
          100.26748696278113,
          100.49913775692514,
          101.3538925225659,
          102.54710229361837,
          103.01532358713834,
          103.10014966261178,
          103.55654294902668,
          104.43516087436109,
          104.7668007933672,
          104.55116234509403,
          104.88683124375326,
          105.8145530059399,
          105.71215063619557,
          106.06800586221719,
          105.54614424575742,
          105.72172075753103,
          105.18626004008264,
          103.58006431867261,
          103.59154017845584,
          103.01688753553839,
          101.92628727971373,
          101.05114939850131,
          102.57531550846448,
          102.26963091853487,
          102.64151920497564,
          102.89616314778276,
          103.10521436968219,
          102.8740503674243,
          103.05713590297304,
          102.73732399107203,
          102.64396352168038,
          102.47132847577174,
          102.31769902796981,
          102.8186700224235,
          102.96916121615114,
          103.76434094075123,
          103.80561467832896,
          104.4973355912191,
          103.70441375238863,
          103.74588427817567,
          103.84202049704558,
          103.72217647759463,
          103.85649996633886,
          104.2869172091289,
          104.2236756930311,
          104.40363333177973,
          104.3212205011885,
          104.18116943982683,
          105.31968244597387,
          105.40556496341293,
          106.06086970031228,
          106.61985178740659,
          108.58925639950078,
          109.23514637417723,
          107.821761668764,
          106.82086576454807,
          107.16001470732932,
          107.00794920792747,
          105.6710322577304,
          105.88632891595591,
          107.62109983894439,
          107.49009067793538,
          108.02939394410178,
          108.29311085908411,
          106.9811135105463,
          105.36184690913046,
          102.62025572109931,
          103.4008213318419,
          102.77981988700213,
          104.59087213427169,
          104.7262313504332,
          104.35362841207451,
          105.43709250599427,
          106.08073495217529,
          107.55141609831125,
          107.80782077772773,
          108.43560623715052,
          108.27237559619059,
          108.41958353400551,
          107.94840006007217,
          109.17416274384908,
          109.34767815806237,
          109.37414099357332,
          108.95235136016903,
          109.59832419303888,
          110.20293007286341,
          108.54272116664336,
          108.64358030253598,
          108.0623300759706,
          106.97432949596326,
          108.25811362965494,
          108.01251158720049,
          108.34328149517609,
          108.96653046851131,
          109.75404581022366,
          110.35936634196612,
          110.3172122360837,
          110.04390448521757,
          111.4282059647542,
          111.5294068906945,
          111.69191252246233,
          111.91349604611058,
          111.13537475207276,
          111.82570779022376,
          112.19131956851595,
          112.2367880021336,
          111.77760860896629,
          111.88247600996371,
          111.39214193608527,
          112.29671519049616,
          111.24007643668338,
          111.5745128197161,
          112.71896054396404,
          112.56549681254889,
          113.65190237233365,
          114.18579914138196,
          113.32461250848003,
          114.21889063236337,
          114.64670819933609,
          114.7444394384286,
          113.83151822103459,
          113.81372442400608,
          112.72678028596434,
          112.3540116312189,
          111.66473503503347,
          112.38903993247058,
          111.97933723802569,
          111.73669737598459,
          110.73423752336859,
          111.49979544383508,
          110.81680571307244,
          111.94971543389212,
          115.94825505823378,
          115.94669110983371,
          116.63513912408531,
          117.44155649116266,
          116.42830435885882,
          116.55348237450869,
          116.00374933325048,
          115.19274369371469,
          115.04588790322163,
          114.7259620613047,
          115.09591353747521,
          116.3205783501898,
          117.4505258905961,
          118.6173246125085,
          118.94541198647339,
          118.57884733895733,
          119.07888617873547
         ]
        },
        {
         "mode": "lines",
         "name": "Russell 2000",
         "type": "scatter",
         "x": [
          "2024-01-02T00:00:00",
          "2024-01-03T00:00:00",
          "2024-01-04T00:00:00",
          "2024-01-05T00:00:00",
          "2024-01-08T00:00:00",
          "2024-01-09T00:00:00",
          "2024-01-10T00:00:00",
          "2024-01-11T00:00:00",
          "2024-01-12T00:00:00",
          "2024-01-16T00:00:00",
          "2024-01-17T00:00:00",
          "2024-01-18T00:00:00",
          "2024-01-19T00:00:00",
          "2024-01-22T00:00:00",
          "2024-01-23T00:00:00",
          "2024-01-24T00:00:00",
          "2024-01-25T00:00:00",
          "2024-01-26T00:00:00",
          "2024-01-29T00:00:00",
          "2024-01-30T00:00:00",
          "2024-01-31T00:00:00",
          "2024-02-01T00:00:00",
          "2024-02-02T00:00:00",
          "2024-02-05T00:00:00",
          "2024-02-06T00:00:00",
          "2024-02-07T00:00:00",
          "2024-02-08T00:00:00",
          "2024-02-09T00:00:00",
          "2024-02-12T00:00:00",
          "2024-02-13T00:00:00",
          "2024-02-14T00:00:00",
          "2024-02-15T00:00:00",
          "2024-02-16T00:00:00",
          "2024-02-20T00:00:00",
          "2024-02-21T00:00:00",
          "2024-02-22T00:00:00",
          "2024-02-23T00:00:00",
          "2024-02-26T00:00:00",
          "2024-02-27T00:00:00",
          "2024-02-28T00:00:00",
          "2024-02-29T00:00:00",
          "2024-03-01T00:00:00",
          "2024-03-04T00:00:00",
          "2024-03-05T00:00:00",
          "2024-03-06T00:00:00",
          "2024-03-07T00:00:00",
          "2024-03-08T00:00:00",
          "2024-03-11T00:00:00",
          "2024-03-12T00:00:00",
          "2024-03-13T00:00:00",
          "2024-03-14T00:00:00",
          "2024-03-15T00:00:00",
          "2024-03-18T00:00:00",
          "2024-03-19T00:00:00",
          "2024-03-20T00:00:00",
          "2024-03-21T00:00:00",
          "2024-03-22T00:00:00",
          "2024-03-25T00:00:00",
          "2024-03-26T00:00:00",
          "2024-03-27T00:00:00",
          "2024-03-28T00:00:00",
          "2024-04-01T00:00:00",
          "2024-04-02T00:00:00",
          "2024-04-03T00:00:00",
          "2024-04-04T00:00:00",
          "2024-04-05T00:00:00",
          "2024-04-08T00:00:00",
          "2024-04-09T00:00:00",
          "2024-04-10T00:00:00",
          "2024-04-11T00:00:00",
          "2024-04-12T00:00:00",
          "2024-04-15T00:00:00",
          "2024-04-16T00:00:00",
          "2024-04-17T00:00:00",
          "2024-04-18T00:00:00",
          "2024-04-19T00:00:00",
          "2024-04-22T00:00:00",
          "2024-04-23T00:00:00",
          "2024-04-24T00:00:00",
          "2024-04-25T00:00:00",
          "2024-04-26T00:00:00",
          "2024-04-29T00:00:00",
          "2024-04-30T00:00:00",
          "2024-05-01T00:00:00",
          "2024-05-02T00:00:00",
          "2024-05-03T00:00:00",
          "2024-05-06T00:00:00",
          "2024-05-07T00:00:00",
          "2024-05-08T00:00:00",
          "2024-05-09T00:00:00",
          "2024-05-10T00:00:00",
          "2024-05-13T00:00:00",
          "2024-05-14T00:00:00",
          "2024-05-15T00:00:00",
          "2024-05-16T00:00:00",
          "2024-05-17T00:00:00",
          "2024-05-20T00:00:00",
          "2024-05-21T00:00:00",
          "2024-05-22T00:00:00",
          "2024-05-23T00:00:00",
          "2024-05-24T00:00:00",
          "2024-05-28T00:00:00",
          "2024-05-29T00:00:00",
          "2024-05-30T00:00:00",
          "2024-05-31T00:00:00",
          "2024-06-03T00:00:00",
          "2024-06-04T00:00:00",
          "2024-06-05T00:00:00",
          "2024-06-06T00:00:00",
          "2024-06-07T00:00:00",
          "2024-06-10T00:00:00",
          "2024-06-11T00:00:00",
          "2024-06-12T00:00:00",
          "2024-06-13T00:00:00",
          "2024-06-14T00:00:00",
          "2024-06-17T00:00:00",
          "2024-06-18T00:00:00",
          "2024-06-20T00:00:00",
          "2024-06-21T00:00:00",
          "2024-06-24T00:00:00",
          "2024-06-25T00:00:00",
          "2024-06-26T00:00:00",
          "2024-06-27T00:00:00",
          "2024-06-28T00:00:00",
          "2024-07-01T00:00:00",
          "2024-07-02T00:00:00",
          "2024-07-03T00:00:00",
          "2024-07-05T00:00:00",
          "2024-07-08T00:00:00",
          "2024-07-09T00:00:00",
          "2024-07-10T00:00:00",
          "2024-07-11T00:00:00",
          "2024-07-12T00:00:00",
          "2024-07-15T00:00:00",
          "2024-07-16T00:00:00",
          "2024-07-17T00:00:00",
          "2024-07-18T00:00:00",
          "2024-07-19T00:00:00",
          "2024-07-22T00:00:00",
          "2024-07-23T00:00:00",
          "2024-07-24T00:00:00",
          "2024-07-25T00:00:00",
          "2024-07-26T00:00:00",
          "2024-07-29T00:00:00",
          "2024-07-30T00:00:00",
          "2024-07-31T00:00:00",
          "2024-08-01T00:00:00",
          "2024-08-02T00:00:00",
          "2024-08-05T00:00:00",
          "2024-08-06T00:00:00",
          "2024-08-07T00:00:00",
          "2024-08-08T00:00:00",
          "2024-08-09T00:00:00",
          "2024-08-12T00:00:00",
          "2024-08-13T00:00:00",
          "2024-08-14T00:00:00",
          "2024-08-15T00:00:00",
          "2024-08-16T00:00:00",
          "2024-08-19T00:00:00",
          "2024-08-20T00:00:00",
          "2024-08-21T00:00:00",
          "2024-08-22T00:00:00",
          "2024-08-23T00:00:00",
          "2024-08-26T00:00:00",
          "2024-08-27T00:00:00",
          "2024-08-28T00:00:00",
          "2024-08-29T00:00:00",
          "2024-08-30T00:00:00",
          "2024-09-03T00:00:00",
          "2024-09-04T00:00:00",
          "2024-09-05T00:00:00",
          "2024-09-06T00:00:00",
          "2024-09-09T00:00:00",
          "2024-09-10T00:00:00",
          "2024-09-11T00:00:00",
          "2024-09-12T00:00:00",
          "2024-09-13T00:00:00",
          "2024-09-16T00:00:00",
          "2024-09-17T00:00:00",
          "2024-09-18T00:00:00",
          "2024-09-19T00:00:00",
          "2024-09-20T00:00:00",
          "2024-09-23T00:00:00",
          "2024-09-24T00:00:00",
          "2024-09-25T00:00:00",
          "2024-09-26T00:00:00",
          "2024-09-27T00:00:00",
          "2024-09-30T00:00:00",
          "2024-10-01T00:00:00",
          "2024-10-02T00:00:00",
          "2024-10-03T00:00:00",
          "2024-10-04T00:00:00",
          "2024-10-07T00:00:00",
          "2024-10-08T00:00:00",
          "2024-10-09T00:00:00",
          "2024-10-10T00:00:00",
          "2024-10-11T00:00:00",
          "2024-10-14T00:00:00",
          "2024-10-15T00:00:00",
          "2024-10-16T00:00:00",
          "2024-10-17T00:00:00",
          "2024-10-18T00:00:00",
          "2024-10-21T00:00:00",
          "2024-10-22T00:00:00",
          "2024-10-23T00:00:00",
          "2024-10-24T00:00:00",
          "2024-10-25T00:00:00",
          "2024-10-28T00:00:00",
          "2024-10-29T00:00:00",
          "2024-10-30T00:00:00",
          "2024-10-31T00:00:00",
          "2024-11-01T00:00:00",
          "2024-11-04T00:00:00",
          "2024-11-05T00:00:00",
          "2024-11-06T00:00:00",
          "2024-11-07T00:00:00",
          "2024-11-08T00:00:00",
          "2024-11-11T00:00:00",
          "2024-11-12T00:00:00",
          "2024-11-13T00:00:00",
          "2024-11-14T00:00:00",
          "2024-11-15T00:00:00",
          "2024-11-18T00:00:00",
          "2024-11-19T00:00:00",
          "2024-11-20T00:00:00",
          "2024-11-21T00:00:00",
          "2024-11-22T00:00:00",
          "2024-11-25T00:00:00",
          "2024-11-26T00:00:00",
          "2024-11-27T00:00:00",
          "2024-11-29T00:00:00"
         ],
         "y": [
          100,
          97.33703813811726,
          97.26400700400234,
          96.93660409956833,
          98.81806247588523,
          97.77623168323724,
          97.88652434268037,
          97.15122781699012,
          96.92765866502096,
          95.75218611258585,
          95.0501787328146,
          95.57084547638168,
          96.60125037161458,
          98.53835238316687,
          98.18511385081975,
          97.46919404606432,
          98.16573712988492,
          98.28745568674313,
          99.93143855080807,
          99.1772626096968,
          96.74780994535826,
          98.09320330128382,
          97.51241717285697,
          96.24602261721218,
          97.06031187848183,
          96.89785065769867,
          98.35551983042124,
          99.86039057404703,
          101.6126768754998,
          97.58396245513183,
          99.96521893753952,
          102.4185180077359,
          101.60671527403535,
          99.5697518894274,
          99.10273955904042,
          100.05166519112483,
          100.19325777443169,
          100.80335460466698,
          102.15173179367547,
          101.36675323421429,
          102.08863464043417,
          103.1592727646754,
          103.05594238242574,
          102.03248763498358,
          102.74692158789892,
          103.57412259842374,
          103.47326661434042,
          102.63711410456686,
          102.6172461428196,
          102.92676424286024,
          100.91315602329767,
          101.31756244125579,
          100.59320057216819,
          101.13821102710692,
          103.08425240850518,
          104.26073170137072,
          102.94117397335825,
          103.04848279971846,
          102.84975466463476,
          105.04521295531808,
          105.55196727390094,
          104.4733722614386,
          102.59538895901706,
          103.14983608931558,
          102.03845530114941,
          102.51738476976394,
          103.0261283104021,
          103.37837829642295,
          100.77454120837234,
          101.48052096755276,
          99.52156177219793,
          98.15728900085136,
          97.74840683326886,
          96.77811525819435,
          96.53020239485355,
          96.76371159239773,
          97.74790952775506,
          99.49522883877101,
          99.13702331598707,
          98.42607050166846,
          99.46343160939345,
          100.16047199872786,
          98.06786497888453,
          98.38185276384817,
          100.16444437813705,
          101.13870833262072,
          102.37827264932477,
          102.57600617338083,
          102.10352954704322,
          103.02214986629153,
          102.33406097620588,
          102.45032130181484,
          103.62131810462556,
          104.80226101771268,
          104.14596329230321,
          104.11963035887628,
          104.45647600337149,
          104.25079772049708,
          103.42358458056951,
          101.7691704301171,
          102.8254109532631,
          102.68531635119909,
          101.16205743296473,
          102.17607550504711,
          102.84826274809329,
          102.32908792106767,
          101.05027285698014,
          102.53726486091396,
          101.8203443804295,
          100.68312796435023,
          100.9345159015864,
          100.57382385123337,
          102.20091652193257,
          101.2971971739947,
          99.67011056799689,
          100.45756959032579,
          100.61754428353984,
          100.22803883689215,
          100.45856420135341,
          100.89477391339048,
          100.47445978369151,
          100.26430575119272,
          101.26887501851249,
          101.73340082133038,
          100.85800362887471,
          101.04679778308478,
          101.18342337595485,
          100.69206733419622,
          101.28527397106579,
          100.82819562155245,
          101.93511278949701,
          105.5763109852726,
          106.73042365941899,
          108.65560246804236,
          112.4637255048227,
          111.27135669432049,
          109.21551995899293,
          108.52295531928287,
          110.32640344164525,
          111.45021686765692,
          109.07045230179071,
          110.44216646174041,
          112.28487746088905,
          111.05574443057245,
          111.44375189597726,
          112.00715052552457,
          108.61287058206214,
          104.79481356440816,
          101.30961768243745,
          102.55862473920267,
          101.10840301978463,
          103.55822095138427,
          103.38433383318602,
          102.44833207975957,
          104.09329742544935,
          103.55326002564884,
          106.09449120127057,
          106.4149378932125,
          107.68580819848165,
          106.42835301268288,
          107.83783813287738,
          106.81786452403192,
          110.22952590167252,
          110.19077245980287,
          109.44952039734954,
          108.73608105546182,
          109.4485257863219,
          110.17636272930484,
          106.77712186010699,
          106.57889103053711,
          105.9245825271829,
          103.90549788226693,
          104.22197825950106,
          104.20508200143395,
          104.52355160072335,
          105.79440977658973,
          108.43054139953172,
          108.76241398888872,
          109.57273087074921,
          109.61546275672941,
          111.91921235539782,
          110.68610088097066,
          110.30802739643946,
          110.49234580102517,
          109.17378268404035,
          109.79084179146912,
          110.52761810429807,
          110.78944339262307,
          109.15292011126543,
          109.05256143269595,
          108.31428107392276,
          109.93640675418517,
          108.95717580926465,
          109.05106951615448,
          109.3297910625466,
          108.72515246356053,
          111.0100287115093,
          111.71700308171737,
          111.77563661473707,
          113.60690958706783,
          113.31727157817721,
          113.0807846122515,
          111.27334591637576,
          110.86695027636237,
          109.98807801001136,
          110.24045449357378,
          109.69743326069035,
          111.48996492055423,
          111.19286732895632,
          110.94197063253259,
          109.13403463114304,
          109.8037474760229,
          110.24592485422579,
          112.32313359724489,
          118.88512836971488,
          118.37688213459052,
          119.21899018112715,
          120.97475762117666,
          118.83197732674998,
          117.71512617793178,
          116.10392908957066,
          114.45946104939469,
          114.583666133822,
          115.5022864530703,
          115.5370614508294,
          117.44932244549622,
          119.5682563340651,
          121.32501838514224,
          120.4446542022498,
          120.53805060362579,
          120.96233711273395
         ]
        }
       ],
       "layout": {
        "hovermode": "x unified",
        "template": {
         "data": {
          "bar": [
           {
            "error_x": {
             "color": "#2a3f5f"
            },
            "error_y": {
             "color": "#2a3f5f"
            },
            "marker": {
             "line": {
              "color": "#E5ECF6",
              "width": 0.5
             },
             "pattern": {
              "fillmode": "overlay",
              "size": 10,
              "solidity": 0.2
             }
            },
            "type": "bar"
           }
          ],
          "barpolar": [
           {
            "marker": {
             "line": {
              "color": "#E5ECF6",
              "width": 0.5
             },
             "pattern": {
              "fillmode": "overlay",
              "size": 10,
              "solidity": 0.2
             }
            },
            "type": "barpolar"
           }
          ],
          "carpet": [
           {
            "aaxis": {
             "endlinecolor": "#2a3f5f",
             "gridcolor": "white",
             "linecolor": "white",
             "minorgridcolor": "white",
             "startlinecolor": "#2a3f5f"
            },
            "baxis": {
             "endlinecolor": "#2a3f5f",
             "gridcolor": "white",
             "linecolor": "white",
             "minorgridcolor": "white",
             "startlinecolor": "#2a3f5f"
            },
            "type": "carpet"
           }
          ],
          "choropleth": [
           {
            "colorbar": {
             "outlinewidth": 0,
             "ticks": ""
            },
            "type": "choropleth"
           }
          ],
          "contour": [
           {
            "colorbar": {
             "outlinewidth": 0,
             "ticks": ""
            },
            "colorscale": [
             [
              0,
              "#0d0887"
             ],
             [
              0.1111111111111111,
              "#46039f"
             ],
             [
              0.2222222222222222,
              "#7201a8"
             ],
             [
              0.3333333333333333,
              "#9c179e"
             ],
             [
              0.4444444444444444,
              "#bd3786"
             ],
             [
              0.5555555555555556,
              "#d8576b"
             ],
             [
              0.6666666666666666,
              "#ed7953"
             ],
             [
              0.7777777777777778,
              "#fb9f3a"
             ],
             [
              0.8888888888888888,
              "#fdca26"
             ],
             [
              1,
              "#f0f921"
             ]
            ],
            "type": "contour"
           }
          ],
          "contourcarpet": [
           {
            "colorbar": {
             "outlinewidth": 0,
             "ticks": ""
            },
            "type": "contourcarpet"
           }
          ],
          "heatmap": [
           {
            "colorbar": {
             "outlinewidth": 0,
             "ticks": ""
            },
            "colorscale": [
             [
              0,
              "#0d0887"
             ],
             [
              0.1111111111111111,
              "#46039f"
             ],
             [
              0.2222222222222222,
              "#7201a8"
             ],
             [
              0.3333333333333333,
              "#9c179e"
             ],
             [
              0.4444444444444444,
              "#bd3786"
             ],
             [
              0.5555555555555556,
              "#d8576b"
             ],
             [
              0.6666666666666666,
              "#ed7953"
             ],
             [
              0.7777777777777778,
              "#fb9f3a"
             ],
             [
              0.8888888888888888,
              "#fdca26"
             ],
             [
              1,
              "#f0f921"
             ]
            ],
            "type": "heatmap"
           }
          ],
          "heatmapgl": [
           {
            "colorbar": {
             "outlinewidth": 0,
             "ticks": ""
            },
            "colorscale": [
             [
              0,
              "#0d0887"
             ],
             [
              0.1111111111111111,
              "#46039f"
             ],
             [
              0.2222222222222222,
              "#7201a8"
             ],
             [
              0.3333333333333333,
              "#9c179e"
             ],
             [
              0.4444444444444444,
              "#bd3786"
             ],
             [
              0.5555555555555556,
              "#d8576b"
             ],
             [
              0.6666666666666666,
              "#ed7953"
             ],
             [
              0.7777777777777778,
              "#fb9f3a"
             ],
             [
              0.8888888888888888,
              "#fdca26"
             ],
             [
              1,
              "#f0f921"
             ]
            ],
            "type": "heatmapgl"
           }
          ],
          "histogram": [
           {
            "marker": {
             "pattern": {
              "fillmode": "overlay",
              "size": 10,
              "solidity": 0.2
             }
            },
            "type": "histogram"
           }
          ],
          "histogram2d": [
           {
            "colorbar": {
             "outlinewidth": 0,
             "ticks": ""
            },
            "colorscale": [
             [
              0,
              "#0d0887"
             ],
             [
              0.1111111111111111,
              "#46039f"
             ],
             [
              0.2222222222222222,
              "#7201a8"
             ],
             [
              0.3333333333333333,
              "#9c179e"
             ],
             [
              0.4444444444444444,
              "#bd3786"
             ],
             [
              0.5555555555555556,
              "#d8576b"
             ],
             [
              0.6666666666666666,
              "#ed7953"
             ],
             [
              0.7777777777777778,
              "#fb9f3a"
             ],
             [
              0.8888888888888888,
              "#fdca26"
             ],
             [
              1,
              "#f0f921"
             ]
            ],
            "type": "histogram2d"
           }
          ],
          "histogram2dcontour": [
           {
            "colorbar": {
             "outlinewidth": 0,
             "ticks": ""
            },
            "colorscale": [
             [
              0,
              "#0d0887"
             ],
             [
              0.1111111111111111,
              "#46039f"
             ],
             [
              0.2222222222222222,
              "#7201a8"
             ],
             [
              0.3333333333333333,
              "#9c179e"
             ],
             [
              0.4444444444444444,
              "#bd3786"
             ],
             [
              0.5555555555555556,
              "#d8576b"
             ],
             [
              0.6666666666666666,
              "#ed7953"
             ],
             [
              0.7777777777777778,
              "#fb9f3a"
             ],
             [
              0.8888888888888888,
              "#fdca26"
             ],
             [
              1,
              "#f0f921"
             ]
            ],
            "type": "histogram2dcontour"
           }
          ],
          "mesh3d": [
           {
            "colorbar": {
             "outlinewidth": 0,
             "ticks": ""
            },
            "type": "mesh3d"
           }
          ],
          "parcoords": [
           {
            "line": {
             "colorbar": {
              "outlinewidth": 0,
              "ticks": ""
             }
            },
            "type": "parcoords"
           }
          ],
          "pie": [
           {
            "automargin": true,
            "type": "pie"
           }
          ],
          "scatter": [
           {
            "fillpattern": {
             "fillmode": "overlay",
             "size": 10,
             "solidity": 0.2
            },
            "type": "scatter"
           }
          ],
          "scatter3d": [
           {
            "line": {
             "colorbar": {
              "outlinewidth": 0,
              "ticks": ""
             }
            },
            "marker": {
             "colorbar": {
              "outlinewidth": 0,
              "ticks": ""
             }
            },
            "type": "scatter3d"
           }
          ],
          "scattercarpet": [
           {
            "marker": {
             "colorbar": {
              "outlinewidth": 0,
              "ticks": ""
             }
            },
            "type": "scattercarpet"
           }
          ],
          "scattergeo": [
           {
            "marker": {
             "colorbar": {
              "outlinewidth": 0,
              "ticks": ""
             }
            },
            "type": "scattergeo"
           }
          ],
          "scattergl": [
           {
            "marker": {
             "colorbar": {
              "outlinewidth": 0,
              "ticks": ""
             }
            },
            "type": "scattergl"
           }
          ],
          "scattermapbox": [
           {
            "marker": {
             "colorbar": {
              "outlinewidth": 0,
              "ticks": ""
             }
            },
            "type": "scattermapbox"
           }
          ],
          "scatterpolar": [
           {
            "marker": {
             "colorbar": {
              "outlinewidth": 0,
              "ticks": ""
             }
            },
            "type": "scatterpolar"
           }
          ],
          "scatterpolargl": [
           {
            "marker": {
             "colorbar": {
              "outlinewidth": 0,
              "ticks": ""
             }
            },
            "type": "scatterpolargl"
           }
          ],
          "scatterternary": [
           {
            "marker": {
             "colorbar": {
              "outlinewidth": 0,
              "ticks": ""
             }
            },
            "type": "scatterternary"
           }
          ],
          "surface": [
           {
            "colorbar": {
             "outlinewidth": 0,
             "ticks": ""
            },
            "colorscale": [
             [
              0,
              "#0d0887"
             ],
             [
              0.1111111111111111,
              "#46039f"
             ],
             [
              0.2222222222222222,
              "#7201a8"
             ],
             [
              0.3333333333333333,
              "#9c179e"
             ],
             [
              0.4444444444444444,
              "#bd3786"
             ],
             [
              0.5555555555555556,
              "#d8576b"
             ],
             [
              0.6666666666666666,
              "#ed7953"
             ],
             [
              0.7777777777777778,
              "#fb9f3a"
             ],
             [
              0.8888888888888888,
              "#fdca26"
             ],
             [
              1,
              "#f0f921"
             ]
            ],
            "type": "surface"
           }
          ],
          "table": [
           {
            "cells": {
             "fill": {
              "color": "#EBF0F8"
             },
             "line": {
              "color": "white"
             }
            },
            "header": {
             "fill": {
              "color": "#C8D4E3"
             },
             "line": {
              "color": "white"
             }
            },
            "type": "table"
           }
          ]
         },
         "layout": {
          "annotationdefaults": {
           "arrowcolor": "#2a3f5f",
           "arrowhead": 0,
           "arrowwidth": 1
          },
          "autotypenumbers": "strict",
          "coloraxis": {
           "colorbar": {
            "outlinewidth": 0,
            "ticks": ""
           }
          },
          "colorscale": {
           "diverging": [
            [
             0,
             "#8e0152"
            ],
            [
             0.1,
             "#c51b7d"
            ],
            [
             0.2,
             "#de77ae"
            ],
            [
             0.3,
             "#f1b6da"
            ],
            [
             0.4,
             "#fde0ef"
            ],
            [
             0.5,
             "#f7f7f7"
            ],
            [
             0.6,
             "#e6f5d0"
            ],
            [
             0.7,
             "#b8e186"
            ],
            [
             0.8,
             "#7fbc41"
            ],
            [
             0.9,
             "#4d9221"
            ],
            [
             1,
             "#276419"
            ]
           ],
           "sequential": [
            [
             0,
             "#0d0887"
            ],
            [
             0.1111111111111111,
             "#46039f"
            ],
            [
             0.2222222222222222,
             "#7201a8"
            ],
            [
             0.3333333333333333,
             "#9c179e"
            ],
            [
             0.4444444444444444,
             "#bd3786"
            ],
            [
             0.5555555555555556,
             "#d8576b"
            ],
            [
             0.6666666666666666,
             "#ed7953"
            ],
            [
             0.7777777777777778,
             "#fb9f3a"
            ],
            [
             0.8888888888888888,
             "#fdca26"
            ],
            [
             1,
             "#f0f921"
            ]
           ],
           "sequentialminus": [
            [
             0,
             "#0d0887"
            ],
            [
             0.1111111111111111,
             "#46039f"
            ],
            [
             0.2222222222222222,
             "#7201a8"
            ],
            [
             0.3333333333333333,
             "#9c179e"
            ],
            [
             0.4444444444444444,
             "#bd3786"
            ],
            [
             0.5555555555555556,
             "#d8576b"
            ],
            [
             0.6666666666666666,
             "#ed7953"
            ],
            [
             0.7777777777777778,
             "#fb9f3a"
            ],
            [
             0.8888888888888888,
             "#fdca26"
            ],
            [
             1,
             "#f0f921"
            ]
           ]
          },
          "colorway": [
           "#636efa",
           "#EF553B",
           "#00cc96",
           "#ab63fa",
           "#FFA15A",
           "#19d3f3",
           "#FF6692",
           "#B6E880",
           "#FF97FF",
           "#FECB52"
          ],
          "font": {
           "color": "#2a3f5f"
          },
          "geo": {
           "bgcolor": "white",
           "lakecolor": "white",
           "landcolor": "#E5ECF6",
           "showlakes": true,
           "showland": true,
           "subunitcolor": "white"
          },
          "hoverlabel": {
           "align": "left"
          },
          "hovermode": "closest",
          "mapbox": {
           "style": "light"
          },
          "paper_bgcolor": "white",
          "plot_bgcolor": "#E5ECF6",
          "polar": {
           "angularaxis": {
            "gridcolor": "white",
            "linecolor": "white",
            "ticks": ""
           },
           "bgcolor": "#E5ECF6",
           "radialaxis": {
            "gridcolor": "white",
            "linecolor": "white",
            "ticks": ""
           }
          },
          "scene": {
           "xaxis": {
            "backgroundcolor": "#E5ECF6",
            "gridcolor": "white",
            "gridwidth": 2,
            "linecolor": "white",
            "showbackground": true,
            "ticks": "",
            "zerolinecolor": "white"
           },
           "yaxis": {
            "backgroundcolor": "#E5ECF6",
            "gridcolor": "white",
            "gridwidth": 2,
            "linecolor": "white",
            "showbackground": true,
            "ticks": "",
            "zerolinecolor": "white"
           },
           "zaxis": {
            "backgroundcolor": "#E5ECF6",
            "gridcolor": "white",
            "gridwidth": 2,
            "linecolor": "white",
            "showbackground": true,
            "ticks": "",
            "zerolinecolor": "white"
           }
          },
          "shapedefaults": {
           "line": {
            "color": "#2a3f5f"
           }
          },
          "ternary": {
           "aaxis": {
            "gridcolor": "white",
            "linecolor": "white",
            "ticks": ""
           },
           "baxis": {
            "gridcolor": "white",
            "linecolor": "white",
            "ticks": ""
           },
           "bgcolor": "#E5ECF6",
           "caxis": {
            "gridcolor": "white",
            "linecolor": "white",
            "ticks": ""
           }
          },
          "title": {
           "x": 0.05
          },
          "xaxis": {
           "automargin": true,
           "gridcolor": "white",
           "linecolor": "white",
           "ticks": "",
           "title": {
            "standoff": 15
           },
           "zerolinecolor": "white",
           "zerolinewidth": 2
          },
          "yaxis": {
           "automargin": true,
           "gridcolor": "white",
           "linecolor": "white",
           "ticks": "",
           "title": {
            "standoff": 15
           },
           "zerolinecolor": "white",
           "zerolinewidth": 2
          }
         }
        },
        "title": {
         "text": "Índices de Estados Unidos (Base 100)"
        },
        "xaxis": {
         "title": {
          "text": "Fecha"
         }
        },
        "yaxis": {
         "title": {
          "text": "Índice (Base 100)"
         }
        }
       }
      }
     },
     "metadata": {},
     "output_type": "display_data"
    },
    {
     "data": {
      "application/vnd.plotly.v1+json": {
       "config": {
        "plotlyServerURL": "https://plot.ly"
       },
       "data": [
        {
         "mode": "lines",
         "name": "FTSE 100",
         "type": "scatter",
         "x": [
          "2024-01-02T00:00:00",
          "2024-01-03T00:00:00",
          "2024-01-04T00:00:00",
          "2024-01-05T00:00:00",
          "2024-01-08T00:00:00",
          "2024-01-09T00:00:00",
          "2024-01-10T00:00:00",
          "2024-01-11T00:00:00",
          "2024-01-12T00:00:00",
          "2024-01-15T00:00:00",
          "2024-01-16T00:00:00",
          "2024-01-17T00:00:00",
          "2024-01-18T00:00:00",
          "2024-01-19T00:00:00",
          "2024-01-22T00:00:00",
          "2024-01-23T00:00:00",
          "2024-01-24T00:00:00",
          "2024-01-25T00:00:00",
          "2024-01-26T00:00:00",
          "2024-01-29T00:00:00",
          "2024-01-30T00:00:00",
          "2024-01-31T00:00:00",
          "2024-02-01T00:00:00",
          "2024-02-02T00:00:00",
          "2024-02-05T00:00:00",
          "2024-02-06T00:00:00",
          "2024-02-07T00:00:00",
          "2024-02-08T00:00:00",
          "2024-02-09T00:00:00",
          "2024-02-12T00:00:00",
          "2024-02-13T00:00:00",
          "2024-02-14T00:00:00",
          "2024-02-15T00:00:00",
          "2024-02-16T00:00:00",
          "2024-02-19T00:00:00",
          "2024-02-20T00:00:00",
          "2024-02-21T00:00:00",
          "2024-02-22T00:00:00",
          "2024-02-23T00:00:00",
          "2024-02-26T00:00:00",
          "2024-02-27T00:00:00",
          "2024-02-28T00:00:00",
          "2024-02-29T00:00:00",
          "2024-03-01T00:00:00",
          "2024-03-04T00:00:00",
          "2024-03-05T00:00:00",
          "2024-03-06T00:00:00",
          "2024-03-07T00:00:00",
          "2024-03-08T00:00:00",
          "2024-03-11T00:00:00",
          "2024-03-12T00:00:00",
          "2024-03-13T00:00:00",
          "2024-03-14T00:00:00",
          "2024-03-15T00:00:00",
          "2024-03-18T00:00:00",
          "2024-03-19T00:00:00",
          "2024-03-20T00:00:00",
          "2024-03-21T00:00:00",
          "2024-03-22T00:00:00",
          "2024-03-25T00:00:00",
          "2024-03-26T00:00:00",
          "2024-03-27T00:00:00",
          "2024-03-28T00:00:00",
          "2024-04-02T00:00:00",
          "2024-04-03T00:00:00",
          "2024-04-04T00:00:00",
          "2024-04-05T00:00:00",
          "2024-04-08T00:00:00",
          "2024-04-09T00:00:00",
          "2024-04-10T00:00:00",
          "2024-04-11T00:00:00",
          "2024-04-12T00:00:00",
          "2024-04-15T00:00:00",
          "2024-04-16T00:00:00",
          "2024-04-17T00:00:00",
          "2024-04-18T00:00:00",
          "2024-04-19T00:00:00",
          "2024-04-22T00:00:00",
          "2024-04-23T00:00:00",
          "2024-04-24T00:00:00",
          "2024-04-25T00:00:00",
          "2024-04-26T00:00:00",
          "2024-04-29T00:00:00",
          "2024-04-30T00:00:00",
          "2024-05-01T00:00:00",
          "2024-05-02T00:00:00",
          "2024-05-03T00:00:00",
          "2024-05-06T00:00:00",
          "2024-05-07T00:00:00",
          "2024-05-08T00:00:00",
          "2024-05-09T00:00:00",
          "2024-05-10T00:00:00",
          "2024-05-13T00:00:00",
          "2024-05-14T00:00:00",
          "2024-05-15T00:00:00",
          "2024-05-16T00:00:00",
          "2024-05-17T00:00:00",
          "2024-05-20T00:00:00",
          "2024-05-21T00:00:00",
          "2024-05-22T00:00:00",
          "2024-05-23T00:00:00",
          "2024-05-24T00:00:00",
          "2024-05-27T00:00:00",
          "2024-05-28T00:00:00",
          "2024-05-29T00:00:00",
          "2024-05-30T00:00:00",
          "2024-05-31T00:00:00",
          "2024-06-03T00:00:00",
          "2024-06-04T00:00:00",
          "2024-06-05T00:00:00",
          "2024-06-06T00:00:00",
          "2024-06-07T00:00:00",
          "2024-06-10T00:00:00",
          "2024-06-11T00:00:00",
          "2024-06-12T00:00:00",
          "2024-06-13T00:00:00",
          "2024-06-14T00:00:00",
          "2024-06-17T00:00:00",
          "2024-06-18T00:00:00",
          "2024-06-19T00:00:00",
          "2024-06-20T00:00:00",
          "2024-06-21T00:00:00",
          "2024-06-24T00:00:00",
          "2024-06-25T00:00:00",
          "2024-06-26T00:00:00",
          "2024-06-27T00:00:00",
          "2024-06-28T00:00:00",
          "2024-07-01T00:00:00",
          "2024-07-02T00:00:00",
          "2024-07-03T00:00:00",
          "2024-07-04T00:00:00",
          "2024-07-05T00:00:00",
          "2024-07-08T00:00:00",
          "2024-07-09T00:00:00",
          "2024-07-10T00:00:00",
          "2024-07-11T00:00:00",
          "2024-07-12T00:00:00",
          "2024-07-15T00:00:00",
          "2024-07-16T00:00:00",
          "2024-07-17T00:00:00",
          "2024-07-18T00:00:00",
          "2024-07-19T00:00:00",
          "2024-07-22T00:00:00",
          "2024-07-23T00:00:00",
          "2024-07-24T00:00:00",
          "2024-07-25T00:00:00",
          "2024-07-26T00:00:00",
          "2024-07-29T00:00:00",
          "2024-07-30T00:00:00",
          "2024-07-31T00:00:00",
          "2024-08-01T00:00:00",
          "2024-08-02T00:00:00",
          "2024-08-05T00:00:00",
          "2024-08-06T00:00:00",
          "2024-08-07T00:00:00",
          "2024-08-08T00:00:00",
          "2024-08-09T00:00:00",
          "2024-08-12T00:00:00",
          "2024-08-13T00:00:00",
          "2024-08-14T00:00:00",
          "2024-08-15T00:00:00",
          "2024-08-16T00:00:00",
          "2024-08-19T00:00:00",
          "2024-08-20T00:00:00",
          "2024-08-21T00:00:00",
          "2024-08-22T00:00:00",
          "2024-08-23T00:00:00",
          "2024-08-26T00:00:00",
          "2024-08-27T00:00:00",
          "2024-08-28T00:00:00",
          "2024-08-29T00:00:00",
          "2024-08-30T00:00:00",
          "2024-09-02T00:00:00",
          "2024-09-03T00:00:00",
          "2024-09-04T00:00:00",
          "2024-09-05T00:00:00",
          "2024-09-06T00:00:00",
          "2024-09-09T00:00:00",
          "2024-09-10T00:00:00",
          "2024-09-11T00:00:00",
          "2024-09-12T00:00:00",
          "2024-09-13T00:00:00",
          "2024-09-16T00:00:00",
          "2024-09-17T00:00:00",
          "2024-09-18T00:00:00",
          "2024-09-19T00:00:00",
          "2024-09-20T00:00:00",
          "2024-09-23T00:00:00",
          "2024-09-24T00:00:00",
          "2024-09-25T00:00:00",
          "2024-09-26T00:00:00",
          "2024-09-27T00:00:00",
          "2024-09-30T00:00:00",
          "2024-10-01T00:00:00",
          "2024-10-02T00:00:00",
          "2024-10-03T00:00:00",
          "2024-10-04T00:00:00",
          "2024-10-07T00:00:00",
          "2024-10-08T00:00:00",
          "2024-10-09T00:00:00",
          "2024-10-10T00:00:00",
          "2024-10-11T00:00:00",
          "2024-10-14T00:00:00",
          "2024-10-15T00:00:00",
          "2024-10-16T00:00:00",
          "2024-10-17T00:00:00",
          "2024-10-18T00:00:00",
          "2024-10-21T00:00:00",
          "2024-10-22T00:00:00",
          "2024-10-23T00:00:00",
          "2024-10-24T00:00:00",
          "2024-10-25T00:00:00",
          "2024-10-28T00:00:00",
          "2024-10-29T00:00:00",
          "2024-10-30T00:00:00",
          "2024-10-31T00:00:00",
          "2024-11-01T00:00:00",
          "2024-11-04T00:00:00",
          "2024-11-05T00:00:00",
          "2024-11-06T00:00:00",
          "2024-11-07T00:00:00",
          "2024-11-08T00:00:00",
          "2024-11-11T00:00:00",
          "2024-11-12T00:00:00",
          "2024-11-13T00:00:00",
          "2024-11-14T00:00:00",
          "2024-11-15T00:00:00",
          "2024-11-18T00:00:00",
          "2024-11-19T00:00:00",
          "2024-11-20T00:00:00",
          "2024-11-21T00:00:00",
          "2024-11-22T00:00:00",
          "2024-11-25T00:00:00",
          "2024-11-26T00:00:00",
          "2024-11-27T00:00:00",
          "2024-11-28T00:00:00",
          "2024-11-29T00:00:00"
         ],
         "y": [
          100,
          99.49232409101211,
          100.02072262716118,
          99.58686910129185,
          99.64644428300848,
          99.51434306805672,
          99.09732311969825,
          98.12342287970279,
          98.74894647858254,
          98.36042093302791,
          97.88641850271968,
          96.4359231326491,
          96.60169782628051,
          96.6379576810691,
          96.97209344444084,
          96.94619174140388,
          97.49012750518034,
          97.51602920821732,
          98.88104769353428,
          98.84996691462152,
          99.2851104667163,
          98.82276886170109,
          98.71398297367739,
          98.62720973904034,
          98.59353626036068,
          99.47549051350126,
          98.79945353477304,
          98.3681927086706,
          98.07161947362883,
          98.08586667503076,
          97.29067933286926,
          98.01722336778799,
          98.39409441170757,
          99.87308418458201,
          100.0906559606294,
          99.97021557097067,
          99.23589976040925,
          99.52081849381597,
          99.8031445274558,
          99.51822579404909,
          99.50139221653825,
          98.75024282846597,
          98.81499708605841,
          99.494916790779,
          98.94838832723563,
          99.02480341012108,
          99.45347153645665,
          99.62442530596387,
          99.19963990562067,
          99.3226729950463,
          100.34060486547303,
          100.65661070145049,
          100.28103600741436,
          100.07640875922748,
          100.01424720140193,
          100.2175717760474,
          100.20591727441234,
          102.0863834443599,
          102.71190704323965,
          102.53966324750697,
          102.71320339312308,
          102.72615424464158,
          102.99294305065403,
          102.76630314908049,
          102.79608757810983,
          103.29469536157158,
          102.45677906252024,
          102.87508903710419,
          102.76241409943016,
          103.1043216384446,
          102.6199547327268,
          103.54982966594896,
          103.1600077705109,
          101.2808379504468,
          101.63828271708866,
          102.01515376100822,
          102.25862724009261,
          103.91633623445897,
          104.18700776646376,
          104.13002528451403,
          104.62863306797578,
          105.41733866072008,
          105.51058732111636,
          105.47303111644435,
          105.17645788140257,
          105.83695130884543,
          106.37181894709578,
          106.37181894709578,
          107.66949679871138,
          108.19270361166873,
          108.54627197597617,
          109.22488900715534,
          108.98141552807097,
          109.15106662403677,
          109.3802992253772,
          109.2883532385223,
          109.05005251165576,
          109.10056589150423,
          109.0008418053487,
          108.40250993573139,
          107.99974351243281,
          107.71999753124393,
          107.71999753124393,
          106.8989211333614,
          105.97811432566535,
          106.59974887489479,
          107.17348171501651,
          107.01029339749401,
          106.61140970018779,
          106.80567247296511,
          107.30168755665999,
          106.78495616946189,
          106.56608171987307,
          105.52094547286796,
          106.39772065013275,
          105.72686907093829,
          105.50929097123291,
          105.44842576329081,
          106.08430751392217,
          106.2630267354141,
          107.13591918668652,
          106.68523208330636,
          107.2537668765784,
          106.81603062471669,
          106.52463646555073,
          105.93408269523408,
          105.7320481468141,
          105.76701165171923,
          105.17645788140257,
          105.8227041074435,
          106.73185008984653,
          106.24749583144467,
          106.11280191672603,
          105.41733866072008,
          106.11280191672603,
          106.49873476251376,
          106.88208755585056,
          105.97681797578191,
          105.74240629856568,
          106.03509680761509,
          106.26044668296315,
          105.62326225879039,
          106.18143890031082,
          105.77478342736191,
          105.59736055575341,
          106.02084960621316,
          107.30687295619374,
          107.39364619083081,
          107.16053086349801,
          108.37272550670207,
          107.27708852716442,
          105.86932843764166,
          103.7130116598135,
          103.95260241290552,
          105.76830800160266,
          105.4846856180794,
          105.78385155288802,
          106.33037369277343,
          106.65285495451013,
          107.24729145081915,
          108.1059430243476,
          107.63971236968206,
          108.22897611377323,
          107.14627733843814,
          107.27708852716442,
          107.33665738522309,
          107.85209874619568,
          107.85209874619568,
          108.0813313475361,
          108.0606150440329,
          108.52295032539014,
          108.48409777083468,
          108.31832940086123,
          107.4726413261672,
          107.09835665835654,
          106.73703548938029,
          105.95739169850418,
          107.11390020964191,
          106.27468756070712,
          106.11798731625979,
          106.72796736385418,
          107.14368463867123,
          107.21233426957197,
          107.62028609240433,
          106.89244570760215,
          107.8637595714887,
          106.58550799715081,
          106.97015081671309,
          107.26931042786376,
          107.08670848037947,
          107.29651480444214,
          107.76144278556627,
          106.67616395778023,
          107.19031529252736,
          107.37421991355308,
          107.2654277018714,
          107.2408160250599,
          107.5386856099851,
          106.075245712054,
          106.76293719241727,
          106.68523208330636,
          106.89244570760215,
          107.39752891682315,
          106.83545690199443,
          107.86893232370653,
          108.59418000874182,
          108.24709971750954,
          107.72777563054458,
          107.5762481383151,
          106.95589729165317,
          107.09577660590558,
          106.82898147623519,
          107.30557028265233,
          106.45081408243217,
          105.67376931498089,
          105.03270216481577,
          105.90170556643787,
          105.99236152706727,
          105.83953768495435,
          105.76572162549375,
          105.42899948601307,
          104.54445253310563,
          105.22826128747653,
          103.94094158761251,
          103.99922041944569,
          104.52891530547821,
          104.43048756920612,
          105.02233768940621,
          104.88894644822896,
          104.7089308768536,
          105.5403717501457,
          107.0012252719679,
          107.38457806530465,
          106.95589729165317,
          107.16570361571587,
          107.24859412436054,
          107.32758925969694
         ]
        },
        {
         "mode": "lines",
         "name": "DAX",
         "type": "scatter",
         "x": [
          "2024-01-02T00:00:00",
          "2024-01-03T00:00:00",
          "2024-01-04T00:00:00",
          "2024-01-05T00:00:00",
          "2024-01-08T00:00:00",
          "2024-01-09T00:00:00",
          "2024-01-10T00:00:00",
          "2024-01-11T00:00:00",
          "2024-01-12T00:00:00",
          "2024-01-15T00:00:00",
          "2024-01-16T00:00:00",
          "2024-01-17T00:00:00",
          "2024-01-18T00:00:00",
          "2024-01-19T00:00:00",
          "2024-01-22T00:00:00",
          "2024-01-23T00:00:00",
          "2024-01-24T00:00:00",
          "2024-01-25T00:00:00",
          "2024-01-26T00:00:00",
          "2024-01-29T00:00:00",
          "2024-01-30T00:00:00",
          "2024-01-31T00:00:00",
          "2024-02-01T00:00:00",
          "2024-02-02T00:00:00",
          "2024-02-05T00:00:00",
          "2024-02-06T00:00:00",
          "2024-02-07T00:00:00",
          "2024-02-08T00:00:00",
          "2024-02-09T00:00:00",
          "2024-02-12T00:00:00",
          "2024-02-13T00:00:00",
          "2024-02-14T00:00:00",
          "2024-02-15T00:00:00",
          "2024-02-16T00:00:00",
          "2024-02-19T00:00:00",
          "2024-02-20T00:00:00",
          "2024-02-21T00:00:00",
          "2024-02-22T00:00:00",
          "2024-02-23T00:00:00",
          "2024-02-26T00:00:00",
          "2024-02-27T00:00:00",
          "2024-02-28T00:00:00",
          "2024-02-29T00:00:00",
          "2024-03-01T00:00:00",
          "2024-03-04T00:00:00",
          "2024-03-05T00:00:00",
          "2024-03-06T00:00:00",
          "2024-03-07T00:00:00",
          "2024-03-08T00:00:00",
          "2024-03-11T00:00:00",
          "2024-03-12T00:00:00",
          "2024-03-13T00:00:00",
          "2024-03-14T00:00:00",
          "2024-03-15T00:00:00",
          "2024-03-18T00:00:00",
          "2024-03-19T00:00:00",
          "2024-03-20T00:00:00",
          "2024-03-21T00:00:00",
          "2024-03-22T00:00:00",
          "2024-03-25T00:00:00",
          "2024-03-26T00:00:00",
          "2024-03-27T00:00:00",
          "2024-03-28T00:00:00",
          "2024-04-02T00:00:00",
          "2024-04-03T00:00:00",
          "2024-04-04T00:00:00",
          "2024-04-05T00:00:00",
          "2024-04-08T00:00:00",
          "2024-04-09T00:00:00",
          "2024-04-10T00:00:00",
          "2024-04-11T00:00:00",
          "2024-04-12T00:00:00",
          "2024-04-15T00:00:00",
          "2024-04-16T00:00:00",
          "2024-04-17T00:00:00",
          "2024-04-18T00:00:00",
          "2024-04-19T00:00:00",
          "2024-04-22T00:00:00",
          "2024-04-23T00:00:00",
          "2024-04-24T00:00:00",
          "2024-04-25T00:00:00",
          "2024-04-26T00:00:00",
          "2024-04-29T00:00:00",
          "2024-04-30T00:00:00",
          "2024-05-01T00:00:00",
          "2024-05-02T00:00:00",
          "2024-05-03T00:00:00",
          "2024-05-06T00:00:00",
          "2024-05-07T00:00:00",
          "2024-05-08T00:00:00",
          "2024-05-09T00:00:00",
          "2024-05-10T00:00:00",
          "2024-05-13T00:00:00",
          "2024-05-14T00:00:00",
          "2024-05-15T00:00:00",
          "2024-05-16T00:00:00",
          "2024-05-17T00:00:00",
          "2024-05-20T00:00:00",
          "2024-05-21T00:00:00",
          "2024-05-22T00:00:00",
          "2024-05-23T00:00:00",
          "2024-05-24T00:00:00",
          "2024-05-27T00:00:00",
          "2024-05-28T00:00:00",
          "2024-05-29T00:00:00",
          "2024-05-30T00:00:00",
          "2024-05-31T00:00:00",
          "2024-06-03T00:00:00",
          "2024-06-04T00:00:00",
          "2024-06-05T00:00:00",
          "2024-06-06T00:00:00",
          "2024-06-07T00:00:00",
          "2024-06-10T00:00:00",
          "2024-06-11T00:00:00",
          "2024-06-12T00:00:00",
          "2024-06-13T00:00:00",
          "2024-06-14T00:00:00",
          "2024-06-17T00:00:00",
          "2024-06-18T00:00:00",
          "2024-06-19T00:00:00",
          "2024-06-20T00:00:00",
          "2024-06-21T00:00:00",
          "2024-06-24T00:00:00",
          "2024-06-25T00:00:00",
          "2024-06-26T00:00:00",
          "2024-06-27T00:00:00",
          "2024-06-28T00:00:00",
          "2024-07-01T00:00:00",
          "2024-07-02T00:00:00",
          "2024-07-03T00:00:00",
          "2024-07-04T00:00:00",
          "2024-07-05T00:00:00",
          "2024-07-08T00:00:00",
          "2024-07-09T00:00:00",
          "2024-07-10T00:00:00",
          "2024-07-11T00:00:00",
          "2024-07-12T00:00:00",
          "2024-07-15T00:00:00",
          "2024-07-16T00:00:00",
          "2024-07-17T00:00:00",
          "2024-07-18T00:00:00",
          "2024-07-19T00:00:00",
          "2024-07-22T00:00:00",
          "2024-07-23T00:00:00",
          "2024-07-24T00:00:00",
          "2024-07-25T00:00:00",
          "2024-07-26T00:00:00",
          "2024-07-29T00:00:00",
          "2024-07-30T00:00:00",
          "2024-07-31T00:00:00",
          "2024-08-01T00:00:00",
          "2024-08-02T00:00:00",
          "2024-08-05T00:00:00",
          "2024-08-06T00:00:00",
          "2024-08-07T00:00:00",
          "2024-08-08T00:00:00",
          "2024-08-09T00:00:00",
          "2024-08-12T00:00:00",
          "2024-08-13T00:00:00",
          "2024-08-14T00:00:00",
          "2024-08-15T00:00:00",
          "2024-08-16T00:00:00",
          "2024-08-19T00:00:00",
          "2024-08-20T00:00:00",
          "2024-08-21T00:00:00",
          "2024-08-22T00:00:00",
          "2024-08-23T00:00:00",
          "2024-08-26T00:00:00",
          "2024-08-27T00:00:00",
          "2024-08-28T00:00:00",
          "2024-08-29T00:00:00",
          "2024-08-30T00:00:00",
          "2024-09-02T00:00:00",
          "2024-09-03T00:00:00",
          "2024-09-04T00:00:00",
          "2024-09-05T00:00:00",
          "2024-09-06T00:00:00",
          "2024-09-09T00:00:00",
          "2024-09-10T00:00:00",
          "2024-09-11T00:00:00",
          "2024-09-12T00:00:00",
          "2024-09-13T00:00:00",
          "2024-09-16T00:00:00",
          "2024-09-17T00:00:00",
          "2024-09-18T00:00:00",
          "2024-09-19T00:00:00",
          "2024-09-20T00:00:00",
          "2024-09-23T00:00:00",
          "2024-09-24T00:00:00",
          "2024-09-25T00:00:00",
          "2024-09-26T00:00:00",
          "2024-09-27T00:00:00",
          "2024-09-30T00:00:00",
          "2024-10-01T00:00:00",
          "2024-10-02T00:00:00",
          "2024-10-03T00:00:00",
          "2024-10-04T00:00:00",
          "2024-10-07T00:00:00",
          "2024-10-08T00:00:00",
          "2024-10-09T00:00:00",
          "2024-10-10T00:00:00",
          "2024-10-11T00:00:00",
          "2024-10-14T00:00:00",
          "2024-10-15T00:00:00",
          "2024-10-16T00:00:00",
          "2024-10-17T00:00:00",
          "2024-10-18T00:00:00",
          "2024-10-21T00:00:00",
          "2024-10-22T00:00:00",
          "2024-10-23T00:00:00",
          "2024-10-24T00:00:00",
          "2024-10-25T00:00:00",
          "2024-10-28T00:00:00",
          "2024-10-29T00:00:00",
          "2024-10-30T00:00:00",
          "2024-10-31T00:00:00",
          "2024-11-01T00:00:00",
          "2024-11-04T00:00:00",
          "2024-11-05T00:00:00",
          "2024-11-06T00:00:00",
          "2024-11-07T00:00:00",
          "2024-11-08T00:00:00",
          "2024-11-11T00:00:00",
          "2024-11-12T00:00:00",
          "2024-11-13T00:00:00",
          "2024-11-14T00:00:00",
          "2024-11-15T00:00:00",
          "2024-11-18T00:00:00",
          "2024-11-19T00:00:00",
          "2024-11-20T00:00:00",
          "2024-11-21T00:00:00",
          "2024-11-22T00:00:00",
          "2024-11-25T00:00:00",
          "2024-11-26T00:00:00",
          "2024-11-27T00:00:00",
          "2024-11-28T00:00:00",
          "2024-11-29T00:00:00"
         ],
         "y": [
          100,
          98.62267398035293,
          99.09316564157658,
          98.95554485068098,
          99.68461125620668,
          99.516976181447,
          99.52562989231663,
          98.67418860104785,
          99.61358793334942,
          99.12257428214964,
          98.82118521596774,
          97.98638746821537,
          98.79536384719526,
          98.72250030049224,
          99.48715989635114,
          99.15161021915901,
          100.71893352738766,
          100.82030889671358,
          101.14513169946302,
          101.02777666484353,
          101.21042470502842,
          100.80146407277411,
          100.53478302596159,
          100.88764012489297,
          100.8032577086744,
          101.57358938689332,
          100.91000233871486,
          101.15967878543364,
          100.93706993502845,
          101.59809464620648,
          100.66472845284228,
          101.05025534852908,
          101.65379053500665,
          102.07569096911313,
          101.92553802088817,
          101.78343314024183,
          102.07974412036833,
          103.58445322989567,
          103.87594235766684,
          103.89920138943889,
          104.6938636221755,
          104.96060290391982,
          105.41958734261428,
          105.75878252653882,
          105.6460746394792,
          105.54011035752522,
          105.64930085470246,
          106.40149817515017,
          106.23250040298574,
          105.825566346359,
          107.13056458067587,
          107.10833048370401,
          106.99299037772573,
          106.96085634234313,
          106.93717801906193,
          107.26402739743897,
          107.42885554848453,
          108.40754016579719,
          108.56669623448272,
          108.89688829794667,
          109.63060185103224,
          110.1836357046287,
          110.27547219212124,
          109.02700842962285,
          109.53143940911576,
          109.74259927192358,
          108.38242926319302,
          109.2407306294311,
          107.79594526475465,
          107.91885591187051,
          107.06718168087444,
          106.92310845953233,
          107.49713018255953,
          105.94459854701516,
          105.96719370056438,
          106.36900308319024,
          105.77243279455928,
          106.50854562683614,
          108.15947100319687,
          107.86756258391654,
          106.84534153156939,
          108.29876896012911,
          108.04420077913679,
          106.93413815562052,
          106.93413815562052,
          106.72142924362606,
          107.34816522694386,
          108.38345419799317,
          109.90312968500027,
          110.31059950299979,
          111.43299628507724,
          111.94732720298089,
          111.76467916279597,
          111.61082247290679,
          112.5228397402629,
          111.7443435246017,
          111.5392633886767,
          111.92413805312702,
          111.67248161872611,
          111.39482911075724,
          111.46114705112282,
          111.4733647398203,
          111.95842678098727,
          111.38093425602311,
          110.1609706691613,
          110.30110720911186,
          110.30796728408119,
          110.9652416656495,
          109.75756564940336,
          110.77310133157665,
          111.23066483793451,
          110.66176778890815,
          110.28978633836452,
          109.54467038562706,
          111.10060294119017,
          108.92294260644645,
          107.35066932901245,
          107.7453856969417,
          108.12560156684579,
          107.74359206104138,
          108.85436515072597,
          108.31373533760886,
          109.28014403129218,
          108.39781493218193,
          108.2643637624052,
          108.59419476929185,
          108.74267055148015,
          109.07190756206214,
          108.31696155283213,
          109.57204080358616,
          110.02495716238414,
          110.17385223608163,
          110.15358647980553,
          108.7470847593127,
          109.7669880613731,
          110.52634827843566,
          111.80021411819735,
          110.8622590122051,
          110.42776818583746,
          109.94636329838927,
          109.45415000759384,
          108.36388726089903,
          109.76609124342293,
          110.66433012590858,
          109.6491555003126,
          109.11997467479284,
          109.8285889722606,
          109.25086350756914,
          109.79059650273611,
          110.37183935730997,
          107.8338794993473,
          105.31839832507019,
          103.39691345543723,
          103.48827241648877,
          105.04366921067907,
          105.43277173118011,
          105.68609368463129,
          105.70750084557122,
          106.21783684715147,
          106.65642741271981,
          108.43133495894205,
          109.26118273748904,
          109.85326893636925,
          109.4706071993284,
          110.01582592507353,
          110.28084145283576,
          111.11396203455148,
          111.01807239580373,
          111.40443787450884,
          112.00361708808569,
          112.78051766661478,
          112.7468229350592,
          112.8895218120102,
          111.79383156966902,
          110.8679776825106,
          110.77644401666358,
          109.138935968596,
          109.98369188969093,
          108.92437518576943,
          109.30810844555592,
          110.42992287831508,
          111.5093306337172,
          111.11402026948332,
          111.66842846747089,
          111.58142547932009,
          113.31608104066288,
          111.63222963384669,
          112.38824716582234,
          113.28179231280264,
          112.81587791722067,
          114.72328158033764,
          116.12626591094808,
          115.23952260400524,
          114.57289569238537,
          114.28432995819198,
          113.39377808670763,
          114.02301817209401,
          113.92265609058188,
          113.69826525126277,
          114.82209461266318,
          114.55953659902407,
          115.53112820164009,
          116.33294168400514,
          116.20115603327869,
          115.88284389590761,
          116.78079160373412,
          117.22194450630288,
          116.05207460779938,
          115.81784206500136,
          115.55372335518929,
          115.94360622377681,
          116.06638875404268,
          116.4720649361419,
          116.15273951095702,
          114.83646699383827,
          113.76426872299645,
          114.82233919937683,
          114.18354858517068,
          114.83008444530995,
          113.53630225886313,
          115.46368050359706,
          114.58684878205135,
          115.97699813368692,
          113.50249105744388,
          113.32042536657725,
          114.87438958144458,
          114.55900083765127,
          114.43006869858439,
          113.66153065626577,
          113.33038353991982,
          114.1735321768963,
          115.22556951433931,
          115.71819044965754,
          115.06689097209475,
          114.86276588905173,
          115.84062357033243,
          117.0375610651495
         ]
        },
        {
         "mode": "lines",
         "name": "CAC 40",
         "type": "scatter",
         "x": [
          "2024-01-02T00:00:00",
          "2024-01-03T00:00:00",
          "2024-01-04T00:00:00",
          "2024-01-05T00:00:00",
          "2024-01-08T00:00:00",
          "2024-01-09T00:00:00",
          "2024-01-10T00:00:00",
          "2024-01-11T00:00:00",
          "2024-01-12T00:00:00",
          "2024-01-15T00:00:00",
          "2024-01-16T00:00:00",
          "2024-01-17T00:00:00",
          "2024-01-18T00:00:00",
          "2024-01-19T00:00:00",
          "2024-01-22T00:00:00",
          "2024-01-23T00:00:00",
          "2024-01-24T00:00:00",
          "2024-01-25T00:00:00",
          "2024-01-26T00:00:00",
          "2024-01-29T00:00:00",
          "2024-01-30T00:00:00",
          "2024-01-31T00:00:00",
          "2024-02-01T00:00:00",
          "2024-02-02T00:00:00",
          "2024-02-05T00:00:00",
          "2024-02-06T00:00:00",
          "2024-02-07T00:00:00",
          "2024-02-08T00:00:00",
          "2024-02-09T00:00:00",
          "2024-02-12T00:00:00",
          "2024-02-13T00:00:00",
          "2024-02-14T00:00:00",
          "2024-02-15T00:00:00",
          "2024-02-16T00:00:00",
          "2024-02-19T00:00:00",
          "2024-02-20T00:00:00",
          "2024-02-21T00:00:00",
          "2024-02-22T00:00:00",
          "2024-02-23T00:00:00",
          "2024-02-26T00:00:00",
          "2024-02-27T00:00:00",
          "2024-02-28T00:00:00",
          "2024-02-29T00:00:00",
          "2024-03-01T00:00:00",
          "2024-03-04T00:00:00",
          "2024-03-05T00:00:00",
          "2024-03-06T00:00:00",
          "2024-03-07T00:00:00",
          "2024-03-08T00:00:00",
          "2024-03-11T00:00:00",
          "2024-03-12T00:00:00",
          "2024-03-13T00:00:00",
          "2024-03-14T00:00:00",
          "2024-03-15T00:00:00",
          "2024-03-18T00:00:00",
          "2024-03-19T00:00:00",
          "2024-03-20T00:00:00",
          "2024-03-21T00:00:00",
          "2024-03-22T00:00:00",
          "2024-03-25T00:00:00",
          "2024-03-26T00:00:00",
          "2024-03-27T00:00:00",
          "2024-03-28T00:00:00",
          "2024-04-02T00:00:00",
          "2024-04-03T00:00:00",
          "2024-04-04T00:00:00",
          "2024-04-05T00:00:00",
          "2024-04-08T00:00:00",
          "2024-04-09T00:00:00",
          "2024-04-10T00:00:00",
          "2024-04-11T00:00:00",
          "2024-04-12T00:00:00",
          "2024-04-15T00:00:00",
          "2024-04-16T00:00:00",
          "2024-04-17T00:00:00",
          "2024-04-18T00:00:00",
          "2024-04-19T00:00:00",
          "2024-04-22T00:00:00",
          "2024-04-23T00:00:00",
          "2024-04-24T00:00:00",
          "2024-04-25T00:00:00",
          "2024-04-26T00:00:00",
          "2024-04-29T00:00:00",
          "2024-04-30T00:00:00",
          "2024-05-01T00:00:00",
          "2024-05-02T00:00:00",
          "2024-05-03T00:00:00",
          "2024-05-06T00:00:00",
          "2024-05-07T00:00:00",
          "2024-05-08T00:00:00",
          "2024-05-09T00:00:00",
          "2024-05-10T00:00:00",
          "2024-05-13T00:00:00",
          "2024-05-14T00:00:00",
          "2024-05-15T00:00:00",
          "2024-05-16T00:00:00",
          "2024-05-17T00:00:00",
          "2024-05-20T00:00:00",
          "2024-05-21T00:00:00",
          "2024-05-22T00:00:00",
          "2024-05-23T00:00:00",
          "2024-05-24T00:00:00",
          "2024-05-27T00:00:00",
          "2024-05-28T00:00:00",
          "2024-05-29T00:00:00",
          "2024-05-30T00:00:00",
          "2024-05-31T00:00:00",
          "2024-06-03T00:00:00",
          "2024-06-04T00:00:00",
          "2024-06-05T00:00:00",
          "2024-06-06T00:00:00",
          "2024-06-07T00:00:00",
          "2024-06-10T00:00:00",
          "2024-06-11T00:00:00",
          "2024-06-12T00:00:00",
          "2024-06-13T00:00:00",
          "2024-06-14T00:00:00",
          "2024-06-17T00:00:00",
          "2024-06-18T00:00:00",
          "2024-06-19T00:00:00",
          "2024-06-20T00:00:00",
          "2024-06-21T00:00:00",
          "2024-06-24T00:00:00",
          "2024-06-25T00:00:00",
          "2024-06-26T00:00:00",
          "2024-06-27T00:00:00",
          "2024-06-28T00:00:00",
          "2024-07-01T00:00:00",
          "2024-07-02T00:00:00",
          "2024-07-03T00:00:00",
          "2024-07-04T00:00:00",
          "2024-07-05T00:00:00",
          "2024-07-08T00:00:00",
          "2024-07-09T00:00:00",
          "2024-07-10T00:00:00",
          "2024-07-11T00:00:00",
          "2024-07-12T00:00:00",
          "2024-07-15T00:00:00",
          "2024-07-16T00:00:00",
          "2024-07-17T00:00:00",
          "2024-07-18T00:00:00",
          "2024-07-19T00:00:00",
          "2024-07-22T00:00:00",
          "2024-07-23T00:00:00",
          "2024-07-24T00:00:00",
          "2024-07-25T00:00:00",
          "2024-07-26T00:00:00",
          "2024-07-29T00:00:00",
          "2024-07-30T00:00:00",
          "2024-07-31T00:00:00",
          "2024-08-01T00:00:00",
          "2024-08-02T00:00:00",
          "2024-08-05T00:00:00",
          "2024-08-06T00:00:00",
          "2024-08-07T00:00:00",
          "2024-08-08T00:00:00",
          "2024-08-09T00:00:00",
          "2024-08-12T00:00:00",
          "2024-08-13T00:00:00",
          "2024-08-14T00:00:00",
          "2024-08-15T00:00:00",
          "2024-08-16T00:00:00",
          "2024-08-19T00:00:00",
          "2024-08-20T00:00:00",
          "2024-08-21T00:00:00",
          "2024-08-22T00:00:00",
          "2024-08-23T00:00:00",
          "2024-08-26T00:00:00",
          "2024-08-27T00:00:00",
          "2024-08-28T00:00:00",
          "2024-08-29T00:00:00",
          "2024-08-30T00:00:00",
          "2024-09-02T00:00:00",
          "2024-09-03T00:00:00",
          "2024-09-04T00:00:00",
          "2024-09-05T00:00:00",
          "2024-09-06T00:00:00",
          "2024-09-09T00:00:00",
          "2024-09-10T00:00:00",
          "2024-09-11T00:00:00",
          "2024-09-12T00:00:00",
          "2024-09-13T00:00:00",
          "2024-09-16T00:00:00",
          "2024-09-17T00:00:00",
          "2024-09-18T00:00:00",
          "2024-09-19T00:00:00",
          "2024-09-20T00:00:00",
          "2024-09-23T00:00:00",
          "2024-09-24T00:00:00",
          "2024-09-25T00:00:00",
          "2024-09-26T00:00:00",
          "2024-09-27T00:00:00",
          "2024-09-30T00:00:00",
          "2024-10-01T00:00:00",
          "2024-10-02T00:00:00",
          "2024-10-03T00:00:00",
          "2024-10-04T00:00:00",
          "2024-10-07T00:00:00",
          "2024-10-08T00:00:00",
          "2024-10-09T00:00:00",
          "2024-10-10T00:00:00",
          "2024-10-11T00:00:00",
          "2024-10-14T00:00:00",
          "2024-10-15T00:00:00",
          "2024-10-16T00:00:00",
          "2024-10-17T00:00:00",
          "2024-10-18T00:00:00",
          "2024-10-21T00:00:00",
          "2024-10-22T00:00:00",
          "2024-10-23T00:00:00",
          "2024-10-24T00:00:00",
          "2024-10-25T00:00:00",
          "2024-10-28T00:00:00",
          "2024-10-29T00:00:00",
          "2024-10-30T00:00:00",
          "2024-10-31T00:00:00",
          "2024-11-01T00:00:00",
          "2024-11-04T00:00:00",
          "2024-11-05T00:00:00",
          "2024-11-06T00:00:00",
          "2024-11-07T00:00:00",
          "2024-11-08T00:00:00",
          "2024-11-11T00:00:00",
          "2024-11-12T00:00:00",
          "2024-11-13T00:00:00",
          "2024-11-14T00:00:00",
          "2024-11-15T00:00:00",
          "2024-11-18T00:00:00",
          "2024-11-19T00:00:00",
          "2024-11-20T00:00:00",
          "2024-11-21T00:00:00",
          "2024-11-22T00:00:00",
          "2024-11-25T00:00:00",
          "2024-11-26T00:00:00",
          "2024-11-27T00:00:00",
          "2024-11-28T00:00:00",
          "2024-11-29T00:00:00"
         ],
         "y": [
          100,
          98.41983515613911,
          98.93465046587929,
          98.53708708069097,
          98.92947644266582,
          98.61583208310648,
          98.60866106847729,
          98.09796293259745,
          99.12732771880493,
          98.41744914042164,
          98.23579424271264,
          97.18266007166734,
          98.28027917161944,
          97.88576962719996,
          98.43829435925785,
          98.10353894758941,
          99.0011801052194,
          99.11484652245666,
          101.37142737101072,
          101.4599952370458,
          101.94679431332057,
          101.67165687589754,
          100.76870553654848,
          100.81531064789988,
          100.78477224021137,
          101.43556451089499,
          101.06760587507094,
          101.7895701417624,
          101.5490947696266,
          102.11051519071819,
          101.25417544645887,
          101.94519931368333,
          102.82252043528447,
          103.15130432392084,
          103.15621251386142,
          103.51036078697283,
          103.73436746366724,
          105.05573389077922,
          105.78712551305011,
          105.29766810404662,
          105.54438731622572,
          105.62392981845987,
          105.26593668849935,
          105.3554317291203,
          105.65075304406652,
          105.33750419254733,
          105.62857865886595,
          106.44495263985732,
          106.60150250262575,
          106.49155775120872,
          107.39118941651607,
          108.05645339122533,
          108.37301543304791,
          108.41192434696273,
          108.19667720079637,
          108.89924860604488,
          108.37288575828066,
          108.61601946314516,
          108.24686781946238,
          108.24262097083479,
          108.68280845201978,
          108.949173391438,
          108.96245208760492,
          107.95646117819511,
          108.26426368948962,
          108.24195314578343,
          107.04368697522648,
          107.81371519440096,
          106.88248178831358,
          106.83215501114198,
          106.54480869438191,
          106.373378652071,
          106.82856950382738,
          105.33471618505135,
          105.98404313086498,
          106.53842869583299,
          106.5271469910818,
          106.76549569703462,
          107.63418696287496,
          107.44934854962986,
          106.45065832961653,
          107.40128459714686,
          107.09467509371109,
          106.029461718096,
          106.029461718096,
          105.09623132059292,
          105.66615192267805,
          106.18495473151131,
          107.23450339524202,
          107.97452487327371,
          108.72131537415612,
          109.13945814490779,
          109.00853849988728,
          109.2278963361756,
          109.41632674047366,
          108.73247388787838,
          108.45375094314078,
          108.8317917921189,
          108.10797317625568,
          107.4526682236716,
          107.58837935134218,
          107.49064996300055,
          107.98886690253211,
          106.99707538013672,
          105.3668495923771,
          105.9442070423643,
          106.13489378761255,
          106.20327777612442,
          105.4049610064733,
          106.31680803485605,
          106.76231218149852,
          106.25346839479042,
          104.82176170822126,
          103.43055245146581,
          104.43296433729937,
          102.35245588772395,
          99.63364284755156,
          100.54057520225534,
          101.30051472453741,
          100.52238831614785,
          101.86539097817632,
          101.29746088376854,
          102.33745251715256,
          101.74535104612849,
          101.03958964160553,
          99.99814565082825,
          99.31667881395049,
          100.40194639232153,
          100.09866304666586,
          101.34407247885831,
          102.18992153444671,
          101.92222742866413,
          101.28259367170278,
          99.70521683533788,
          100.56686676131628,
          101.27834033933682,
          102.56889604174906,
          101.35243650134625,
          100.65291245312824,
          100.53048650536294,
          100.73948981148595,
          100.04860210276712,
          101.21048801737072,
          100.89989749858022,
          99.77253749075824,
          98.62114226482556,
          99.82499093411283,
          98.84448760020699,
          99.25745634774519,
          100.00837050622631,
          97.86996875680995,
          96.2944462696168,
          94.92926922238775,
          94.67763533652969,
          96.48313602344935,
          96.23668912828147,
          96.53226979276222,
          96.2794428990454,
          96.61406863594658,
          97.37745750703762,
          98.57267632056407,
          98.92230542803662,
          99.38001845401612,
          99.40073399808509,
          99.91847347382686,
          99.91036880087344,
          100.61321252313317,
          100.79021858043606,
          100.46369103274995,
          100.62157654562111,
          101.4618560699559,
          101.32906910828692,
          101.53448690709534,
          100.58745263061799,
          99.60310443986303,
          98.68673824584144,
          97.62895523439006,
          98.59776838802789,
          98.3626031976112,
          98.22025920559551,
          98.72803317547375,
          99.12878655993656,
          98.91884959548929,
          99.42317421655855,
          98.8585637961925,
          101.12271765115426,
          99.59367060054525,
          99.69751415416293,
          100.97133532786093,
          100.46157085030534,
          102.80485873198437,
          103.46481252497455,
          101.3928042563927,
          100.57377194267261,
          100.62051321252963,
          99.29516577006291,
          100.13942630975244,
          100.5996679936934,
          99.87332071986872,
          100.3881360296089,
          100.14248015052128,
          100.6245007116227,
          100.9454457605785,
          99.88195705936789,
          99.48399168240107,
          100.70204622244113,
          101.09137525990877,
          100.07130815451346,
          100.05630478394205,
          99.55675867804614,
          99.63377252231881,
          99.55755617786475,
          100.34630943343083,
          99.73774575070377,
          98.63893364289294,
          97.60333150038049,
          98.38331874168014,
          97.88669680178583,
          98.3572930158921,
          97.85881024308767,
          98.60228755366671,
          97.44796816173245,
          98.61928143191547,
          95.96487136490019,
          95.83009389555384,
          97.09116803963069,
          96.53120645967073,
          96.64540454345372,
          96.00019477150042,
          95.58603301610347,
          95.78348230046409,
          96.33707036561347,
          96.36974192322333,
          95.53370924751613,
          94.85012222819374,
          95.33107945620367,
          96.07282560863986
         ]
        },
        {
         "mode": "lines",
         "name": "Euro Stoxx 50",
         "type": "scatter",
         "x": [
          "2024-01-02T00:00:00",
          "2024-01-03T00:00:00",
          "2024-01-04T00:00:00",
          "2024-01-05T00:00:00",
          "2024-01-08T00:00:00",
          "2024-01-09T00:00:00",
          "2024-01-10T00:00:00",
          "2024-01-11T00:00:00",
          "2024-01-12T00:00:00",
          "2024-01-15T00:00:00",
          "2024-01-16T00:00:00",
          "2024-01-17T00:00:00",
          "2024-01-18T00:00:00",
          "2024-01-19T00:00:00",
          "2024-01-22T00:00:00",
          "2024-01-23T00:00:00",
          "2024-01-24T00:00:00",
          "2024-01-25T00:00:00",
          "2024-01-26T00:00:00",
          "2024-01-29T00:00:00",
          "2024-01-30T00:00:00",
          "2024-01-31T00:00:00",
          "2024-02-01T00:00:00",
          "2024-02-02T00:00:00",
          "2024-02-05T00:00:00",
          "2024-02-06T00:00:00",
          "2024-02-07T00:00:00",
          "2024-02-08T00:00:00",
          "2024-02-09T00:00:00",
          "2024-02-12T00:00:00",
          "2024-02-13T00:00:00",
          "2024-02-14T00:00:00",
          "2024-02-15T00:00:00",
          "2024-02-16T00:00:00",
          "2024-02-19T00:00:00",
          "2024-02-20T00:00:00",
          "2024-02-21T00:00:00",
          "2024-02-22T00:00:00",
          "2024-02-23T00:00:00",
          "2024-02-26T00:00:00",
          "2024-02-27T00:00:00",
          "2024-02-28T00:00:00",
          "2024-02-29T00:00:00",
          "2024-03-01T00:00:00",
          "2024-03-04T00:00:00",
          "2024-03-05T00:00:00",
          "2024-03-06T00:00:00",
          "2024-03-07T00:00:00",
          "2024-03-08T00:00:00",
          "2024-03-11T00:00:00",
          "2024-03-12T00:00:00",
          "2024-03-13T00:00:00",
          "2024-03-14T00:00:00",
          "2024-03-15T00:00:00",
          "2024-03-18T00:00:00",
          "2024-03-19T00:00:00",
          "2024-03-20T00:00:00",
          "2024-03-21T00:00:00",
          "2024-03-22T00:00:00",
          "2024-03-25T00:00:00",
          "2024-03-26T00:00:00",
          "2024-03-27T00:00:00",
          "2024-03-28T00:00:00",
          "2024-04-02T00:00:00",
          "2024-04-03T00:00:00",
          "2024-04-04T00:00:00",
          "2024-04-05T00:00:00",
          "2024-04-08T00:00:00",
          "2024-04-09T00:00:00",
          "2024-04-10T00:00:00",
          "2024-04-11T00:00:00",
          "2024-04-12T00:00:00",
          "2024-04-15T00:00:00",
          "2024-04-16T00:00:00",
          "2024-04-17T00:00:00",
          "2024-04-18T00:00:00",
          "2024-04-19T00:00:00",
          "2024-04-22T00:00:00",
          "2024-04-23T00:00:00",
          "2024-04-24T00:00:00",
          "2024-04-25T00:00:00",
          "2024-04-26T00:00:00",
          "2024-04-29T00:00:00",
          "2024-04-30T00:00:00",
          "2024-05-01T00:00:00",
          "2024-05-02T00:00:00",
          "2024-05-03T00:00:00",
          "2024-05-06T00:00:00",
          "2024-05-07T00:00:00",
          "2024-05-08T00:00:00",
          "2024-05-09T00:00:00",
          "2024-05-10T00:00:00",
          "2024-05-13T00:00:00",
          "2024-05-14T00:00:00",
          "2024-05-15T00:00:00",
          "2024-05-16T00:00:00",
          "2024-05-17T00:00:00",
          "2024-05-20T00:00:00",
          "2024-05-21T00:00:00",
          "2024-05-22T00:00:00",
          "2024-05-23T00:00:00",
          "2024-05-24T00:00:00",
          "2024-05-27T00:00:00",
          "2024-05-28T00:00:00",
          "2024-05-29T00:00:00",
          "2024-05-30T00:00:00",
          "2024-05-31T00:00:00",
          "2024-06-03T00:00:00",
          "2024-06-04T00:00:00",
          "2024-06-05T00:00:00",
          "2024-06-06T00:00:00",
          "2024-06-07T00:00:00",
          "2024-06-10T00:00:00",
          "2024-06-11T00:00:00",
          "2024-06-12T00:00:00",
          "2024-06-13T00:00:00",
          "2024-06-14T00:00:00",
          "2024-06-17T00:00:00",
          "2024-06-18T00:00:00",
          "2024-06-19T00:00:00",
          "2024-06-20T00:00:00",
          "2024-06-21T00:00:00",
          "2024-06-24T00:00:00",
          "2024-06-25T00:00:00",
          "2024-06-26T00:00:00",
          "2024-06-27T00:00:00",
          "2024-06-28T00:00:00",
          "2024-07-01T00:00:00",
          "2024-07-02T00:00:00",
          "2024-07-03T00:00:00",
          "2024-07-04T00:00:00",
          "2024-07-05T00:00:00",
          "2024-07-08T00:00:00",
          "2024-07-09T00:00:00",
          "2024-07-10T00:00:00",
          "2024-07-11T00:00:00",
          "2024-07-12T00:00:00",
          "2024-07-15T00:00:00",
          "2024-07-16T00:00:00",
          "2024-07-17T00:00:00",
          "2024-07-18T00:00:00",
          "2024-07-19T00:00:00",
          "2024-07-22T00:00:00",
          "2024-07-23T00:00:00",
          "2024-07-24T00:00:00",
          "2024-07-25T00:00:00",
          "2024-07-26T00:00:00",
          "2024-07-29T00:00:00",
          "2024-07-30T00:00:00",
          "2024-07-31T00:00:00",
          "2024-08-01T00:00:00",
          "2024-08-02T00:00:00",
          "2024-08-05T00:00:00",
          "2024-08-06T00:00:00",
          "2024-08-07T00:00:00",
          "2024-08-08T00:00:00",
          "2024-08-09T00:00:00",
          "2024-08-12T00:00:00",
          "2024-08-13T00:00:00",
          "2024-08-14T00:00:00",
          "2024-08-15T00:00:00",
          "2024-08-16T00:00:00",
          "2024-08-19T00:00:00",
          "2024-08-20T00:00:00",
          "2024-08-21T00:00:00",
          "2024-08-22T00:00:00",
          "2024-08-23T00:00:00",
          "2024-08-26T00:00:00",
          "2024-08-27T00:00:00",
          "2024-08-28T00:00:00",
          "2024-08-29T00:00:00",
          "2024-08-30T00:00:00",
          "2024-09-02T00:00:00",
          "2024-09-03T00:00:00",
          "2024-09-04T00:00:00",
          "2024-09-05T00:00:00",
          "2024-09-06T00:00:00",
          "2024-09-09T00:00:00",
          "2024-09-10T00:00:00",
          "2024-09-11T00:00:00",
          "2024-09-12T00:00:00",
          "2024-09-13T00:00:00",
          "2024-09-16T00:00:00",
          "2024-09-17T00:00:00",
          "2024-09-18T00:00:00",
          "2024-09-19T00:00:00",
          "2024-09-20T00:00:00",
          "2024-09-23T00:00:00",
          "2024-09-24T00:00:00",
          "2024-09-25T00:00:00",
          "2024-09-26T00:00:00",
          "2024-09-27T00:00:00",
          "2024-09-30T00:00:00",
          "2024-10-01T00:00:00",
          "2024-10-02T00:00:00",
          "2024-10-03T00:00:00",
          "2024-10-04T00:00:00",
          "2024-10-07T00:00:00",
          "2024-10-08T00:00:00",
          "2024-10-09T00:00:00",
          "2024-10-10T00:00:00",
          "2024-10-11T00:00:00",
          "2024-10-14T00:00:00",
          "2024-10-15T00:00:00",
          "2024-10-16T00:00:00",
          "2024-10-17T00:00:00",
          "2024-10-18T00:00:00",
          "2024-10-21T00:00:00",
          "2024-10-22T00:00:00",
          "2024-10-23T00:00:00",
          "2024-10-24T00:00:00",
          "2024-10-25T00:00:00",
          "2024-10-28T00:00:00",
          "2024-10-29T00:00:00",
          "2024-10-30T00:00:00",
          "2024-10-31T00:00:00",
          "2024-11-01T00:00:00",
          "2024-11-04T00:00:00",
          "2024-11-05T00:00:00",
          "2024-11-06T00:00:00",
          "2024-11-07T00:00:00",
          "2024-11-08T00:00:00",
          "2024-11-11T00:00:00",
          "2024-11-12T00:00:00",
          "2024-11-13T00:00:00",
          "2024-11-14T00:00:00",
          "2024-11-15T00:00:00",
          "2024-11-18T00:00:00",
          "2024-11-19T00:00:00",
          "2024-11-20T00:00:00",
          "2024-11-21T00:00:00",
          "2024-11-22T00:00:00",
          "2024-11-25T00:00:00",
          "2024-11-26T00:00:00",
          "2024-11-27T00:00:00",
          "2024-11-28T00:00:00",
          "2024-11-29T00:00:00"
         ],
         "y": [
          100,
          100,
          100.58181490860912,
          100.34576065037865,
          100.8396809140077,
          100.4280459331026,
          100.468738508217,
          99.86848186068364,
          100.71693357790592,
          100.14725948075527,
          99.96357756562459,
          98.98721921629196,
          100.11060652464332,
          100.01574134143891,
          100.72367359439372,
          100.39972469118321,
          102.60738745325074,
          103.01542190417541,
          104.21166505850312,
          104.29910963723563,
          104.8238319957584,
          104.50234199107113,
          104.28202907427959,
          104.64060014687529,
          104.65679155456175,
          105.45713009219773,
          105.18690373082964,
          105.90472646400512,
          106.01916404036544,
          106.70439539088254,
          105.42137726858087,
          105.86966520559795,
          106.63290072087442,
          107.13828120797781,
          107.0802775481708,
          107.01755368137724,
          107.35545463826199,
          109.15508294940489,
          109.54198624114551,
          109.35584542749159,
          109.83807494590971,
          109.79378184081486,
          109.65889369325461,
          110.04309658750991,
          110.44911122893333,
          110.00285407864303,
          110.50689534422932,
          111.82722505617595,
          111.5324865501544,
          110.84253499265076,
          112.02910721126878,
          112.41914998951674,
          112.25212052554565,
          112.0925006888209,
          112.01920575382253,
          112.58484023197073,
          112.41376017177163,
          113.58279078396052,
          113.10708173751918,
          113.40023952306152,
          113.8496471370847,
          114.24442109954478,
          114.28218275543729,
          113.35100666646906,
          113.96362366997191,
          113.99756525137296,
          112.73838966296626,
          113.44205177518202,
          112.2022070809691,
          112.42545091698253,
          111.65771473923051,
          111.39534807135635,
          112.05787851943572,
          110.5406173811194,
          110.4763127938466,
          110.98079314845491,
          110.56533809305833,
          110.9870940759207,
          112.59046057145241,
          112.17927565679484,
          111.035646344529,
          112.56078913079035,
          111.98166364244102,
          110.63571308606035,
          110.63571308606035,
          109.94755081632137,
          110.64155297005303,
          111.43919111020367,
          112.76874169161242,
          113.26490130925369,
          113.26490130925369,
          114.31950532230782,
          114.18191677726222,
          114.21181873966081,
          114.67515645290716,
          114.0355684062276,
          113.84874700458958,
          113.84874700458958,
          113.46319391159163,
          112.97264365620647,
          113.25209088703667,
          113.20285803044423,
          113.7376904136987,
          113.08910104206802,
          111.5794800527346,
          112.0061757870945,
          112.03966730224803,
          112.48637451878587,
          111.35848654795895,
          113.20847836992591,
          113.96002313999145,
          113.56030942603381,
          112.77728197309042,
          111.62196191561367,
          113.18082673876508,
          110.95674204727453,
          108.79044147107994,
          109.71846709631528,
          110.50644527798177,
          109.83155447393294,
          111.23168861562915,
          110.32276336285109,
          111.30475302889096,
          110.96731311547931,
          110.51700536896101,
          110.21710756693088,
          110.02421575956363,
          110.8328750341666,
          110.30096259290849,
          111.63792280156359,
          112.12532259321586,
          111.94345192030096,
          111.72852882125454,
          110.24003899110515,
          111.4819034948193,
          111.87015698530259,
          113.37393809064334,
          112.02707642454199,
          111.23393894686693,
          109.9666621660042,
          109.48691350056039,
          108.52291550719721,
          110.1011002473169,
          110.53633626315482,
          109.30144229766503,
          108.16410293563943,
          109.31560291862472,
          108.2565092203206,
          108.83225372320047,
          109.5503069781125,
          109.5503069781125,
          104.28427940551737,
          102.77577809319006,
          102.85716324341887,
          104.9443290006224,
          104.95962027581376,
          105.10663825760693,
          105.03020383610124,
          105.54817520091066,
          106.28286992975673,
          108.08519863838495,
          108.82146311048469,
          109.51591533046387,
          109.2049963939814,
          109.82772342221594,
          109.82143347197568,
          110.36548672469229,
          110.08423922887185,
          110.13122175422652,
          110.45158110468212,
          111.64849386976839,
          111.46212253437793,
          111.8013627127798,
          110.44012088120776,
          108.99367382491545,
          108.25110842534993,
          106.51802405549206,
          107.4307693827616,
          106.72350674056534,
          107.09174874887071,
          108.22705732416955,
          108.89947825246959,
          108.53167533318624,
          109.27693015301155,
          108.70410559212802,
          111.13389251320285,
          109.51883527246022,
          109.83424389419272,
          111.07409956563119,
          110.5383670498816,
          113.13945357566656,
          113.92316161659406,
          112.41691063550452,
          111.37601717716254,
          111.58149986223582,
          110.63818296180914,
          111.39377832810268,
          111.72582842376922,
          111.26024037928511,
          112.01493561308354,
          111.7399890447289,
          112.4949148002639,
          113.32874485305338,
          111.20920725770245,
          110.35446559023994,
          111.22201767991946,
          112.09812102830259,
          111.08534024459453,
          111.04239733824235,
          110.6656040712334,
          110.95562237026842,
          111.12737204122607,
          111.72852882125454,
          111.28317180345937,
          109.83829449042074,
          108.53167533318624,
          109.65844362700705,
          109.08179899163206,
          109.49163370754695,
          107.92467866916509,
          109.07864852789916,
          107.97256132701484,
          109.12518098700626,
          106.66707282401202,
          106.56927672158571,
          108.6643131495087,
          107.79474125032795,
          107.6931250734102,
          106.81410178303075,
          106.33030252135893,
          106.91751822493872,
          107.66502337600181,
          107.90759810620905,
          107.05600690247942,
          106.40763707535974,
          106.98091170249084,
          108.00943382763779
         ]
        },
        {
         "mode": "lines",
         "name": "Euronext 100",
         "type": "scatter",
         "x": [
          "2024-01-02T00:00:00",
          "2024-01-03T00:00:00",
          "2024-01-04T00:00:00",
          "2024-01-05T00:00:00",
          "2024-01-08T00:00:00",
          "2024-01-09T00:00:00",
          "2024-01-10T00:00:00",
          "2024-01-11T00:00:00",
          "2024-01-12T00:00:00",
          "2024-01-15T00:00:00",
          "2024-01-16T00:00:00",
          "2024-01-17T00:00:00",
          "2024-01-18T00:00:00",
          "2024-01-19T00:00:00",
          "2024-01-22T00:00:00",
          "2024-01-23T00:00:00",
          "2024-01-24T00:00:00",
          "2024-01-25T00:00:00",
          "2024-01-26T00:00:00",
          "2024-01-29T00:00:00",
          "2024-01-30T00:00:00",
          "2024-01-31T00:00:00",
          "2024-02-01T00:00:00",
          "2024-02-02T00:00:00",
          "2024-02-05T00:00:00",
          "2024-02-06T00:00:00",
          "2024-02-07T00:00:00",
          "2024-02-08T00:00:00",
          "2024-02-09T00:00:00",
          "2024-02-12T00:00:00",
          "2024-02-13T00:00:00",
          "2024-02-14T00:00:00",
          "2024-02-15T00:00:00",
          "2024-02-16T00:00:00",
          "2024-02-19T00:00:00",
          "2024-02-20T00:00:00",
          "2024-02-21T00:00:00",
          "2024-02-22T00:00:00",
          "2024-02-23T00:00:00",
          "2024-02-26T00:00:00",
          "2024-02-27T00:00:00",
          "2024-02-28T00:00:00",
          "2024-02-29T00:00:00",
          "2024-03-01T00:00:00",
          "2024-03-04T00:00:00",
          "2024-03-05T00:00:00",
          "2024-03-06T00:00:00",
          "2024-03-07T00:00:00",
          "2024-03-08T00:00:00",
          "2024-03-11T00:00:00",
          "2024-03-12T00:00:00",
          "2024-03-13T00:00:00",
          "2024-03-14T00:00:00",
          "2024-03-15T00:00:00",
          "2024-03-18T00:00:00",
          "2024-03-19T00:00:00",
          "2024-03-20T00:00:00",
          "2024-03-21T00:00:00",
          "2024-03-22T00:00:00",
          "2024-03-25T00:00:00",
          "2024-03-26T00:00:00",
          "2024-03-27T00:00:00",
          "2024-03-28T00:00:00",
          "2024-04-02T00:00:00",
          "2024-04-03T00:00:00",
          "2024-04-04T00:00:00",
          "2024-04-05T00:00:00",
          "2024-04-08T00:00:00",
          "2024-04-09T00:00:00",
          "2024-04-10T00:00:00",
          "2024-04-11T00:00:00",
          "2024-04-12T00:00:00",
          "2024-04-15T00:00:00",
          "2024-04-16T00:00:00",
          "2024-04-17T00:00:00",
          "2024-04-18T00:00:00",
          "2024-04-19T00:00:00",
          "2024-04-22T00:00:00",
          "2024-04-23T00:00:00",
          "2024-04-24T00:00:00",
          "2024-04-25T00:00:00",
          "2024-04-26T00:00:00",
          "2024-04-29T00:00:00",
          "2024-04-30T00:00:00",
          "2024-05-01T00:00:00",
          "2024-05-02T00:00:00",
          "2024-05-03T00:00:00",
          "2024-05-06T00:00:00",
          "2024-05-07T00:00:00",
          "2024-05-08T00:00:00",
          "2024-05-09T00:00:00",
          "2024-05-10T00:00:00",
          "2024-05-13T00:00:00",
          "2024-05-14T00:00:00",
          "2024-05-15T00:00:00",
          "2024-05-16T00:00:00",
          "2024-05-17T00:00:00",
          "2024-05-20T00:00:00",
          "2024-05-21T00:00:00",
          "2024-05-22T00:00:00",
          "2024-05-23T00:00:00",
          "2024-05-24T00:00:00",
          "2024-05-27T00:00:00",
          "2024-05-28T00:00:00",
          "2024-05-29T00:00:00",
          "2024-05-30T00:00:00",
          "2024-05-31T00:00:00",
          "2024-06-03T00:00:00",
          "2024-06-04T00:00:00",
          "2024-06-05T00:00:00",
          "2024-06-06T00:00:00",
          "2024-06-07T00:00:00",
          "2024-06-10T00:00:00",
          "2024-06-11T00:00:00",
          "2024-06-12T00:00:00",
          "2024-06-13T00:00:00",
          "2024-06-14T00:00:00",
          "2024-06-17T00:00:00",
          "2024-06-18T00:00:00",
          "2024-06-19T00:00:00",
          "2024-06-20T00:00:00",
          "2024-06-21T00:00:00",
          "2024-06-24T00:00:00",
          "2024-06-25T00:00:00",
          "2024-06-26T00:00:00",
          "2024-06-27T00:00:00",
          "2024-06-28T00:00:00",
          "2024-07-01T00:00:00",
          "2024-07-02T00:00:00",
          "2024-07-03T00:00:00",
          "2024-07-04T00:00:00",
          "2024-07-05T00:00:00",
          "2024-07-08T00:00:00",
          "2024-07-09T00:00:00",
          "2024-07-10T00:00:00",
          "2024-07-11T00:00:00",
          "2024-07-12T00:00:00",
          "2024-07-15T00:00:00",
          "2024-07-16T00:00:00",
          "2024-07-17T00:00:00",
          "2024-07-18T00:00:00",
          "2024-07-19T00:00:00",
          "2024-07-22T00:00:00",
          "2024-07-23T00:00:00",
          "2024-07-24T00:00:00",
          "2024-07-25T00:00:00",
          "2024-07-26T00:00:00",
          "2024-07-29T00:00:00",
          "2024-07-30T00:00:00",
          "2024-07-31T00:00:00",
          "2024-08-01T00:00:00",
          "2024-08-02T00:00:00",
          "2024-08-05T00:00:00",
          "2024-08-06T00:00:00",
          "2024-08-07T00:00:00",
          "2024-08-08T00:00:00",
          "2024-08-09T00:00:00",
          "2024-08-12T00:00:00",
          "2024-08-13T00:00:00",
          "2024-08-14T00:00:00",
          "2024-08-15T00:00:00",
          "2024-08-16T00:00:00",
          "2024-08-19T00:00:00",
          "2024-08-20T00:00:00",
          "2024-08-21T00:00:00",
          "2024-08-22T00:00:00",
          "2024-08-23T00:00:00",
          "2024-08-26T00:00:00",
          "2024-08-27T00:00:00",
          "2024-08-28T00:00:00",
          "2024-08-29T00:00:00",
          "2024-08-30T00:00:00",
          "2024-09-02T00:00:00",
          "2024-09-03T00:00:00",
          "2024-09-04T00:00:00",
          "2024-09-05T00:00:00",
          "2024-09-06T00:00:00",
          "2024-09-09T00:00:00",
          "2024-09-10T00:00:00",
          "2024-09-11T00:00:00",
          "2024-09-12T00:00:00",
          "2024-09-13T00:00:00",
          "2024-09-16T00:00:00",
          "2024-09-17T00:00:00",
          "2024-09-18T00:00:00",
          "2024-09-19T00:00:00",
          "2024-09-20T00:00:00",
          "2024-09-23T00:00:00",
          "2024-09-24T00:00:00",
          "2024-09-25T00:00:00",
          "2024-09-26T00:00:00",
          "2024-09-27T00:00:00",
          "2024-09-30T00:00:00",
          "2024-10-01T00:00:00",
          "2024-10-02T00:00:00",
          "2024-10-03T00:00:00",
          "2024-10-04T00:00:00",
          "2024-10-07T00:00:00",
          "2024-10-08T00:00:00",
          "2024-10-09T00:00:00",
          "2024-10-10T00:00:00",
          "2024-10-11T00:00:00",
          "2024-10-14T00:00:00",
          "2024-10-15T00:00:00",
          "2024-10-16T00:00:00",
          "2024-10-17T00:00:00",
          "2024-10-18T00:00:00",
          "2024-10-21T00:00:00",
          "2024-10-22T00:00:00",
          "2024-10-23T00:00:00",
          "2024-10-24T00:00:00",
          "2024-10-25T00:00:00",
          "2024-10-28T00:00:00",
          "2024-10-29T00:00:00",
          "2024-10-30T00:00:00",
          "2024-10-31T00:00:00",
          "2024-11-01T00:00:00",
          "2024-11-04T00:00:00",
          "2024-11-05T00:00:00",
          "2024-11-06T00:00:00",
          "2024-11-07T00:00:00",
          "2024-11-08T00:00:00",
          "2024-11-11T00:00:00",
          "2024-11-12T00:00:00",
          "2024-11-13T00:00:00",
          "2024-11-14T00:00:00",
          "2024-11-15T00:00:00",
          "2024-11-18T00:00:00",
          "2024-11-19T00:00:00",
          "2024-11-20T00:00:00",
          "2024-11-21T00:00:00",
          "2024-11-22T00:00:00",
          "2024-11-25T00:00:00",
          "2024-11-26T00:00:00",
          "2024-11-27T00:00:00",
          "2024-11-28T00:00:00",
          "2024-11-29T00:00:00"
         ],
         "y": [
          100,
          98.98717627777198,
          99.61795441860131,
          99.46527793393865,
          99.55559409387263,
          99.36492567291533,
          99.09899961859317,
          98.72554640970515,
          99.66597370611514,
          99.22801645430586,
          99.04810162379216,
          98.05391512503434,
          99.01083592672194,
          98.90976617634436,
          99.49323376914396,
          99.33912230577279,
          100.84795866841326,
          101.29165583505655,
          101.86221736934978,
          101.93461379516782,
          102.24211923255588,
          102.09732638091981,
          101.71097586339563,
          101.53034354352768,
          101.59342135761061,
          102.41056298327173,
          102.14535441830381,
          102.61843364899073,
          102.9589085971937,
          103.36891001379766,
          102.31308067966542,
          102.65212064915987,
          103.2470593217573,
          103.72873967482508,
          103.58466431254327,
          103.34095417859237,
          103.58036812628792,
          104.86055288154661,
          105.16160091474643,
          104.67131943929782,
          105.00319326511993,
          104.84263314743067,
          104.59390058800003,
          105.20675899471341,
          105.4504691286643,
          105.34796439957823,
          105.94648176907675,
          106.86970682072506,
          106.62026552181032,
          106.01887819489477,
          106.9120036931452,
          107.20732056138118,
          107.10912076842061,
          106.98296514025473,
          107.1234530557653,
          107.76354980832971,
          107.64097287706494,
          108.6903535568791,
          108.60075488629937,
          108.8609497756577,
          109.18780992587023,
          109.30177698488399,
          109.40642543216266,
          109.02366236140972,
          109.7734212368624,
          109.66160664591138,
          108.95914956861827,
          109.73829925798475,
          108.95557087171719,
          109.27095119226169,
          108.81507420633648,
          109.05448815403203,
          109.05734936157884,
          107.6524439568628,
          107.13922032181848,
          107.57575134478942,
          107.22308782743437,
          107.71265181352871,
          108.8530661426311,
          108.64878292368336,
          107.87178570237963,
          108.91113028110446,
          108.85091367456836,
          107.77716460632017,
          107.77716460632017,
          107.30265039692472,
          107.86676327689987,
          108.66025400348123,
          109.55910191682531,
          109.98272688128989,
          110.48160947911936,
          111.2908674717539,
          111.19195018943905,
          111.21417485968053,
          111.64997964342705,
          111.4270592010091,
          111.30519975909858,
          111.39766838709531,
          110.9417914011701,
          110.61851869772883,
          110.95755866722328,
          110.92028422028288,
          111.38046614233362,
          110.77979630477233,
          109.49029293777855,
          109.69170619930925,
          109.71608333761347,
          110.03075491867389,
          108.8824569565449,
          110.26585518037375,
          110.85362770929888,
          110.42928525548001,
          109.79708088581235,
          108.54269949769619,
          109.86804233292189,
          107.83952493104883,
          105.77374183210557,
          106.50486348408805,
          107.55567914261073,
          106.97508150722814,
          108.35632726299424,
          107.37719929080552,
          108.1627976344901,
          107.67752983465108,
          107.04317299692066,
          106.67832966028365,
          106.39233140378279,
          107.29333178518962,
          107.2460212371599,
          108.45811450272606,
          109.15913660131066,
          108.9061078556247,
          108.66526767909082,
          107.57575134478942,
          108.53266339660685,
          108.74841769535244,
          109.781304869889,
          108.80575559460138,
          108.30974295418892,
          107.04173801821216,
          107.00805101804303,
          106.19879302540849,
          107.22093535937161,
          107.12417054511954,
          106.25470469581909,
          104.63619746042019,
          105.72499630536731,
          105.05408251005075,
          105.61246422506206,
          106.74857361803893,
          104.90427598280509,
          102.07653668938687,
          100.25589870310299,
          100.5168023319454,
          102.69512626106409,
          102.54244977640144,
          102.77039264429915,
          102.9137505172267,
          103.22053846526052,
          103.78178138781865,
          105.03472779722631,
          105.53290165557168,
          106.01458200863945,
          105.46767137342599,
          106.02891429598414,
          105.89272256672892,
          106.34502085575306,
          106.2790730842531,
          106.36867175483285,
          106.61525184620074,
          107.6402553877107,
          107.40156767923956,
          107.56643273305433,
          106.01745196605646,
          105.06268363243161,
          104.65555217324463,
          103.22197344396902,
          104.13802360207481,
          103.65347329159003,
          103.95453007466003,
          104.86055288154661,
          105.46982384148875,
          105.1372325263124,
          105.57447228876742,
          104.97308496185187,
          106.9492781400856,
          105.64830369329394,
          105.84039834308957,
          106.615969335555,
          106.1909093923819,
          107.27971698719921,
          107.90116776642327,
          106.42171346782644,
          106.24753855214672,
          106.5880135003497,
          105.57303731005891,
          106.33283228660095,
          106.44106818065086,
          105.97802505105332,
          106.62886664419116,
          106.41239485609132,
          107.08474363011639,
          108.00008504873809,
          105.87122413571188,
          105.52716174073767,
          106.51705205324016,
          107.00948599675154,
          106.37082422289559,
          106.3299710790541,
          105.88412144434807,
          105.92211338064273,
          106.11779547720961,
          106.24466859472972,
          105.80814632162895,
          104.55161246545003,
          103.61118516904007,
          104.6268788486851,
          104.19894894809498,
          104.5680972208575,
          103.5903954775071,
          104.13444490517372,
          103.49650062067204,
          104.63117503494041,
          102.65499060657687,
          102.49227802082486,
          104.14376351690882,
          103.21695101848927,
          103.08649920406805,
          102.52381255293123,
          102.25716900925484,
          102.83562292644484,
          103.47642841849334,
          103.39830082771147,
          102.36612239265901,
          101.87153598108488,
          102.46862712174507,
          103.17035795981377
         ]
        }
       ],
       "layout": {
        "hovermode": "x unified",
        "template": {
         "data": {
          "bar": [
           {
            "error_x": {
             "color": "#2a3f5f"
            },
            "error_y": {
             "color": "#2a3f5f"
            },
            "marker": {
             "line": {
              "color": "#E5ECF6",
              "width": 0.5
             },
             "pattern": {
              "fillmode": "overlay",
              "size": 10,
              "solidity": 0.2
             }
            },
            "type": "bar"
           }
          ],
          "barpolar": [
           {
            "marker": {
             "line": {
              "color": "#E5ECF6",
              "width": 0.5
             },
             "pattern": {
              "fillmode": "overlay",
              "size": 10,
              "solidity": 0.2
             }
            },
            "type": "barpolar"
           }
          ],
          "carpet": [
           {
            "aaxis": {
             "endlinecolor": "#2a3f5f",
             "gridcolor": "white",
             "linecolor": "white",
             "minorgridcolor": "white",
             "startlinecolor": "#2a3f5f"
            },
            "baxis": {
             "endlinecolor": "#2a3f5f",
             "gridcolor": "white",
             "linecolor": "white",
             "minorgridcolor": "white",
             "startlinecolor": "#2a3f5f"
            },
            "type": "carpet"
           }
          ],
          "choropleth": [
           {
            "colorbar": {
             "outlinewidth": 0,
             "ticks": ""
            },
            "type": "choropleth"
           }
          ],
          "contour": [
           {
            "colorbar": {
             "outlinewidth": 0,
             "ticks": ""
            },
            "colorscale": [
             [
              0,
              "#0d0887"
             ],
             [
              0.1111111111111111,
              "#46039f"
             ],
             [
              0.2222222222222222,
              "#7201a8"
             ],
             [
              0.3333333333333333,
              "#9c179e"
             ],
             [
              0.4444444444444444,
              "#bd3786"
             ],
             [
              0.5555555555555556,
              "#d8576b"
             ],
             [
              0.6666666666666666,
              "#ed7953"
             ],
             [
              0.7777777777777778,
              "#fb9f3a"
             ],
             [
              0.8888888888888888,
              "#fdca26"
             ],
             [
              1,
              "#f0f921"
             ]
            ],
            "type": "contour"
           }
          ],
          "contourcarpet": [
           {
            "colorbar": {
             "outlinewidth": 0,
             "ticks": ""
            },
            "type": "contourcarpet"
           }
          ],
          "heatmap": [
           {
            "colorbar": {
             "outlinewidth": 0,
             "ticks": ""
            },
            "colorscale": [
             [
              0,
              "#0d0887"
             ],
             [
              0.1111111111111111,
              "#46039f"
             ],
             [
              0.2222222222222222,
              "#7201a8"
             ],
             [
              0.3333333333333333,
              "#9c179e"
             ],
             [
              0.4444444444444444,
              "#bd3786"
             ],
             [
              0.5555555555555556,
              "#d8576b"
             ],
             [
              0.6666666666666666,
              "#ed7953"
             ],
             [
              0.7777777777777778,
              "#fb9f3a"
             ],
             [
              0.8888888888888888,
              "#fdca26"
             ],
             [
              1,
              "#f0f921"
             ]
            ],
            "type": "heatmap"
           }
          ],
          "heatmapgl": [
           {
            "colorbar": {
             "outlinewidth": 0,
             "ticks": ""
            },
            "colorscale": [
             [
              0,
              "#0d0887"
             ],
             [
              0.1111111111111111,
              "#46039f"
             ],
             [
              0.2222222222222222,
              "#7201a8"
             ],
             [
              0.3333333333333333,
              "#9c179e"
             ],
             [
              0.4444444444444444,
              "#bd3786"
             ],
             [
              0.5555555555555556,
              "#d8576b"
             ],
             [
              0.6666666666666666,
              "#ed7953"
             ],
             [
              0.7777777777777778,
              "#fb9f3a"
             ],
             [
              0.8888888888888888,
              "#fdca26"
             ],
             [
              1,
              "#f0f921"
             ]
            ],
            "type": "heatmapgl"
           }
          ],
          "histogram": [
           {
            "marker": {
             "pattern": {
              "fillmode": "overlay",
              "size": 10,
              "solidity": 0.2
             }
            },
            "type": "histogram"
           }
          ],
          "histogram2d": [
           {
            "colorbar": {
             "outlinewidth": 0,
             "ticks": ""
            },
            "colorscale": [
             [
              0,
              "#0d0887"
             ],
             [
              0.1111111111111111,
              "#46039f"
             ],
             [
              0.2222222222222222,
              "#7201a8"
             ],
             [
              0.3333333333333333,
              "#9c179e"
             ],
             [
              0.4444444444444444,
              "#bd3786"
             ],
             [
              0.5555555555555556,
              "#d8576b"
             ],
             [
              0.6666666666666666,
              "#ed7953"
             ],
             [
              0.7777777777777778,
              "#fb9f3a"
             ],
             [
              0.8888888888888888,
              "#fdca26"
             ],
             [
              1,
              "#f0f921"
             ]
            ],
            "type": "histogram2d"
           }
          ],
          "histogram2dcontour": [
           {
            "colorbar": {
             "outlinewidth": 0,
             "ticks": ""
            },
            "colorscale": [
             [
              0,
              "#0d0887"
             ],
             [
              0.1111111111111111,
              "#46039f"
             ],
             [
              0.2222222222222222,
              "#7201a8"
             ],
             [
              0.3333333333333333,
              "#9c179e"
             ],
             [
              0.4444444444444444,
              "#bd3786"
             ],
             [
              0.5555555555555556,
              "#d8576b"
             ],
             [
              0.6666666666666666,
              "#ed7953"
             ],
             [
              0.7777777777777778,
              "#fb9f3a"
             ],
             [
              0.8888888888888888,
              "#fdca26"
             ],
             [
              1,
              "#f0f921"
             ]
            ],
            "type": "histogram2dcontour"
           }
          ],
          "mesh3d": [
           {
            "colorbar": {
             "outlinewidth": 0,
             "ticks": ""
            },
            "type": "mesh3d"
           }
          ],
          "parcoords": [
           {
            "line": {
             "colorbar": {
              "outlinewidth": 0,
              "ticks": ""
             }
            },
            "type": "parcoords"
           }
          ],
          "pie": [
           {
            "automargin": true,
            "type": "pie"
           }
          ],
          "scatter": [
           {
            "fillpattern": {
             "fillmode": "overlay",
             "size": 10,
             "solidity": 0.2
            },
            "type": "scatter"
           }
          ],
          "scatter3d": [
           {
            "line": {
             "colorbar": {
              "outlinewidth": 0,
              "ticks": ""
             }
            },
            "marker": {
             "colorbar": {
              "outlinewidth": 0,
              "ticks": ""
             }
            },
            "type": "scatter3d"
           }
          ],
          "scattercarpet": [
           {
            "marker": {
             "colorbar": {
              "outlinewidth": 0,
              "ticks": ""
             }
            },
            "type": "scattercarpet"
           }
          ],
          "scattergeo": [
           {
            "marker": {
             "colorbar": {
              "outlinewidth": 0,
              "ticks": ""
             }
            },
            "type": "scattergeo"
           }
          ],
          "scattergl": [
           {
            "marker": {
             "colorbar": {
              "outlinewidth": 0,
              "ticks": ""
             }
            },
            "type": "scattergl"
           }
          ],
          "scattermapbox": [
           {
            "marker": {
             "colorbar": {
              "outlinewidth": 0,
              "ticks": ""
             }
            },
            "type": "scattermapbox"
           }
          ],
          "scatterpolar": [
           {
            "marker": {
             "colorbar": {
              "outlinewidth": 0,
              "ticks": ""
             }
            },
            "type": "scatterpolar"
           }
          ],
          "scatterpolargl": [
           {
            "marker": {
             "colorbar": {
              "outlinewidth": 0,
              "ticks": ""
             }
            },
            "type": "scatterpolargl"
           }
          ],
          "scatterternary": [
           {
            "marker": {
             "colorbar": {
              "outlinewidth": 0,
              "ticks": ""
             }
            },
            "type": "scatterternary"
           }
          ],
          "surface": [
           {
            "colorbar": {
             "outlinewidth": 0,
             "ticks": ""
            },
            "colorscale": [
             [
              0,
              "#0d0887"
             ],
             [
              0.1111111111111111,
              "#46039f"
             ],
             [
              0.2222222222222222,
              "#7201a8"
             ],
             [
              0.3333333333333333,
              "#9c179e"
             ],
             [
              0.4444444444444444,
              "#bd3786"
             ],
             [
              0.5555555555555556,
              "#d8576b"
             ],
             [
              0.6666666666666666,
              "#ed7953"
             ],
             [
              0.7777777777777778,
              "#fb9f3a"
             ],
             [
              0.8888888888888888,
              "#fdca26"
             ],
             [
              1,
              "#f0f921"
             ]
            ],
            "type": "surface"
           }
          ],
          "table": [
           {
            "cells": {
             "fill": {
              "color": "#EBF0F8"
             },
             "line": {
              "color": "white"
             }
            },
            "header": {
             "fill": {
              "color": "#C8D4E3"
             },
             "line": {
              "color": "white"
             }
            },
            "type": "table"
           }
          ]
         },
         "layout": {
          "annotationdefaults": {
           "arrowcolor": "#2a3f5f",
           "arrowhead": 0,
           "arrowwidth": 1
          },
          "autotypenumbers": "strict",
          "coloraxis": {
           "colorbar": {
            "outlinewidth": 0,
            "ticks": ""
           }
          },
          "colorscale": {
           "diverging": [
            [
             0,
             "#8e0152"
            ],
            [
             0.1,
             "#c51b7d"
            ],
            [
             0.2,
             "#de77ae"
            ],
            [
             0.3,
             "#f1b6da"
            ],
            [
             0.4,
             "#fde0ef"
            ],
            [
             0.5,
             "#f7f7f7"
            ],
            [
             0.6,
             "#e6f5d0"
            ],
            [
             0.7,
             "#b8e186"
            ],
            [
             0.8,
             "#7fbc41"
            ],
            [
             0.9,
             "#4d9221"
            ],
            [
             1,
             "#276419"
            ]
           ],
           "sequential": [
            [
             0,
             "#0d0887"
            ],
            [
             0.1111111111111111,
             "#46039f"
            ],
            [
             0.2222222222222222,
             "#7201a8"
            ],
            [
             0.3333333333333333,
             "#9c179e"
            ],
            [
             0.4444444444444444,
             "#bd3786"
            ],
            [
             0.5555555555555556,
             "#d8576b"
            ],
            [
             0.6666666666666666,
             "#ed7953"
            ],
            [
             0.7777777777777778,
             "#fb9f3a"
            ],
            [
             0.8888888888888888,
             "#fdca26"
            ],
            [
             1,
             "#f0f921"
            ]
           ],
           "sequentialminus": [
            [
             0,
             "#0d0887"
            ],
            [
             0.1111111111111111,
             "#46039f"
            ],
            [
             0.2222222222222222,
             "#7201a8"
            ],
            [
             0.3333333333333333,
             "#9c179e"
            ],
            [
             0.4444444444444444,
             "#bd3786"
            ],
            [
             0.5555555555555556,
             "#d8576b"
            ],
            [
             0.6666666666666666,
             "#ed7953"
            ],
            [
             0.7777777777777778,
             "#fb9f3a"
            ],
            [
             0.8888888888888888,
             "#fdca26"
            ],
            [
             1,
             "#f0f921"
            ]
           ]
          },
          "colorway": [
           "#636efa",
           "#EF553B",
           "#00cc96",
           "#ab63fa",
           "#FFA15A",
           "#19d3f3",
           "#FF6692",
           "#B6E880",
           "#FF97FF",
           "#FECB52"
          ],
          "font": {
           "color": "#2a3f5f"
          },
          "geo": {
           "bgcolor": "white",
           "lakecolor": "white",
           "landcolor": "#E5ECF6",
           "showlakes": true,
           "showland": true,
           "subunitcolor": "white"
          },
          "hoverlabel": {
           "align": "left"
          },
          "hovermode": "closest",
          "mapbox": {
           "style": "light"
          },
          "paper_bgcolor": "white",
          "plot_bgcolor": "#E5ECF6",
          "polar": {
           "angularaxis": {
            "gridcolor": "white",
            "linecolor": "white",
            "ticks": ""
           },
           "bgcolor": "#E5ECF6",
           "radialaxis": {
            "gridcolor": "white",
            "linecolor": "white",
            "ticks": ""
           }
          },
          "scene": {
           "xaxis": {
            "backgroundcolor": "#E5ECF6",
            "gridcolor": "white",
            "gridwidth": 2,
            "linecolor": "white",
            "showbackground": true,
            "ticks": "",
            "zerolinecolor": "white"
           },
           "yaxis": {
            "backgroundcolor": "#E5ECF6",
            "gridcolor": "white",
            "gridwidth": 2,
            "linecolor": "white",
            "showbackground": true,
            "ticks": "",
            "zerolinecolor": "white"
           },
           "zaxis": {
            "backgroundcolor": "#E5ECF6",
            "gridcolor": "white",
            "gridwidth": 2,
            "linecolor": "white",
            "showbackground": true,
            "ticks": "",
            "zerolinecolor": "white"
           }
          },
          "shapedefaults": {
           "line": {
            "color": "#2a3f5f"
           }
          },
          "ternary": {
           "aaxis": {
            "gridcolor": "white",
            "linecolor": "white",
            "ticks": ""
           },
           "baxis": {
            "gridcolor": "white",
            "linecolor": "white",
            "ticks": ""
           },
           "bgcolor": "#E5ECF6",
           "caxis": {
            "gridcolor": "white",
            "linecolor": "white",
            "ticks": ""
           }
          },
          "title": {
           "x": 0.05
          },
          "xaxis": {
           "automargin": true,
           "gridcolor": "white",
           "linecolor": "white",
           "ticks": "",
           "title": {
            "standoff": 15
           },
           "zerolinecolor": "white",
           "zerolinewidth": 2
          },
          "yaxis": {
           "automargin": true,
           "gridcolor": "white",
           "linecolor": "white",
           "ticks": "",
           "title": {
            "standoff": 15
           },
           "zerolinecolor": "white",
           "zerolinewidth": 2
          }
         }
        },
        "title": {
         "text": "Índices de Europa (Base 100)"
        },
        "xaxis": {
         "title": {
          "text": "Fecha"
         }
        },
        "yaxis": {
         "title": {
          "text": "Índice (Base 100)"
         }
        }
       }
      }
     },
     "metadata": {},
     "output_type": "display_data"
    },
    {
     "data": {
      "application/vnd.plotly.v1+json": {
       "config": {
        "plotlyServerURL": "https://plot.ly"
       },
       "data": [
        {
         "mode": "lines",
         "name": "Bovespa",
         "type": "scatter",
         "x": [
          "2024-01-02T00:00:00",
          "2024-01-03T00:00:00",
          "2024-01-04T00:00:00",
          "2024-01-05T00:00:00",
          "2024-01-08T00:00:00",
          "2024-01-09T00:00:00",
          "2024-01-10T00:00:00",
          "2024-01-11T00:00:00",
          "2024-01-12T00:00:00",
          "2024-01-15T00:00:00",
          "2024-01-16T00:00:00",
          "2024-01-17T00:00:00",
          "2024-01-18T00:00:00",
          "2024-01-19T00:00:00",
          "2024-01-22T00:00:00",
          "2024-01-23T00:00:00",
          "2024-01-24T00:00:00",
          "2024-01-25T00:00:00",
          "2024-01-26T00:00:00",
          "2024-01-29T00:00:00",
          "2024-01-30T00:00:00",
          "2024-01-31T00:00:00",
          "2024-02-01T00:00:00",
          "2024-02-02T00:00:00",
          "2024-02-05T00:00:00",
          "2024-02-06T00:00:00",
          "2024-02-07T00:00:00",
          "2024-02-08T00:00:00",
          "2024-02-09T00:00:00",
          "2024-02-12T00:00:00",
          "2024-02-13T00:00:00",
          "2024-02-14T00:00:00",
          "2024-02-15T00:00:00",
          "2024-02-16T00:00:00",
          "2024-02-19T00:00:00",
          "2024-02-20T00:00:00",
          "2024-02-21T00:00:00",
          "2024-02-22T00:00:00",
          "2024-02-23T00:00:00",
          "2024-02-26T00:00:00",
          "2024-02-27T00:00:00",
          "2024-02-28T00:00:00",
          "2024-02-29T00:00:00",
          "2024-03-01T00:00:00",
          "2024-03-04T00:00:00",
          "2024-03-05T00:00:00",
          "2024-03-06T00:00:00",
          "2024-03-07T00:00:00",
          "2024-03-08T00:00:00",
          "2024-03-11T00:00:00",
          "2024-03-12T00:00:00",
          "2024-03-13T00:00:00",
          "2024-03-14T00:00:00",
          "2024-03-15T00:00:00",
          "2024-03-18T00:00:00",
          "2024-03-19T00:00:00",
          "2024-03-20T00:00:00",
          "2024-03-21T00:00:00",
          "2024-03-22T00:00:00",
          "2024-03-25T00:00:00",
          "2024-03-26T00:00:00",
          "2024-03-27T00:00:00",
          "2024-03-28T00:00:00",
          "2024-04-01T00:00:00",
          "2024-04-02T00:00:00",
          "2024-04-03T00:00:00",
          "2024-04-04T00:00:00",
          "2024-04-05T00:00:00",
          "2024-04-08T00:00:00",
          "2024-04-09T00:00:00",
          "2024-04-10T00:00:00",
          "2024-04-11T00:00:00",
          "2024-04-12T00:00:00",
          "2024-04-15T00:00:00",
          "2024-04-16T00:00:00",
          "2024-04-17T00:00:00",
          "2024-04-18T00:00:00",
          "2024-04-19T00:00:00",
          "2024-04-22T00:00:00",
          "2024-04-23T00:00:00",
          "2024-04-24T00:00:00",
          "2024-04-25T00:00:00",
          "2024-04-26T00:00:00",
          "2024-04-29T00:00:00",
          "2024-04-30T00:00:00",
          "2024-05-01T00:00:00",
          "2024-05-02T00:00:00",
          "2024-05-03T00:00:00",
          "2024-05-06T00:00:00",
          "2024-05-07T00:00:00",
          "2024-05-08T00:00:00",
          "2024-05-09T00:00:00",
          "2024-05-10T00:00:00",
          "2024-05-13T00:00:00",
          "2024-05-14T00:00:00",
          "2024-05-15T00:00:00",
          "2024-05-16T00:00:00",
          "2024-05-17T00:00:00",
          "2024-05-20T00:00:00",
          "2024-05-21T00:00:00",
          "2024-05-22T00:00:00",
          "2024-05-23T00:00:00",
          "2024-05-24T00:00:00",
          "2024-05-27T00:00:00",
          "2024-05-28T00:00:00",
          "2024-05-29T00:00:00",
          "2024-05-30T00:00:00",
          "2024-05-31T00:00:00",
          "2024-06-03T00:00:00",
          "2024-06-04T00:00:00",
          "2024-06-05T00:00:00",
          "2024-06-06T00:00:00",
          "2024-06-07T00:00:00",
          "2024-06-10T00:00:00",
          "2024-06-11T00:00:00",
          "2024-06-12T00:00:00",
          "2024-06-13T00:00:00",
          "2024-06-14T00:00:00",
          "2024-06-17T00:00:00",
          "2024-06-18T00:00:00",
          "2024-06-19T00:00:00",
          "2024-06-20T00:00:00",
          "2024-06-21T00:00:00",
          "2024-06-24T00:00:00",
          "2024-06-25T00:00:00",
          "2024-06-26T00:00:00",
          "2024-06-27T00:00:00",
          "2024-06-28T00:00:00",
          "2024-07-01T00:00:00",
          "2024-07-02T00:00:00",
          "2024-07-03T00:00:00",
          "2024-07-04T00:00:00",
          "2024-07-05T00:00:00",
          "2024-07-08T00:00:00",
          "2024-07-09T00:00:00",
          "2024-07-10T00:00:00",
          "2024-07-11T00:00:00",
          "2024-07-12T00:00:00",
          "2024-07-15T00:00:00",
          "2024-07-16T00:00:00",
          "2024-07-17T00:00:00",
          "2024-07-18T00:00:00",
          "2024-07-19T00:00:00",
          "2024-07-22T00:00:00",
          "2024-07-23T00:00:00",
          "2024-07-24T00:00:00",
          "2024-07-25T00:00:00",
          "2024-07-26T00:00:00",
          "2024-07-29T00:00:00",
          "2024-07-30T00:00:00",
          "2024-07-31T00:00:00",
          "2024-08-01T00:00:00",
          "2024-08-02T00:00:00",
          "2024-08-05T00:00:00",
          "2024-08-06T00:00:00",
          "2024-08-07T00:00:00",
          "2024-08-08T00:00:00",
          "2024-08-09T00:00:00",
          "2024-08-12T00:00:00",
          "2024-08-13T00:00:00",
          "2024-08-14T00:00:00",
          "2024-08-15T00:00:00",
          "2024-08-16T00:00:00",
          "2024-08-19T00:00:00",
          "2024-08-20T00:00:00",
          "2024-08-21T00:00:00",
          "2024-08-22T00:00:00",
          "2024-08-23T00:00:00",
          "2024-08-26T00:00:00",
          "2024-08-27T00:00:00",
          "2024-08-28T00:00:00",
          "2024-08-29T00:00:00",
          "2024-08-30T00:00:00",
          "2024-09-02T00:00:00",
          "2024-09-03T00:00:00",
          "2024-09-04T00:00:00",
          "2024-09-05T00:00:00",
          "2024-09-06T00:00:00",
          "2024-09-09T00:00:00",
          "2024-09-10T00:00:00",
          "2024-09-11T00:00:00",
          "2024-09-12T00:00:00",
          "2024-09-13T00:00:00",
          "2024-09-16T00:00:00",
          "2024-09-17T00:00:00",
          "2024-09-18T00:00:00",
          "2024-09-19T00:00:00",
          "2024-09-20T00:00:00",
          "2024-09-23T00:00:00",
          "2024-09-24T00:00:00",
          "2024-09-25T00:00:00",
          "2024-09-26T00:00:00",
          "2024-09-27T00:00:00",
          "2024-09-30T00:00:00",
          "2024-10-01T00:00:00",
          "2024-10-02T00:00:00",
          "2024-10-03T00:00:00",
          "2024-10-04T00:00:00",
          "2024-10-07T00:00:00",
          "2024-10-08T00:00:00",
          "2024-10-09T00:00:00",
          "2024-10-10T00:00:00",
          "2024-10-11T00:00:00",
          "2024-10-14T00:00:00",
          "2024-10-15T00:00:00",
          "2024-10-16T00:00:00",
          "2024-10-17T00:00:00",
          "2024-10-18T00:00:00",
          "2024-10-21T00:00:00",
          "2024-10-22T00:00:00",
          "2024-10-23T00:00:00",
          "2024-10-24T00:00:00",
          "2024-10-25T00:00:00",
          "2024-10-28T00:00:00",
          "2024-10-29T00:00:00",
          "2024-10-30T00:00:00",
          "2024-10-31T00:00:00",
          "2024-11-01T00:00:00",
          "2024-11-04T00:00:00",
          "2024-11-05T00:00:00",
          "2024-11-06T00:00:00",
          "2024-11-07T00:00:00",
          "2024-11-08T00:00:00",
          "2024-11-11T00:00:00",
          "2024-11-12T00:00:00",
          "2024-11-13T00:00:00",
          "2024-11-14T00:00:00",
          "2024-11-15T00:00:00",
          "2024-11-18T00:00:00",
          "2024-11-19T00:00:00",
          "2024-11-20T00:00:00",
          "2024-11-21T00:00:00",
          "2024-11-22T00:00:00",
          "2024-11-25T00:00:00",
          "2024-11-26T00:00:00",
          "2024-11-27T00:00:00",
          "2024-11-28T00:00:00",
          "2024-11-29T00:00:00"
         ],
         "y": [
          100,
          100.1032427259094,
          98.89145949041801,
          99.49207593238731,
          99.79652893433914,
          99.05800432564413,
          98.60132482271642,
          98.45663428713536,
          98.71210351402067,
          99.11377046956599,
          97.4355109761336,
          96.85524164073038,
          95.94489702103289,
          96.18604791366798,
          95.4068290918408,
          96.65855294392487,
          96.32169529077522,
          96.58771486921333,
          97.1890849077221,
          96.83941611340121,
          96.00970632342857,
          96.2734651122482,
          96.82283698953255,
          95.84391508474192,
          96.15364326247014,
          98.28104629343542,
          97.6721402895318,
          96.62388750310859,
          96.47995056406701,
          96.47995056406701,
          96.47995056406701,
          95.72032525226643,
          96.31265213230141,
          97.00746814170628,
          97.24108306894654,
          97.90424802369307,
          97.9916652222733,
          98.1491668990256,
          97.52971054356918,
          97.67289388607128,
          99.24037468819942,
          98.08435759662991,
          97.22902552431479,
          97.34960097063234,
          96.71733347400469,
          96.5342095149099,
          97.13105797418177,
          96.71657987746521,
          95.76026586885914,
          95.04660994596713,
          96.2101630029315,
          96.46487863327732,
          96.22674212680016,
          95.51233260736866,
          95.67209507373941,
          96.10541308394312,
          97.30815316096069,
          96.58017890381846,
          95.7271076211218,
          95.65476235333126,
          95.60351778864631,
          96.22749572333964,
          96.54023828722579,
          95.69922454916086,
          96.12048501473282,
          95.94640421411185,
          96.02929983345516,
          95.55227322396136,
          97.10618928837879,
          97.88465451366648,
          96.50105126717257,
          96.00518474419165,
          94.91246976193885,
          94.45126867977423,
          93.7391199499612,
          93.57483590435352,
          93.59367581784065,
          94.29301340648244,
          94.63137825271106,
          94.31109972343008,
          94.0043859318598,
          93.93279426060876,
          95.34955575483998,
          95.97202649645433,
          94.89589063807018,
          94.89589063807018,
          95.79869929237285,
          96.84393769263812,
          96.81153304144028,
          97.37220886681688,
          97.57643352901724,
          96.60203320346353,
          96.15891843824653,
          96.57716451766053,
          96.84845927187502,
          96.48145775714599,
          96.67437847125406,
          96.5741501315026,
          96.27271151570872,
          96.01724228882341,
          94.68940518625139,
          93.99534277338599,
          93.67657143718397,
          93.81975477968605,
          93.280179657415,
          92.47157057054794,
          92.47157057054794,
          92.01263027800177,
          91.96289290639578,
          91.78956570231429,
          91.49189506921785,
          92.616261106129,
          91.00959328394764,
          91.00431810817125,
          91.66371508022036,
          90.38335455963586,
          90.1060310331055,
          90.17686910781705,
          89.78198452112707,
          90.15275401855355,
          90.62827343496839,
          90.76768879477305,
          91.44215769761185,
          92.41881881278401,
          92.1882182717017,
          92.42183319894195,
          93.67807863026293,
          93.37588641792956,
          93.98705321145165,
          94.0390513726761,
          94.69844834472521,
          95.07675380754652,
          95.15437425111344,
          95.36613487870864,
          95.78814894082007,
          95.87104456016337,
          96.68191443664891,
          97.13633314995818,
          97.45585808269969,
          97.29684921286842,
          97.55307203629322,
          96.19810545829974,
          96.17097598287828,
          96.35485353851256,
          95.39778593336699,
          95.27193531127305,
          94.91849853425474,
          96.07753001198218,
          95.67209507373941,
          95.0579138940594,
          96.19810545829974,
          96.00443114765217,
          94.84313888030627,
          94.40303850124721,
          95.15437425111344,
          96.09410913585084,
          96.95848436663978,
          98.43101200479288,
          98.80856387107471,
          99.77467463469408,
          100.46798345101999,
          101.0972365614897,
          100.94651725359279,
          102.32183093815233,
          102.5546922688531,
          102.83879816423882,
          101.86590503176409,
          102.19371952643993,
          103.15907669351982,
          103.07392028455806,
          103.50196311898536,
          102.5200268280368,
          102.49214375607588,
          101.72121449618304,
          101.24795586938664,
          102.57277858580073,
          102.86743483273926,
          101.41299351153378,
          101.53733694054876,
          101.22308718358366,
          101.49212114817969,
          101.00379059059361,
          101.64660843877404,
          101.82445722209243,
          101.70538896885387,
          100.79202996299841,
          100.32103212582048,
          98.77013044756099,
          98.3955929674371,
          99.59230427213879,
          99.16275424463251,
          100.2358757168587,
          100.024868685803,
          99.33608144871398,
          99.8477734990241,
          100.61644196929849,
          99.2275635470282,
          99.31799513176635,
          99.4883079496899,
          99.10698810071065,
          97.93891346450937,
          98.23356971144788,
          97.96152136069392,
          98.72491465519191,
          98.75355132369232,
          99.286344077108,
          98.56515218882114,
          98.34359480621265,
          98.24035208030325,
          97.75729669849356,
          97.38954158722504,
          98.01804110115526,
          97.88691530328492,
          98.88166273540472,
          98.5176756068336,
          98.44909832174051,
          97.75126792617769,
          96.55154223531805,
          98.35565235084441,
          98.46567744560917,
          98.22452655297407,
          97.72790643345365,
          96.332245642328,
          96.36540389006534,
          96.23277089911603,
          96.25990037453748,
          96.3036089738276,
          96.3036089738276,
          96.28552265687996,
          96.60881557231889,
          96.60881557231889,
          95.64797998447591,
          97.30890675750017,
          97.24108306894654,
          97.90876960292998,
          96.21091659947098,
          93.9056647851873,
          94.70296992396212
         ]
        },
        {
         "mode": "lines",
         "name": "IPSA (Chile)",
         "type": "scatter",
         "x": [
          "2024-01-02T00:00:00",
          "2024-01-03T00:00:00",
          "2024-01-04T00:00:00",
          "2024-01-05T00:00:00",
          "2024-01-08T00:00:00",
          "2024-01-09T00:00:00",
          "2024-01-10T00:00:00",
          "2024-01-11T00:00:00",
          "2024-01-12T00:00:00",
          "2024-01-15T00:00:00",
          "2024-01-16T00:00:00",
          "2024-01-17T00:00:00",
          "2024-01-18T00:00:00",
          "2024-01-19T00:00:00",
          "2024-01-22T00:00:00",
          "2024-01-23T00:00:00",
          "2024-01-24T00:00:00",
          "2024-01-25T00:00:00",
          "2024-01-26T00:00:00",
          "2024-01-29T00:00:00",
          "2024-01-30T00:00:00",
          "2024-01-31T00:00:00",
          "2024-02-01T00:00:00",
          "2024-02-02T00:00:00",
          "2024-02-05T00:00:00",
          "2024-02-06T00:00:00",
          "2024-02-07T00:00:00",
          "2024-02-08T00:00:00",
          "2024-02-09T00:00:00",
          "2024-02-12T00:00:00",
          "2024-02-13T00:00:00",
          "2024-02-14T00:00:00",
          "2024-02-15T00:00:00",
          "2024-02-16T00:00:00",
          "2024-02-19T00:00:00",
          "2024-02-20T00:00:00",
          "2024-02-21T00:00:00",
          "2024-02-22T00:00:00",
          "2024-02-23T00:00:00",
          "2024-02-26T00:00:00",
          "2024-02-27T00:00:00",
          "2024-02-28T00:00:00",
          "2024-02-29T00:00:00",
          "2024-03-01T00:00:00",
          "2024-03-04T00:00:00",
          "2024-03-05T00:00:00",
          "2024-03-06T00:00:00",
          "2024-03-07T00:00:00",
          "2024-03-08T00:00:00",
          "2024-03-11T00:00:00",
          "2024-03-12T00:00:00",
          "2024-03-13T00:00:00",
          "2024-03-14T00:00:00",
          "2024-03-15T00:00:00",
          "2024-03-18T00:00:00",
          "2024-03-19T00:00:00",
          "2024-03-20T00:00:00",
          "2024-03-21T00:00:00",
          "2024-03-22T00:00:00",
          "2024-03-25T00:00:00",
          "2024-03-26T00:00:00",
          "2024-03-27T00:00:00",
          "2024-03-28T00:00:00",
          "2024-04-01T00:00:00",
          "2024-04-02T00:00:00",
          "2024-04-03T00:00:00",
          "2024-04-04T00:00:00",
          "2024-04-05T00:00:00",
          "2024-04-08T00:00:00",
          "2024-04-09T00:00:00",
          "2024-04-10T00:00:00",
          "2024-04-11T00:00:00",
          "2024-04-12T00:00:00",
          "2024-04-15T00:00:00",
          "2024-04-16T00:00:00",
          "2024-04-17T00:00:00",
          "2024-04-18T00:00:00",
          "2024-04-19T00:00:00",
          "2024-04-22T00:00:00",
          "2024-04-23T00:00:00",
          "2024-04-24T00:00:00",
          "2024-04-25T00:00:00",
          "2024-04-26T00:00:00",
          "2024-04-29T00:00:00",
          "2024-04-30T00:00:00",
          "2024-05-01T00:00:00",
          "2024-05-02T00:00:00",
          "2024-05-03T00:00:00",
          "2024-05-06T00:00:00",
          "2024-05-07T00:00:00",
          "2024-05-08T00:00:00",
          "2024-05-09T00:00:00",
          "2024-05-10T00:00:00",
          "2024-05-13T00:00:00",
          "2024-05-14T00:00:00",
          "2024-05-15T00:00:00",
          "2024-05-16T00:00:00",
          "2024-05-17T00:00:00",
          "2024-05-20T00:00:00",
          "2024-05-21T00:00:00",
          "2024-05-22T00:00:00",
          "2024-05-23T00:00:00",
          "2024-05-24T00:00:00",
          "2024-05-27T00:00:00",
          "2024-05-28T00:00:00",
          "2024-05-29T00:00:00",
          "2024-05-30T00:00:00",
          "2024-05-31T00:00:00",
          "2024-06-03T00:00:00",
          "2024-06-04T00:00:00",
          "2024-06-05T00:00:00",
          "2024-06-06T00:00:00",
          "2024-06-07T00:00:00",
          "2024-06-10T00:00:00",
          "2024-06-11T00:00:00",
          "2024-06-12T00:00:00",
          "2024-06-13T00:00:00",
          "2024-06-14T00:00:00",
          "2024-06-17T00:00:00",
          "2024-06-18T00:00:00",
          "2024-06-19T00:00:00",
          "2024-06-20T00:00:00",
          "2024-06-21T00:00:00",
          "2024-06-24T00:00:00",
          "2024-06-25T00:00:00",
          "2024-06-26T00:00:00",
          "2024-06-27T00:00:00",
          "2024-06-28T00:00:00",
          "2024-07-01T00:00:00",
          "2024-07-02T00:00:00",
          "2024-07-03T00:00:00",
          "2024-07-04T00:00:00",
          "2024-07-05T00:00:00",
          "2024-07-08T00:00:00",
          "2024-07-09T00:00:00",
          "2024-07-10T00:00:00",
          "2024-07-11T00:00:00",
          "2024-07-12T00:00:00",
          "2024-07-15T00:00:00",
          "2024-07-16T00:00:00",
          "2024-07-17T00:00:00",
          "2024-07-18T00:00:00",
          "2024-07-19T00:00:00",
          "2024-07-22T00:00:00",
          "2024-07-23T00:00:00",
          "2024-07-24T00:00:00",
          "2024-07-25T00:00:00",
          "2024-07-26T00:00:00",
          "2024-07-29T00:00:00",
          "2024-07-30T00:00:00",
          "2024-07-31T00:00:00",
          "2024-08-01T00:00:00",
          "2024-08-02T00:00:00",
          "2024-08-05T00:00:00",
          "2024-08-06T00:00:00",
          "2024-08-07T00:00:00",
          "2024-08-08T00:00:00",
          "2024-08-09T00:00:00",
          "2024-08-12T00:00:00",
          "2024-08-13T00:00:00",
          "2024-08-14T00:00:00",
          "2024-08-15T00:00:00",
          "2024-08-16T00:00:00",
          "2024-08-19T00:00:00",
          "2024-08-20T00:00:00",
          "2024-08-21T00:00:00",
          "2024-08-22T00:00:00",
          "2024-08-23T00:00:00",
          "2024-08-26T00:00:00",
          "2024-08-27T00:00:00",
          "2024-08-28T00:00:00",
          "2024-08-29T00:00:00",
          "2024-08-30T00:00:00",
          "2024-09-02T00:00:00",
          "2024-09-03T00:00:00",
          "2024-09-04T00:00:00",
          "2024-09-05T00:00:00",
          "2024-09-06T00:00:00",
          "2024-09-09T00:00:00",
          "2024-09-10T00:00:00",
          "2024-09-11T00:00:00",
          "2024-09-12T00:00:00",
          "2024-09-13T00:00:00",
          "2024-09-16T00:00:00",
          "2024-09-17T00:00:00",
          "2024-09-18T00:00:00",
          "2024-09-19T00:00:00",
          "2024-09-20T00:00:00",
          "2024-09-23T00:00:00",
          "2024-09-24T00:00:00",
          "2024-09-25T00:00:00",
          "2024-09-26T00:00:00",
          "2024-09-27T00:00:00",
          "2024-09-30T00:00:00",
          "2024-10-01T00:00:00",
          "2024-10-02T00:00:00",
          "2024-10-03T00:00:00",
          "2024-10-04T00:00:00",
          "2024-10-07T00:00:00",
          "2024-10-08T00:00:00",
          "2024-10-09T00:00:00",
          "2024-10-10T00:00:00",
          "2024-10-11T00:00:00",
          "2024-10-14T00:00:00",
          "2024-10-15T00:00:00",
          "2024-10-16T00:00:00",
          "2024-10-17T00:00:00",
          "2024-10-18T00:00:00",
          "2024-10-21T00:00:00",
          "2024-10-22T00:00:00",
          "2024-10-23T00:00:00",
          "2024-10-24T00:00:00",
          "2024-10-25T00:00:00",
          "2024-10-28T00:00:00",
          "2024-10-29T00:00:00",
          "2024-10-30T00:00:00",
          "2024-10-31T00:00:00",
          "2024-11-01T00:00:00",
          "2024-11-04T00:00:00",
          "2024-11-05T00:00:00",
          "2024-11-06T00:00:00",
          "2024-11-07T00:00:00",
          "2024-11-08T00:00:00",
          "2024-11-11T00:00:00",
          "2024-11-12T00:00:00",
          "2024-11-13T00:00:00",
          "2024-11-14T00:00:00",
          "2024-11-15T00:00:00",
          "2024-11-18T00:00:00",
          "2024-11-19T00:00:00",
          "2024-11-20T00:00:00",
          "2024-11-21T00:00:00",
          "2024-11-22T00:00:00",
          "2024-11-25T00:00:00",
          "2024-11-26T00:00:00",
          "2024-11-27T00:00:00",
          "2024-11-28T00:00:00",
          "2024-11-29T00:00:00"
         ],
         "y": [
          100,
          100,
          100,
          100,
          100,
          100,
          100,
          100,
          100,
          100,
          100,
          100,
          100,
          100,
          100,
          100,
          100,
          100,
          100,
          100,
          100,
          100,
          100,
          100,
          100,
          100,
          100,
          100,
          100,
          100,
          100,
          100,
          100,
          100,
          100,
          100,
          100,
          100,
          100,
          100,
          100,
          100,
          100,
          100,
          100,
          100,
          100,
          100,
          100,
          100,
          100,
          100,
          100,
          100,
          100,
          100,
          100,
          100,
          100,
          100,
          100,
          100,
          100,
          100,
          100,
          100,
          100,
          100,
          100,
          100,
          100,
          100,
          100,
          100,
          100,
          100,
          100,
          100,
          100,
          100,
          100,
          100,
          100,
          100,
          100,
          100,
          100,
          100,
          100,
          100,
          100,
          100,
          100,
          100,
          100,
          100,
          100,
          100,
          100,
          100,
          100,
          100,
          100,
          100,
          100,
          100,
          100,
          100,
          100,
          100,
          100,
          100,
          100,
          100,
          100,
          100,
          100,
          100,
          100,
          100,
          100,
          100,
          100,
          100,
          100,
          100,
          100,
          100,
          100,
          100,
          100,
          100,
          100,
          100,
          100,
          100,
          100,
          100,
          100,
          100,
          100,
          100,
          100,
          100,
          100,
          100,
          100,
          100,
          100,
          100,
          100,
          100,
          100,
          100,
          100,
          100,
          100,
          100,
          100,
          100,
          100,
          100,
          100,
          100,
          100,
          100,
          100,
          100,
          100,
          100,
          100,
          100,
          100,
          100,
          100,
          100,
          100,
          100,
          100,
          100,
          100,
          100,
          100,
          100,
          100,
          100,
          100,
          100,
          100,
          100,
          100,
          100,
          100,
          100,
          100,
          100,
          100,
          100,
          100,
          100,
          100,
          100,
          100,
          100,
          100,
          100,
          100,
          100,
          100,
          100,
          100,
          100,
          100,
          100,
          100,
          100,
          100,
          100,
          100,
          100,
          100,
          100,
          100,
          100,
          100,
          100,
          100,
          100,
          100,
          100,
          100,
          100,
          100,
          100,
          100,
          100,
          100,
          100
         ]
        },
        {
         "mode": "lines",
         "name": "MSCI Peru ETF",
         "type": "scatter",
         "x": [
          "2024-01-02T00:00:00",
          "2024-01-03T00:00:00",
          "2024-01-04T00:00:00",
          "2024-01-05T00:00:00",
          "2024-01-08T00:00:00",
          "2024-01-09T00:00:00",
          "2024-01-10T00:00:00",
          "2024-01-11T00:00:00",
          "2024-01-12T00:00:00",
          "2024-01-15T00:00:00",
          "2024-01-16T00:00:00",
          "2024-01-17T00:00:00",
          "2024-01-18T00:00:00",
          "2024-01-19T00:00:00",
          "2024-01-22T00:00:00",
          "2024-01-23T00:00:00",
          "2024-01-24T00:00:00",
          "2024-01-25T00:00:00",
          "2024-01-26T00:00:00",
          "2024-01-29T00:00:00",
          "2024-01-30T00:00:00",
          "2024-01-31T00:00:00",
          "2024-02-01T00:00:00",
          "2024-02-02T00:00:00",
          "2024-02-05T00:00:00",
          "2024-02-06T00:00:00",
          "2024-02-07T00:00:00",
          "2024-02-08T00:00:00",
          "2024-02-09T00:00:00",
          "2024-02-12T00:00:00",
          "2024-02-13T00:00:00",
          "2024-02-14T00:00:00",
          "2024-02-15T00:00:00",
          "2024-02-16T00:00:00",
          "2024-02-19T00:00:00",
          "2024-02-20T00:00:00",
          "2024-02-21T00:00:00",
          "2024-02-22T00:00:00",
          "2024-02-23T00:00:00",
          "2024-02-26T00:00:00",
          "2024-02-27T00:00:00",
          "2024-02-28T00:00:00",
          "2024-02-29T00:00:00",
          "2024-03-01T00:00:00",
          "2024-03-04T00:00:00",
          "2024-03-05T00:00:00",
          "2024-03-06T00:00:00",
          "2024-03-07T00:00:00",
          "2024-03-08T00:00:00",
          "2024-03-11T00:00:00",
          "2024-03-12T00:00:00",
          "2024-03-13T00:00:00",
          "2024-03-14T00:00:00",
          "2024-03-15T00:00:00",
          "2024-03-18T00:00:00",
          "2024-03-19T00:00:00",
          "2024-03-20T00:00:00",
          "2024-03-21T00:00:00",
          "2024-03-22T00:00:00",
          "2024-03-25T00:00:00",
          "2024-03-26T00:00:00",
          "2024-03-27T00:00:00",
          "2024-03-28T00:00:00",
          "2024-04-01T00:00:00",
          "2024-04-02T00:00:00",
          "2024-04-03T00:00:00",
          "2024-04-04T00:00:00",
          "2024-04-05T00:00:00",
          "2024-04-08T00:00:00",
          "2024-04-09T00:00:00",
          "2024-04-10T00:00:00",
          "2024-04-11T00:00:00",
          "2024-04-12T00:00:00",
          "2024-04-15T00:00:00",
          "2024-04-16T00:00:00",
          "2024-04-17T00:00:00",
          "2024-04-18T00:00:00",
          "2024-04-19T00:00:00",
          "2024-04-22T00:00:00",
          "2024-04-23T00:00:00",
          "2024-04-24T00:00:00",
          "2024-04-25T00:00:00",
          "2024-04-26T00:00:00",
          "2024-04-29T00:00:00",
          "2024-04-30T00:00:00",
          "2024-05-01T00:00:00",
          "2024-05-02T00:00:00",
          "2024-05-03T00:00:00",
          "2024-05-06T00:00:00",
          "2024-05-07T00:00:00",
          "2024-05-08T00:00:00",
          "2024-05-09T00:00:00",
          "2024-05-10T00:00:00",
          "2024-05-13T00:00:00",
          "2024-05-14T00:00:00",
          "2024-05-15T00:00:00",
          "2024-05-16T00:00:00",
          "2024-05-17T00:00:00",
          "2024-05-20T00:00:00",
          "2024-05-21T00:00:00",
          "2024-05-22T00:00:00",
          "2024-05-23T00:00:00",
          "2024-05-24T00:00:00",
          "2024-05-27T00:00:00",
          "2024-05-28T00:00:00",
          "2024-05-29T00:00:00",
          "2024-05-30T00:00:00",
          "2024-05-31T00:00:00",
          "2024-06-03T00:00:00",
          "2024-06-04T00:00:00",
          "2024-06-05T00:00:00",
          "2024-06-06T00:00:00",
          "2024-06-07T00:00:00",
          "2024-06-10T00:00:00",
          "2024-06-11T00:00:00",
          "2024-06-12T00:00:00",
          "2024-06-13T00:00:00",
          "2024-06-14T00:00:00",
          "2024-06-17T00:00:00",
          "2024-06-18T00:00:00",
          "2024-06-19T00:00:00",
          "2024-06-20T00:00:00",
          "2024-06-21T00:00:00",
          "2024-06-24T00:00:00",
          "2024-06-25T00:00:00",
          "2024-06-26T00:00:00",
          "2024-06-27T00:00:00",
          "2024-06-28T00:00:00",
          "2024-07-01T00:00:00",
          "2024-07-02T00:00:00",
          "2024-07-03T00:00:00",
          "2024-07-04T00:00:00",
          "2024-07-05T00:00:00",
          "2024-07-08T00:00:00",
          "2024-07-09T00:00:00",
          "2024-07-10T00:00:00",
          "2024-07-11T00:00:00",
          "2024-07-12T00:00:00",
          "2024-07-15T00:00:00",
          "2024-07-16T00:00:00",
          "2024-07-17T00:00:00",
          "2024-07-18T00:00:00",
          "2024-07-19T00:00:00",
          "2024-07-22T00:00:00",
          "2024-07-23T00:00:00",
          "2024-07-24T00:00:00",
          "2024-07-25T00:00:00",
          "2024-07-26T00:00:00",
          "2024-07-29T00:00:00",
          "2024-07-30T00:00:00",
          "2024-07-31T00:00:00",
          "2024-08-01T00:00:00",
          "2024-08-02T00:00:00",
          "2024-08-05T00:00:00",
          "2024-08-06T00:00:00",
          "2024-08-07T00:00:00",
          "2024-08-08T00:00:00",
          "2024-08-09T00:00:00",
          "2024-08-12T00:00:00",
          "2024-08-13T00:00:00",
          "2024-08-14T00:00:00",
          "2024-08-15T00:00:00",
          "2024-08-16T00:00:00",
          "2024-08-19T00:00:00",
          "2024-08-20T00:00:00",
          "2024-08-21T00:00:00",
          "2024-08-22T00:00:00",
          "2024-08-23T00:00:00",
          "2024-08-26T00:00:00",
          "2024-08-27T00:00:00",
          "2024-08-28T00:00:00",
          "2024-08-29T00:00:00",
          "2024-08-30T00:00:00",
          "2024-09-02T00:00:00",
          "2024-09-03T00:00:00",
          "2024-09-04T00:00:00",
          "2024-09-05T00:00:00",
          "2024-09-06T00:00:00",
          "2024-09-09T00:00:00",
          "2024-09-10T00:00:00",
          "2024-09-11T00:00:00",
          "2024-09-12T00:00:00",
          "2024-09-13T00:00:00",
          "2024-09-16T00:00:00",
          "2024-09-17T00:00:00",
          "2024-09-18T00:00:00",
          "2024-09-19T00:00:00",
          "2024-09-20T00:00:00",
          "2024-09-23T00:00:00",
          "2024-09-24T00:00:00",
          "2024-09-25T00:00:00",
          "2024-09-26T00:00:00",
          "2024-09-27T00:00:00",
          "2024-09-30T00:00:00",
          "2024-10-01T00:00:00",
          "2024-10-02T00:00:00",
          "2024-10-03T00:00:00",
          "2024-10-04T00:00:00",
          "2024-10-07T00:00:00",
          "2024-10-08T00:00:00",
          "2024-10-09T00:00:00",
          "2024-10-10T00:00:00",
          "2024-10-11T00:00:00",
          "2024-10-14T00:00:00",
          "2024-10-15T00:00:00",
          "2024-10-16T00:00:00",
          "2024-10-17T00:00:00",
          "2024-10-18T00:00:00",
          "2024-10-21T00:00:00",
          "2024-10-22T00:00:00",
          "2024-10-23T00:00:00",
          "2024-10-24T00:00:00",
          "2024-10-25T00:00:00",
          "2024-10-28T00:00:00",
          "2024-10-29T00:00:00",
          "2024-10-30T00:00:00",
          "2024-10-31T00:00:00",
          "2024-11-01T00:00:00",
          "2024-11-04T00:00:00",
          "2024-11-05T00:00:00",
          "2024-11-06T00:00:00",
          "2024-11-07T00:00:00",
          "2024-11-08T00:00:00",
          "2024-11-11T00:00:00",
          "2024-11-12T00:00:00",
          "2024-11-13T00:00:00",
          "2024-11-14T00:00:00",
          "2024-11-15T00:00:00",
          "2024-11-18T00:00:00",
          "2024-11-19T00:00:00",
          "2024-11-20T00:00:00",
          "2024-11-21T00:00:00",
          "2024-11-22T00:00:00",
          "2024-11-25T00:00:00",
          "2024-11-26T00:00:00",
          "2024-11-27T00:00:00",
          "2024-11-28T00:00:00",
          "2024-11-29T00:00:00"
         ],
         "y": [
          100,
          98.9130354388056,
          99.29494220913102,
          99.0893026881512,
          99.55933747989272,
          98.79553514575528,
          99.29494220913102,
          98.88366316717138,
          99.88248850043627,
          99.88248850043627,
          98.58989562477545,
          97.41480304216495,
          97.03289627183953,
          97.76732633434274,
          97.97296585532257,
          98.67802364619155,
          97.97296585532257,
          98.82490741738951,
          99.20681418771493,
          100.23501179261405,
          99.32432568727866,
          98.88366316717138,
          100.32315102054356,
          98.9130354388056,
          97.50293106358106,
          99.0893026881512,
          99.47120945847662,
          98.47238412521172,
          98.50175639684595,
          99.50058173011085,
          98.1786053763024,
          99.38308143706053,
          102.37954623034182,
          102.99647599979468,
          102.99647599979468,
          102.76145300066723,
          102.87896450023098,
          103.08460402121081,
          103.20211552077451,
          102.93772025001282,
          103.2608712705564,
          101.9976506665298,
          103.2608712705564,
          104.1715573758918,
          104.72973139556281,
          104.40658037501925,
          105.64041750089821,
          107.87309116655545,
          108.96004452123647,
          109.75323033352153,
          109.66510231210542,
          112.83783435473231,
          112.7203228551686,
          115.04112454224193,
          114.39482250115482,
          112.77907860495044,
          116.03994987550684,
          116.18683364670481,
          115.5405428121311,
          114.86485729289635,
          113.30786914647383,
          113.54289214560129,
          115.07049681387618,
          114.8354850212621,
          115.33489208463787,
          118.71327485475798,
          117.2737870013858,
          117.15628670833547,
          117.83196102105681,
          119.24206539628138,
          118.39012383421444,
          119.65334443824102,
          117.2737870013858,
          115.68742658332907,
          115.15863604180568,
          115.74618233311091,
          117.15628670833547,
          117.626321500077,
          116.95064718735564,
          116.42185664583226,
          117.30317047953342,
          118.86015862595593,
          120.71092552128778,
          122.50293666683775,
          119.97649545878457,
          119.24206539628138,
          119.80022820943898,
          121.06344881346556,
          122.3560528956398,
          122.3560528956398,
          121.9153903755325,
          124.44183158358568,
          125.11750589630704,
          124.99999439674329,
          126.85076129207513,
          127.37955183359853,
          126.49823799989734,
          129.5534585429605,
          131.96238825144994,
          131.75674873047012,
          125.9988197300082,
          125.55816841641432,
          126.32197075055176,
          126.32197075055176,
          128.93653998002102,
          127.08577308468918,
          126.17508697935381,
          128.8190284804573,
          128.05522614631985,
          124.20680858445823,
          124.76498260412924,
          126.23384272913565,
          122.91421570879741,
          123.47237852195501,
          118.68390258312375,
          119.97649545878457,
          117.97884479225478,
          117.06814748040597,
          117.06814748040597,
          118.47826306214392,
          118.47826306214392,
          119.80022820943898,
          118.4488795839963,
          119.68272791638866,
          118.5370076054124,
          118.36075156258019,
          116.921263709208,
          118.1844843132346,
          117.80257754290918,
          118.30199581279832,
          121.88601810389828,
          121.88601810389828,
          123.14922750141146,
          123.41362277217316,
          123.14922750141146,
          123.76615727086435,
          124.52995960500178,
          124.08930829140789,
          122.67919270966993,
          124.14805283467636,
          123.090482958143,
          119.4477049172612,
          120.50528600030796,
          120.62279749987168,
          120.4465302505261,
          120.38777450074423,
          118.97767012551968,
          119.38894916747932,
          119.24206539628138,
          119.12455389671763,
          120.79905354270389,
          117.92008904247291,
          114.80611274962789,
          112.83783435473231,
          113.86603195963146,
          113.21974112505775,
          115.51115933398346,
          115.6286708335472,
          116.0987056252887,
          116.5393569388826,
          116.06932214714108,
          118.15511204160036,
          117.94947252062053,
          118.97767012551968,
          119.21269312464713,
          119.24206539628138,
          117.56756575029512,
          119.30082114606324,
          119.56521641682491,
          119.62397216660679,
          117.80257754290918,
          118.41950731236206,
          119.50646066704304,
          119.50646066704304,
          114.86485729289635,
          114.30669447973874,
          115.1880083134399,
          113.1903576469101,
          114.01292693734281,
          113.51350866745366,
          114.77672927148026,
          117.36192622931529,
          119.12455389671763,
          119.4477049172612,
          118.8014028761741,
          120.15276270813018,
          121.62162283313658,
          121.47472785542521,
          122.26791366771027,
          126.82137781392751,
          124.64747110456551,
          129.9059930416517,
          129.40657477176254,
          126.85076129207513,
          127.02702854142073,
          127.5558078764307,
          126.58636602131344,
          128.43713291664528,
          127.46767985501461,
          125.14687816794125,
          125.23501739587076,
          127.58519135457836,
          128.8190284804573,
          128.4665051882795,
          126.11633122957193,
          127.49706333316225,
          128.2608656672997,
          130.87543489676895,
          131.40422543829234,
          131.96238825144994,
          131.19858591731253,
          131.3748531666581,
          131.96238825144994,
          132.19741125057743,
          130.9048183749166,
          129.70035352067185,
          128.02585387468562,
          127.35016835545088,
          128.11398189610173,
          128.9071677083868,
          127.58519135457836,
          130.14100483426577,
          127.43830758338038,
          125.7344244592465,
          125.05875014652517,
          124.29494781238772,
          124.3537035621696,
          124.41244810543806,
          126.20445925098802,
          127.67331937599444,
          127.5558078764307,
          128.1727376458836,
          127.23266806240056,
          126.08694775142428,
          126.29259847891751,
          126.73324979251139,
          126.73324979251139,
          125.264389667505
         ]
        }
       ],
       "layout": {
        "hovermode": "x unified",
        "template": {
         "data": {
          "bar": [
           {
            "error_x": {
             "color": "#2a3f5f"
            },
            "error_y": {
             "color": "#2a3f5f"
            },
            "marker": {
             "line": {
              "color": "#E5ECF6",
              "width": 0.5
             },
             "pattern": {
              "fillmode": "overlay",
              "size": 10,
              "solidity": 0.2
             }
            },
            "type": "bar"
           }
          ],
          "barpolar": [
           {
            "marker": {
             "line": {
              "color": "#E5ECF6",
              "width": 0.5
             },
             "pattern": {
              "fillmode": "overlay",
              "size": 10,
              "solidity": 0.2
             }
            },
            "type": "barpolar"
           }
          ],
          "carpet": [
           {
            "aaxis": {
             "endlinecolor": "#2a3f5f",
             "gridcolor": "white",
             "linecolor": "white",
             "minorgridcolor": "white",
             "startlinecolor": "#2a3f5f"
            },
            "baxis": {
             "endlinecolor": "#2a3f5f",
             "gridcolor": "white",
             "linecolor": "white",
             "minorgridcolor": "white",
             "startlinecolor": "#2a3f5f"
            },
            "type": "carpet"
           }
          ],
          "choropleth": [
           {
            "colorbar": {
             "outlinewidth": 0,
             "ticks": ""
            },
            "type": "choropleth"
           }
          ],
          "contour": [
           {
            "colorbar": {
             "outlinewidth": 0,
             "ticks": ""
            },
            "colorscale": [
             [
              0,
              "#0d0887"
             ],
             [
              0.1111111111111111,
              "#46039f"
             ],
             [
              0.2222222222222222,
              "#7201a8"
             ],
             [
              0.3333333333333333,
              "#9c179e"
             ],
             [
              0.4444444444444444,
              "#bd3786"
             ],
             [
              0.5555555555555556,
              "#d8576b"
             ],
             [
              0.6666666666666666,
              "#ed7953"
             ],
             [
              0.7777777777777778,
              "#fb9f3a"
             ],
             [
              0.8888888888888888,
              "#fdca26"
             ],
             [
              1,
              "#f0f921"
             ]
            ],
            "type": "contour"
           }
          ],
          "contourcarpet": [
           {
            "colorbar": {
             "outlinewidth": 0,
             "ticks": ""
            },
            "type": "contourcarpet"
           }
          ],
          "heatmap": [
           {
            "colorbar": {
             "outlinewidth": 0,
             "ticks": ""
            },
            "colorscale": [
             [
              0,
              "#0d0887"
             ],
             [
              0.1111111111111111,
              "#46039f"
             ],
             [
              0.2222222222222222,
              "#7201a8"
             ],
             [
              0.3333333333333333,
              "#9c179e"
             ],
             [
              0.4444444444444444,
              "#bd3786"
             ],
             [
              0.5555555555555556,
              "#d8576b"
             ],
             [
              0.6666666666666666,
              "#ed7953"
             ],
             [
              0.7777777777777778,
              "#fb9f3a"
             ],
             [
              0.8888888888888888,
              "#fdca26"
             ],
             [
              1,
              "#f0f921"
             ]
            ],
            "type": "heatmap"
           }
          ],
          "heatmapgl": [
           {
            "colorbar": {
             "outlinewidth": 0,
             "ticks": ""
            },
            "colorscale": [
             [
              0,
              "#0d0887"
             ],
             [
              0.1111111111111111,
              "#46039f"
             ],
             [
              0.2222222222222222,
              "#7201a8"
             ],
             [
              0.3333333333333333,
              "#9c179e"
             ],
             [
              0.4444444444444444,
              "#bd3786"
             ],
             [
              0.5555555555555556,
              "#d8576b"
             ],
             [
              0.6666666666666666,
              "#ed7953"
             ],
             [
              0.7777777777777778,
              "#fb9f3a"
             ],
             [
              0.8888888888888888,
              "#fdca26"
             ],
             [
              1,
              "#f0f921"
             ]
            ],
            "type": "heatmapgl"
           }
          ],
          "histogram": [
           {
            "marker": {
             "pattern": {
              "fillmode": "overlay",
              "size": 10,
              "solidity": 0.2
             }
            },
            "type": "histogram"
           }
          ],
          "histogram2d": [
           {
            "colorbar": {
             "outlinewidth": 0,
             "ticks": ""
            },
            "colorscale": [
             [
              0,
              "#0d0887"
             ],
             [
              0.1111111111111111,
              "#46039f"
             ],
             [
              0.2222222222222222,
              "#7201a8"
             ],
             [
              0.3333333333333333,
              "#9c179e"
             ],
             [
              0.4444444444444444,
              "#bd3786"
             ],
             [
              0.5555555555555556,
              "#d8576b"
             ],
             [
              0.6666666666666666,
              "#ed7953"
             ],
             [
              0.7777777777777778,
              "#fb9f3a"
             ],
             [
              0.8888888888888888,
              "#fdca26"
             ],
             [
              1,
              "#f0f921"
             ]
            ],
            "type": "histogram2d"
           }
          ],
          "histogram2dcontour": [
           {
            "colorbar": {
             "outlinewidth": 0,
             "ticks": ""
            },
            "colorscale": [
             [
              0,
              "#0d0887"
             ],
             [
              0.1111111111111111,
              "#46039f"
             ],
             [
              0.2222222222222222,
              "#7201a8"
             ],
             [
              0.3333333333333333,
              "#9c179e"
             ],
             [
              0.4444444444444444,
              "#bd3786"
             ],
             [
              0.5555555555555556,
              "#d8576b"
             ],
             [
              0.6666666666666666,
              "#ed7953"
             ],
             [
              0.7777777777777778,
              "#fb9f3a"
             ],
             [
              0.8888888888888888,
              "#fdca26"
             ],
             [
              1,
              "#f0f921"
             ]
            ],
            "type": "histogram2dcontour"
           }
          ],
          "mesh3d": [
           {
            "colorbar": {
             "outlinewidth": 0,
             "ticks": ""
            },
            "type": "mesh3d"
           }
          ],
          "parcoords": [
           {
            "line": {
             "colorbar": {
              "outlinewidth": 0,
              "ticks": ""
             }
            },
            "type": "parcoords"
           }
          ],
          "pie": [
           {
            "automargin": true,
            "type": "pie"
           }
          ],
          "scatter": [
           {
            "fillpattern": {
             "fillmode": "overlay",
             "size": 10,
             "solidity": 0.2
            },
            "type": "scatter"
           }
          ],
          "scatter3d": [
           {
            "line": {
             "colorbar": {
              "outlinewidth": 0,
              "ticks": ""
             }
            },
            "marker": {
             "colorbar": {
              "outlinewidth": 0,
              "ticks": ""
             }
            },
            "type": "scatter3d"
           }
          ],
          "scattercarpet": [
           {
            "marker": {
             "colorbar": {
              "outlinewidth": 0,
              "ticks": ""
             }
            },
            "type": "scattercarpet"
           }
          ],
          "scattergeo": [
           {
            "marker": {
             "colorbar": {
              "outlinewidth": 0,
              "ticks": ""
             }
            },
            "type": "scattergeo"
           }
          ],
          "scattergl": [
           {
            "marker": {
             "colorbar": {
              "outlinewidth": 0,
              "ticks": ""
             }
            },
            "type": "scattergl"
           }
          ],
          "scattermapbox": [
           {
            "marker": {
             "colorbar": {
              "outlinewidth": 0,
              "ticks": ""
             }
            },
            "type": "scattermapbox"
           }
          ],
          "scatterpolar": [
           {
            "marker": {
             "colorbar": {
              "outlinewidth": 0,
              "ticks": ""
             }
            },
            "type": "scatterpolar"
           }
          ],
          "scatterpolargl": [
           {
            "marker": {
             "colorbar": {
              "outlinewidth": 0,
              "ticks": ""
             }
            },
            "type": "scatterpolargl"
           }
          ],
          "scatterternary": [
           {
            "marker": {
             "colorbar": {
              "outlinewidth": 0,
              "ticks": ""
             }
            },
            "type": "scatterternary"
           }
          ],
          "surface": [
           {
            "colorbar": {
             "outlinewidth": 0,
             "ticks": ""
            },
            "colorscale": [
             [
              0,
              "#0d0887"
             ],
             [
              0.1111111111111111,
              "#46039f"
             ],
             [
              0.2222222222222222,
              "#7201a8"
             ],
             [
              0.3333333333333333,
              "#9c179e"
             ],
             [
              0.4444444444444444,
              "#bd3786"
             ],
             [
              0.5555555555555556,
              "#d8576b"
             ],
             [
              0.6666666666666666,
              "#ed7953"
             ],
             [
              0.7777777777777778,
              "#fb9f3a"
             ],
             [
              0.8888888888888888,
              "#fdca26"
             ],
             [
              1,
              "#f0f921"
             ]
            ],
            "type": "surface"
           }
          ],
          "table": [
           {
            "cells": {
             "fill": {
              "color": "#EBF0F8"
             },
             "line": {
              "color": "white"
             }
            },
            "header": {
             "fill": {
              "color": "#C8D4E3"
             },
             "line": {
              "color": "white"
             }
            },
            "type": "table"
           }
          ]
         },
         "layout": {
          "annotationdefaults": {
           "arrowcolor": "#2a3f5f",
           "arrowhead": 0,
           "arrowwidth": 1
          },
          "autotypenumbers": "strict",
          "coloraxis": {
           "colorbar": {
            "outlinewidth": 0,
            "ticks": ""
           }
          },
          "colorscale": {
           "diverging": [
            [
             0,
             "#8e0152"
            ],
            [
             0.1,
             "#c51b7d"
            ],
            [
             0.2,
             "#de77ae"
            ],
            [
             0.3,
             "#f1b6da"
            ],
            [
             0.4,
             "#fde0ef"
            ],
            [
             0.5,
             "#f7f7f7"
            ],
            [
             0.6,
             "#e6f5d0"
            ],
            [
             0.7,
             "#b8e186"
            ],
            [
             0.8,
             "#7fbc41"
            ],
            [
             0.9,
             "#4d9221"
            ],
            [
             1,
             "#276419"
            ]
           ],
           "sequential": [
            [
             0,
             "#0d0887"
            ],
            [
             0.1111111111111111,
             "#46039f"
            ],
            [
             0.2222222222222222,
             "#7201a8"
            ],
            [
             0.3333333333333333,
             "#9c179e"
            ],
            [
             0.4444444444444444,
             "#bd3786"
            ],
            [
             0.5555555555555556,
             "#d8576b"
            ],
            [
             0.6666666666666666,
             "#ed7953"
            ],
            [
             0.7777777777777778,
             "#fb9f3a"
            ],
            [
             0.8888888888888888,
             "#fdca26"
            ],
            [
             1,
             "#f0f921"
            ]
           ],
           "sequentialminus": [
            [
             0,
             "#0d0887"
            ],
            [
             0.1111111111111111,
             "#46039f"
            ],
            [
             0.2222222222222222,
             "#7201a8"
            ],
            [
             0.3333333333333333,
             "#9c179e"
            ],
            [
             0.4444444444444444,
             "#bd3786"
            ],
            [
             0.5555555555555556,
             "#d8576b"
            ],
            [
             0.6666666666666666,
             "#ed7953"
            ],
            [
             0.7777777777777778,
             "#fb9f3a"
            ],
            [
             0.8888888888888888,
             "#fdca26"
            ],
            [
             1,
             "#f0f921"
            ]
           ]
          },
          "colorway": [
           "#636efa",
           "#EF553B",
           "#00cc96",
           "#ab63fa",
           "#FFA15A",
           "#19d3f3",
           "#FF6692",
           "#B6E880",
           "#FF97FF",
           "#FECB52"
          ],
          "font": {
           "color": "#2a3f5f"
          },
          "geo": {
           "bgcolor": "white",
           "lakecolor": "white",
           "landcolor": "#E5ECF6",
           "showlakes": true,
           "showland": true,
           "subunitcolor": "white"
          },
          "hoverlabel": {
           "align": "left"
          },
          "hovermode": "closest",
          "mapbox": {
           "style": "light"
          },
          "paper_bgcolor": "white",
          "plot_bgcolor": "#E5ECF6",
          "polar": {
           "angularaxis": {
            "gridcolor": "white",
            "linecolor": "white",
            "ticks": ""
           },
           "bgcolor": "#E5ECF6",
           "radialaxis": {
            "gridcolor": "white",
            "linecolor": "white",
            "ticks": ""
           }
          },
          "scene": {
           "xaxis": {
            "backgroundcolor": "#E5ECF6",
            "gridcolor": "white",
            "gridwidth": 2,
            "linecolor": "white",
            "showbackground": true,
            "ticks": "",
            "zerolinecolor": "white"
           },
           "yaxis": {
            "backgroundcolor": "#E5ECF6",
            "gridcolor": "white",
            "gridwidth": 2,
            "linecolor": "white",
            "showbackground": true,
            "ticks": "",
            "zerolinecolor": "white"
           },
           "zaxis": {
            "backgroundcolor": "#E5ECF6",
            "gridcolor": "white",
            "gridwidth": 2,
            "linecolor": "white",
            "showbackground": true,
            "ticks": "",
            "zerolinecolor": "white"
           }
          },
          "shapedefaults": {
           "line": {
            "color": "#2a3f5f"
           }
          },
          "ternary": {
           "aaxis": {
            "gridcolor": "white",
            "linecolor": "white",
            "ticks": ""
           },
           "baxis": {
            "gridcolor": "white",
            "linecolor": "white",
            "ticks": ""
           },
           "bgcolor": "#E5ECF6",
           "caxis": {
            "gridcolor": "white",
            "linecolor": "white",
            "ticks": ""
           }
          },
          "title": {
           "x": 0.05
          },
          "xaxis": {
           "automargin": true,
           "gridcolor": "white",
           "linecolor": "white",
           "ticks": "",
           "title": {
            "standoff": 15
           },
           "zerolinecolor": "white",
           "zerolinewidth": 2
          },
          "yaxis": {
           "automargin": true,
           "gridcolor": "white",
           "linecolor": "white",
           "ticks": "",
           "title": {
            "standoff": 15
           },
           "zerolinecolor": "white",
           "zerolinewidth": 2
          }
         }
        },
        "title": {
         "text": "Índices de América Latina (Base 100)"
        },
        "xaxis": {
         "title": {
          "text": "Fecha"
         }
        },
        "yaxis": {
         "title": {
          "text": "Índice (Base 100)"
         }
        }
       }
      }
     },
     "metadata": {},
     "output_type": "display_data"
    },
    {
     "data": {
      "application/vnd.plotly.v1+json": {
       "config": {
        "plotlyServerURL": "https://plot.ly"
       },
       "data": [
        {
         "mode": "lines",
         "name": "Nikkei 225 (Japan)",
         "type": "scatter",
         "x": [
          "2024-01-02T00:00:00",
          "2024-01-03T00:00:00",
          "2024-01-04T00:00:00",
          "2024-01-05T00:00:00",
          "2024-01-08T00:00:00",
          "2024-01-09T00:00:00",
          "2024-01-10T00:00:00",
          "2024-01-11T00:00:00",
          "2024-01-12T00:00:00",
          "2024-01-15T00:00:00",
          "2024-01-16T00:00:00",
          "2024-01-17T00:00:00",
          "2024-01-18T00:00:00",
          "2024-01-19T00:00:00",
          "2024-01-22T00:00:00",
          "2024-01-23T00:00:00",
          "2024-01-24T00:00:00",
          "2024-01-25T00:00:00",
          "2024-01-26T00:00:00",
          "2024-01-29T00:00:00",
          "2024-01-30T00:00:00",
          "2024-01-31T00:00:00",
          "2024-02-01T00:00:00",
          "2024-02-02T00:00:00",
          "2024-02-05T00:00:00",
          "2024-02-06T00:00:00",
          "2024-02-07T00:00:00",
          "2024-02-08T00:00:00",
          "2024-02-09T00:00:00",
          "2024-02-13T00:00:00",
          "2024-02-14T00:00:00",
          "2024-02-15T00:00:00",
          "2024-02-16T00:00:00",
          "2024-02-19T00:00:00",
          "2024-02-20T00:00:00",
          "2024-02-21T00:00:00",
          "2024-02-22T00:00:00",
          "2024-02-23T00:00:00",
          "2024-02-26T00:00:00",
          "2024-02-27T00:00:00",
          "2024-02-28T00:00:00",
          "2024-02-29T00:00:00",
          "2024-03-01T00:00:00",
          "2024-03-04T00:00:00",
          "2024-03-05T00:00:00",
          "2024-03-06T00:00:00",
          "2024-03-07T00:00:00",
          "2024-03-08T00:00:00",
          "2024-03-11T00:00:00",
          "2024-03-12T00:00:00",
          "2024-03-13T00:00:00",
          "2024-03-14T00:00:00",
          "2024-03-15T00:00:00",
          "2024-03-18T00:00:00",
          "2024-03-19T00:00:00",
          "2024-03-20T00:00:00",
          "2024-03-21T00:00:00",
          "2024-03-22T00:00:00",
          "2024-03-25T00:00:00",
          "2024-03-26T00:00:00",
          "2024-03-27T00:00:00",
          "2024-03-28T00:00:00",
          "2024-03-29T00:00:00",
          "2024-04-01T00:00:00",
          "2024-04-02T00:00:00",
          "2024-04-03T00:00:00",
          "2024-04-04T00:00:00",
          "2024-04-05T00:00:00",
          "2024-04-08T00:00:00",
          "2024-04-09T00:00:00",
          "2024-04-10T00:00:00",
          "2024-04-11T00:00:00",
          "2024-04-12T00:00:00",
          "2024-04-15T00:00:00",
          "2024-04-16T00:00:00",
          "2024-04-17T00:00:00",
          "2024-04-18T00:00:00",
          "2024-04-19T00:00:00",
          "2024-04-22T00:00:00",
          "2024-04-23T00:00:00",
          "2024-04-24T00:00:00",
          "2024-04-25T00:00:00",
          "2024-04-26T00:00:00",
          "2024-04-29T00:00:00",
          "2024-04-30T00:00:00",
          "2024-05-01T00:00:00",
          "2024-05-02T00:00:00",
          "2024-05-03T00:00:00",
          "2024-05-06T00:00:00",
          "2024-05-07T00:00:00",
          "2024-05-08T00:00:00",
          "2024-05-09T00:00:00",
          "2024-05-10T00:00:00",
          "2024-05-13T00:00:00",
          "2024-05-14T00:00:00",
          "2024-05-15T00:00:00",
          "2024-05-16T00:00:00",
          "2024-05-17T00:00:00",
          "2024-05-20T00:00:00",
          "2024-05-21T00:00:00",
          "2024-05-22T00:00:00",
          "2024-05-23T00:00:00",
          "2024-05-24T00:00:00",
          "2024-05-27T00:00:00",
          "2024-05-28T00:00:00",
          "2024-05-29T00:00:00",
          "2024-05-30T00:00:00",
          "2024-05-31T00:00:00",
          "2024-06-03T00:00:00",
          "2024-06-04T00:00:00",
          "2024-06-05T00:00:00",
          "2024-06-06T00:00:00",
          "2024-06-07T00:00:00",
          "2024-06-10T00:00:00",
          "2024-06-11T00:00:00",
          "2024-06-12T00:00:00",
          "2024-06-13T00:00:00",
          "2024-06-14T00:00:00",
          "2024-06-17T00:00:00",
          "2024-06-18T00:00:00",
          "2024-06-19T00:00:00",
          "2024-06-20T00:00:00",
          "2024-06-21T00:00:00",
          "2024-06-24T00:00:00",
          "2024-06-25T00:00:00",
          "2024-06-26T00:00:00",
          "2024-06-27T00:00:00",
          "2024-06-28T00:00:00",
          "2024-07-01T00:00:00",
          "2024-07-02T00:00:00",
          "2024-07-03T00:00:00",
          "2024-07-04T00:00:00",
          "2024-07-05T00:00:00",
          "2024-07-08T00:00:00",
          "2024-07-09T00:00:00",
          "2024-07-10T00:00:00",
          "2024-07-11T00:00:00",
          "2024-07-12T00:00:00",
          "2024-07-15T00:00:00",
          "2024-07-16T00:00:00",
          "2024-07-17T00:00:00",
          "2024-07-18T00:00:00",
          "2024-07-19T00:00:00",
          "2024-07-22T00:00:00",
          "2024-07-23T00:00:00",
          "2024-07-24T00:00:00",
          "2024-07-25T00:00:00",
          "2024-07-26T00:00:00",
          "2024-07-29T00:00:00",
          "2024-07-30T00:00:00",
          "2024-07-31T00:00:00",
          "2024-08-01T00:00:00",
          "2024-08-02T00:00:00",
          "2024-08-05T00:00:00",
          "2024-08-06T00:00:00",
          "2024-08-07T00:00:00",
          "2024-08-08T00:00:00",
          "2024-08-09T00:00:00",
          "2024-08-12T00:00:00",
          "2024-08-13T00:00:00",
          "2024-08-14T00:00:00",
          "2024-08-15T00:00:00",
          "2024-08-16T00:00:00",
          "2024-08-19T00:00:00",
          "2024-08-20T00:00:00",
          "2024-08-21T00:00:00",
          "2024-08-22T00:00:00",
          "2024-08-23T00:00:00",
          "2024-08-26T00:00:00",
          "2024-08-27T00:00:00",
          "2024-08-28T00:00:00",
          "2024-08-29T00:00:00",
          "2024-08-30T00:00:00",
          "2024-09-02T00:00:00",
          "2024-09-03T00:00:00",
          "2024-09-04T00:00:00",
          "2024-09-05T00:00:00",
          "2024-09-06T00:00:00",
          "2024-09-09T00:00:00",
          "2024-09-10T00:00:00",
          "2024-09-11T00:00:00",
          "2024-09-12T00:00:00",
          "2024-09-13T00:00:00",
          "2024-09-16T00:00:00",
          "2024-09-17T00:00:00",
          "2024-09-18T00:00:00",
          "2024-09-19T00:00:00",
          "2024-09-20T00:00:00",
          "2024-09-23T00:00:00",
          "2024-09-24T00:00:00",
          "2024-09-25T00:00:00",
          "2024-09-26T00:00:00",
          "2024-09-27T00:00:00",
          "2024-09-30T00:00:00",
          "2024-10-01T00:00:00",
          "2024-10-02T00:00:00",
          "2024-10-03T00:00:00",
          "2024-10-04T00:00:00",
          "2024-10-07T00:00:00",
          "2024-10-08T00:00:00",
          "2024-10-09T00:00:00",
          "2024-10-10T00:00:00",
          "2024-10-11T00:00:00",
          "2024-10-14T00:00:00",
          "2024-10-15T00:00:00",
          "2024-10-16T00:00:00",
          "2024-10-17T00:00:00",
          "2024-10-18T00:00:00",
          "2024-10-21T00:00:00",
          "2024-10-22T00:00:00",
          "2024-10-23T00:00:00",
          "2024-10-24T00:00:00",
          "2024-10-25T00:00:00",
          "2024-10-28T00:00:00",
          "2024-10-29T00:00:00",
          "2024-10-30T00:00:00",
          "2024-10-31T00:00:00",
          "2024-11-01T00:00:00",
          "2024-11-04T00:00:00",
          "2024-11-05T00:00:00",
          "2024-11-06T00:00:00",
          "2024-11-07T00:00:00",
          "2024-11-08T00:00:00",
          "2024-11-11T00:00:00",
          "2024-11-12T00:00:00",
          "2024-11-13T00:00:00",
          "2024-11-14T00:00:00",
          "2024-11-15T00:00:00",
          "2024-11-18T00:00:00",
          "2024-11-19T00:00:00",
          "2024-11-20T00:00:00",
          "2024-11-21T00:00:00",
          "2024-11-22T00:00:00",
          "2024-11-25T00:00:00",
          "2024-11-26T00:00:00",
          "2024-11-27T00:00:00",
          "2024-11-28T00:00:00",
          "2024-11-29T00:00:00"
         ],
         "y": [
          100,
          100,
          100,
          100.26776026948292,
          100.26776026948292,
          101.4265996792697,
          103.4649713757724,
          105.29186197942641,
          106.87575233501083,
          107.85110942497842,
          107.00213405568446,
          106.57727086360373,
          106.54248948755205,
          108.03580040935003,
          109.78920890206085,
          109.7009529205208,
          108.82650171876793,
          108.85650710964654,
          107.39834133672667,
          108.2270745084197,
          108.34398640099829,
          109.00743762880198,
          108.18057025967043,
          108.62084099114249,
          109.21005909313546,
          108.62877358568059,
          108.50639336609792,
          110.7394891362179,
          110.84204960406261,
          114.04601984415972,
          113.26301643713383,
          114.62872523909849,
          115.61795263490046,
          115.56730606977257,
          115.24656404830809,
          114.94180456199288,
          117.45475898172711,
          117.45475898172711,
          117.86040088704243,
          117.87785024810479,
          117.78325757862011,
          117.65756819977746,
          119.89447771727153,
          120.49051362610865,
          120.45566184241314,
          120.43509107580768,
          118.95688259361108,
          119.22794028774666,
          116.61905545329496,
          116.55003249312763,
          116.2449913762371,
          116.57967411117977,
          116.28005438286408,
          119.38264935045429,
          120.17319810997722,
          120.17319810997722,
          122.61267041876825,
          122.83127441825097,
          121.40642319546969,
          121.35808834798085,
          122.45366648978701,
          120.66727201594216,
          121.27220275711639,
          119.57084898241006,
          119.67845533139587,
          118.51570829737655,
          119.48087974820349,
          117.13452154837674,
          118.20084531417181,
          119.48084454438157,
          118.90610694780281,
          118.4880028895297,
          118.73109701445775,
          117.85766672354039,
          115.5697703373066,
          114.03950713710552,
          114.39368105478161,
          111.35553255050985,
          112.46780903851088,
          112.80892233825664,
          115.53636191030958,
          113.03819309577952,
          113.95828018534108,
          113.95828018534108,
          115.3728870959452,
          114.97752470662894,
          114.86342911980354,
          114.86342911980354,
          114.86342911980354,
          116.66295461922256,
          114.76219466258428,
          114.37650158968724,
          114.84251804958623,
          114.69337119074112,
          115.22388105238774,
          115.31301712947565,
          116.91878079307641,
          116.51959292177875,
          117.36764125709563,
          116.99889295714685,
          116.00806965475144,
          117.46839459541538,
          116.0952108485975,
          116.85797205802247,
          116.72384549652762,
          115.82713374471739,
          114.31686631536382,
          115.61993578353497,
          116.92710062965557,
          116.6700423220347,
          115.62676532498644,
          116.26765090294282,
          116.20882531652343,
          117.2729547107525,
          117.56323369165347,
          116.78795165623421,
          116.31859083325334,
          116.60124231940617,
          114.46199993851064,
          115.60254509550913,
          115.86886200829356,
          116.05588817951885,
          115.94608745896701,
          116.57147162067365,
          117.67846753538747,
          119.16223822144659,
          118.18432298708655,
          118.90992069517692,
          119.05405687670283,
          120.38675622831884,
          121.90702154309616,
          122.90703304301131,
          122.90319582642262,
          122.5076456833895,
          124.90930908744417,
          125.6657805473537,
          126.84346573647215,
          123.73925139307391,
          123.73925139307391,
          123.99278931850328,
          123.45990906618107,
          120.54194640992597,
          120.3540049393309,
          118.95775095455163,
          118.94390411793188,
          117.62350263477137,
          113.76226530492023,
          113.15514019218,
          115.56204896569997,
          115.73424259329188,
          117.46419360600022,
          114.53375706218003,
          107.87487200477082,
          94.50296427915129,
          104.16714680768222,
          105.41130854718286,
          104.63484131642579,
          105.21718293853812,
          105.21718293853812,
          108.84461995244668,
          109.475226014404,
          110.32901257269296,
          114.34252990153962,
          112.31764126883024,
          114.34328091640711,
          114.00946654240501,
          114.78815161394269,
          115.24854719694262,
          114.48536354165468,
          115.02129479187617,
          115.27105417375338,
          115.24332529669195,
          116.10013938366556,
          116.25971830840471,
          116.2159716923721,
          111.2932217857209,
          110.12007788962946,
          109.32213632750445,
          108.79426675250141,
          108.62426749647551,
          107.00390598138752,
          110.64933214829446,
          109.893787722362,
          109.893787722362,
          108.75662213226734,
          109.2881998431787,
          111.61681531676047,
          113.3248695522379,
          113.3248695522379,
          113.97578821943996,
          113.76451834952279,
          116.93490414351331,
          119.65036268150797,
          113.91258562449585,
          116.11281275955486,
          113.57976869211465,
          115.81267670851776,
          116.06370342798388,
          118.15788491682862,
          116.97068296118591,
          117.9933305185922,
          118.30253742107597,
          118.97818090586945,
          118.97818090586945,
          119.89366802936749,
          117.69995360136272,
          116.89153303491445,
          117.10349524666262,
          117.02193972589366,
          115.39181501752797,
          114.46926366043238,
          114.58470872709785,
          113.8956760553695,
          115.97331174791434,
          116.86896738506715,
          117.99161726592568,
          117.40239916393269,
          114.31549336630916,
          114.31549336630916,
          115.58088301042433,
          118.60228623007201,
          118.30409812384752,
          118.66146385471055,
          118.76044526732726,
          118.28811558869825,
          116.32216988848134,
          115.7635321731249,
          116.08560020521482,
          114.8177110897437,
          115.39923128934466,
          115.2127097062335,
          114.23288173088275,
          115.00696683635692,
          116.4978486944428,
          115.48205414770256,
          114.55971401353847,
          115.20285263609739,
          114.77919810856905
         ]
        },
        {
         "mode": "lines",
         "name": "Hang Seng (Hong Kong)",
         "type": "scatter",
         "x": [
          "2024-01-02T00:00:00",
          "2024-01-03T00:00:00",
          "2024-01-04T00:00:00",
          "2024-01-05T00:00:00",
          "2024-01-08T00:00:00",
          "2024-01-09T00:00:00",
          "2024-01-10T00:00:00",
          "2024-01-11T00:00:00",
          "2024-01-12T00:00:00",
          "2024-01-15T00:00:00",
          "2024-01-16T00:00:00",
          "2024-01-17T00:00:00",
          "2024-01-18T00:00:00",
          "2024-01-19T00:00:00",
          "2024-01-22T00:00:00",
          "2024-01-23T00:00:00",
          "2024-01-24T00:00:00",
          "2024-01-25T00:00:00",
          "2024-01-26T00:00:00",
          "2024-01-29T00:00:00",
          "2024-01-30T00:00:00",
          "2024-01-31T00:00:00",
          "2024-02-01T00:00:00",
          "2024-02-02T00:00:00",
          "2024-02-05T00:00:00",
          "2024-02-06T00:00:00",
          "2024-02-07T00:00:00",
          "2024-02-08T00:00:00",
          "2024-02-09T00:00:00",
          "2024-02-13T00:00:00",
          "2024-02-14T00:00:00",
          "2024-02-15T00:00:00",
          "2024-02-16T00:00:00",
          "2024-02-19T00:00:00",
          "2024-02-20T00:00:00",
          "2024-02-21T00:00:00",
          "2024-02-22T00:00:00",
          "2024-02-23T00:00:00",
          "2024-02-26T00:00:00",
          "2024-02-27T00:00:00",
          "2024-02-28T00:00:00",
          "2024-02-29T00:00:00",
          "2024-03-01T00:00:00",
          "2024-03-04T00:00:00",
          "2024-03-05T00:00:00",
          "2024-03-06T00:00:00",
          "2024-03-07T00:00:00",
          "2024-03-08T00:00:00",
          "2024-03-11T00:00:00",
          "2024-03-12T00:00:00",
          "2024-03-13T00:00:00",
          "2024-03-14T00:00:00",
          "2024-03-15T00:00:00",
          "2024-03-18T00:00:00",
          "2024-03-19T00:00:00",
          "2024-03-20T00:00:00",
          "2024-03-21T00:00:00",
          "2024-03-22T00:00:00",
          "2024-03-25T00:00:00",
          "2024-03-26T00:00:00",
          "2024-03-27T00:00:00",
          "2024-03-28T00:00:00",
          "2024-03-29T00:00:00",
          "2024-04-01T00:00:00",
          "2024-04-02T00:00:00",
          "2024-04-03T00:00:00",
          "2024-04-04T00:00:00",
          "2024-04-05T00:00:00",
          "2024-04-08T00:00:00",
          "2024-04-09T00:00:00",
          "2024-04-10T00:00:00",
          "2024-04-11T00:00:00",
          "2024-04-12T00:00:00",
          "2024-04-15T00:00:00",
          "2024-04-16T00:00:00",
          "2024-04-17T00:00:00",
          "2024-04-18T00:00:00",
          "2024-04-19T00:00:00",
          "2024-04-22T00:00:00",
          "2024-04-23T00:00:00",
          "2024-04-24T00:00:00",
          "2024-04-25T00:00:00",
          "2024-04-26T00:00:00",
          "2024-04-29T00:00:00",
          "2024-04-30T00:00:00",
          "2024-05-01T00:00:00",
          "2024-05-02T00:00:00",
          "2024-05-03T00:00:00",
          "2024-05-06T00:00:00",
          "2024-05-07T00:00:00",
          "2024-05-08T00:00:00",
          "2024-05-09T00:00:00",
          "2024-05-10T00:00:00",
          "2024-05-13T00:00:00",
          "2024-05-14T00:00:00",
          "2024-05-15T00:00:00",
          "2024-05-16T00:00:00",
          "2024-05-17T00:00:00",
          "2024-05-20T00:00:00",
          "2024-05-21T00:00:00",
          "2024-05-22T00:00:00",
          "2024-05-23T00:00:00",
          "2024-05-24T00:00:00",
          "2024-05-27T00:00:00",
          "2024-05-28T00:00:00",
          "2024-05-29T00:00:00",
          "2024-05-30T00:00:00",
          "2024-05-31T00:00:00",
          "2024-06-03T00:00:00",
          "2024-06-04T00:00:00",
          "2024-06-05T00:00:00",
          "2024-06-06T00:00:00",
          "2024-06-07T00:00:00",
          "2024-06-10T00:00:00",
          "2024-06-11T00:00:00",
          "2024-06-12T00:00:00",
          "2024-06-13T00:00:00",
          "2024-06-14T00:00:00",
          "2024-06-17T00:00:00",
          "2024-06-18T00:00:00",
          "2024-06-19T00:00:00",
          "2024-06-20T00:00:00",
          "2024-06-21T00:00:00",
          "2024-06-24T00:00:00",
          "2024-06-25T00:00:00",
          "2024-06-26T00:00:00",
          "2024-06-27T00:00:00",
          "2024-06-28T00:00:00",
          "2024-07-01T00:00:00",
          "2024-07-02T00:00:00",
          "2024-07-03T00:00:00",
          "2024-07-04T00:00:00",
          "2024-07-05T00:00:00",
          "2024-07-08T00:00:00",
          "2024-07-09T00:00:00",
          "2024-07-10T00:00:00",
          "2024-07-11T00:00:00",
          "2024-07-12T00:00:00",
          "2024-07-15T00:00:00",
          "2024-07-16T00:00:00",
          "2024-07-17T00:00:00",
          "2024-07-18T00:00:00",
          "2024-07-19T00:00:00",
          "2024-07-22T00:00:00",
          "2024-07-23T00:00:00",
          "2024-07-24T00:00:00",
          "2024-07-25T00:00:00",
          "2024-07-26T00:00:00",
          "2024-07-29T00:00:00",
          "2024-07-30T00:00:00",
          "2024-07-31T00:00:00",
          "2024-08-01T00:00:00",
          "2024-08-02T00:00:00",
          "2024-08-05T00:00:00",
          "2024-08-06T00:00:00",
          "2024-08-07T00:00:00",
          "2024-08-08T00:00:00",
          "2024-08-09T00:00:00",
          "2024-08-12T00:00:00",
          "2024-08-13T00:00:00",
          "2024-08-14T00:00:00",
          "2024-08-15T00:00:00",
          "2024-08-16T00:00:00",
          "2024-08-19T00:00:00",
          "2024-08-20T00:00:00",
          "2024-08-21T00:00:00",
          "2024-08-22T00:00:00",
          "2024-08-23T00:00:00",
          "2024-08-26T00:00:00",
          "2024-08-27T00:00:00",
          "2024-08-28T00:00:00",
          "2024-08-29T00:00:00",
          "2024-08-30T00:00:00",
          "2024-09-02T00:00:00",
          "2024-09-03T00:00:00",
          "2024-09-04T00:00:00",
          "2024-09-05T00:00:00",
          "2024-09-06T00:00:00",
          "2024-09-09T00:00:00",
          "2024-09-10T00:00:00",
          "2024-09-11T00:00:00",
          "2024-09-12T00:00:00",
          "2024-09-13T00:00:00",
          "2024-09-16T00:00:00",
          "2024-09-17T00:00:00",
          "2024-09-18T00:00:00",
          "2024-09-19T00:00:00",
          "2024-09-20T00:00:00",
          "2024-09-23T00:00:00",
          "2024-09-24T00:00:00",
          "2024-09-25T00:00:00",
          "2024-09-26T00:00:00",
          "2024-09-27T00:00:00",
          "2024-09-30T00:00:00",
          "2024-10-01T00:00:00",
          "2024-10-02T00:00:00",
          "2024-10-03T00:00:00",
          "2024-10-04T00:00:00",
          "2024-10-07T00:00:00",
          "2024-10-08T00:00:00",
          "2024-10-09T00:00:00",
          "2024-10-10T00:00:00",
          "2024-10-11T00:00:00",
          "2024-10-14T00:00:00",
          "2024-10-15T00:00:00",
          "2024-10-16T00:00:00",
          "2024-10-17T00:00:00",
          "2024-10-18T00:00:00",
          "2024-10-21T00:00:00",
          "2024-10-22T00:00:00",
          "2024-10-23T00:00:00",
          "2024-10-24T00:00:00",
          "2024-10-25T00:00:00",
          "2024-10-28T00:00:00",
          "2024-10-29T00:00:00",
          "2024-10-30T00:00:00",
          "2024-10-31T00:00:00",
          "2024-11-01T00:00:00",
          "2024-11-04T00:00:00",
          "2024-11-05T00:00:00",
          "2024-11-06T00:00:00",
          "2024-11-07T00:00:00",
          "2024-11-08T00:00:00",
          "2024-11-11T00:00:00",
          "2024-11-12T00:00:00",
          "2024-11-13T00:00:00",
          "2024-11-14T00:00:00",
          "2024-11-15T00:00:00",
          "2024-11-18T00:00:00",
          "2024-11-19T00:00:00",
          "2024-11-20T00:00:00",
          "2024-11-21T00:00:00",
          "2024-11-22T00:00:00",
          "2024-11-25T00:00:00",
          "2024-11-26T00:00:00",
          "2024-11-27T00:00:00",
          "2024-11-28T00:00:00",
          "2024-11-29T00:00:00"
         ],
         "y": [
          100,
          99.15334785680997,
          99.15078844888014,
          98.49170600592991,
          96.63996855185675,
          96.43488435780615,
          95.88248850767671,
          97.10212782195083,
          96.75987099653341,
          96.59160155881904,
          94.50440439203707,
          90.9959447344719,
          91.68027806338443,
          91.1853002034264,
          89.11537322333464,
          91.45506761606741,
          94.70662670267521,
          96.56557121680535,
          95.01850800943444,
          95.76312121193085,
          93.53666316958474,
          92.23589644077099,
          92.71919991046725,
          92.52471980881688,
          92.3844468037532,
          96.11830304739395,
          95.79081516909892,
          94.57677746808942,
          93.79356374054211,
          93.79356374054211,
          94.58457784543923,
          94.97323557325736,
          97.32799557175893,
          96.22992813415206,
          96.77732150514592,
          98.29972714384733,
          99.72837701660985,
          99.6265823830368,
          99.08383666417008,
          100.01340199061441,
          98.50075700306361,
          98.34940292503099,
          98.81400526633082,
          98.85290826686435,
          96.27179772114971,
          97.91250035773542,
          96.67171684385913,
          97.40798870323874,
          98.80287184183604,
          101.81641180780521,
          101.74856423031973,
          101.03111565289682,
          99.59698632042996,
          99.69365050447094,
          98.4568631570669,
          98.5378102496842,
          100.44404564215428,
          98.27811178051262,
          98.1242564629122,
          98.9860323802331,
          97.64297143537878,
          98.52797979649914,
          98.52797979649914,
          98.52797979649914,
          100.85158482029118,
          99.62205688446996,
          99.62205688446996,
          99.61503014633531,
          99.66821929658629,
          100.23539572751055,
          102.08844196972966,
          101.82552097330095,
          99.60174449244498,
          98.87965407973114,
          96.78601767527117,
          96.80311335687523,
          97.60145085855339,
          96.63811879794382,
          98.35089203509926,
          100.24051454337022,
          102.45833458395313,
          102.95432457341069,
          105.13802305281989,
          105.70841037732886,
          105.80442307571496,
          105.80442307571496,
          108.44968750792543,
          110.05071350476247,
          110.66053897873573,
          110.07125857023563,
          109.08540953667969,
          110.41936131603825,
          112.95602541631678,
          113.85771646367071,
          113.61141998511354,
          113.61141998511354,
          115.41513945632127,
          116.46990636522425,
          116.96197580708021,
          114.48646992265236,
          114.3374425791014,
          112.39034972913319,
          110.84303639780553,
          112.14398344854159,
          112.10711634067954,
          110.05720509396633,
          108.58703464437842,
          107.6901134027119,
          109.61660301884493,
          109.8612358822477,
          109.74717935795624,
          110.05596029101865,
          109.40163602008343,
          109.40163602008343,
          108.2662826624078,
          106.84567165727945,
          107.88680390211987,
          106.86913677452709,
          106.8354223918877,
          106.71290818775539,
          109.77952096725146,
          109.21324032910262,
          107.3857997998543,
          107.38098345947724,
          107.65015173798922,
          107.75158572771761,
          105.52709959284473,
          105.53983846413189,
          105.53983846413189,
          105.8408248366807,
          107.08828026168318,
          107.38436885814808,
          106.02231012625094,
          104.38101998920861,
          104.37607567843506,
          104.06895836052705,
          106.217209040108,
          108.96343048147814,
          107.31086731587212,
          105.59565682434713,
          105.6637370752808,
          105.89603824593073,
          103.74736875414303,
          105.04707100193143,
          104.05519572606796,
          103.11224004268162,
          101.38999117934956,
          101.38641964192021,
          102.67914168626359,
          101.27681881416115,
          103.31207163363982,
          103.0759662521124,
          100.93491681575217,
          99.46278027552724,
          99.15888548487635,
          100.53196130454418,
          100.6151769632811,
          101.79693704019364,
          101.92452352549601,
          102.29626589363241,
          101.93470298885332,
          101.90957425645128,
          103.82170792083238,
          104.65209618999556,
          104.30370260238271,
          103.58851095740702,
          105.07756285731371,
          104.90541940668736,
          106.01707497366719,
          106.46940379057621,
          105.38401705589445,
          105.94315461918453,
          107.15082288455046,
          105.3811668061544,
          105.14004731181895,
          103.98360210606698,
          103.90593570906886,
          103.90593570906886,
          102.4326707026203,
          102.65382681510302,
          101.90701484852144,
          102.69135704229235,
          103.45794625196814,
          103.77381209152723,
          105.1908515592262,
          105.1908515592262,
          107.29431260003504,
          108.75608353814414,
          108.68781714845196,
          113.17570405240365,
          113.94133930094192,
          118.6795712014489,
          122.8950672996315,
          125.88150080888924,
          125.88150080888924,
          133.68474004209995,
          131.7178001470031,
          135.43080303285186,
          137.59245570304725,
          124.6491691580176,
          122.92448885715224,
          126.58615234666297,
          126.58615234666297,
          125.6384152239168,
          121.02765347198809,
          120.83740802709436,
          119.59995756036305,
          123.91843492670438,
          121.97872945871546,
          122.10076668227904,
          123.65659586180966,
          122.04519262918436,
          122.64400101538693,
          122.6988537807923,
          123.3051077173362,
          121.39606860981571,
          121.01896311869906,
          122.14532364760305,
          122.5092016531914,
          125.12676631139759,
          122.33563889453123,
          124.80731730073671,
          123.46622244651944,
          121.67178664589358,
          118.21676044569995,
          118.07719127781698,
          115.76824468125947,
          115.71183300375138,
          116.60690449150496,
          117.12547543910713,
          117.37171374930226,
          116.75283727819532,
          114.54217194614354,
          114.07172950129471,
          114.12062582642702,
          116.76487812913795,
          115.35814609519275,
          115.69556912972452
         ]
        },
        {
         "mode": "lines",
         "name": "Shanghai Composite (China)",
         "type": "scatter",
         "x": [
          "2024-01-02T00:00:00",
          "2024-01-03T00:00:00",
          "2024-01-04T00:00:00",
          "2024-01-05T00:00:00",
          "2024-01-08T00:00:00",
          "2024-01-09T00:00:00",
          "2024-01-10T00:00:00",
          "2024-01-11T00:00:00",
          "2024-01-12T00:00:00",
          "2024-01-15T00:00:00",
          "2024-01-16T00:00:00",
          "2024-01-17T00:00:00",
          "2024-01-18T00:00:00",
          "2024-01-19T00:00:00",
          "2024-01-22T00:00:00",
          "2024-01-23T00:00:00",
          "2024-01-24T00:00:00",
          "2024-01-25T00:00:00",
          "2024-01-26T00:00:00",
          "2024-01-29T00:00:00",
          "2024-01-30T00:00:00",
          "2024-01-31T00:00:00",
          "2024-02-01T00:00:00",
          "2024-02-02T00:00:00",
          "2024-02-05T00:00:00",
          "2024-02-06T00:00:00",
          "2024-02-07T00:00:00",
          "2024-02-08T00:00:00",
          "2024-02-09T00:00:00",
          "2024-02-13T00:00:00",
          "2024-02-14T00:00:00",
          "2024-02-15T00:00:00",
          "2024-02-16T00:00:00",
          "2024-02-19T00:00:00",
          "2024-02-20T00:00:00",
          "2024-02-21T00:00:00",
          "2024-02-22T00:00:00",
          "2024-02-23T00:00:00",
          "2024-02-26T00:00:00",
          "2024-02-27T00:00:00",
          "2024-02-28T00:00:00",
          "2024-02-29T00:00:00",
          "2024-03-01T00:00:00",
          "2024-03-04T00:00:00",
          "2024-03-05T00:00:00",
          "2024-03-06T00:00:00",
          "2024-03-07T00:00:00",
          "2024-03-08T00:00:00",
          "2024-03-11T00:00:00",
          "2024-03-12T00:00:00",
          "2024-03-13T00:00:00",
          "2024-03-14T00:00:00",
          "2024-03-15T00:00:00",
          "2024-03-18T00:00:00",
          "2024-03-19T00:00:00",
          "2024-03-20T00:00:00",
          "2024-03-21T00:00:00",
          "2024-03-22T00:00:00",
          "2024-03-25T00:00:00",
          "2024-03-26T00:00:00",
          "2024-03-27T00:00:00",
          "2024-03-28T00:00:00",
          "2024-03-29T00:00:00",
          "2024-04-01T00:00:00",
          "2024-04-02T00:00:00",
          "2024-04-03T00:00:00",
          "2024-04-04T00:00:00",
          "2024-04-05T00:00:00",
          "2024-04-08T00:00:00",
          "2024-04-09T00:00:00",
          "2024-04-10T00:00:00",
          "2024-04-11T00:00:00",
          "2024-04-12T00:00:00",
          "2024-04-15T00:00:00",
          "2024-04-16T00:00:00",
          "2024-04-17T00:00:00",
          "2024-04-18T00:00:00",
          "2024-04-19T00:00:00",
          "2024-04-22T00:00:00",
          "2024-04-23T00:00:00",
          "2024-04-24T00:00:00",
          "2024-04-25T00:00:00",
          "2024-04-26T00:00:00",
          "2024-04-29T00:00:00",
          "2024-04-30T00:00:00",
          "2024-05-01T00:00:00",
          "2024-05-02T00:00:00",
          "2024-05-03T00:00:00",
          "2024-05-06T00:00:00",
          "2024-05-07T00:00:00",
          "2024-05-08T00:00:00",
          "2024-05-09T00:00:00",
          "2024-05-10T00:00:00",
          "2024-05-13T00:00:00",
          "2024-05-14T00:00:00",
          "2024-05-15T00:00:00",
          "2024-05-16T00:00:00",
          "2024-05-17T00:00:00",
          "2024-05-20T00:00:00",
          "2024-05-21T00:00:00",
          "2024-05-22T00:00:00",
          "2024-05-23T00:00:00",
          "2024-05-24T00:00:00",
          "2024-05-27T00:00:00",
          "2024-05-28T00:00:00",
          "2024-05-29T00:00:00",
          "2024-05-30T00:00:00",
          "2024-05-31T00:00:00",
          "2024-06-03T00:00:00",
          "2024-06-04T00:00:00",
          "2024-06-05T00:00:00",
          "2024-06-06T00:00:00",
          "2024-06-07T00:00:00",
          "2024-06-10T00:00:00",
          "2024-06-11T00:00:00",
          "2024-06-12T00:00:00",
          "2024-06-13T00:00:00",
          "2024-06-14T00:00:00",
          "2024-06-17T00:00:00",
          "2024-06-18T00:00:00",
          "2024-06-19T00:00:00",
          "2024-06-20T00:00:00",
          "2024-06-21T00:00:00",
          "2024-06-24T00:00:00",
          "2024-06-25T00:00:00",
          "2024-06-26T00:00:00",
          "2024-06-27T00:00:00",
          "2024-06-28T00:00:00",
          "2024-07-01T00:00:00",
          "2024-07-02T00:00:00",
          "2024-07-03T00:00:00",
          "2024-07-04T00:00:00",
          "2024-07-05T00:00:00",
          "2024-07-08T00:00:00",
          "2024-07-09T00:00:00",
          "2024-07-10T00:00:00",
          "2024-07-11T00:00:00",
          "2024-07-12T00:00:00",
          "2024-07-15T00:00:00",
          "2024-07-16T00:00:00",
          "2024-07-17T00:00:00",
          "2024-07-18T00:00:00",
          "2024-07-19T00:00:00",
          "2024-07-22T00:00:00",
          "2024-07-23T00:00:00",
          "2024-07-24T00:00:00",
          "2024-07-25T00:00:00",
          "2024-07-26T00:00:00",
          "2024-07-29T00:00:00",
          "2024-07-30T00:00:00",
          "2024-07-31T00:00:00",
          "2024-08-01T00:00:00",
          "2024-08-02T00:00:00",
          "2024-08-05T00:00:00",
          "2024-08-06T00:00:00",
          "2024-08-07T00:00:00",
          "2024-08-08T00:00:00",
          "2024-08-09T00:00:00",
          "2024-08-12T00:00:00",
          "2024-08-13T00:00:00",
          "2024-08-14T00:00:00",
          "2024-08-15T00:00:00",
          "2024-08-16T00:00:00",
          "2024-08-19T00:00:00",
          "2024-08-20T00:00:00",
          "2024-08-21T00:00:00",
          "2024-08-22T00:00:00",
          "2024-08-23T00:00:00",
          "2024-08-26T00:00:00",
          "2024-08-27T00:00:00",
          "2024-08-28T00:00:00",
          "2024-08-29T00:00:00",
          "2024-08-30T00:00:00",
          "2024-09-02T00:00:00",
          "2024-09-03T00:00:00",
          "2024-09-04T00:00:00",
          "2024-09-05T00:00:00",
          "2024-09-06T00:00:00",
          "2024-09-09T00:00:00",
          "2024-09-10T00:00:00",
          "2024-09-11T00:00:00",
          "2024-09-12T00:00:00",
          "2024-09-13T00:00:00",
          "2024-09-16T00:00:00",
          "2024-09-17T00:00:00",
          "2024-09-18T00:00:00",
          "2024-09-19T00:00:00",
          "2024-09-20T00:00:00",
          "2024-09-23T00:00:00",
          "2024-09-24T00:00:00",
          "2024-09-25T00:00:00",
          "2024-09-26T00:00:00",
          "2024-09-27T00:00:00",
          "2024-09-30T00:00:00",
          "2024-10-01T00:00:00",
          "2024-10-02T00:00:00",
          "2024-10-03T00:00:00",
          "2024-10-04T00:00:00",
          "2024-10-07T00:00:00",
          "2024-10-08T00:00:00",
          "2024-10-09T00:00:00",
          "2024-10-10T00:00:00",
          "2024-10-11T00:00:00",
          "2024-10-14T00:00:00",
          "2024-10-15T00:00:00",
          "2024-10-16T00:00:00",
          "2024-10-17T00:00:00",
          "2024-10-18T00:00:00",
          "2024-10-21T00:00:00",
          "2024-10-22T00:00:00",
          "2024-10-23T00:00:00",
          "2024-10-24T00:00:00",
          "2024-10-25T00:00:00",
          "2024-10-28T00:00:00",
          "2024-10-29T00:00:00",
          "2024-10-30T00:00:00",
          "2024-10-31T00:00:00",
          "2024-11-01T00:00:00",
          "2024-11-04T00:00:00",
          "2024-11-05T00:00:00",
          "2024-11-06T00:00:00",
          "2024-11-07T00:00:00",
          "2024-11-08T00:00:00",
          "2024-11-11T00:00:00",
          "2024-11-12T00:00:00",
          "2024-11-13T00:00:00",
          "2024-11-14T00:00:00",
          "2024-11-15T00:00:00",
          "2024-11-18T00:00:00",
          "2024-11-19T00:00:00",
          "2024-11-20T00:00:00",
          "2024-11-21T00:00:00",
          "2024-11-22T00:00:00",
          "2024-11-25T00:00:00",
          "2024-11-26T00:00:00",
          "2024-11-27T00:00:00",
          "2024-11-28T00:00:00",
          "2024-11-29T00:00:00"
         ],
         "y": [
          100,
          100.167816625104,
          99.7324098721208,
          98.88275270033779,
          97.47701442998803,
          97.66983624321526,
          97.14496630068763,
          97.44703128088045,
          97.28928596094674,
          97.43488307808097,
          97.69478373973769,
          95.65668783289084,
          96.06735313078308,
          95.61158948437061,
          93.04805496064526,
          93.54213407165396,
          95.22313545279088,
          98.10392433103704,
          98.24280449750533,
          97.33597494931793,
          95.55244735188136,
          94.13532735285716,
          93.53416438908468,
          92.16400535312123,
          91.2198987891522,
          94.16699180004554,
          95.52439275057235,
          96.74666348868362,
          96.74666348868362,
          96.74666348868362,
          96.74666348868362,
          96.74666348868362,
          96.74666348868362,
          98.25364227680068,
          98.66501635721716,
          99.6178673195378,
          100.88047272827372,
          101.43825984989306,
          100.49779609843242,
          101.79608788309902,
          99.85066117047027,
          101.78562097838031,
          102.18562157177963,
          102.60036649001498,
          102.88687122130318,
          102.62146513259755,
          102.1984785571034,
          102.82698733966062,
          103.58437915843119,
          103.16173049088464,
          102.75325747382327,
          102.56417737299152,
          103.11787663261049,
          104.14040256539714,
          103.39199415303868,
          103.96351187565121,
          103.87665304980054,
          102.89500573701761,
          102.16151472429762,
          102.33621313321271,
          101.0418691023731,
          101.63347998538259,
          102.66319264329893,
          103.8856282145554,
          103.80393690780603,
          103.61276342603054,
          103.61276342603054,
          103.61276342603054,
          102.8618907581517,
          102.91199179262804,
          102.19625330964351,
          102.42955814332603,
          101.9308884292242,
          103.21043868528423,
          101.51208861561751,
          103.68315542067809,
          103.77916248608602,
          103.4765535565141,
          102.77891375286995,
          102.0154148660706,
          102.78657849412065,
          103.05927020784307,
          104.26564278910209,
          105.08956950692307,
          104.81214708193411,
          104.81214708193411,
          104.81214708193411,
          104.81214708193411,
          106.02388498206862,
          106.26079966163051,
          105.61068949539793,
          106.48299474132816,
          106.49065948257888,
          106.27035174239347,
          106.19449552898334,
          105.32111886760948,
          105.40547222965344,
          106.4730635443313,
          107.05096855131939,
          106.60607565083131,
          106.62545178704679,
          105.20245548639706,
          104.27357950504232,
          105.46090561637624,
          104.9723978656745,
          105.02121320161845,
          104.36833383854693,
          104.20410233435051,
          103.92310303011124,
          104.35216370700513,
          103.48135020103875,
          102.92066201606431,
          103.00455384530179,
          103.00455384530179,
          102.22022004895214,
          102.53832329417062,
          102.24972518193871,
          102.37510551381706,
          101.80993386729382,
          102.29452683079762,
          101.88278187580448,
          101.45702610347136,
          101.21062527640458,
          100.02779086827674,
          99.58546112319613,
          100.34598477172506,
          99.445567232885,
          100.17308304409238,
          101.09557998272878,
          101.17258178649789,
          100.67853564211823,
          99.84103491479198,
          99.58333477562336,
          98.6555631763413,
          99.90197372856365,
          99.22654519123199,
          100.27381257910962,
          100.30446330245515,
          100.39615173945946,
          100.47355738443424,
          100.0195492110179,
          100.50154605248518,
          100.67627742802931,
          100.0654964502358,
          98.41652214920663,
          97.9635936328912,
          97.45013838566703,
          97.5904031505548,
          97.62240550569078,
          97.19891618910384,
          99.20578445659704,
          98.99101511008959,
          98.0778971774137,
          96.5709513559257,
          96.79327830213948,
          96.8793624122078,
          96.88162062629672,
          96.62145623160771,
          96.48679579365593,
          96.81562967662539,
          96.23188957629804,
          97.13335380560997,
          97.20330075076554,
          97.68415200187383,
          96.77224559281498,
          96.4320711894574,
          96.16835464048984,
          96.35726166651915,
          96.39615404712349,
          96.16697004207036,
          95.78543900258805,
          95.30192569618515,
          95.94697548486081,
          94.89443343633756,
          94.62248347176845,
          93.99118076740048,
          94.12742360354596,
          93.36763346251307,
          92.37789284230199,
          92.63795833710388,
          91.88188518349473,
          91.72417283019004,
          91.28420844074273,
          91.28420844074273,
          91.28420844074273,
          91.7295051824365,
          92.36215951859491,
          92.38889545474251,
          92.79750033832002,
          96.6529146373646,
          97.77299706712384,
          101.30565158459872,
          104.22827511509063,
          112.63289466288408,
          112.63289466288408,
          112.63289466288408,
          112.63289466288408,
          112.63289466288408,
          112.63289466288408,
          117.80722137305679,
          110.01196523800836,
          111.46585127006409,
          108.62384763087793,
          110.87161129838903,
          108.0686648729524,
          108.12456803413892,
          106.99152147751157,
          110.10328280043602,
          110.32429932314565,
          110.92373153889379,
          111.49545530293776,
          110.73455253817495,
          111.39070383917824,
          112.15018903889256,
          110.94196208475029,
          110.26110229528507,
          110.7197340384236,
          110.45608342271412,
          111.74540004262585,
          114.33732707560782,
          114.22993828152545,
          117.16197378460693,
          116.54205280891338,
          117.14188886586719,
          115.5182741442234,
          116.10255819392982,
          114.09602783438422,
          112.4380783686002,
          112.2059273669339,
          112.95403083797379,
          113.69599427435585,
          113.77752074796005,
          110.29330245019526,
          110.1774494741081,
          110.04231926169257,
          111.73095241745115,
          111.25560659339173,
          112.29393178314353
         ]
        },
        {
         "mode": "lines",
         "name": "Kospi (South Korea)",
         "type": "scatter",
         "x": [
          "2024-01-02T00:00:00",
          "2024-01-03T00:00:00",
          "2024-01-04T00:00:00",
          "2024-01-05T00:00:00",
          "2024-01-08T00:00:00",
          "2024-01-09T00:00:00",
          "2024-01-10T00:00:00",
          "2024-01-11T00:00:00",
          "2024-01-12T00:00:00",
          "2024-01-15T00:00:00",
          "2024-01-16T00:00:00",
          "2024-01-17T00:00:00",
          "2024-01-18T00:00:00",
          "2024-01-19T00:00:00",
          "2024-01-22T00:00:00",
          "2024-01-23T00:00:00",
          "2024-01-24T00:00:00",
          "2024-01-25T00:00:00",
          "2024-01-26T00:00:00",
          "2024-01-29T00:00:00",
          "2024-01-30T00:00:00",
          "2024-01-31T00:00:00",
          "2024-02-01T00:00:00",
          "2024-02-02T00:00:00",
          "2024-02-05T00:00:00",
          "2024-02-06T00:00:00",
          "2024-02-07T00:00:00",
          "2024-02-08T00:00:00",
          "2024-02-09T00:00:00",
          "2024-02-13T00:00:00",
          "2024-02-14T00:00:00",
          "2024-02-15T00:00:00",
          "2024-02-16T00:00:00",
          "2024-02-19T00:00:00",
          "2024-02-20T00:00:00",
          "2024-02-21T00:00:00",
          "2024-02-22T00:00:00",
          "2024-02-23T00:00:00",
          "2024-02-26T00:00:00",
          "2024-02-27T00:00:00",
          "2024-02-28T00:00:00",
          "2024-02-29T00:00:00",
          "2024-03-01T00:00:00",
          "2024-03-04T00:00:00",
          "2024-03-05T00:00:00",
          "2024-03-06T00:00:00",
          "2024-03-07T00:00:00",
          "2024-03-08T00:00:00",
          "2024-03-11T00:00:00",
          "2024-03-12T00:00:00",
          "2024-03-13T00:00:00",
          "2024-03-14T00:00:00",
          "2024-03-15T00:00:00",
          "2024-03-18T00:00:00",
          "2024-03-19T00:00:00",
          "2024-03-20T00:00:00",
          "2024-03-21T00:00:00",
          "2024-03-22T00:00:00",
          "2024-03-25T00:00:00",
          "2024-03-26T00:00:00",
          "2024-03-27T00:00:00",
          "2024-03-28T00:00:00",
          "2024-03-29T00:00:00",
          "2024-04-01T00:00:00",
          "2024-04-02T00:00:00",
          "2024-04-03T00:00:00",
          "2024-04-04T00:00:00",
          "2024-04-05T00:00:00",
          "2024-04-08T00:00:00",
          "2024-04-09T00:00:00",
          "2024-04-10T00:00:00",
          "2024-04-11T00:00:00",
          "2024-04-12T00:00:00",
          "2024-04-15T00:00:00",
          "2024-04-16T00:00:00",
          "2024-04-17T00:00:00",
          "2024-04-18T00:00:00",
          "2024-04-19T00:00:00",
          "2024-04-22T00:00:00",
          "2024-04-23T00:00:00",
          "2024-04-24T00:00:00",
          "2024-04-25T00:00:00",
          "2024-04-26T00:00:00",
          "2024-04-29T00:00:00",
          "2024-04-30T00:00:00",
          "2024-05-01T00:00:00",
          "2024-05-02T00:00:00",
          "2024-05-03T00:00:00",
          "2024-05-06T00:00:00",
          "2024-05-07T00:00:00",
          "2024-05-08T00:00:00",
          "2024-05-09T00:00:00",
          "2024-05-10T00:00:00",
          "2024-05-13T00:00:00",
          "2024-05-14T00:00:00",
          "2024-05-15T00:00:00",
          "2024-05-16T00:00:00",
          "2024-05-17T00:00:00",
          "2024-05-20T00:00:00",
          "2024-05-21T00:00:00",
          "2024-05-22T00:00:00",
          "2024-05-23T00:00:00",
          "2024-05-24T00:00:00",
          "2024-05-27T00:00:00",
          "2024-05-28T00:00:00",
          "2024-05-29T00:00:00",
          "2024-05-30T00:00:00",
          "2024-05-31T00:00:00",
          "2024-06-03T00:00:00",
          "2024-06-04T00:00:00",
          "2024-06-05T00:00:00",
          "2024-06-06T00:00:00",
          "2024-06-07T00:00:00",
          "2024-06-10T00:00:00",
          "2024-06-11T00:00:00",
          "2024-06-12T00:00:00",
          "2024-06-13T00:00:00",
          "2024-06-14T00:00:00",
          "2024-06-17T00:00:00",
          "2024-06-18T00:00:00",
          "2024-06-19T00:00:00",
          "2024-06-20T00:00:00",
          "2024-06-21T00:00:00",
          "2024-06-24T00:00:00",
          "2024-06-25T00:00:00",
          "2024-06-26T00:00:00",
          "2024-06-27T00:00:00",
          "2024-06-28T00:00:00",
          "2024-07-01T00:00:00",
          "2024-07-02T00:00:00",
          "2024-07-03T00:00:00",
          "2024-07-04T00:00:00",
          "2024-07-05T00:00:00",
          "2024-07-08T00:00:00",
          "2024-07-09T00:00:00",
          "2024-07-10T00:00:00",
          "2024-07-11T00:00:00",
          "2024-07-12T00:00:00",
          "2024-07-15T00:00:00",
          "2024-07-16T00:00:00",
          "2024-07-17T00:00:00",
          "2024-07-18T00:00:00",
          "2024-07-19T00:00:00",
          "2024-07-22T00:00:00",
          "2024-07-23T00:00:00",
          "2024-07-24T00:00:00",
          "2024-07-25T00:00:00",
          "2024-07-26T00:00:00",
          "2024-07-29T00:00:00",
          "2024-07-30T00:00:00",
          "2024-07-31T00:00:00",
          "2024-08-01T00:00:00",
          "2024-08-02T00:00:00",
          "2024-08-05T00:00:00",
          "2024-08-06T00:00:00",
          "2024-08-07T00:00:00",
          "2024-08-08T00:00:00",
          "2024-08-09T00:00:00",
          "2024-08-12T00:00:00",
          "2024-08-13T00:00:00",
          "2024-08-14T00:00:00",
          "2024-08-15T00:00:00",
          "2024-08-16T00:00:00",
          "2024-08-19T00:00:00",
          "2024-08-20T00:00:00",
          "2024-08-21T00:00:00",
          "2024-08-22T00:00:00",
          "2024-08-23T00:00:00",
          "2024-08-26T00:00:00",
          "2024-08-27T00:00:00",
          "2024-08-28T00:00:00",
          "2024-08-29T00:00:00",
          "2024-08-30T00:00:00",
          "2024-09-02T00:00:00",
          "2024-09-03T00:00:00",
          "2024-09-04T00:00:00",
          "2024-09-05T00:00:00",
          "2024-09-06T00:00:00",
          "2024-09-09T00:00:00",
          "2024-09-10T00:00:00",
          "2024-09-11T00:00:00",
          "2024-09-12T00:00:00",
          "2024-09-13T00:00:00",
          "2024-09-16T00:00:00",
          "2024-09-17T00:00:00",
          "2024-09-18T00:00:00",
          "2024-09-19T00:00:00",
          "2024-09-20T00:00:00",
          "2024-09-23T00:00:00",
          "2024-09-24T00:00:00",
          "2024-09-25T00:00:00",
          "2024-09-26T00:00:00",
          "2024-09-27T00:00:00",
          "2024-09-30T00:00:00",
          "2024-10-01T00:00:00",
          "2024-10-02T00:00:00",
          "2024-10-03T00:00:00",
          "2024-10-04T00:00:00",
          "2024-10-07T00:00:00",
          "2024-10-08T00:00:00",
          "2024-10-09T00:00:00",
          "2024-10-10T00:00:00",
          "2024-10-11T00:00:00",
          "2024-10-14T00:00:00",
          "2024-10-15T00:00:00",
          "2024-10-16T00:00:00",
          "2024-10-17T00:00:00",
          "2024-10-18T00:00:00",
          "2024-10-21T00:00:00",
          "2024-10-22T00:00:00",
          "2024-10-23T00:00:00",
          "2024-10-24T00:00:00",
          "2024-10-25T00:00:00",
          "2024-10-28T00:00:00",
          "2024-10-29T00:00:00",
          "2024-10-30T00:00:00",
          "2024-10-31T00:00:00",
          "2024-11-01T00:00:00",
          "2024-11-04T00:00:00",
          "2024-11-05T00:00:00",
          "2024-11-06T00:00:00",
          "2024-11-07T00:00:00",
          "2024-11-08T00:00:00",
          "2024-11-11T00:00:00",
          "2024-11-12T00:00:00",
          "2024-11-13T00:00:00",
          "2024-11-14T00:00:00",
          "2024-11-15T00:00:00",
          "2024-11-18T00:00:00",
          "2024-11-19T00:00:00",
          "2024-11-20T00:00:00",
          "2024-11-21T00:00:00",
          "2024-11-22T00:00:00",
          "2024-11-25T00:00:00",
          "2024-11-26T00:00:00",
          "2024-11-27T00:00:00",
          "2024-11-28T00:00:00",
          "2024-11-29T00:00:00"
         ],
         "y": [
          100,
          97.65900949399673,
          96.89902887300876,
          96.56417578570866,
          96.17987841846339,
          95.93341601175324,
          95.2120160116435,
          95.14796797451832,
          94.57789106383571,
          94.6130973663674,
          93.54935493823717,
          91.23869671937615,
          91.39376905141053,
          92.6185734552526,
          92.30432291330416,
          92.83844367293364,
          92.50433128966081,
          92.52868307761975,
          92.83656905163001,
          93.66396288359553,
          93.59504997557505,
          93.53062701418915,
          95.22999408717008,
          97.95865627876516,
          97.0597159244599,
          96.49375403615112,
          97.74403500073431,
          98.14631044350614,
          98.14631044350614,
          99.24450932564659,
          98.15005054161925,
          97.90209758236034,
          99.21155256867927,
          100.39141178370492,
          99.54977997432592,
          99.38197850641514,
          99.79249313842881,
          99.92096413693989,
          99.14862930433627,
          98.32347587344094,
          99.34377280979763,
          98.97183879866219,
          98.97183879866219,
          100.16705161938933,
          99.2355202878833,
          98.93924782146144,
          99.16885692542719,
          100.39478610205146,
          99.62656629182166,
          100.44947017715262,
          100.88995131654197,
          101.83346193540292,
          99.88875722849403,
          100.600418342319,
          99.48909711105311,
          100.7614711735367,
          103.18562170946808,
          102.94964803756412,
          102.53800863276827,
          103.26914751916274,
          103.1949856714921,
          102.8470193795607,
          102.87735166670294,
          102.92343077279571,
          103.12193945210946,
          101.3918560232314,
          102.70393547937542,
          101.66303599766707,
          101.79188192043888,
          101.32405874349895,
          101.32405874349895,
          101.39148109897067,
          100.44984510141335,
          100.02321787068257,
          97.74590047754378,
          96.79265097239808,
          98.68492114977016,
          97.08031846981156,
          98.48790302300517,
          98.24743940446665,
          100.22248554301194,
          98.4571958116022,
          99.49509589922475,
          100.66034221257621,
          100.83339262013718,
          100.83339262013718,
          100.51838308517308,
          100.25544229997926,
          100.25544229997926,
          102.41777682349903,
          102.81817764496721,
          101.58549983164986,
          102.16569055287795,
          102.14996202291573,
          102.26720358259334,
          102.26720358259334,
          103.11594980843199,
          102.05295722882322,
          102.70917527453143,
          102.03646970584539,
          102.00950259255555,
          101.94770410099471,
          100.66634100074782,
          101.9918994412897,
          101.98665964613367,
          100.28054393645967,
          98.71263811158148,
          98.75309335376336,
          100.47606236618176,
          99.7112168742985,
          100.73750345433268,
          100.73750345433268,
          101.9799110094406,
          101.17461027537547,
          101.33005753167059,
          102.18591817396887,
          103.1867373377561,
          103.31895757887446,
          102.7825964181748,
          103.52496474340276,
          104.77637048076814,
          105.16215840056213,
          104.28681998569435,
          103.55530617503914,
          103.91712637562911,
          104.57860250548168,
          104.27933064497397,
          104.79472348055543,
          105.03781156891903,
          104.15947375996544,
          104.65201450463087,
          105.81052132578338,
          107.20725136440426,
          107.0398248207542,
          107.40014532430126,
          107.42299741521728,
          108.2979700503185,
          107.01135801042143,
          107.15818200871982,
          107.35183496163245,
          106.49783979614362,
          105.78842822788299,
          104.7063236554713,
          103.50961113770127,
          103.91338627751601,
          103.32982123794139,
          101.52969098376651,
          102.32562775580763,
          103.58527268241482,
          102.56122650345085,
          103.77854156657256,
          104.0403575789842,
          100.23896392149561,
          91.45032774781534,
          94.46926361766064,
          96.2019715163638,
          95.76448977106027,
          96.9518383268063,
          98.07064889879258,
          98.19050578380111,
          99.05199029001032,
          99.05199029001032,
          101.02703642855562,
          100.17042593773586,
          101.00455926190033,
          101.17311057833255,
          101.41807328799982,
          101.19408804794494,
          101.05625308740984,
          100.72813949230866,
          100.74986681044248,
          99.71795636649743,
          100.16855131643223,
          100.41912874551622,
          99.80597212282665,
          96.66605459519062,
          96.46753677138271,
          95.29816629116326,
          94.98540630176355,
          94.51720820056289,
          94.14040931853218,
          96.33981562139307,
          96.46416245303617,
          96.46416245303617,
          96.46416245303617,
          96.46416245303617,
          96.66605459519062,
          97.13687716621637,
          97.46049167018882,
          98.57180375696056,
          97.24737008920088,
          100.06592265842882,
          99.24975826529678,
          97.13312792360908,
          97.13312792360908,
          95.95026931449763,
          95.95026931449763,
          96.2506659477875,
          97.77399236361582,
          97.17395809005168,
          97.17395809005168,
          97.35373884531741,
          97.2694631871013,
          98.25755321501212,
          98.6381013396501,
          97.77325165958852,
          97.73354626592811,
          97.15373046896076,
          97.56948489613043,
          96.28774687162283,
          97.37097621681669,
          96.67466870869318,
          96.75856944264856,
          97.85077868111155,
          98.05192097474456,
          97.15260569617857,
          95.74276245292643,
          95.22625398905696,
          96.97206594789724,
          96.51922145239806,
          96.0184415184908,
          96.06038731322141,
          95.9300416934067,
          94.82546909883388,
          92.98676736827494,
          90.53378424224422,
          90.6004567491945,
          90.5255450530024,
          92.48111341897823,
          92.58898187213765,
          92.97627863346874,
          92.91409607315303,
          93.6860651259901,
          94.92585735576709,
          94.4022253309438,
          93.75423732998328,
          93.81453612450119,
          91.98818860555792
         ]
        }
       ],
       "layout": {
        "hovermode": "x unified",
        "template": {
         "data": {
          "bar": [
           {
            "error_x": {
             "color": "#2a3f5f"
            },
            "error_y": {
             "color": "#2a3f5f"
            },
            "marker": {
             "line": {
              "color": "#E5ECF6",
              "width": 0.5
             },
             "pattern": {
              "fillmode": "overlay",
              "size": 10,
              "solidity": 0.2
             }
            },
            "type": "bar"
           }
          ],
          "barpolar": [
           {
            "marker": {
             "line": {
              "color": "#E5ECF6",
              "width": 0.5
             },
             "pattern": {
              "fillmode": "overlay",
              "size": 10,
              "solidity": 0.2
             }
            },
            "type": "barpolar"
           }
          ],
          "carpet": [
           {
            "aaxis": {
             "endlinecolor": "#2a3f5f",
             "gridcolor": "white",
             "linecolor": "white",
             "minorgridcolor": "white",
             "startlinecolor": "#2a3f5f"
            },
            "baxis": {
             "endlinecolor": "#2a3f5f",
             "gridcolor": "white",
             "linecolor": "white",
             "minorgridcolor": "white",
             "startlinecolor": "#2a3f5f"
            },
            "type": "carpet"
           }
          ],
          "choropleth": [
           {
            "colorbar": {
             "outlinewidth": 0,
             "ticks": ""
            },
            "type": "choropleth"
           }
          ],
          "contour": [
           {
            "colorbar": {
             "outlinewidth": 0,
             "ticks": ""
            },
            "colorscale": [
             [
              0,
              "#0d0887"
             ],
             [
              0.1111111111111111,
              "#46039f"
             ],
             [
              0.2222222222222222,
              "#7201a8"
             ],
             [
              0.3333333333333333,
              "#9c179e"
             ],
             [
              0.4444444444444444,
              "#bd3786"
             ],
             [
              0.5555555555555556,
              "#d8576b"
             ],
             [
              0.6666666666666666,
              "#ed7953"
             ],
             [
              0.7777777777777778,
              "#fb9f3a"
             ],
             [
              0.8888888888888888,
              "#fdca26"
             ],
             [
              1,
              "#f0f921"
             ]
            ],
            "type": "contour"
           }
          ],
          "contourcarpet": [
           {
            "colorbar": {
             "outlinewidth": 0,
             "ticks": ""
            },
            "type": "contourcarpet"
           }
          ],
          "heatmap": [
           {
            "colorbar": {
             "outlinewidth": 0,
             "ticks": ""
            },
            "colorscale": [
             [
              0,
              "#0d0887"
             ],
             [
              0.1111111111111111,
              "#46039f"
             ],
             [
              0.2222222222222222,
              "#7201a8"
             ],
             [
              0.3333333333333333,
              "#9c179e"
             ],
             [
              0.4444444444444444,
              "#bd3786"
             ],
             [
              0.5555555555555556,
              "#d8576b"
             ],
             [
              0.6666666666666666,
              "#ed7953"
             ],
             [
              0.7777777777777778,
              "#fb9f3a"
             ],
             [
              0.8888888888888888,
              "#fdca26"
             ],
             [
              1,
              "#f0f921"
             ]
            ],
            "type": "heatmap"
           }
          ],
          "heatmapgl": [
           {
            "colorbar": {
             "outlinewidth": 0,
             "ticks": ""
            },
            "colorscale": [
             [
              0,
              "#0d0887"
             ],
             [
              0.1111111111111111,
              "#46039f"
             ],
             [
              0.2222222222222222,
              "#7201a8"
             ],
             [
              0.3333333333333333,
              "#9c179e"
             ],
             [
              0.4444444444444444,
              "#bd3786"
             ],
             [
              0.5555555555555556,
              "#d8576b"
             ],
             [
              0.6666666666666666,
              "#ed7953"
             ],
             [
              0.7777777777777778,
              "#fb9f3a"
             ],
             [
              0.8888888888888888,
              "#fdca26"
             ],
             [
              1,
              "#f0f921"
             ]
            ],
            "type": "heatmapgl"
           }
          ],
          "histogram": [
           {
            "marker": {
             "pattern": {
              "fillmode": "overlay",
              "size": 10,
              "solidity": 0.2
             }
            },
            "type": "histogram"
           }
          ],
          "histogram2d": [
           {
            "colorbar": {
             "outlinewidth": 0,
             "ticks": ""
            },
            "colorscale": [
             [
              0,
              "#0d0887"
             ],
             [
              0.1111111111111111,
              "#46039f"
             ],
             [
              0.2222222222222222,
              "#7201a8"
             ],
             [
              0.3333333333333333,
              "#9c179e"
             ],
             [
              0.4444444444444444,
              "#bd3786"
             ],
             [
              0.5555555555555556,
              "#d8576b"
             ],
             [
              0.6666666666666666,
              "#ed7953"
             ],
             [
              0.7777777777777778,
              "#fb9f3a"
             ],
             [
              0.8888888888888888,
              "#fdca26"
             ],
             [
              1,
              "#f0f921"
             ]
            ],
            "type": "histogram2d"
           }
          ],
          "histogram2dcontour": [
           {
            "colorbar": {
             "outlinewidth": 0,
             "ticks": ""
            },
            "colorscale": [
             [
              0,
              "#0d0887"
             ],
             [
              0.1111111111111111,
              "#46039f"
             ],
             [
              0.2222222222222222,
              "#7201a8"
             ],
             [
              0.3333333333333333,
              "#9c179e"
             ],
             [
              0.4444444444444444,
              "#bd3786"
             ],
             [
              0.5555555555555556,
              "#d8576b"
             ],
             [
              0.6666666666666666,
              "#ed7953"
             ],
             [
              0.7777777777777778,
              "#fb9f3a"
             ],
             [
              0.8888888888888888,
              "#fdca26"
             ],
             [
              1,
              "#f0f921"
             ]
            ],
            "type": "histogram2dcontour"
           }
          ],
          "mesh3d": [
           {
            "colorbar": {
             "outlinewidth": 0,
             "ticks": ""
            },
            "type": "mesh3d"
           }
          ],
          "parcoords": [
           {
            "line": {
             "colorbar": {
              "outlinewidth": 0,
              "ticks": ""
             }
            },
            "type": "parcoords"
           }
          ],
          "pie": [
           {
            "automargin": true,
            "type": "pie"
           }
          ],
          "scatter": [
           {
            "fillpattern": {
             "fillmode": "overlay",
             "size": 10,
             "solidity": 0.2
            },
            "type": "scatter"
           }
          ],
          "scatter3d": [
           {
            "line": {
             "colorbar": {
              "outlinewidth": 0,
              "ticks": ""
             }
            },
            "marker": {
             "colorbar": {
              "outlinewidth": 0,
              "ticks": ""
             }
            },
            "type": "scatter3d"
           }
          ],
          "scattercarpet": [
           {
            "marker": {
             "colorbar": {
              "outlinewidth": 0,
              "ticks": ""
             }
            },
            "type": "scattercarpet"
           }
          ],
          "scattergeo": [
           {
            "marker": {
             "colorbar": {
              "outlinewidth": 0,
              "ticks": ""
             }
            },
            "type": "scattergeo"
           }
          ],
          "scattergl": [
           {
            "marker": {
             "colorbar": {
              "outlinewidth": 0,
              "ticks": ""
             }
            },
            "type": "scattergl"
           }
          ],
          "scattermapbox": [
           {
            "marker": {
             "colorbar": {
              "outlinewidth": 0,
              "ticks": ""
             }
            },
            "type": "scattermapbox"
           }
          ],
          "scatterpolar": [
           {
            "marker": {
             "colorbar": {
              "outlinewidth": 0,
              "ticks": ""
             }
            },
            "type": "scatterpolar"
           }
          ],
          "scatterpolargl": [
           {
            "marker": {
             "colorbar": {
              "outlinewidth": 0,
              "ticks": ""
             }
            },
            "type": "scatterpolargl"
           }
          ],
          "scatterternary": [
           {
            "marker": {
             "colorbar": {
              "outlinewidth": 0,
              "ticks": ""
             }
            },
            "type": "scatterternary"
           }
          ],
          "surface": [
           {
            "colorbar": {
             "outlinewidth": 0,
             "ticks": ""
            },
            "colorscale": [
             [
              0,
              "#0d0887"
             ],
             [
              0.1111111111111111,
              "#46039f"
             ],
             [
              0.2222222222222222,
              "#7201a8"
             ],
             [
              0.3333333333333333,
              "#9c179e"
             ],
             [
              0.4444444444444444,
              "#bd3786"
             ],
             [
              0.5555555555555556,
              "#d8576b"
             ],
             [
              0.6666666666666666,
              "#ed7953"
             ],
             [
              0.7777777777777778,
              "#fb9f3a"
             ],
             [
              0.8888888888888888,
              "#fdca26"
             ],
             [
              1,
              "#f0f921"
             ]
            ],
            "type": "surface"
           }
          ],
          "table": [
           {
            "cells": {
             "fill": {
              "color": "#EBF0F8"
             },
             "line": {
              "color": "white"
             }
            },
            "header": {
             "fill": {
              "color": "#C8D4E3"
             },
             "line": {
              "color": "white"
             }
            },
            "type": "table"
           }
          ]
         },
         "layout": {
          "annotationdefaults": {
           "arrowcolor": "#2a3f5f",
           "arrowhead": 0,
           "arrowwidth": 1
          },
          "autotypenumbers": "strict",
          "coloraxis": {
           "colorbar": {
            "outlinewidth": 0,
            "ticks": ""
           }
          },
          "colorscale": {
           "diverging": [
            [
             0,
             "#8e0152"
            ],
            [
             0.1,
             "#c51b7d"
            ],
            [
             0.2,
             "#de77ae"
            ],
            [
             0.3,
             "#f1b6da"
            ],
            [
             0.4,
             "#fde0ef"
            ],
            [
             0.5,
             "#f7f7f7"
            ],
            [
             0.6,
             "#e6f5d0"
            ],
            [
             0.7,
             "#b8e186"
            ],
            [
             0.8,
             "#7fbc41"
            ],
            [
             0.9,
             "#4d9221"
            ],
            [
             1,
             "#276419"
            ]
           ],
           "sequential": [
            [
             0,
             "#0d0887"
            ],
            [
             0.1111111111111111,
             "#46039f"
            ],
            [
             0.2222222222222222,
             "#7201a8"
            ],
            [
             0.3333333333333333,
             "#9c179e"
            ],
            [
             0.4444444444444444,
             "#bd3786"
            ],
            [
             0.5555555555555556,
             "#d8576b"
            ],
            [
             0.6666666666666666,
             "#ed7953"
            ],
            [
             0.7777777777777778,
             "#fb9f3a"
            ],
            [
             0.8888888888888888,
             "#fdca26"
            ],
            [
             1,
             "#f0f921"
            ]
           ],
           "sequentialminus": [
            [
             0,
             "#0d0887"
            ],
            [
             0.1111111111111111,
             "#46039f"
            ],
            [
             0.2222222222222222,
             "#7201a8"
            ],
            [
             0.3333333333333333,
             "#9c179e"
            ],
            [
             0.4444444444444444,
             "#bd3786"
            ],
            [
             0.5555555555555556,
             "#d8576b"
            ],
            [
             0.6666666666666666,
             "#ed7953"
            ],
            [
             0.7777777777777778,
             "#fb9f3a"
            ],
            [
             0.8888888888888888,
             "#fdca26"
            ],
            [
             1,
             "#f0f921"
            ]
           ]
          },
          "colorway": [
           "#636efa",
           "#EF553B",
           "#00cc96",
           "#ab63fa",
           "#FFA15A",
           "#19d3f3",
           "#FF6692",
           "#B6E880",
           "#FF97FF",
           "#FECB52"
          ],
          "font": {
           "color": "#2a3f5f"
          },
          "geo": {
           "bgcolor": "white",
           "lakecolor": "white",
           "landcolor": "#E5ECF6",
           "showlakes": true,
           "showland": true,
           "subunitcolor": "white"
          },
          "hoverlabel": {
           "align": "left"
          },
          "hovermode": "closest",
          "mapbox": {
           "style": "light"
          },
          "paper_bgcolor": "white",
          "plot_bgcolor": "#E5ECF6",
          "polar": {
           "angularaxis": {
            "gridcolor": "white",
            "linecolor": "white",
            "ticks": ""
           },
           "bgcolor": "#E5ECF6",
           "radialaxis": {
            "gridcolor": "white",
            "linecolor": "white",
            "ticks": ""
           }
          },
          "scene": {
           "xaxis": {
            "backgroundcolor": "#E5ECF6",
            "gridcolor": "white",
            "gridwidth": 2,
            "linecolor": "white",
            "showbackground": true,
            "ticks": "",
            "zerolinecolor": "white"
           },
           "yaxis": {
            "backgroundcolor": "#E5ECF6",
            "gridcolor": "white",
            "gridwidth": 2,
            "linecolor": "white",
            "showbackground": true,
            "ticks": "",
            "zerolinecolor": "white"
           },
           "zaxis": {
            "backgroundcolor": "#E5ECF6",
            "gridcolor": "white",
            "gridwidth": 2,
            "linecolor": "white",
            "showbackground": true,
            "ticks": "",
            "zerolinecolor": "white"
           }
          },
          "shapedefaults": {
           "line": {
            "color": "#2a3f5f"
           }
          },
          "ternary": {
           "aaxis": {
            "gridcolor": "white",
            "linecolor": "white",
            "ticks": ""
           },
           "baxis": {
            "gridcolor": "white",
            "linecolor": "white",
            "ticks": ""
           },
           "bgcolor": "#E5ECF6",
           "caxis": {
            "gridcolor": "white",
            "linecolor": "white",
            "ticks": ""
           }
          },
          "title": {
           "x": 0.05
          },
          "xaxis": {
           "automargin": true,
           "gridcolor": "white",
           "linecolor": "white",
           "ticks": "",
           "title": {
            "standoff": 15
           },
           "zerolinecolor": "white",
           "zerolinewidth": 2
          },
          "yaxis": {
           "automargin": true,
           "gridcolor": "white",
           "linecolor": "white",
           "ticks": "",
           "title": {
            "standoff": 15
           },
           "zerolinecolor": "white",
           "zerolinewidth": 2
          }
         }
        },
        "title": {
         "text": "Índices de Asia (Base 100)"
        },
        "xaxis": {
         "title": {
          "text": "Fecha"
         }
        },
        "yaxis": {
         "title": {
          "text": "Índice (Base 100)"
         }
        }
       }
      }
     },
     "metadata": {},
     "output_type": "display_data"
    }
   ],
   "source": [
    "start = dt.datetime(2024, 1, 1)\n",
    "end = dt.datetime.now()\n",
    "\n",
    "# Diccionario con nombres de índices y sus símbolos de Yahoo Finance\n",
    "us_indices = {\n",
    "    'S&P 500': '^GSPC',\n",
    "    'Nasdaq': '^IXIC',\n",
    "    'Dow Jones': '^DJI',\n",
    "    'Russell 2000': '^RUT'\n",
    "}\n",
    "\n",
    "europe_indices = {\n",
    "    'FTSE 100': '^FTSE',\n",
    "    'DAX': '^GDAXI',\n",
    "    'CAC 40': '^FCHI',\n",
    "    'Euro Stoxx 50': '^STOXX50E',\n",
    "    'Euronext 100': '^N100'\n",
    "}\n",
    "\n",
    "latam_indices = {\n",
    "    'Bovespa': '^BVSP',\n",
    "    # 'IPSA (Chile)': '^IPSA',\n",
    "    'COLCAP (Colombia)': '^COLCAP',\n",
    "    # 'S&P/BVL General (Peru)': '^SPBLPGPT',\n",
    "    'MSCI Peru ETF': 'EPU'\n",
    "}\n",
    "\n",
    "asia_indices = {\n",
    "    'Nikkei 225 (Japan)': '^N225',\n",
    "    'Hang Seng (Hong Kong)': '^HSI',\n",
    "    'Shanghai Composite (China)': '000001.SS',\n",
    "    'Kospi (South Korea)': '^KS11'\n",
    "}\n",
    "\n",
    "# Función para descargar y normalizar datos\n",
    "def get_normalized_data(indices, start, end):\n",
    "    dataframes = []\n",
    "    for name, ticker in indices.items():\n",
    "        df = yf.download(ticker, start=start, end=end)[['Close']]\n",
    "        df.rename(columns={'Close': name}, inplace=True)\n",
    "        df = df.dropna(subset=[name])\n",
    "        if not df.empty:\n",
    "            df[name] = df[name] / df[name].iloc[0] * 100  # Normalizar a base 100\n",
    "            dataframes.append(df)\n",
    "    return dataframes\n",
    "\n",
    "# Descargar y procesar datos para cada región\n",
    "us_dataframes = get_normalized_data(us_indices, start, end)\n",
    "europe_dataframes = get_normalized_data(europe_indices, start, end)\n",
    "latam_dataframes = get_normalized_data(latam_indices, start, end)\n",
    "asia_dataframes = get_normalized_data(asia_indices, start, end)\n",
    "\n",
    "# Función para combinar DataFrames\n",
    "def merge_dataframes(dataframes):\n",
    "    if dataframes:\n",
    "        merged_df = dataframes[0]\n",
    "        for df in dataframes[1:]:\n",
    "            merged_df = pd.merge(merged_df, df, left_index=True, right_index=True, how='outer')\n",
    "        return merged_df.fillna(method='ffill').fillna(method='bfill')\n",
    "    else:\n",
    "        return pd.DataFrame()\n",
    "\n",
    "# Combinar DataFrames de cada región\n",
    "us_merged = merge_dataframes(us_dataframes)\n",
    "europe_merged = merge_dataframes(europe_dataframes)\n",
    "latam_merged = merge_dataframes(latam_dataframes)\n",
    "asia_merged = merge_dataframes(asia_dataframes)\n",
    "\n",
    "# Función para graficar los índices de una región\n",
    "def plot_indices(dataframe, title):\n",
    "    fig = go.Figure()\n",
    "    for column in dataframe.columns:\n",
    "        fig.add_trace(go.Scatter(\n",
    "            x=dataframe.index,\n",
    "            y=dataframe[column],\n",
    "            mode='lines',\n",
    "            name=column\n",
    "        ))\n",
    "    fig.update_layout(\n",
    "        title=title,\n",
    "        xaxis_title='Fecha',\n",
    "        yaxis_title='Índice (Base 100)',\n",
    "        hovermode='x unified'\n",
    "    )\n",
    "    fig.show()\n",
    "\n",
    "# Mostrar gráficos para cada región\n",
    "plot_indices(us_merged, 'Índices de Estados Unidos (Base 100)')\n",
    "plot_indices(europe_merged, 'Índices de Europa (Base 100)')\n",
    "# plot_indices(latam_merged, 'Índices de América Latina (Base 100)')\n",
    "plot_indices(asia_merged, 'Índices de Asia (Base 100)')\n"
   ]
  },
  {
   "cell_type": "code",
   "execution_count": 3,
   "id": "d8b64cab",
   "metadata": {},
   "outputs": [
    {
     "data": {
      "application/vnd.plotly.v1+json": {
       "config": {
        "plotlyServerURL": "https://plot.ly"
       },
       "data": [
        {
         "mode": "lines",
         "name": "Bovespa",
         "type": "scatter",
         "x": [
          "2024-01-02T00:00:00",
          "2024-01-03T00:00:00",
          "2024-01-04T00:00:00",
          "2024-01-05T00:00:00",
          "2024-01-08T00:00:00",
          "2024-01-09T00:00:00",
          "2024-01-10T00:00:00",
          "2024-01-11T00:00:00",
          "2024-01-12T00:00:00",
          "2024-01-15T00:00:00",
          "2024-01-16T00:00:00",
          "2024-01-17T00:00:00",
          "2024-01-18T00:00:00",
          "2024-01-19T00:00:00",
          "2024-01-22T00:00:00",
          "2024-01-23T00:00:00",
          "2024-01-24T00:00:00",
          "2024-01-25T00:00:00",
          "2024-01-26T00:00:00",
          "2024-01-29T00:00:00",
          "2024-01-30T00:00:00",
          "2024-01-31T00:00:00",
          "2024-02-01T00:00:00",
          "2024-02-02T00:00:00",
          "2024-02-05T00:00:00",
          "2024-02-06T00:00:00",
          "2024-02-07T00:00:00",
          "2024-02-08T00:00:00",
          "2024-02-09T00:00:00",
          "2024-02-12T00:00:00",
          "2024-02-13T00:00:00",
          "2024-02-14T00:00:00",
          "2024-02-15T00:00:00",
          "2024-02-16T00:00:00",
          "2024-02-19T00:00:00",
          "2024-02-20T00:00:00",
          "2024-02-21T00:00:00",
          "2024-02-22T00:00:00",
          "2024-02-23T00:00:00",
          "2024-02-26T00:00:00",
          "2024-02-27T00:00:00",
          "2024-02-28T00:00:00",
          "2024-02-29T00:00:00",
          "2024-03-01T00:00:00",
          "2024-03-04T00:00:00",
          "2024-03-05T00:00:00",
          "2024-03-06T00:00:00",
          "2024-03-07T00:00:00",
          "2024-03-08T00:00:00",
          "2024-03-11T00:00:00",
          "2024-03-12T00:00:00",
          "2024-03-13T00:00:00",
          "2024-03-14T00:00:00",
          "2024-03-15T00:00:00",
          "2024-03-18T00:00:00",
          "2024-03-19T00:00:00",
          "2024-03-20T00:00:00",
          "2024-03-21T00:00:00",
          "2024-03-22T00:00:00",
          "2024-03-25T00:00:00",
          "2024-03-26T00:00:00",
          "2024-03-27T00:00:00",
          "2024-03-28T00:00:00",
          "2024-04-01T00:00:00",
          "2024-04-02T00:00:00",
          "2024-04-03T00:00:00",
          "2024-04-04T00:00:00",
          "2024-04-05T00:00:00",
          "2024-04-08T00:00:00",
          "2024-04-09T00:00:00",
          "2024-04-10T00:00:00",
          "2024-04-11T00:00:00",
          "2024-04-12T00:00:00",
          "2024-04-15T00:00:00",
          "2024-04-16T00:00:00",
          "2024-04-17T00:00:00",
          "2024-04-18T00:00:00",
          "2024-04-19T00:00:00",
          "2024-04-22T00:00:00",
          "2024-04-23T00:00:00",
          "2024-04-24T00:00:00",
          "2024-04-25T00:00:00",
          "2024-04-26T00:00:00",
          "2024-04-29T00:00:00",
          "2024-04-30T00:00:00",
          "2024-05-01T00:00:00",
          "2024-05-02T00:00:00",
          "2024-05-03T00:00:00",
          "2024-05-06T00:00:00",
          "2024-05-07T00:00:00",
          "2024-05-08T00:00:00",
          "2024-05-09T00:00:00",
          "2024-05-10T00:00:00",
          "2024-05-13T00:00:00",
          "2024-05-14T00:00:00",
          "2024-05-15T00:00:00",
          "2024-05-16T00:00:00",
          "2024-05-17T00:00:00",
          "2024-05-20T00:00:00",
          "2024-05-21T00:00:00",
          "2024-05-22T00:00:00",
          "2024-05-23T00:00:00",
          "2024-05-24T00:00:00",
          "2024-05-27T00:00:00",
          "2024-05-28T00:00:00",
          "2024-05-29T00:00:00",
          "2024-05-30T00:00:00",
          "2024-05-31T00:00:00",
          "2024-06-03T00:00:00",
          "2024-06-04T00:00:00",
          "2024-06-05T00:00:00",
          "2024-06-06T00:00:00",
          "2024-06-07T00:00:00",
          "2024-06-10T00:00:00",
          "2024-06-11T00:00:00",
          "2024-06-12T00:00:00",
          "2024-06-13T00:00:00",
          "2024-06-14T00:00:00",
          "2024-06-17T00:00:00",
          "2024-06-18T00:00:00",
          "2024-06-19T00:00:00",
          "2024-06-20T00:00:00",
          "2024-06-21T00:00:00",
          "2024-06-24T00:00:00",
          "2024-06-25T00:00:00",
          "2024-06-26T00:00:00",
          "2024-06-27T00:00:00",
          "2024-06-28T00:00:00",
          "2024-07-01T00:00:00",
          "2024-07-02T00:00:00",
          "2024-07-03T00:00:00",
          "2024-07-04T00:00:00",
          "2024-07-05T00:00:00",
          "2024-07-08T00:00:00",
          "2024-07-09T00:00:00",
          "2024-07-10T00:00:00",
          "2024-07-11T00:00:00",
          "2024-07-12T00:00:00",
          "2024-07-15T00:00:00",
          "2024-07-16T00:00:00",
          "2024-07-17T00:00:00",
          "2024-07-18T00:00:00",
          "2024-07-19T00:00:00",
          "2024-07-22T00:00:00",
          "2024-07-23T00:00:00",
          "2024-07-24T00:00:00",
          "2024-07-25T00:00:00",
          "2024-07-26T00:00:00",
          "2024-07-29T00:00:00",
          "2024-07-30T00:00:00",
          "2024-07-31T00:00:00",
          "2024-08-01T00:00:00",
          "2024-08-02T00:00:00",
          "2024-08-05T00:00:00",
          "2024-08-06T00:00:00",
          "2024-08-07T00:00:00",
          "2024-08-08T00:00:00",
          "2024-08-09T00:00:00",
          "2024-08-12T00:00:00",
          "2024-08-13T00:00:00",
          "2024-08-14T00:00:00",
          "2024-08-15T00:00:00",
          "2024-08-16T00:00:00",
          "2024-08-19T00:00:00",
          "2024-08-20T00:00:00",
          "2024-08-21T00:00:00",
          "2024-08-22T00:00:00",
          "2024-08-23T00:00:00",
          "2024-08-26T00:00:00",
          "2024-08-27T00:00:00",
          "2024-08-28T00:00:00",
          "2024-08-29T00:00:00",
          "2024-08-30T00:00:00",
          "2024-09-02T00:00:00",
          "2024-09-03T00:00:00",
          "2024-09-04T00:00:00",
          "2024-09-05T00:00:00",
          "2024-09-06T00:00:00",
          "2024-09-09T00:00:00",
          "2024-09-10T00:00:00",
          "2024-09-11T00:00:00",
          "2024-09-12T00:00:00",
          "2024-09-13T00:00:00",
          "2024-09-16T00:00:00",
          "2024-09-17T00:00:00",
          "2024-09-18T00:00:00",
          "2024-09-19T00:00:00",
          "2024-09-20T00:00:00",
          "2024-09-23T00:00:00",
          "2024-09-24T00:00:00",
          "2024-09-25T00:00:00",
          "2024-09-26T00:00:00",
          "2024-09-27T00:00:00",
          "2024-09-30T00:00:00",
          "2024-10-01T00:00:00",
          "2024-10-02T00:00:00",
          "2024-10-03T00:00:00",
          "2024-10-04T00:00:00",
          "2024-10-07T00:00:00",
          "2024-10-08T00:00:00",
          "2024-10-09T00:00:00",
          "2024-10-10T00:00:00",
          "2024-10-11T00:00:00",
          "2024-10-14T00:00:00",
          "2024-10-15T00:00:00",
          "2024-10-16T00:00:00",
          "2024-10-17T00:00:00",
          "2024-10-18T00:00:00",
          "2024-10-21T00:00:00",
          "2024-10-22T00:00:00",
          "2024-10-23T00:00:00",
          "2024-10-24T00:00:00",
          "2024-10-25T00:00:00",
          "2024-10-28T00:00:00",
          "2024-10-29T00:00:00",
          "2024-10-30T00:00:00",
          "2024-10-31T00:00:00",
          "2024-11-01T00:00:00",
          "2024-11-04T00:00:00",
          "2024-11-05T00:00:00",
          "2024-11-06T00:00:00",
          "2024-11-07T00:00:00",
          "2024-11-08T00:00:00",
          "2024-11-11T00:00:00",
          "2024-11-12T00:00:00",
          "2024-11-13T00:00:00",
          "2024-11-14T00:00:00",
          "2024-11-15T00:00:00",
          "2024-11-18T00:00:00",
          "2024-11-19T00:00:00",
          "2024-11-20T00:00:00",
          "2024-11-21T00:00:00",
          "2024-11-22T00:00:00",
          "2024-11-25T00:00:00",
          "2024-11-26T00:00:00",
          "2024-11-27T00:00:00",
          "2024-11-28T00:00:00",
          "2024-11-29T00:00:00"
         ],
         "y": [
          100,
          100.1032427259094,
          98.89145949041801,
          99.49207593238731,
          99.79652893433914,
          99.05800432564413,
          98.60132482271642,
          98.45663428713536,
          98.71210351402067,
          99.11377046956599,
          97.4355109761336,
          96.85524164073038,
          95.94489702103289,
          96.18604791366798,
          95.4068290918408,
          96.65855294392487,
          96.32169529077522,
          96.58771486921333,
          97.1890849077221,
          96.83941611340121,
          96.00970632342857,
          96.2734651122482,
          96.82283698953255,
          95.84391508474192,
          96.15364326247014,
          98.28104629343542,
          97.6721402895318,
          96.62388750310859,
          96.47995056406701,
          96.47995056406701,
          96.47995056406701,
          95.72032525226643,
          96.31265213230141,
          97.00746814170628,
          97.24108306894654,
          97.90424802369307,
          97.9916652222733,
          98.1491668990256,
          97.52971054356918,
          97.67289388607128,
          99.24037468819942,
          98.08435759662991,
          97.22902552431479,
          97.34960097063234,
          96.71733347400469,
          96.5342095149099,
          97.13105797418177,
          96.71657987746521,
          95.76026586885914,
          95.04660994596713,
          96.2101630029315,
          96.46487863327732,
          96.22674212680016,
          95.51233260736866,
          95.67209507373941,
          96.10541308394312,
          97.30815316096069,
          96.58017890381846,
          95.7271076211218,
          95.65476235333126,
          95.60351778864631,
          96.22749572333964,
          96.54023828722579,
          95.69922454916086,
          96.12048501473282,
          95.94640421411185,
          96.02929983345516,
          95.55227322396136,
          97.10618928837879,
          97.88465451366648,
          96.50105126717257,
          96.00518474419165,
          94.91246976193885,
          94.45126867977423,
          93.7391199499612,
          93.57483590435352,
          93.59367581784065,
          94.29301340648244,
          94.63137825271106,
          94.31109972343008,
          94.0043859318598,
          93.93279426060876,
          95.34955575483998,
          95.97202649645433,
          94.89589063807018,
          94.89589063807018,
          95.79869929237285,
          96.84393769263812,
          96.81153304144028,
          97.37220886681688,
          97.57643352901724,
          96.60203320346353,
          96.15891843824653,
          96.57716451766053,
          96.84845927187502,
          96.48145775714599,
          96.67437847125406,
          96.5741501315026,
          96.27271151570872,
          96.01724228882341,
          94.68940518625139,
          93.99534277338599,
          93.67657143718397,
          93.81975477968605,
          93.280179657415,
          92.47157057054794,
          92.47157057054794,
          92.01263027800177,
          91.96289290639578,
          91.78956570231429,
          91.49189506921785,
          92.616261106129,
          91.00959328394764,
          91.00431810817125,
          91.66371508022036,
          90.38335455963586,
          90.1060310331055,
          90.17686910781705,
          89.78198452112707,
          90.15275401855355,
          90.62827343496839,
          90.76768879477305,
          91.44215769761185,
          92.41881881278401,
          92.1882182717017,
          92.42183319894195,
          93.67807863026293,
          93.37588641792956,
          93.98705321145165,
          94.0390513726761,
          94.69844834472521,
          95.07675380754652,
          95.15437425111344,
          95.36613487870864,
          95.78814894082007,
          95.87104456016337,
          96.68191443664891,
          97.13633314995818,
          97.45585808269969,
          97.29684921286842,
          97.55307203629322,
          96.19810545829974,
          96.17097598287828,
          96.35485353851256,
          95.39778593336699,
          95.27193531127305,
          94.91849853425474,
          96.07753001198218,
          95.67209507373941,
          95.0579138940594,
          96.19810545829974,
          96.00443114765217,
          94.84313888030627,
          94.40303850124721,
          95.15437425111344,
          96.09410913585084,
          96.95848436663978,
          98.43101200479288,
          98.80856387107471,
          99.77467463469408,
          100.46798345101999,
          101.0972365614897,
          100.94651725359279,
          102.32183093815233,
          102.5546922688531,
          102.83879816423882,
          101.86590503176409,
          102.19371952643993,
          103.15907669351982,
          103.07392028455806,
          103.50196311898536,
          102.5200268280368,
          102.49214375607588,
          101.72121449618304,
          101.24795586938664,
          102.57277858580073,
          102.86743483273926,
          101.41299351153378,
          101.53733694054876,
          101.22308718358366,
          101.49212114817969,
          101.00379059059361,
          101.64660843877404,
          101.82445722209243,
          101.70538896885387,
          100.79202996299841,
          100.32103212582048,
          98.77013044756099,
          98.3955929674371,
          99.59230427213879,
          99.16275424463251,
          100.2358757168587,
          100.024868685803,
          99.33608144871398,
          99.8477734990241,
          100.61644196929849,
          99.2275635470282,
          99.31799513176635,
          99.4883079496899,
          99.10698810071065,
          97.93891346450937,
          98.23356971144788,
          97.96152136069392,
          98.72491465519191,
          98.75355132369232,
          99.286344077108,
          98.56515218882114,
          98.34359480621265,
          98.24035208030325,
          97.75729669849356,
          97.38954158722504,
          98.01804110115526,
          97.88691530328492,
          98.88166273540472,
          98.5176756068336,
          98.44909832174051,
          97.75126792617769,
          96.55154223531805,
          98.35565235084441,
          98.46567744560917,
          98.22452655297407,
          97.72790643345365,
          96.332245642328,
          96.36540389006534,
          96.23277089911603,
          96.25990037453748,
          96.3036089738276,
          96.3036089738276,
          96.28552265687996,
          96.60881557231889,
          96.60881557231889,
          95.64797998447591,
          97.30890675750017,
          97.24108306894654,
          97.90876960292998,
          96.21091659947098,
          93.9056647851873,
          94.70296992396212
         ]
        },
        {
         "mode": "lines",
         "name": "MSCI Peru ETF",
         "type": "scatter",
         "x": [
          "2024-01-02T00:00:00",
          "2024-01-03T00:00:00",
          "2024-01-04T00:00:00",
          "2024-01-05T00:00:00",
          "2024-01-08T00:00:00",
          "2024-01-09T00:00:00",
          "2024-01-10T00:00:00",
          "2024-01-11T00:00:00",
          "2024-01-12T00:00:00",
          "2024-01-15T00:00:00",
          "2024-01-16T00:00:00",
          "2024-01-17T00:00:00",
          "2024-01-18T00:00:00",
          "2024-01-19T00:00:00",
          "2024-01-22T00:00:00",
          "2024-01-23T00:00:00",
          "2024-01-24T00:00:00",
          "2024-01-25T00:00:00",
          "2024-01-26T00:00:00",
          "2024-01-29T00:00:00",
          "2024-01-30T00:00:00",
          "2024-01-31T00:00:00",
          "2024-02-01T00:00:00",
          "2024-02-02T00:00:00",
          "2024-02-05T00:00:00",
          "2024-02-06T00:00:00",
          "2024-02-07T00:00:00",
          "2024-02-08T00:00:00",
          "2024-02-09T00:00:00",
          "2024-02-12T00:00:00",
          "2024-02-13T00:00:00",
          "2024-02-14T00:00:00",
          "2024-02-15T00:00:00",
          "2024-02-16T00:00:00",
          "2024-02-19T00:00:00",
          "2024-02-20T00:00:00",
          "2024-02-21T00:00:00",
          "2024-02-22T00:00:00",
          "2024-02-23T00:00:00",
          "2024-02-26T00:00:00",
          "2024-02-27T00:00:00",
          "2024-02-28T00:00:00",
          "2024-02-29T00:00:00",
          "2024-03-01T00:00:00",
          "2024-03-04T00:00:00",
          "2024-03-05T00:00:00",
          "2024-03-06T00:00:00",
          "2024-03-07T00:00:00",
          "2024-03-08T00:00:00",
          "2024-03-11T00:00:00",
          "2024-03-12T00:00:00",
          "2024-03-13T00:00:00",
          "2024-03-14T00:00:00",
          "2024-03-15T00:00:00",
          "2024-03-18T00:00:00",
          "2024-03-19T00:00:00",
          "2024-03-20T00:00:00",
          "2024-03-21T00:00:00",
          "2024-03-22T00:00:00",
          "2024-03-25T00:00:00",
          "2024-03-26T00:00:00",
          "2024-03-27T00:00:00",
          "2024-03-28T00:00:00",
          "2024-04-01T00:00:00",
          "2024-04-02T00:00:00",
          "2024-04-03T00:00:00",
          "2024-04-04T00:00:00",
          "2024-04-05T00:00:00",
          "2024-04-08T00:00:00",
          "2024-04-09T00:00:00",
          "2024-04-10T00:00:00",
          "2024-04-11T00:00:00",
          "2024-04-12T00:00:00",
          "2024-04-15T00:00:00",
          "2024-04-16T00:00:00",
          "2024-04-17T00:00:00",
          "2024-04-18T00:00:00",
          "2024-04-19T00:00:00",
          "2024-04-22T00:00:00",
          "2024-04-23T00:00:00",
          "2024-04-24T00:00:00",
          "2024-04-25T00:00:00",
          "2024-04-26T00:00:00",
          "2024-04-29T00:00:00",
          "2024-04-30T00:00:00",
          "2024-05-01T00:00:00",
          "2024-05-02T00:00:00",
          "2024-05-03T00:00:00",
          "2024-05-06T00:00:00",
          "2024-05-07T00:00:00",
          "2024-05-08T00:00:00",
          "2024-05-09T00:00:00",
          "2024-05-10T00:00:00",
          "2024-05-13T00:00:00",
          "2024-05-14T00:00:00",
          "2024-05-15T00:00:00",
          "2024-05-16T00:00:00",
          "2024-05-17T00:00:00",
          "2024-05-20T00:00:00",
          "2024-05-21T00:00:00",
          "2024-05-22T00:00:00",
          "2024-05-23T00:00:00",
          "2024-05-24T00:00:00",
          "2024-05-27T00:00:00",
          "2024-05-28T00:00:00",
          "2024-05-29T00:00:00",
          "2024-05-30T00:00:00",
          "2024-05-31T00:00:00",
          "2024-06-03T00:00:00",
          "2024-06-04T00:00:00",
          "2024-06-05T00:00:00",
          "2024-06-06T00:00:00",
          "2024-06-07T00:00:00",
          "2024-06-10T00:00:00",
          "2024-06-11T00:00:00",
          "2024-06-12T00:00:00",
          "2024-06-13T00:00:00",
          "2024-06-14T00:00:00",
          "2024-06-17T00:00:00",
          "2024-06-18T00:00:00",
          "2024-06-19T00:00:00",
          "2024-06-20T00:00:00",
          "2024-06-21T00:00:00",
          "2024-06-24T00:00:00",
          "2024-06-25T00:00:00",
          "2024-06-26T00:00:00",
          "2024-06-27T00:00:00",
          "2024-06-28T00:00:00",
          "2024-07-01T00:00:00",
          "2024-07-02T00:00:00",
          "2024-07-03T00:00:00",
          "2024-07-04T00:00:00",
          "2024-07-05T00:00:00",
          "2024-07-08T00:00:00",
          "2024-07-09T00:00:00",
          "2024-07-10T00:00:00",
          "2024-07-11T00:00:00",
          "2024-07-12T00:00:00",
          "2024-07-15T00:00:00",
          "2024-07-16T00:00:00",
          "2024-07-17T00:00:00",
          "2024-07-18T00:00:00",
          "2024-07-19T00:00:00",
          "2024-07-22T00:00:00",
          "2024-07-23T00:00:00",
          "2024-07-24T00:00:00",
          "2024-07-25T00:00:00",
          "2024-07-26T00:00:00",
          "2024-07-29T00:00:00",
          "2024-07-30T00:00:00",
          "2024-07-31T00:00:00",
          "2024-08-01T00:00:00",
          "2024-08-02T00:00:00",
          "2024-08-05T00:00:00",
          "2024-08-06T00:00:00",
          "2024-08-07T00:00:00",
          "2024-08-08T00:00:00",
          "2024-08-09T00:00:00",
          "2024-08-12T00:00:00",
          "2024-08-13T00:00:00",
          "2024-08-14T00:00:00",
          "2024-08-15T00:00:00",
          "2024-08-16T00:00:00",
          "2024-08-19T00:00:00",
          "2024-08-20T00:00:00",
          "2024-08-21T00:00:00",
          "2024-08-22T00:00:00",
          "2024-08-23T00:00:00",
          "2024-08-26T00:00:00",
          "2024-08-27T00:00:00",
          "2024-08-28T00:00:00",
          "2024-08-29T00:00:00",
          "2024-08-30T00:00:00",
          "2024-09-02T00:00:00",
          "2024-09-03T00:00:00",
          "2024-09-04T00:00:00",
          "2024-09-05T00:00:00",
          "2024-09-06T00:00:00",
          "2024-09-09T00:00:00",
          "2024-09-10T00:00:00",
          "2024-09-11T00:00:00",
          "2024-09-12T00:00:00",
          "2024-09-13T00:00:00",
          "2024-09-16T00:00:00",
          "2024-09-17T00:00:00",
          "2024-09-18T00:00:00",
          "2024-09-19T00:00:00",
          "2024-09-20T00:00:00",
          "2024-09-23T00:00:00",
          "2024-09-24T00:00:00",
          "2024-09-25T00:00:00",
          "2024-09-26T00:00:00",
          "2024-09-27T00:00:00",
          "2024-09-30T00:00:00",
          "2024-10-01T00:00:00",
          "2024-10-02T00:00:00",
          "2024-10-03T00:00:00",
          "2024-10-04T00:00:00",
          "2024-10-07T00:00:00",
          "2024-10-08T00:00:00",
          "2024-10-09T00:00:00",
          "2024-10-10T00:00:00",
          "2024-10-11T00:00:00",
          "2024-10-14T00:00:00",
          "2024-10-15T00:00:00",
          "2024-10-16T00:00:00",
          "2024-10-17T00:00:00",
          "2024-10-18T00:00:00",
          "2024-10-21T00:00:00",
          "2024-10-22T00:00:00",
          "2024-10-23T00:00:00",
          "2024-10-24T00:00:00",
          "2024-10-25T00:00:00",
          "2024-10-28T00:00:00",
          "2024-10-29T00:00:00",
          "2024-10-30T00:00:00",
          "2024-10-31T00:00:00",
          "2024-11-01T00:00:00",
          "2024-11-04T00:00:00",
          "2024-11-05T00:00:00",
          "2024-11-06T00:00:00",
          "2024-11-07T00:00:00",
          "2024-11-08T00:00:00",
          "2024-11-11T00:00:00",
          "2024-11-12T00:00:00",
          "2024-11-13T00:00:00",
          "2024-11-14T00:00:00",
          "2024-11-15T00:00:00",
          "2024-11-18T00:00:00",
          "2024-11-19T00:00:00",
          "2024-11-20T00:00:00",
          "2024-11-21T00:00:00",
          "2024-11-22T00:00:00",
          "2024-11-25T00:00:00",
          "2024-11-26T00:00:00",
          "2024-11-27T00:00:00",
          "2024-11-28T00:00:00",
          "2024-11-29T00:00:00"
         ],
         "y": [
          100,
          98.9130354388056,
          99.29494220913102,
          99.0893026881512,
          99.55933747989272,
          98.79553514575528,
          99.29494220913102,
          98.88366316717138,
          99.88248850043627,
          99.88248850043627,
          98.58989562477545,
          97.41480304216495,
          97.03289627183953,
          97.76732633434274,
          97.97296585532257,
          98.67802364619155,
          97.97296585532257,
          98.82490741738951,
          99.20681418771493,
          100.23501179261405,
          99.32432568727866,
          98.88366316717138,
          100.32315102054356,
          98.9130354388056,
          97.50293106358106,
          99.0893026881512,
          99.47120945847662,
          98.47238412521172,
          98.50175639684595,
          99.50058173011085,
          98.1786053763024,
          99.38308143706053,
          102.37954623034182,
          102.99647599979468,
          102.99647599979468,
          102.76145300066723,
          102.87896450023098,
          103.08460402121081,
          103.20211552077451,
          102.93772025001282,
          103.2608712705564,
          101.9976506665298,
          103.2608712705564,
          104.1715573758918,
          104.72973139556281,
          104.40658037501925,
          105.64041750089821,
          107.87309116655545,
          108.96004452123647,
          109.75323033352153,
          109.66510231210542,
          112.83783435473231,
          112.7203228551686,
          115.04112454224193,
          114.39482250115482,
          112.77907860495044,
          116.03994987550684,
          116.18683364670481,
          115.5405428121311,
          114.86485729289635,
          113.30786914647383,
          113.54289214560129,
          115.07049681387618,
          114.8354850212621,
          115.33489208463787,
          118.71327485475798,
          117.2737870013858,
          117.15628670833547,
          117.83196102105681,
          119.24206539628138,
          118.39012383421444,
          119.65334443824102,
          117.2737870013858,
          115.68742658332907,
          115.15863604180568,
          115.74618233311091,
          117.15628670833547,
          117.626321500077,
          116.95064718735564,
          116.42185664583226,
          117.30317047953342,
          118.86015862595593,
          120.71092552128778,
          122.50293666683775,
          119.97649545878457,
          119.24206539628138,
          119.80022820943898,
          121.06344881346556,
          122.3560528956398,
          122.3560528956398,
          121.9153903755325,
          124.44183158358568,
          125.11750589630704,
          124.99999439674329,
          126.85076129207513,
          127.37955183359853,
          126.49823799989734,
          129.5534585429605,
          131.96238825144994,
          131.75674873047012,
          125.9988197300082,
          125.55816841641432,
          126.32197075055176,
          126.32197075055176,
          128.93653998002102,
          127.08577308468918,
          126.17508697935381,
          128.8190284804573,
          128.05522614631985,
          124.20680858445823,
          124.76498260412924,
          126.23384272913565,
          122.91421570879741,
          123.47237852195501,
          118.68390258312375,
          119.97649545878457,
          117.97884479225478,
          117.06814748040597,
          117.06814748040597,
          118.47826306214392,
          118.47826306214392,
          119.80022820943898,
          118.4488795839963,
          119.68272791638866,
          118.5370076054124,
          118.36075156258019,
          116.921263709208,
          118.1844843132346,
          117.80257754290918,
          118.30199581279832,
          121.88601810389828,
          121.88601810389828,
          123.14922750141146,
          123.41362277217316,
          123.14922750141146,
          123.76615727086435,
          124.52995960500178,
          124.08930829140789,
          122.67919270966993,
          124.14805283467636,
          123.090482958143,
          119.4477049172612,
          120.50528600030796,
          120.62279749987168,
          120.4465302505261,
          120.38777450074423,
          118.97767012551968,
          119.38894916747932,
          119.24206539628138,
          119.12455389671763,
          120.79905354270389,
          117.92008904247291,
          114.80611274962789,
          112.83783435473231,
          113.86603195963146,
          113.21974112505775,
          115.51115933398346,
          115.6286708335472,
          116.0987056252887,
          116.5393569388826,
          116.06932214714108,
          118.15511204160036,
          117.94947252062053,
          118.97767012551968,
          119.21269312464713,
          119.24206539628138,
          117.56756575029512,
          119.30082114606324,
          119.56521641682491,
          119.62397216660679,
          117.80257754290918,
          118.41950731236206,
          119.50646066704304,
          119.50646066704304,
          114.86485729289635,
          114.30669447973874,
          115.1880083134399,
          113.1903576469101,
          114.01292693734281,
          113.51350866745366,
          114.77672927148026,
          117.36192622931529,
          119.12455389671763,
          119.4477049172612,
          118.8014028761741,
          120.15276270813018,
          121.62162283313658,
          121.47472785542521,
          122.26791366771027,
          126.82137781392751,
          124.64747110456551,
          129.9059930416517,
          129.40657477176254,
          126.85076129207513,
          127.02702854142073,
          127.5558078764307,
          126.58636602131344,
          128.43713291664528,
          127.46767985501461,
          125.14687816794125,
          125.23501739587076,
          127.58519135457836,
          128.8190284804573,
          128.4665051882795,
          126.11633122957193,
          127.49706333316225,
          128.2608656672997,
          130.87543489676895,
          131.40422543829234,
          131.96238825144994,
          131.19858591731253,
          131.3748531666581,
          131.96238825144994,
          132.19741125057743,
          130.9048183749166,
          129.70035352067185,
          128.02585387468562,
          127.35016835545088,
          128.11398189610173,
          128.9071677083868,
          127.58519135457836,
          130.14100483426577,
          127.43830758338038,
          125.7344244592465,
          125.05875014652517,
          124.29494781238772,
          124.3537035621696,
          124.41244810543806,
          126.20445925098802,
          127.67331937599444,
          127.5558078764307,
          128.1727376458836,
          127.23266806240056,
          126.08694775142428,
          126.29259847891751,
          126.73324979251139,
          126.73324979251139,
          125.264389667505
         ]
        }
       ],
       "layout": {
        "hovermode": "x unified",
        "template": {
         "data": {
          "bar": [
           {
            "error_x": {
             "color": "#2a3f5f"
            },
            "error_y": {
             "color": "#2a3f5f"
            },
            "marker": {
             "line": {
              "color": "#E5ECF6",
              "width": 0.5
             },
             "pattern": {
              "fillmode": "overlay",
              "size": 10,
              "solidity": 0.2
             }
            },
            "type": "bar"
           }
          ],
          "barpolar": [
           {
            "marker": {
             "line": {
              "color": "#E5ECF6",
              "width": 0.5
             },
             "pattern": {
              "fillmode": "overlay",
              "size": 10,
              "solidity": 0.2
             }
            },
            "type": "barpolar"
           }
          ],
          "carpet": [
           {
            "aaxis": {
             "endlinecolor": "#2a3f5f",
             "gridcolor": "white",
             "linecolor": "white",
             "minorgridcolor": "white",
             "startlinecolor": "#2a3f5f"
            },
            "baxis": {
             "endlinecolor": "#2a3f5f",
             "gridcolor": "white",
             "linecolor": "white",
             "minorgridcolor": "white",
             "startlinecolor": "#2a3f5f"
            },
            "type": "carpet"
           }
          ],
          "choropleth": [
           {
            "colorbar": {
             "outlinewidth": 0,
             "ticks": ""
            },
            "type": "choropleth"
           }
          ],
          "contour": [
           {
            "colorbar": {
             "outlinewidth": 0,
             "ticks": ""
            },
            "colorscale": [
             [
              0,
              "#0d0887"
             ],
             [
              0.1111111111111111,
              "#46039f"
             ],
             [
              0.2222222222222222,
              "#7201a8"
             ],
             [
              0.3333333333333333,
              "#9c179e"
             ],
             [
              0.4444444444444444,
              "#bd3786"
             ],
             [
              0.5555555555555556,
              "#d8576b"
             ],
             [
              0.6666666666666666,
              "#ed7953"
             ],
             [
              0.7777777777777778,
              "#fb9f3a"
             ],
             [
              0.8888888888888888,
              "#fdca26"
             ],
             [
              1,
              "#f0f921"
             ]
            ],
            "type": "contour"
           }
          ],
          "contourcarpet": [
           {
            "colorbar": {
             "outlinewidth": 0,
             "ticks": ""
            },
            "type": "contourcarpet"
           }
          ],
          "heatmap": [
           {
            "colorbar": {
             "outlinewidth": 0,
             "ticks": ""
            },
            "colorscale": [
             [
              0,
              "#0d0887"
             ],
             [
              0.1111111111111111,
              "#46039f"
             ],
             [
              0.2222222222222222,
              "#7201a8"
             ],
             [
              0.3333333333333333,
              "#9c179e"
             ],
             [
              0.4444444444444444,
              "#bd3786"
             ],
             [
              0.5555555555555556,
              "#d8576b"
             ],
             [
              0.6666666666666666,
              "#ed7953"
             ],
             [
              0.7777777777777778,
              "#fb9f3a"
             ],
             [
              0.8888888888888888,
              "#fdca26"
             ],
             [
              1,
              "#f0f921"
             ]
            ],
            "type": "heatmap"
           }
          ],
          "heatmapgl": [
           {
            "colorbar": {
             "outlinewidth": 0,
             "ticks": ""
            },
            "colorscale": [
             [
              0,
              "#0d0887"
             ],
             [
              0.1111111111111111,
              "#46039f"
             ],
             [
              0.2222222222222222,
              "#7201a8"
             ],
             [
              0.3333333333333333,
              "#9c179e"
             ],
             [
              0.4444444444444444,
              "#bd3786"
             ],
             [
              0.5555555555555556,
              "#d8576b"
             ],
             [
              0.6666666666666666,
              "#ed7953"
             ],
             [
              0.7777777777777778,
              "#fb9f3a"
             ],
             [
              0.8888888888888888,
              "#fdca26"
             ],
             [
              1,
              "#f0f921"
             ]
            ],
            "type": "heatmapgl"
           }
          ],
          "histogram": [
           {
            "marker": {
             "pattern": {
              "fillmode": "overlay",
              "size": 10,
              "solidity": 0.2
             }
            },
            "type": "histogram"
           }
          ],
          "histogram2d": [
           {
            "colorbar": {
             "outlinewidth": 0,
             "ticks": ""
            },
            "colorscale": [
             [
              0,
              "#0d0887"
             ],
             [
              0.1111111111111111,
              "#46039f"
             ],
             [
              0.2222222222222222,
              "#7201a8"
             ],
             [
              0.3333333333333333,
              "#9c179e"
             ],
             [
              0.4444444444444444,
              "#bd3786"
             ],
             [
              0.5555555555555556,
              "#d8576b"
             ],
             [
              0.6666666666666666,
              "#ed7953"
             ],
             [
              0.7777777777777778,
              "#fb9f3a"
             ],
             [
              0.8888888888888888,
              "#fdca26"
             ],
             [
              1,
              "#f0f921"
             ]
            ],
            "type": "histogram2d"
           }
          ],
          "histogram2dcontour": [
           {
            "colorbar": {
             "outlinewidth": 0,
             "ticks": ""
            },
            "colorscale": [
             [
              0,
              "#0d0887"
             ],
             [
              0.1111111111111111,
              "#46039f"
             ],
             [
              0.2222222222222222,
              "#7201a8"
             ],
             [
              0.3333333333333333,
              "#9c179e"
             ],
             [
              0.4444444444444444,
              "#bd3786"
             ],
             [
              0.5555555555555556,
              "#d8576b"
             ],
             [
              0.6666666666666666,
              "#ed7953"
             ],
             [
              0.7777777777777778,
              "#fb9f3a"
             ],
             [
              0.8888888888888888,
              "#fdca26"
             ],
             [
              1,
              "#f0f921"
             ]
            ],
            "type": "histogram2dcontour"
           }
          ],
          "mesh3d": [
           {
            "colorbar": {
             "outlinewidth": 0,
             "ticks": ""
            },
            "type": "mesh3d"
           }
          ],
          "parcoords": [
           {
            "line": {
             "colorbar": {
              "outlinewidth": 0,
              "ticks": ""
             }
            },
            "type": "parcoords"
           }
          ],
          "pie": [
           {
            "automargin": true,
            "type": "pie"
           }
          ],
          "scatter": [
           {
            "fillpattern": {
             "fillmode": "overlay",
             "size": 10,
             "solidity": 0.2
            },
            "type": "scatter"
           }
          ],
          "scatter3d": [
           {
            "line": {
             "colorbar": {
              "outlinewidth": 0,
              "ticks": ""
             }
            },
            "marker": {
             "colorbar": {
              "outlinewidth": 0,
              "ticks": ""
             }
            },
            "type": "scatter3d"
           }
          ],
          "scattercarpet": [
           {
            "marker": {
             "colorbar": {
              "outlinewidth": 0,
              "ticks": ""
             }
            },
            "type": "scattercarpet"
           }
          ],
          "scattergeo": [
           {
            "marker": {
             "colorbar": {
              "outlinewidth": 0,
              "ticks": ""
             }
            },
            "type": "scattergeo"
           }
          ],
          "scattergl": [
           {
            "marker": {
             "colorbar": {
              "outlinewidth": 0,
              "ticks": ""
             }
            },
            "type": "scattergl"
           }
          ],
          "scattermapbox": [
           {
            "marker": {
             "colorbar": {
              "outlinewidth": 0,
              "ticks": ""
             }
            },
            "type": "scattermapbox"
           }
          ],
          "scatterpolar": [
           {
            "marker": {
             "colorbar": {
              "outlinewidth": 0,
              "ticks": ""
             }
            },
            "type": "scatterpolar"
           }
          ],
          "scatterpolargl": [
           {
            "marker": {
             "colorbar": {
              "outlinewidth": 0,
              "ticks": ""
             }
            },
            "type": "scatterpolargl"
           }
          ],
          "scatterternary": [
           {
            "marker": {
             "colorbar": {
              "outlinewidth": 0,
              "ticks": ""
             }
            },
            "type": "scatterternary"
           }
          ],
          "surface": [
           {
            "colorbar": {
             "outlinewidth": 0,
             "ticks": ""
            },
            "colorscale": [
             [
              0,
              "#0d0887"
             ],
             [
              0.1111111111111111,
              "#46039f"
             ],
             [
              0.2222222222222222,
              "#7201a8"
             ],
             [
              0.3333333333333333,
              "#9c179e"
             ],
             [
              0.4444444444444444,
              "#bd3786"
             ],
             [
              0.5555555555555556,
              "#d8576b"
             ],
             [
              0.6666666666666666,
              "#ed7953"
             ],
             [
              0.7777777777777778,
              "#fb9f3a"
             ],
             [
              0.8888888888888888,
              "#fdca26"
             ],
             [
              1,
              "#f0f921"
             ]
            ],
            "type": "surface"
           }
          ],
          "table": [
           {
            "cells": {
             "fill": {
              "color": "#EBF0F8"
             },
             "line": {
              "color": "white"
             }
            },
            "header": {
             "fill": {
              "color": "#C8D4E3"
             },
             "line": {
              "color": "white"
             }
            },
            "type": "table"
           }
          ]
         },
         "layout": {
          "annotationdefaults": {
           "arrowcolor": "#2a3f5f",
           "arrowhead": 0,
           "arrowwidth": 1
          },
          "autotypenumbers": "strict",
          "coloraxis": {
           "colorbar": {
            "outlinewidth": 0,
            "ticks": ""
           }
          },
          "colorscale": {
           "diverging": [
            [
             0,
             "#8e0152"
            ],
            [
             0.1,
             "#c51b7d"
            ],
            [
             0.2,
             "#de77ae"
            ],
            [
             0.3,
             "#f1b6da"
            ],
            [
             0.4,
             "#fde0ef"
            ],
            [
             0.5,
             "#f7f7f7"
            ],
            [
             0.6,
             "#e6f5d0"
            ],
            [
             0.7,
             "#b8e186"
            ],
            [
             0.8,
             "#7fbc41"
            ],
            [
             0.9,
             "#4d9221"
            ],
            [
             1,
             "#276419"
            ]
           ],
           "sequential": [
            [
             0,
             "#0d0887"
            ],
            [
             0.1111111111111111,
             "#46039f"
            ],
            [
             0.2222222222222222,
             "#7201a8"
            ],
            [
             0.3333333333333333,
             "#9c179e"
            ],
            [
             0.4444444444444444,
             "#bd3786"
            ],
            [
             0.5555555555555556,
             "#d8576b"
            ],
            [
             0.6666666666666666,
             "#ed7953"
            ],
            [
             0.7777777777777778,
             "#fb9f3a"
            ],
            [
             0.8888888888888888,
             "#fdca26"
            ],
            [
             1,
             "#f0f921"
            ]
           ],
           "sequentialminus": [
            [
             0,
             "#0d0887"
            ],
            [
             0.1111111111111111,
             "#46039f"
            ],
            [
             0.2222222222222222,
             "#7201a8"
            ],
            [
             0.3333333333333333,
             "#9c179e"
            ],
            [
             0.4444444444444444,
             "#bd3786"
            ],
            [
             0.5555555555555556,
             "#d8576b"
            ],
            [
             0.6666666666666666,
             "#ed7953"
            ],
            [
             0.7777777777777778,
             "#fb9f3a"
            ],
            [
             0.8888888888888888,
             "#fdca26"
            ],
            [
             1,
             "#f0f921"
            ]
           ]
          },
          "colorway": [
           "#636efa",
           "#EF553B",
           "#00cc96",
           "#ab63fa",
           "#FFA15A",
           "#19d3f3",
           "#FF6692",
           "#B6E880",
           "#FF97FF",
           "#FECB52"
          ],
          "font": {
           "color": "#2a3f5f"
          },
          "geo": {
           "bgcolor": "white",
           "lakecolor": "white",
           "landcolor": "#E5ECF6",
           "showlakes": true,
           "showland": true,
           "subunitcolor": "white"
          },
          "hoverlabel": {
           "align": "left"
          },
          "hovermode": "closest",
          "mapbox": {
           "style": "light"
          },
          "paper_bgcolor": "white",
          "plot_bgcolor": "#E5ECF6",
          "polar": {
           "angularaxis": {
            "gridcolor": "white",
            "linecolor": "white",
            "ticks": ""
           },
           "bgcolor": "#E5ECF6",
           "radialaxis": {
            "gridcolor": "white",
            "linecolor": "white",
            "ticks": ""
           }
          },
          "scene": {
           "xaxis": {
            "backgroundcolor": "#E5ECF6",
            "gridcolor": "white",
            "gridwidth": 2,
            "linecolor": "white",
            "showbackground": true,
            "ticks": "",
            "zerolinecolor": "white"
           },
           "yaxis": {
            "backgroundcolor": "#E5ECF6",
            "gridcolor": "white",
            "gridwidth": 2,
            "linecolor": "white",
            "showbackground": true,
            "ticks": "",
            "zerolinecolor": "white"
           },
           "zaxis": {
            "backgroundcolor": "#E5ECF6",
            "gridcolor": "white",
            "gridwidth": 2,
            "linecolor": "white",
            "showbackground": true,
            "ticks": "",
            "zerolinecolor": "white"
           }
          },
          "shapedefaults": {
           "line": {
            "color": "#2a3f5f"
           }
          },
          "ternary": {
           "aaxis": {
            "gridcolor": "white",
            "linecolor": "white",
            "ticks": ""
           },
           "baxis": {
            "gridcolor": "white",
            "linecolor": "white",
            "ticks": ""
           },
           "bgcolor": "#E5ECF6",
           "caxis": {
            "gridcolor": "white",
            "linecolor": "white",
            "ticks": ""
           }
          },
          "title": {
           "x": 0.05
          },
          "xaxis": {
           "automargin": true,
           "gridcolor": "white",
           "linecolor": "white",
           "ticks": "",
           "title": {
            "standoff": 15
           },
           "zerolinecolor": "white",
           "zerolinewidth": 2
          },
          "yaxis": {
           "automargin": true,
           "gridcolor": "white",
           "linecolor": "white",
           "ticks": "",
           "title": {
            "standoff": 15
           },
           "zerolinecolor": "white",
           "zerolinewidth": 2
          }
         }
        },
        "title": {
         "text": "Índices de América Latina (Base 100)"
        },
        "xaxis": {
         "title": {
          "text": "Fecha"
         }
        },
        "yaxis": {
         "title": {
          "text": "Índice (Base 100)"
         }
        }
       }
      }
     },
     "metadata": {},
     "output_type": "display_data"
    }
   ],
   "source": [
    "plot_indices(latam_merged, 'Índices de América Latina (Base 100)')"
   ]
  },
  {
   "cell_type": "code",
   "execution_count": null,
   "id": "f6eff133",
   "metadata": {},
   "outputs": [
    {
     "data": {
      "text/html": [
       "<div>\n",
       "<style scoped>\n",
       "    .dataframe tbody tr th:only-of-type {\n",
       "        vertical-align: middle;\n",
       "    }\n",
       "\n",
       "    .dataframe tbody tr th {\n",
       "        vertical-align: top;\n",
       "    }\n",
       "\n",
       "    .dataframe thead th {\n",
       "        text-align: right;\n",
       "    }\n",
       "</style>\n",
       "<table border=\"1\" class=\"dataframe\">\n",
       "  <thead>\n",
       "    <tr style=\"text-align: right;\">\n",
       "      <th></th>\n",
       "      <th>Bovespa</th>\n",
       "      <th>MSCI Peru ETF</th>\n",
       "    </tr>\n",
       "    <tr>\n",
       "      <th>Date</th>\n",
       "      <th></th>\n",
       "      <th></th>\n",
       "    </tr>\n",
       "  </thead>\n",
       "  <tbody>\n",
       "    <tr>\n",
       "      <th>2024-01-02</th>\n",
       "      <td>100.000000</td>\n",
       "      <td>100.000000</td>\n",
       "    </tr>\n",
       "    <tr>\n",
       "      <th>2024-01-03</th>\n",
       "      <td>100.103243</td>\n",
       "      <td>98.913035</td>\n",
       "    </tr>\n",
       "    <tr>\n",
       "      <th>2024-01-04</th>\n",
       "      <td>98.891459</td>\n",
       "      <td>99.294942</td>\n",
       "    </tr>\n",
       "    <tr>\n",
       "      <th>2024-01-05</th>\n",
       "      <td>99.492076</td>\n",
       "      <td>99.089303</td>\n",
       "    </tr>\n",
       "    <tr>\n",
       "      <th>2024-01-08</th>\n",
       "      <td>99.796529</td>\n",
       "      <td>99.559337</td>\n",
       "    </tr>\n",
       "    <tr>\n",
       "      <th>...</th>\n",
       "      <td>...</td>\n",
       "      <td>...</td>\n",
       "    </tr>\n",
       "    <tr>\n",
       "      <th>2024-11-25</th>\n",
       "      <td>97.241083</td>\n",
       "      <td>126.086948</td>\n",
       "    </tr>\n",
       "    <tr>\n",
       "      <th>2024-11-26</th>\n",
       "      <td>97.908770</td>\n",
       "      <td>126.292598</td>\n",
       "    </tr>\n",
       "    <tr>\n",
       "      <th>2024-11-27</th>\n",
       "      <td>96.210917</td>\n",
       "      <td>126.733250</td>\n",
       "    </tr>\n",
       "    <tr>\n",
       "      <th>2024-11-28</th>\n",
       "      <td>93.905665</td>\n",
       "      <td>126.733250</td>\n",
       "    </tr>\n",
       "    <tr>\n",
       "      <th>2024-11-29</th>\n",
       "      <td>94.702970</td>\n",
       "      <td>125.264390</td>\n",
       "    </tr>\n",
       "  </tbody>\n",
       "</table>\n",
       "<p>238 rows × 2 columns</p>\n",
       "</div>"
      ],
      "text/plain": [
       "               Bovespa  MSCI Peru ETF\n",
       "Date                                 \n",
       "2024-01-02  100.000000     100.000000\n",
       "2024-01-03  100.103243      98.913035\n",
       "2024-01-04   98.891459      99.294942\n",
       "2024-01-05   99.492076      99.089303\n",
       "2024-01-08   99.796529      99.559337\n",
       "...                ...            ...\n",
       "2024-11-25   97.241083     126.086948\n",
       "2024-11-26   97.908770     126.292598\n",
       "2024-11-27   96.210917     126.733250\n",
       "2024-11-28   93.905665     126.733250\n",
       "2024-11-29   94.702970     125.264390\n",
       "\n",
       "[238 rows x 2 columns]"
      ]
     },
     "execution_count": 4,
     "metadata": {},
     "output_type": "execute_result"
    }
   ],
   "source": []
  },
  {
   "cell_type": "code",
   "execution_count": 8,
   "id": "6b251c95",
   "metadata": {},
   "outputs": [
    {
     "name": "stderr",
     "output_type": "stream",
     "text": [
      "C:\\Users\\HP SUPPORT\\AppData\\Roaming\\Python\\Python39\\site-packages\\yfinance\\utils.py:775: FutureWarning:\n",
      "\n",
      "The 'unit' keyword in TimedeltaIndex construction is deprecated and will be removed in a future version. Use pd.to_timedelta instead.\n",
      "\n",
      "[*********************100%%**********************]  1 of 1 completed\n",
      "C:\\Users\\HP SUPPORT\\AppData\\Local\\Temp\\ipykernel_21068\\1624474388.py:32: SettingWithCopyWarning:\n",
      "\n",
      "\n",
      "A value is trying to be set on a copy of a slice from a DataFrame\n",
      "\n",
      "See the caveats in the documentation: https://pandas.pydata.org/pandas-docs/stable/user_guide/indexing.html#returning-a-view-versus-a-copy\n",
      "\n",
      "C:\\Users\\HP SUPPORT\\AppData\\Roaming\\Python\\Python39\\site-packages\\yfinance\\utils.py:775: FutureWarning:\n",
      "\n",
      "The 'unit' keyword in TimedeltaIndex construction is deprecated and will be removed in a future version. Use pd.to_timedelta instead.\n",
      "\n",
      "[*********************100%%**********************]  1 of 1 completed\n",
      "C:\\Users\\HP SUPPORT\\AppData\\Local\\Temp\\ipykernel_21068\\1624474388.py:32: SettingWithCopyWarning:\n",
      "\n",
      "\n",
      "A value is trying to be set on a copy of a slice from a DataFrame\n",
      "\n",
      "See the caveats in the documentation: https://pandas.pydata.org/pandas-docs/stable/user_guide/indexing.html#returning-a-view-versus-a-copy\n",
      "\n",
      "C:\\Users\\HP SUPPORT\\AppData\\Roaming\\Python\\Python39\\site-packages\\yfinance\\utils.py:775: FutureWarning:\n",
      "\n",
      "The 'unit' keyword in TimedeltaIndex construction is deprecated and will be removed in a future version. Use pd.to_timedelta instead.\n",
      "\n",
      "[*********************100%%**********************]  1 of 1 completed\n",
      "C:\\Users\\HP SUPPORT\\AppData\\Local\\Temp\\ipykernel_21068\\1624474388.py:32: SettingWithCopyWarning:\n",
      "\n",
      "\n",
      "A value is trying to be set on a copy of a slice from a DataFrame\n",
      "\n",
      "See the caveats in the documentation: https://pandas.pydata.org/pandas-docs/stable/user_guide/indexing.html#returning-a-view-versus-a-copy\n",
      "\n",
      "[*********************100%%**********************]  1 of 1 completed\n",
      "\n",
      "1 Failed download:\n",
      "['^COLCAP']: Exception('%ticker%: No timezone found, symbol may be delisted')\n",
      "C:\\Users\\HP SUPPORT\\AppData\\Local\\Temp\\ipykernel_21068\\1624474388.py:32: SettingWithCopyWarning:\n",
      "\n",
      "\n",
      "A value is trying to be set on a copy of a slice from a DataFrame\n",
      "\n",
      "See the caveats in the documentation: https://pandas.pydata.org/pandas-docs/stable/user_guide/indexing.html#returning-a-view-versus-a-copy\n",
      "\n",
      "[*********************100%%**********************]  1 of 1 completed\n",
      "\n",
      "1 Failed download:\n",
      "['^SPBLPGPT']: Exception('%ticker%: No price data found, symbol may be delisted (1d 2024-01-01 00:00:00 -> 2024-12-01 18:16:26.953233)')\n",
      "C:\\Users\\HP SUPPORT\\AppData\\Local\\Temp\\ipykernel_21068\\1624474388.py:32: SettingWithCopyWarning:\n",
      "\n",
      "\n",
      "A value is trying to be set on a copy of a slice from a DataFrame\n",
      "\n",
      "See the caveats in the documentation: https://pandas.pydata.org/pandas-docs/stable/user_guide/indexing.html#returning-a-view-versus-a-copy\n",
      "\n",
      "C:\\Users\\HP SUPPORT\\AppData\\Roaming\\Python\\Python39\\site-packages\\yfinance\\utils.py:775: FutureWarning:\n",
      "\n",
      "The 'unit' keyword in TimedeltaIndex construction is deprecated and will be removed in a future version. Use pd.to_timedelta instead.\n",
      "\n",
      "[*********************100%%**********************]  1 of 1 completed\n",
      "C:\\Users\\HP SUPPORT\\AppData\\Local\\Temp\\ipykernel_21068\\1624474388.py:32: SettingWithCopyWarning:\n",
      "\n",
      "\n",
      "A value is trying to be set on a copy of a slice from a DataFrame\n",
      "\n",
      "See the caveats in the documentation: https://pandas.pydata.org/pandas-docs/stable/user_guide/indexing.html#returning-a-view-versus-a-copy\n",
      "\n"
     ]
    },
    {
     "data": {
      "application/vnd.plotly.v1+json": {
       "config": {
        "plotlyServerURL": "https://plot.ly"
       },
       "data": [
        {
         "mode": "lines",
         "name": "Bovespa",
         "type": "scatter",
         "x": [
          "2024-11-29T00:00:00"
         ],
         "y": [
          94.70296992396212
         ]
        },
        {
         "mode": "lines",
         "name": "IPC México",
         "type": "scatter",
         "x": [
          "2024-11-29T00:00:00"
         ],
         "y": [
          87.42059449812582
         ]
        },
        {
         "mode": "lines",
         "name": "IPSA (Chile)",
         "type": "scatter",
         "x": [
          "2024-11-29T00:00:00"
         ],
         "y": [
          100
         ]
        },
        {
         "mode": "lines",
         "name": "MSCI Peru ETF",
         "type": "scatter",
         "x": [
          "2024-11-29T00:00:00"
         ],
         "y": [
          125.264389667505
         ]
        }
       ],
       "layout": {
        "hovermode": "x unified",
        "template": {
         "data": {
          "bar": [
           {
            "error_x": {
             "color": "#2a3f5f"
            },
            "error_y": {
             "color": "#2a3f5f"
            },
            "marker": {
             "line": {
              "color": "#E5ECF6",
              "width": 0.5
             },
             "pattern": {
              "fillmode": "overlay",
              "size": 10,
              "solidity": 0.2
             }
            },
            "type": "bar"
           }
          ],
          "barpolar": [
           {
            "marker": {
             "line": {
              "color": "#E5ECF6",
              "width": 0.5
             },
             "pattern": {
              "fillmode": "overlay",
              "size": 10,
              "solidity": 0.2
             }
            },
            "type": "barpolar"
           }
          ],
          "carpet": [
           {
            "aaxis": {
             "endlinecolor": "#2a3f5f",
             "gridcolor": "white",
             "linecolor": "white",
             "minorgridcolor": "white",
             "startlinecolor": "#2a3f5f"
            },
            "baxis": {
             "endlinecolor": "#2a3f5f",
             "gridcolor": "white",
             "linecolor": "white",
             "minorgridcolor": "white",
             "startlinecolor": "#2a3f5f"
            },
            "type": "carpet"
           }
          ],
          "choropleth": [
           {
            "colorbar": {
             "outlinewidth": 0,
             "ticks": ""
            },
            "type": "choropleth"
           }
          ],
          "contour": [
           {
            "colorbar": {
             "outlinewidth": 0,
             "ticks": ""
            },
            "colorscale": [
             [
              0,
              "#0d0887"
             ],
             [
              0.1111111111111111,
              "#46039f"
             ],
             [
              0.2222222222222222,
              "#7201a8"
             ],
             [
              0.3333333333333333,
              "#9c179e"
             ],
             [
              0.4444444444444444,
              "#bd3786"
             ],
             [
              0.5555555555555556,
              "#d8576b"
             ],
             [
              0.6666666666666666,
              "#ed7953"
             ],
             [
              0.7777777777777778,
              "#fb9f3a"
             ],
             [
              0.8888888888888888,
              "#fdca26"
             ],
             [
              1,
              "#f0f921"
             ]
            ],
            "type": "contour"
           }
          ],
          "contourcarpet": [
           {
            "colorbar": {
             "outlinewidth": 0,
             "ticks": ""
            },
            "type": "contourcarpet"
           }
          ],
          "heatmap": [
           {
            "colorbar": {
             "outlinewidth": 0,
             "ticks": ""
            },
            "colorscale": [
             [
              0,
              "#0d0887"
             ],
             [
              0.1111111111111111,
              "#46039f"
             ],
             [
              0.2222222222222222,
              "#7201a8"
             ],
             [
              0.3333333333333333,
              "#9c179e"
             ],
             [
              0.4444444444444444,
              "#bd3786"
             ],
             [
              0.5555555555555556,
              "#d8576b"
             ],
             [
              0.6666666666666666,
              "#ed7953"
             ],
             [
              0.7777777777777778,
              "#fb9f3a"
             ],
             [
              0.8888888888888888,
              "#fdca26"
             ],
             [
              1,
              "#f0f921"
             ]
            ],
            "type": "heatmap"
           }
          ],
          "heatmapgl": [
           {
            "colorbar": {
             "outlinewidth": 0,
             "ticks": ""
            },
            "colorscale": [
             [
              0,
              "#0d0887"
             ],
             [
              0.1111111111111111,
              "#46039f"
             ],
             [
              0.2222222222222222,
              "#7201a8"
             ],
             [
              0.3333333333333333,
              "#9c179e"
             ],
             [
              0.4444444444444444,
              "#bd3786"
             ],
             [
              0.5555555555555556,
              "#d8576b"
             ],
             [
              0.6666666666666666,
              "#ed7953"
             ],
             [
              0.7777777777777778,
              "#fb9f3a"
             ],
             [
              0.8888888888888888,
              "#fdca26"
             ],
             [
              1,
              "#f0f921"
             ]
            ],
            "type": "heatmapgl"
           }
          ],
          "histogram": [
           {
            "marker": {
             "pattern": {
              "fillmode": "overlay",
              "size": 10,
              "solidity": 0.2
             }
            },
            "type": "histogram"
           }
          ],
          "histogram2d": [
           {
            "colorbar": {
             "outlinewidth": 0,
             "ticks": ""
            },
            "colorscale": [
             [
              0,
              "#0d0887"
             ],
             [
              0.1111111111111111,
              "#46039f"
             ],
             [
              0.2222222222222222,
              "#7201a8"
             ],
             [
              0.3333333333333333,
              "#9c179e"
             ],
             [
              0.4444444444444444,
              "#bd3786"
             ],
             [
              0.5555555555555556,
              "#d8576b"
             ],
             [
              0.6666666666666666,
              "#ed7953"
             ],
             [
              0.7777777777777778,
              "#fb9f3a"
             ],
             [
              0.8888888888888888,
              "#fdca26"
             ],
             [
              1,
              "#f0f921"
             ]
            ],
            "type": "histogram2d"
           }
          ],
          "histogram2dcontour": [
           {
            "colorbar": {
             "outlinewidth": 0,
             "ticks": ""
            },
            "colorscale": [
             [
              0,
              "#0d0887"
             ],
             [
              0.1111111111111111,
              "#46039f"
             ],
             [
              0.2222222222222222,
              "#7201a8"
             ],
             [
              0.3333333333333333,
              "#9c179e"
             ],
             [
              0.4444444444444444,
              "#bd3786"
             ],
             [
              0.5555555555555556,
              "#d8576b"
             ],
             [
              0.6666666666666666,
              "#ed7953"
             ],
             [
              0.7777777777777778,
              "#fb9f3a"
             ],
             [
              0.8888888888888888,
              "#fdca26"
             ],
             [
              1,
              "#f0f921"
             ]
            ],
            "type": "histogram2dcontour"
           }
          ],
          "mesh3d": [
           {
            "colorbar": {
             "outlinewidth": 0,
             "ticks": ""
            },
            "type": "mesh3d"
           }
          ],
          "parcoords": [
           {
            "line": {
             "colorbar": {
              "outlinewidth": 0,
              "ticks": ""
             }
            },
            "type": "parcoords"
           }
          ],
          "pie": [
           {
            "automargin": true,
            "type": "pie"
           }
          ],
          "scatter": [
           {
            "fillpattern": {
             "fillmode": "overlay",
             "size": 10,
             "solidity": 0.2
            },
            "type": "scatter"
           }
          ],
          "scatter3d": [
           {
            "line": {
             "colorbar": {
              "outlinewidth": 0,
              "ticks": ""
             }
            },
            "marker": {
             "colorbar": {
              "outlinewidth": 0,
              "ticks": ""
             }
            },
            "type": "scatter3d"
           }
          ],
          "scattercarpet": [
           {
            "marker": {
             "colorbar": {
              "outlinewidth": 0,
              "ticks": ""
             }
            },
            "type": "scattercarpet"
           }
          ],
          "scattergeo": [
           {
            "marker": {
             "colorbar": {
              "outlinewidth": 0,
              "ticks": ""
             }
            },
            "type": "scattergeo"
           }
          ],
          "scattergl": [
           {
            "marker": {
             "colorbar": {
              "outlinewidth": 0,
              "ticks": ""
             }
            },
            "type": "scattergl"
           }
          ],
          "scattermapbox": [
           {
            "marker": {
             "colorbar": {
              "outlinewidth": 0,
              "ticks": ""
             }
            },
            "type": "scattermapbox"
           }
          ],
          "scatterpolar": [
           {
            "marker": {
             "colorbar": {
              "outlinewidth": 0,
              "ticks": ""
             }
            },
            "type": "scatterpolar"
           }
          ],
          "scatterpolargl": [
           {
            "marker": {
             "colorbar": {
              "outlinewidth": 0,
              "ticks": ""
             }
            },
            "type": "scatterpolargl"
           }
          ],
          "scatterternary": [
           {
            "marker": {
             "colorbar": {
              "outlinewidth": 0,
              "ticks": ""
             }
            },
            "type": "scatterternary"
           }
          ],
          "surface": [
           {
            "colorbar": {
             "outlinewidth": 0,
             "ticks": ""
            },
            "colorscale": [
             [
              0,
              "#0d0887"
             ],
             [
              0.1111111111111111,
              "#46039f"
             ],
             [
              0.2222222222222222,
              "#7201a8"
             ],
             [
              0.3333333333333333,
              "#9c179e"
             ],
             [
              0.4444444444444444,
              "#bd3786"
             ],
             [
              0.5555555555555556,
              "#d8576b"
             ],
             [
              0.6666666666666666,
              "#ed7953"
             ],
             [
              0.7777777777777778,
              "#fb9f3a"
             ],
             [
              0.8888888888888888,
              "#fdca26"
             ],
             [
              1,
              "#f0f921"
             ]
            ],
            "type": "surface"
           }
          ],
          "table": [
           {
            "cells": {
             "fill": {
              "color": "#EBF0F8"
             },
             "line": {
              "color": "white"
             }
            },
            "header": {
             "fill": {
              "color": "#C8D4E3"
             },
             "line": {
              "color": "white"
             }
            },
            "type": "table"
           }
          ]
         },
         "layout": {
          "annotationdefaults": {
           "arrowcolor": "#2a3f5f",
           "arrowhead": 0,
           "arrowwidth": 1
          },
          "autotypenumbers": "strict",
          "coloraxis": {
           "colorbar": {
            "outlinewidth": 0,
            "ticks": ""
           }
          },
          "colorscale": {
           "diverging": [
            [
             0,
             "#8e0152"
            ],
            [
             0.1,
             "#c51b7d"
            ],
            [
             0.2,
             "#de77ae"
            ],
            [
             0.3,
             "#f1b6da"
            ],
            [
             0.4,
             "#fde0ef"
            ],
            [
             0.5,
             "#f7f7f7"
            ],
            [
             0.6,
             "#e6f5d0"
            ],
            [
             0.7,
             "#b8e186"
            ],
            [
             0.8,
             "#7fbc41"
            ],
            [
             0.9,
             "#4d9221"
            ],
            [
             1,
             "#276419"
            ]
           ],
           "sequential": [
            [
             0,
             "#0d0887"
            ],
            [
             0.1111111111111111,
             "#46039f"
            ],
            [
             0.2222222222222222,
             "#7201a8"
            ],
            [
             0.3333333333333333,
             "#9c179e"
            ],
            [
             0.4444444444444444,
             "#bd3786"
            ],
            [
             0.5555555555555556,
             "#d8576b"
            ],
            [
             0.6666666666666666,
             "#ed7953"
            ],
            [
             0.7777777777777778,
             "#fb9f3a"
            ],
            [
             0.8888888888888888,
             "#fdca26"
            ],
            [
             1,
             "#f0f921"
            ]
           ],
           "sequentialminus": [
            [
             0,
             "#0d0887"
            ],
            [
             0.1111111111111111,
             "#46039f"
            ],
            [
             0.2222222222222222,
             "#7201a8"
            ],
            [
             0.3333333333333333,
             "#9c179e"
            ],
            [
             0.4444444444444444,
             "#bd3786"
            ],
            [
             0.5555555555555556,
             "#d8576b"
            ],
            [
             0.6666666666666666,
             "#ed7953"
            ],
            [
             0.7777777777777778,
             "#fb9f3a"
            ],
            [
             0.8888888888888888,
             "#fdca26"
            ],
            [
             1,
             "#f0f921"
            ]
           ]
          },
          "colorway": [
           "#636efa",
           "#EF553B",
           "#00cc96",
           "#ab63fa",
           "#FFA15A",
           "#19d3f3",
           "#FF6692",
           "#B6E880",
           "#FF97FF",
           "#FECB52"
          ],
          "font": {
           "color": "#2a3f5f"
          },
          "geo": {
           "bgcolor": "white",
           "lakecolor": "white",
           "landcolor": "#E5ECF6",
           "showlakes": true,
           "showland": true,
           "subunitcolor": "white"
          },
          "hoverlabel": {
           "align": "left"
          },
          "hovermode": "closest",
          "mapbox": {
           "style": "light"
          },
          "paper_bgcolor": "white",
          "plot_bgcolor": "#E5ECF6",
          "polar": {
           "angularaxis": {
            "gridcolor": "white",
            "linecolor": "white",
            "ticks": ""
           },
           "bgcolor": "#E5ECF6",
           "radialaxis": {
            "gridcolor": "white",
            "linecolor": "white",
            "ticks": ""
           }
          },
          "scene": {
           "xaxis": {
            "backgroundcolor": "#E5ECF6",
            "gridcolor": "white",
            "gridwidth": 2,
            "linecolor": "white",
            "showbackground": true,
            "ticks": "",
            "zerolinecolor": "white"
           },
           "yaxis": {
            "backgroundcolor": "#E5ECF6",
            "gridcolor": "white",
            "gridwidth": 2,
            "linecolor": "white",
            "showbackground": true,
            "ticks": "",
            "zerolinecolor": "white"
           },
           "zaxis": {
            "backgroundcolor": "#E5ECF6",
            "gridcolor": "white",
            "gridwidth": 2,
            "linecolor": "white",
            "showbackground": true,
            "ticks": "",
            "zerolinecolor": "white"
           }
          },
          "shapedefaults": {
           "line": {
            "color": "#2a3f5f"
           }
          },
          "ternary": {
           "aaxis": {
            "gridcolor": "white",
            "linecolor": "white",
            "ticks": ""
           },
           "baxis": {
            "gridcolor": "white",
            "linecolor": "white",
            "ticks": ""
           },
           "bgcolor": "#E5ECF6",
           "caxis": {
            "gridcolor": "white",
            "linecolor": "white",
            "ticks": ""
           }
          },
          "title": {
           "x": 0.05
          },
          "xaxis": {
           "automargin": true,
           "gridcolor": "white",
           "linecolor": "white",
           "ticks": "",
           "title": {
            "standoff": 15
           },
           "zerolinecolor": "white",
           "zerolinewidth": 2
          },
          "yaxis": {
           "automargin": true,
           "gridcolor": "white",
           "linecolor": "white",
           "ticks": "",
           "title": {
            "standoff": 15
           },
           "zerolinecolor": "white",
           "zerolinewidth": 2
          }
         }
        },
        "title": {
         "text": "Índices de América Latina (Base 100)"
        },
        "xaxis": {
         "title": {
          "text": "Fecha"
         }
        },
        "yaxis": {
         "title": {
          "text": "Índice (Base 100)"
         }
        }
       }
      }
     },
     "metadata": {},
     "output_type": "display_data"
    }
   ],
   "source": [
    "import yfinance as yf\n",
    "import pandas as pd\n",
    "import datetime as dt\n",
    "import plotly.graph_objects as go\n",
    "\n",
    "# Fechas de inicio y fin\n",
    "start = dt.datetime(2024, 1, 1)\n",
    "end = dt.datetime.now()\n",
    "\n",
    "# Diccionario con nombres de índices y sus símbolos de Yahoo Finance\n",
    "# latam_indices = {\n",
    "#     'Bovespa': '^BVSP',\n",
    "#     'IPC México': '^MXX',\n",
    "#     'Merval': '^MERV',\n",
    "#     'S&P/BVL General': '^SPBLPGPT',\n",
    "#     'MSCI Peru ETF': 'EPU'\n",
    "# }\n",
    "latam_indices = {\n",
    "    'Bovespa': '^BVSP',  # Brasil\n",
    "    'IPC México': '^MXX', #Mexico\n",
    "    'IPSA (Chile)': '^IPSA',  # Chile\n",
    "    'COLCAP (Colombia)': '^COLCAP',  # Colombia\n",
    "    'S&P/BVL General (Peru)': '^SPBLPGPT',  # Perú\n",
    "    'MSCI Peru ETF': 'EPU'  # ETF de Perú como representación del mercado\n",
    "}\n",
    "\n",
    "\n",
    "# Descargar y preparar datos de América Latina\n",
    "latam_dataframes = []\n",
    "for name, ticker in latam_indices.items():\n",
    "    df = yf.download(ticker, start=start, end=end)[['Close']]\n",
    "    df.rename(columns={'Close': name}, inplace=True)\n",
    "    \n",
    "    # Eliminar NaN al inicio\n",
    "    df = df.dropna(subset=[name])\n",
    "    \n",
    "    # Verificar si el DataFrame no está vacío antes de la normalización\n",
    "    if not df.empty:\n",
    "        df[name] = df[name] / df[name].iloc[0] * 100  # Normalizar a base 100\n",
    "        latam_dataframes.append(df)\n",
    "\n",
    "# Verificar que la lista de DataFrames no esté vacía antes del merge\n",
    "if latam_dataframes:\n",
    "    latam_merged = latam_dataframes[0]\n",
    "    for df in latam_dataframes[1:]:\n",
    "        latam_merged = pd.merge(latam_merged, df, left_index=True, right_index=True, how='outer')\n",
    "\n",
    "\n",
    "    latam_merged = latam_merged.dropna()\n",
    "\n",
    "\n",
    "    # Crear gráfico para América Latina\n",
    "    fig = go.Figure()\n",
    "    for column in latam_merged.columns:\n",
    "        fig.add_trace(go.Scatter(\n",
    "            x=latam_merged.index,\n",
    "            y=latam_merged[column],\n",
    "            mode='lines',\n",
    "            name=column\n",
    "        ))\n",
    "    fig.update_layout(\n",
    "        title='Índices de América Latina (Base 100)',\n",
    "        xaxis_title='Fecha',\n",
    "        yaxis_title='Índice (Base 100)',\n",
    "        hovermode='x unified'\n",
    "    )\n",
    "    fig.show()\n",
    "else:\n",
    "    print(\"No hay datos válidos para los índices de América Latina.\")\n"
   ]
  },
  {
   "cell_type": "code",
   "execution_count": null,
   "id": "d9a81200",
   "metadata": {},
   "outputs": [],
   "source": []
  },
  {
   "cell_type": "code",
   "execution_count": null,
   "id": "18b2b5c9",
   "metadata": {},
   "outputs": [],
   "source": []
  },
  {
   "cell_type": "code",
   "execution_count": 10,
   "id": "5307b239",
   "metadata": {},
   "outputs": [
    {
     "name": "stdout",
     "output_type": "stream",
     "text": [
      "Error al obtener los datos\n"
     ]
    }
   ],
   "source": [
    "import requests\n",
    "from bs4 import BeautifulSoup\n",
    "import pandas as pd\n",
    "from datetime import datetime\n",
    "\n",
    "# Función para obtener los datos de un índice específico\n",
    "def get_investing_data(index_url):\n",
    "    headers = {\n",
    "        \"User-Agent\": \"Mozilla/5.0 (Windows NT 10.0; Win64; x64) AppleWebKit/537.36 (KHTML, like Gecko) Chrome/91.0.4472.124 Safari/537.36\"\n",
    "    }\n",
    "    \n",
    "    # Realizamos la solicitud GET al sitio web\n",
    "    response = requests.get(index_url, headers=headers)\n",
    "    \n",
    "    # Si la solicitud fue exitosa\n",
    "    if response.status_code == 200:\n",
    "        soup = BeautifulSoup(response.content, 'html.parser')\n",
    "        \n",
    "        # Encontramos la tabla de datos históricos (dependiendo de la estructura del HTML)\n",
    "        table = soup.find('table', {'class': 'genTbl closedTbl historicalTbl'})\n",
    "        \n",
    "        # Extraemos las filas de la tabla (cada fila es un día de datos)\n",
    "        rows = table.find_all('tr')\n",
    "        \n",
    "        # Creamos listas para almacenar los datos\n",
    "        dates = []\n",
    "        opens = []\n",
    "        highs = []\n",
    "        lows = []\n",
    "        closes = []\n",
    "        volumes = []\n",
    "        \n",
    "        # Iteramos sobre cada fila de datos\n",
    "        for row in rows[1:]:  # Saltamos la primera fila que es el encabezado\n",
    "            cols = row.find_all('td')\n",
    "            if len(cols) > 1:  # Si la fila tiene datos\n",
    "                dates.append(cols[0].text.strip())\n",
    "                opens.append(cols[1].text.strip())\n",
    "                highs.append(cols[2].text.strip())\n",
    "                lows.append(cols[3].text.strip())\n",
    "                closes.append(cols[4].text.strip())\n",
    "                volumes.append(cols[5].text.strip())\n",
    "        \n",
    "        # Convertimos las listas en un DataFrame de pandas\n",
    "        data = {\n",
    "            'Date': dates,\n",
    "            'Open': opens,\n",
    "            'High': highs,\n",
    "            'Low': lows,\n",
    "            'Close': closes,\n",
    "            'Volume': volumes\n",
    "        }\n",
    "        \n",
    "        df = pd.DataFrame(data)\n",
    "        \n",
    "        # Convertir las fechas al formato correcto (puedes ajustarlo según la región)\n",
    "        df['Date'] = pd.to_datetime(df['Date'], format='%b %d, %Y')\n",
    "        \n",
    "        return df\n",
    "    else:\n",
    "        print(\"Error al obtener los datos\")\n",
    "        return None\n",
    "\n",
    "# URL del índice S&P Merval (puedes cambiar la URL para otros índices)\n",
    "url = 'https://www.investing.com/indices/sp-bvlmerval-historical-data'\n",
    "\n",
    "# Obtener los datos\n",
    "data = get_investing_data(url)\n",
    "\n",
    "# Mostrar los primeros registros\n",
    "if data is not None:\n",
    "    print(data.head())\n",
    "\n",
    "    # Guardar los datos en un archivo CSV\n",
    "    data.to_csv('sp_merval_data.csv', index=False)\n"
   ]
  },
  {
   "cell_type": "markdown",
   "id": "31c7977e",
   "metadata": {},
   "source": [
    "### LATAM Y CARIBE\n",
    "\n",
    "IPSA CHILE: https://es.investing.com/indices/ipsa-historical-data\n",
    "\n",
    "S&P LIMA GENERAL: https://es.investing.com/indices/lima-stock-exchange-general\n",
    "\n",
    "COLCAP: https://es.investing.com/indices/colcap\n",
    "\n",
    "S&P/BMV IPC (MXX): https://es.investing.com/indices/ipc\n",
    "\n",
    "S&P MERVAL: https://es.investing.com/indices/merv\n"
   ]
  },
  {
   "cell_type": "code",
   "execution_count": null,
   "id": "bd946f12",
   "metadata": {},
   "outputs": [],
   "source": []
  },
  {
   "cell_type": "code",
   "execution_count": null,
   "id": "5a43d9d2",
   "metadata": {},
   "outputs": [],
   "source": []
  },
  {
   "cell_type": "markdown",
   "id": "ed14bc2a",
   "metadata": {},
   "source": []
  }
 ],
 "metadata": {
  "kernelspec": {
   "display_name": "base",
   "language": "python",
   "name": "python3"
  },
  "language_info": {
   "codemirror_mode": {
    "name": "ipython",
    "version": 3
   },
   "file_extension": ".py",
   "mimetype": "text/x-python",
   "name": "python",
   "nbconvert_exporter": "python",
   "pygments_lexer": "ipython3",
   "version": "3.9.13"
  }
 },
 "nbformat": 4,
 "nbformat_minor": 5
}
