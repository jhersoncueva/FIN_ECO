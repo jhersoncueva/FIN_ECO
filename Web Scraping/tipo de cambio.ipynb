{
 "cells": [
  {
   "cell_type": "code",
   "execution_count": 2,
   "id": "09fbb5aa-a69b-4e79-8498-909653dab089",
   "metadata": {},
   "outputs": [],
   "source": [
    "import pandas as pd\n",
    "import numpy as np\n",
    "from selenium.webdriver.common.by import By\n",
    "from io import StringIO\n",
    "import os\n",
    "import time\n",
    "import requests\n",
    "from selenium.webdriver.chrome.options import Options\n",
    "\n",
    "from datetime import date, timedelta\n",
    "from IPython.core.display import HTML\n",
    "\n",
    "from selenium import webdriver\n",
    "from webdriver_manager.chrome import ChromeDriverManager\n",
    "\n",
    "from bs4 import BeautifulSoup"
   ]
  },
  {
   "cell_type": "code",
   "execution_count": 2,
   "id": "fa670607-89dc-4bce-9f27-2bb3c48baca1",
   "metadata": {},
   "outputs": [],
   "source": [
    "# !pip install openpyxl\n",
    "# !pip install pandas\n",
    "# !pip install numpy"
   ]
  },
  {
   "cell_type": "code",
   "execution_count": 3,
   "id": "b569ffac-24d0-4990-97e7-ce6eb882fdee",
   "metadata": {},
   "outputs": [],
   "source": [
    "# # Install Selenium\n",
    "# !pip install selenium\n",
    "\n",
    "# # Install Webdriver Manager\n",
    "# !pip install webdriver-manager\n",
    "\n",
    "# # Check Selenium version\n",
    "# import selenium\n",
    "# selenium.__version__\n",
    "\n",
    "\n",
    "# # Optionally, update Selenium to the latest version\n",
    "# !pip install -U selenium"
   ]
  },
  {
   "cell_type": "code",
   "execution_count": null,
   "id": "4ed922a3-2a8e-40b1-9441-1108804f3d3a",
   "metadata": {},
   "outputs": [],
   "source": []
  },
  {
   "cell_type": "markdown",
   "id": "85a7e1b5",
   "metadata": {},
   "source": [
    "## TIPO DE CAMBIO\n",
    "## hoy"
   ]
  },
  {
   "cell_type": "code",
   "execution_count": 12,
   "id": "40ec4d10",
   "metadata": {},
   "outputs": [
    {
     "data": {
      "text/plain": [
       "3032"
      ]
     },
     "execution_count": 12,
     "metadata": {},
     "output_type": "execute_result"
    }
   ],
   "source": [
    "np.random.randint(272, 7300)"
   ]
  },
  {
   "cell_type": "code",
   "execution_count": 2,
   "id": "98faad2d",
   "metadata": {},
   "outputs": [
    {
     "ename": "KeyboardInterrupt",
     "evalue": "",
     "output_type": "error",
     "traceback": [
      "\u001b[1;31m---------------------------------------------------------------------------\u001b[0m",
      "\u001b[1;31mKeyboardInterrupt\u001b[0m                         Traceback (most recent call last)",
      "Cell \u001b[1;32mIn[2], line 20\u001b[0m\n\u001b[0;32m     17\u001b[0m driver\u001b[38;5;241m.\u001b[39mget(full_url)\n\u001b[0;32m     19\u001b[0m \u001b[38;5;66;03m# Espera 10 segundos antes de cerrar\u001b[39;00m\n\u001b[1;32m---> 20\u001b[0m \u001b[43mtime\u001b[49m\u001b[38;5;241;43m.\u001b[39;49m\u001b[43msleep\u001b[49m\u001b[43m(\u001b[49m\u001b[38;5;241;43m10\u001b[39;49m\u001b[43m)\u001b[49m\n\u001b[0;32m     22\u001b[0m \u001b[38;5;66;03m# Cierra el navegador\u001b[39;00m\n\u001b[0;32m     23\u001b[0m driver\u001b[38;5;241m.\u001b[39mquit()\n",
      "\u001b[1;31mKeyboardInterrupt\u001b[0m: "
     ]
    }
   ],
   "source": [
    "import time\n",
    "from selenium import webdriver\n",
    "import random\n",
    "\n",
    "# URL base\n",
    "url = 'https://youtu.be/NIdTmIEtG2o?t='\n",
    "\n",
    "for _ in range(10):\n",
    "    # Elige un número aleatorio entre 272 y 7300\n",
    "    random_time = random.randint(272, 7300)\n",
    "    \n",
    "    # Construye la URL completa\n",
    "    full_url = url + str(random_time)\n",
    "    \n",
    "    # Abre la URL en el navegador Chrome\n",
    "    driver = webdriver.Chrome()\n",
    "    driver.get(full_url)\n",
    "    \n",
    "    # Espera 10 segundos antes de cerrar\n",
    "    time.sleep(10)\n",
    "    \n",
    "    # Cierra el navegador\n",
    "    driver.quit()\n"
   ]
  },
  {
   "cell_type": "code",
   "execution_count": 6,
   "id": "3d74a01b",
   "metadata": {},
   "outputs": [
    {
     "ename": "TimeoutException",
     "evalue": "Message: timeout: Timed out receiving message from renderer: 299.307\n  (Session info: chrome=128.0.6613.120)\nStacktrace:\n\tGetHandleVerifier [0x00007FF7ED2F9412+29090]\n\t(No symbol) [0x00007FF7ED26E239]\n\t(No symbol) [0x00007FF7ED12B1DA]\n\t(No symbol) [0x00007FF7ED113F0D]\n\t(No symbol) [0x00007FF7ED113C10]\n\t(No symbol) [0x00007FF7ED111ACF]\n\t(No symbol) [0x00007FF7ED11231F]\n\t(No symbol) [0x00007FF7ED120C3E]\n\t(No symbol) [0x00007FF7ED1395DD]\n\t(No symbol) [0x00007FF7ED13F17A]\n\t(No symbol) [0x00007FF7ED112A6A]\n\t(No symbol) [0x00007FF7ED13944F]\n\t(No symbol) [0x00007FF7ED1C6907]\n\t(No symbol) [0x00007FF7ED1A6493]\n\t(No symbol) [0x00007FF7ED1709D1]\n\t(No symbol) [0x00007FF7ED171B31]\n\tGetHandleVerifier [0x00007FF7ED61871D+3302573]\n\tGetHandleVerifier [0x00007FF7ED664243+3612627]\n\tGetHandleVerifier [0x00007FF7ED65A417+3572135]\n\tGetHandleVerifier [0x00007FF7ED3B5EB6+801862]\n\t(No symbol) [0x00007FF7ED27945F]\n\t(No symbol) [0x00007FF7ED274FB4]\n\t(No symbol) [0x00007FF7ED275140]\n\t(No symbol) [0x00007FF7ED26461F]\n\tBaseThreadInitThunk [0x00007FFC30D4257D+29]\n\tRtlUserThreadStart [0x00007FFC32CCAF28+40]\n",
     "output_type": "error",
     "traceback": [
      "\u001b[1;31m---------------------------------------------------------------------------\u001b[0m",
      "\u001b[1;31mTimeoutException\u001b[0m                          Traceback (most recent call last)",
      "Cell \u001b[1;32mIn[6], line 8\u001b[0m\n\u001b[0;32m      6\u001b[0m \u001b[38;5;28;01mfor\u001b[39;00m _ \u001b[38;5;129;01min\u001b[39;00m \u001b[38;5;28mrange\u001b[39m(\u001b[38;5;241m1\u001b[39m):\n\u001b[0;32m      7\u001b[0m     driver \u001b[38;5;241m=\u001b[39m webdriver\u001b[38;5;241m.\u001b[39mChrome()\n\u001b[1;32m----> 8\u001b[0m     \u001b[43mdriver\u001b[49m\u001b[38;5;241;43m.\u001b[39;49m\u001b[43mget\u001b[49m\u001b[43m(\u001b[49m\u001b[43murl\u001b[49m\u001b[43m)\u001b[49m\n\u001b[0;32m      9\u001b[0m     time\u001b[38;5;241m.\u001b[39msleep(\u001b[38;5;241m5\u001b[39m)  \u001b[38;5;66;03m# Espera 5 segundos antes de cerrar\u001b[39;00m\n\u001b[0;32m     10\u001b[0m     \u001b[38;5;66;03m# driver.quit()\u001b[39;00m\n",
      "File \u001b[1;32mc:\\Users\\HP SUPPORT\\.conda\\envs\\wb\\Lib\\site-packages\\selenium\\webdriver\\remote\\webdriver.py:357\u001b[0m, in \u001b[0;36mWebDriver.get\u001b[1;34m(self, url)\u001b[0m\n\u001b[0;32m    355\u001b[0m \u001b[38;5;28;01mdef\u001b[39;00m \u001b[38;5;21mget\u001b[39m(\u001b[38;5;28mself\u001b[39m, url: \u001b[38;5;28mstr\u001b[39m) \u001b[38;5;241m-\u001b[39m\u001b[38;5;241m>\u001b[39m \u001b[38;5;28;01mNone\u001b[39;00m:\n\u001b[0;32m    356\u001b[0m \u001b[38;5;250m    \u001b[39m\u001b[38;5;124;03m\"\"\"Loads a web page in the current browser session.\"\"\"\u001b[39;00m\n\u001b[1;32m--> 357\u001b[0m     \u001b[38;5;28;43mself\u001b[39;49m\u001b[38;5;241;43m.\u001b[39;49m\u001b[43mexecute\u001b[49m\u001b[43m(\u001b[49m\u001b[43mCommand\u001b[49m\u001b[38;5;241;43m.\u001b[39;49m\u001b[43mGET\u001b[49m\u001b[43m,\u001b[49m\u001b[43m \u001b[49m\u001b[43m{\u001b[49m\u001b[38;5;124;43m\"\u001b[39;49m\u001b[38;5;124;43murl\u001b[39;49m\u001b[38;5;124;43m\"\u001b[39;49m\u001b[43m:\u001b[49m\u001b[43m \u001b[49m\u001b[43murl\u001b[49m\u001b[43m}\u001b[49m\u001b[43m)\u001b[49m\n",
      "File \u001b[1;32mc:\\Users\\HP SUPPORT\\.conda\\envs\\wb\\Lib\\site-packages\\selenium\\webdriver\\remote\\webdriver.py:348\u001b[0m, in \u001b[0;36mWebDriver.execute\u001b[1;34m(self, driver_command, params)\u001b[0m\n\u001b[0;32m    346\u001b[0m response \u001b[38;5;241m=\u001b[39m \u001b[38;5;28mself\u001b[39m\u001b[38;5;241m.\u001b[39mcommand_executor\u001b[38;5;241m.\u001b[39mexecute(driver_command, params)\n\u001b[0;32m    347\u001b[0m \u001b[38;5;28;01mif\u001b[39;00m response:\n\u001b[1;32m--> 348\u001b[0m     \u001b[38;5;28;43mself\u001b[39;49m\u001b[38;5;241;43m.\u001b[39;49m\u001b[43merror_handler\u001b[49m\u001b[38;5;241;43m.\u001b[39;49m\u001b[43mcheck_response\u001b[49m\u001b[43m(\u001b[49m\u001b[43mresponse\u001b[49m\u001b[43m)\u001b[49m\n\u001b[0;32m    349\u001b[0m     response[\u001b[38;5;124m\"\u001b[39m\u001b[38;5;124mvalue\u001b[39m\u001b[38;5;124m\"\u001b[39m] \u001b[38;5;241m=\u001b[39m \u001b[38;5;28mself\u001b[39m\u001b[38;5;241m.\u001b[39m_unwrap_value(response\u001b[38;5;241m.\u001b[39mget(\u001b[38;5;124m\"\u001b[39m\u001b[38;5;124mvalue\u001b[39m\u001b[38;5;124m\"\u001b[39m, \u001b[38;5;28;01mNone\u001b[39;00m))\n\u001b[0;32m    350\u001b[0m     \u001b[38;5;28;01mreturn\u001b[39;00m response\n",
      "File \u001b[1;32mc:\\Users\\HP SUPPORT\\.conda\\envs\\wb\\Lib\\site-packages\\selenium\\webdriver\\remote\\errorhandler.py:229\u001b[0m, in \u001b[0;36mErrorHandler.check_response\u001b[1;34m(self, response)\u001b[0m\n\u001b[0;32m    227\u001b[0m         alert_text \u001b[38;5;241m=\u001b[39m value[\u001b[38;5;124m\"\u001b[39m\u001b[38;5;124malert\u001b[39m\u001b[38;5;124m\"\u001b[39m]\u001b[38;5;241m.\u001b[39mget(\u001b[38;5;124m\"\u001b[39m\u001b[38;5;124mtext\u001b[39m\u001b[38;5;124m\"\u001b[39m)\n\u001b[0;32m    228\u001b[0m     \u001b[38;5;28;01mraise\u001b[39;00m exception_class(message, screen, stacktrace, alert_text)  \u001b[38;5;66;03m# type: ignore[call-arg]  # mypy is not smart enough here\u001b[39;00m\n\u001b[1;32m--> 229\u001b[0m \u001b[38;5;28;01mraise\u001b[39;00m exception_class(message, screen, stacktrace)\n",
      "\u001b[1;31mTimeoutException\u001b[0m: Message: timeout: Timed out receiving message from renderer: 299.307\n  (Session info: chrome=128.0.6613.120)\nStacktrace:\n\tGetHandleVerifier [0x00007FF7ED2F9412+29090]\n\t(No symbol) [0x00007FF7ED26E239]\n\t(No symbol) [0x00007FF7ED12B1DA]\n\t(No symbol) [0x00007FF7ED113F0D]\n\t(No symbol) [0x00007FF7ED113C10]\n\t(No symbol) [0x00007FF7ED111ACF]\n\t(No symbol) [0x00007FF7ED11231F]\n\t(No symbol) [0x00007FF7ED120C3E]\n\t(No symbol) [0x00007FF7ED1395DD]\n\t(No symbol) [0x00007FF7ED13F17A]\n\t(No symbol) [0x00007FF7ED112A6A]\n\t(No symbol) [0x00007FF7ED13944F]\n\t(No symbol) [0x00007FF7ED1C6907]\n\t(No symbol) [0x00007FF7ED1A6493]\n\t(No symbol) [0x00007FF7ED1709D1]\n\t(No symbol) [0x00007FF7ED171B31]\n\tGetHandleVerifier [0x00007FF7ED61871D+3302573]\n\tGetHandleVerifier [0x00007FF7ED664243+3612627]\n\tGetHandleVerifier [0x00007FF7ED65A417+3572135]\n\tGetHandleVerifier [0x00007FF7ED3B5EB6+801862]\n\t(No symbol) [0x00007FF7ED27945F]\n\t(No symbol) [0x00007FF7ED274FB4]\n\t(No symbol) [0x00007FF7ED275140]\n\t(No symbol) [0x00007FF7ED26461F]\n\tBaseThreadInitThunk [0x00007FFC30D4257D+29]\n\tRtlUserThreadStart [0x00007FFC32CCAF28+40]\n"
     ]
    }
   ],
   "source": [
    "import time\n",
    "from selenium import webdriver\n",
    "#https://youtu.be/NIdTmIEtG2o?t=272\n",
    "\n",
    "\n",
    "\n",
    "url = 'https://youtu.be/NIdTmIEtG2o?t=' # https://youtu.be/NIdTmIEtG2o?t=2720 https://youtu.be/NIdTmIEtG2o?t=4619 https://youtu.be/NIdTmIEtG2o?t=7384\n",
    "\n",
    "for _ in range(5):\n",
    "    driver = webdriver.Chrome()\n",
    "    driver.get(url+\"np.random.randn(272,7300)\")\n",
    "    time.sleep(10)  # Espera 5 segundos antes de cerrar\n",
    "    driver.quit()\n"
   ]
  },
  {
   "cell_type": "code",
   "execution_count": 3,
   "id": "578d8326",
   "metadata": {},
   "outputs": [],
   "source": [
    "url = 'https://www.bcrp.gob.pe/'\n",
    "\n",
    "driver  = webdriver.Chrome()        \n",
    "driver.get( url )"
   ]
  },
  {
   "cell_type": "code",
   "execution_count": 4,
   "id": "6f256654",
   "metadata": {},
   "outputs": [],
   "source": [
    "driver.maximize_window()\n"
   ]
  },
  {
   "cell_type": "code",
   "execution_count": null,
   "id": "c715abe2",
   "metadata": {},
   "outputs": [],
   "source": [
    "/html/body/div[4]/div/div/div/div/div[2]/table\n",
    "/html/body/div[4]/div/div/div/div/div[2]\n",
    "/html/body/div[4]/div/div/div/div/div[2]/table/tbody"
   ]
  },
  {
   "cell_type": "code",
   "execution_count": 5,
   "id": "497c9e4c-a382-4352-a9cf-e32f9676aa06",
   "metadata": {},
   "outputs": [
    {
     "data": {
      "text/html": [
       "<div>\n",
       "<style scoped>\n",
       "    .dataframe tbody tr th:only-of-type {\n",
       "        vertical-align: middle;\n",
       "    }\n",
       "\n",
       "    .dataframe tbody tr th {\n",
       "        vertical-align: top;\n",
       "    }\n",
       "\n",
       "    .dataframe thead th {\n",
       "        text-align: right;\n",
       "    }\n",
       "</style>\n",
       "<table border=\"1\" class=\"dataframe\">\n",
       "  <thead>\n",
       "    <tr style=\"text-align: right;\">\n",
       "      <th></th>\n",
       "      <th>Unnamed: 0</th>\n",
       "      <th>Abr. 12</th>\n",
       "      <th>Abr. 11</th>\n",
       "    </tr>\n",
       "  </thead>\n",
       "  <tbody>\n",
       "    <tr>\n",
       "      <th>0</th>\n",
       "      <td>Mí­nimo</td>\n",
       "      <td>36960</td>\n",
       "      <td>36950</td>\n",
       "    </tr>\n",
       "    <tr>\n",
       "      <th>1</th>\n",
       "      <td>Máximo</td>\n",
       "      <td>37100</td>\n",
       "      <td>37180</td>\n",
       "    </tr>\n",
       "    <tr>\n",
       "      <th>2</th>\n",
       "      <td>Promedio</td>\n",
       "      <td>37035</td>\n",
       "      <td>37085</td>\n",
       "    </tr>\n",
       "  </tbody>\n",
       "</table>\n",
       "</div>"
      ],
      "text/plain": [
       "  Unnamed: 0  Abr. 12  Abr. 11\n",
       "0    Mí­nimo    36960    36950\n",
       "1     Máximo    37100    37180\n",
       "2   Promedio    37035    37085"
      ]
     },
     "execution_count": 5,
     "metadata": {},
     "output_type": "execute_result"
    }
   ],
   "source": [
    "data = driver.find_element( By.XPATH,  '/html/body/div[4]/div/div/div/div')\n",
    "\n",
    "data_tab = data.get_attribute( 'outerHTML' )\n",
    "table_html_io = StringIO( data_tab )\n",
    "table_df      = pd.read_html( table_html_io )[ 0 ]\n",
    "table_df.head(5)"
   ]
  },
  {
   "cell_type": "code",
   "execution_count": 6,
   "id": "2e26fdd8",
   "metadata": {},
   "outputs": [
    {
     "data": {
      "text/plain": [
       "Unnamed: 0    Promedio\n",
       "Abr. 12          37035\n",
       "Abr. 11          37085\n",
       "Name: 2, dtype: object"
      ]
     },
     "execution_count": 6,
     "metadata": {},
     "output_type": "execute_result"
    }
   ],
   "source": [
    "table_df.loc[2]"
   ]
  },
  {
   "cell_type": "code",
   "execution_count": 7,
   "id": "6e9a9c67",
   "metadata": {},
   "outputs": [
    {
     "ename": "ValueError",
     "evalue": "No tables found",
     "output_type": "error",
     "traceback": [
      "\u001b[1;31m---------------------------------------------------------------------------\u001b[0m",
      "\u001b[1;31mValueError\u001b[0m                                Traceback (most recent call last)",
      "\u001b[1;32m~\\AppData\\Local\\Temp\\ipykernel_26648\\131170308.py\u001b[0m in \u001b[0;36m<module>\u001b[1;34m\u001b[0m\n\u001b[0;32m      4\u001b[0m \u001b[0mdata_tab\u001b[0m \u001b[1;33m=\u001b[0m \u001b[0mdata\u001b[0m\u001b[1;33m.\u001b[0m\u001b[0mget_attribute\u001b[0m\u001b[1;33m(\u001b[0m \u001b[1;34m'outerHTML'\u001b[0m \u001b[1;33m)\u001b[0m\u001b[1;33m\u001b[0m\u001b[1;33m\u001b[0m\u001b[0m\n\u001b[0;32m      5\u001b[0m \u001b[0mtable_html_io\u001b[0m \u001b[1;33m=\u001b[0m \u001b[0mStringIO\u001b[0m\u001b[1;33m(\u001b[0m \u001b[0mdata_tab\u001b[0m \u001b[1;33m)\u001b[0m\u001b[1;33m\u001b[0m\u001b[1;33m\u001b[0m\u001b[0m\n\u001b[1;32m----> 6\u001b[1;33m \u001b[0mtable_df\u001b[0m      \u001b[1;33m=\u001b[0m \u001b[0mpd\u001b[0m\u001b[1;33m.\u001b[0m\u001b[0mread_html\u001b[0m\u001b[1;33m(\u001b[0m \u001b[0mtable_html_io\u001b[0m \u001b[1;33m)\u001b[0m\u001b[1;33m[\u001b[0m \u001b[1;36m0\u001b[0m \u001b[1;33m]\u001b[0m\u001b[1;33m\u001b[0m\u001b[1;33m\u001b[0m\u001b[0m\n\u001b[0m\u001b[0;32m      7\u001b[0m \u001b[0mtable_df\u001b[0m\u001b[1;33m.\u001b[0m\u001b[0mhead\u001b[0m\u001b[1;33m(\u001b[0m\u001b[1;36m5\u001b[0m\u001b[1;33m)\u001b[0m\u001b[1;33m\u001b[0m\u001b[1;33m\u001b[0m\u001b[0m\n",
      "\u001b[1;32m~\\AppData\\Roaming\\Python\\Python39\\site-packages\\pandas\\io\\html.py\u001b[0m in \u001b[0;36mread_html\u001b[1;34m(io, match, flavor, header, index_col, skiprows, attrs, parse_dates, thousands, encoding, decimal, converters, na_values, keep_default_na, displayed_only, extract_links, dtype_backend, storage_options)\u001b[0m\n\u001b[0;32m   1244\u001b[0m         )\n\u001b[0;32m   1245\u001b[0m \u001b[1;33m\u001b[0m\u001b[0m\n\u001b[1;32m-> 1246\u001b[1;33m     return _parse(\n\u001b[0m\u001b[0;32m   1247\u001b[0m         \u001b[0mflavor\u001b[0m\u001b[1;33m=\u001b[0m\u001b[0mflavor\u001b[0m\u001b[1;33m,\u001b[0m\u001b[1;33m\u001b[0m\u001b[1;33m\u001b[0m\u001b[0m\n\u001b[0;32m   1248\u001b[0m         \u001b[0mio\u001b[0m\u001b[1;33m=\u001b[0m\u001b[0mio\u001b[0m\u001b[1;33m,\u001b[0m\u001b[1;33m\u001b[0m\u001b[1;33m\u001b[0m\u001b[0m\n",
      "\u001b[1;32m~\\AppData\\Roaming\\Python\\Python39\\site-packages\\pandas\\io\\html.py\u001b[0m in \u001b[0;36m_parse\u001b[1;34m(flavor, io, match, attrs, encoding, displayed_only, extract_links, storage_options, **kwargs)\u001b[0m\n\u001b[0;32m   1007\u001b[0m     \u001b[1;32melse\u001b[0m\u001b[1;33m:\u001b[0m\u001b[1;33m\u001b[0m\u001b[1;33m\u001b[0m\u001b[0m\n\u001b[0;32m   1008\u001b[0m         \u001b[1;32massert\u001b[0m \u001b[0mretained\u001b[0m \u001b[1;32mis\u001b[0m \u001b[1;32mnot\u001b[0m \u001b[1;32mNone\u001b[0m  \u001b[1;31m# for mypy\u001b[0m\u001b[1;33m\u001b[0m\u001b[1;33m\u001b[0m\u001b[0m\n\u001b[1;32m-> 1009\u001b[1;33m         \u001b[1;32mraise\u001b[0m \u001b[0mretained\u001b[0m\u001b[1;33m\u001b[0m\u001b[1;33m\u001b[0m\u001b[0m\n\u001b[0m\u001b[0;32m   1010\u001b[0m \u001b[1;33m\u001b[0m\u001b[0m\n\u001b[0;32m   1011\u001b[0m     \u001b[0mret\u001b[0m \u001b[1;33m=\u001b[0m \u001b[1;33m[\u001b[0m\u001b[1;33m]\u001b[0m\u001b[1;33m\u001b[0m\u001b[1;33m\u001b[0m\u001b[0m\n",
      "\u001b[1;32m~\\AppData\\Roaming\\Python\\Python39\\site-packages\\pandas\\io\\html.py\u001b[0m in \u001b[0;36m_parse\u001b[1;34m(flavor, io, match, attrs, encoding, displayed_only, extract_links, storage_options, **kwargs)\u001b[0m\n\u001b[0;32m    987\u001b[0m \u001b[1;33m\u001b[0m\u001b[0m\n\u001b[0;32m    988\u001b[0m         \u001b[1;32mtry\u001b[0m\u001b[1;33m:\u001b[0m\u001b[1;33m\u001b[0m\u001b[1;33m\u001b[0m\u001b[0m\n\u001b[1;32m--> 989\u001b[1;33m             \u001b[0mtables\u001b[0m \u001b[1;33m=\u001b[0m \u001b[0mp\u001b[0m\u001b[1;33m.\u001b[0m\u001b[0mparse_tables\u001b[0m\u001b[1;33m(\u001b[0m\u001b[1;33m)\u001b[0m\u001b[1;33m\u001b[0m\u001b[1;33m\u001b[0m\u001b[0m\n\u001b[0m\u001b[0;32m    990\u001b[0m         \u001b[1;32mexcept\u001b[0m \u001b[0mValueError\u001b[0m \u001b[1;32mas\u001b[0m \u001b[0mcaught\u001b[0m\u001b[1;33m:\u001b[0m\u001b[1;33m\u001b[0m\u001b[1;33m\u001b[0m\u001b[0m\n\u001b[0;32m    991\u001b[0m             \u001b[1;31m# if `io` is an io-like object, check if it's seekable\u001b[0m\u001b[1;33m\u001b[0m\u001b[1;33m\u001b[0m\u001b[0m\n",
      "\u001b[1;32m~\\AppData\\Roaming\\Python\\Python39\\site-packages\\pandas\\io\\html.py\u001b[0m in \u001b[0;36mparse_tables\u001b[1;34m(self)\u001b[0m\n\u001b[0;32m    247\u001b[0m         \u001b[0mlist\u001b[0m \u001b[0mof\u001b[0m \u001b[0mparsed\u001b[0m \u001b[1;33m(\u001b[0m\u001b[0mheader\u001b[0m\u001b[1;33m,\u001b[0m \u001b[0mbody\u001b[0m\u001b[1;33m,\u001b[0m \u001b[0mfooter\u001b[0m\u001b[1;33m)\u001b[0m \u001b[0mtuples\u001b[0m \u001b[1;32mfrom\u001b[0m \u001b[0mtables\u001b[0m\u001b[1;33m.\u001b[0m\u001b[1;33m\u001b[0m\u001b[1;33m\u001b[0m\u001b[0m\n\u001b[0;32m    248\u001b[0m         \"\"\"\n\u001b[1;32m--> 249\u001b[1;33m         \u001b[0mtables\u001b[0m \u001b[1;33m=\u001b[0m \u001b[0mself\u001b[0m\u001b[1;33m.\u001b[0m\u001b[0m_parse_tables\u001b[0m\u001b[1;33m(\u001b[0m\u001b[0mself\u001b[0m\u001b[1;33m.\u001b[0m\u001b[0m_build_doc\u001b[0m\u001b[1;33m(\u001b[0m\u001b[1;33m)\u001b[0m\u001b[1;33m,\u001b[0m \u001b[0mself\u001b[0m\u001b[1;33m.\u001b[0m\u001b[0mmatch\u001b[0m\u001b[1;33m,\u001b[0m \u001b[0mself\u001b[0m\u001b[1;33m.\u001b[0m\u001b[0mattrs\u001b[0m\u001b[1;33m)\u001b[0m\u001b[1;33m\u001b[0m\u001b[1;33m\u001b[0m\u001b[0m\n\u001b[0m\u001b[0;32m    250\u001b[0m         \u001b[1;32mreturn\u001b[0m \u001b[1;33m(\u001b[0m\u001b[0mself\u001b[0m\u001b[1;33m.\u001b[0m\u001b[0m_parse_thead_tbody_tfoot\u001b[0m\u001b[1;33m(\u001b[0m\u001b[0mtable\u001b[0m\u001b[1;33m)\u001b[0m \u001b[1;32mfor\u001b[0m \u001b[0mtable\u001b[0m \u001b[1;32min\u001b[0m \u001b[0mtables\u001b[0m\u001b[1;33m)\u001b[0m\u001b[1;33m\u001b[0m\u001b[1;33m\u001b[0m\u001b[0m\n\u001b[0;32m    251\u001b[0m \u001b[1;33m\u001b[0m\u001b[0m\n",
      "\u001b[1;32m~\\AppData\\Roaming\\Python\\Python39\\site-packages\\pandas\\io\\html.py\u001b[0m in \u001b[0;36m_parse_tables\u001b[1;34m(self, document, match, attrs)\u001b[0m\n\u001b[0;32m    602\u001b[0m         \u001b[0mtables\u001b[0m \u001b[1;33m=\u001b[0m \u001b[0mdocument\u001b[0m\u001b[1;33m.\u001b[0m\u001b[0mfind_all\u001b[0m\u001b[1;33m(\u001b[0m\u001b[0melement_name\u001b[0m\u001b[1;33m,\u001b[0m \u001b[0mattrs\u001b[0m\u001b[1;33m=\u001b[0m\u001b[0mattrs\u001b[0m\u001b[1;33m)\u001b[0m\u001b[1;33m\u001b[0m\u001b[1;33m\u001b[0m\u001b[0m\n\u001b[0;32m    603\u001b[0m         \u001b[1;32mif\u001b[0m \u001b[1;32mnot\u001b[0m \u001b[0mtables\u001b[0m\u001b[1;33m:\u001b[0m\u001b[1;33m\u001b[0m\u001b[1;33m\u001b[0m\u001b[0m\n\u001b[1;32m--> 604\u001b[1;33m             \u001b[1;32mraise\u001b[0m \u001b[0mValueError\u001b[0m\u001b[1;33m(\u001b[0m\u001b[1;34m\"No tables found\"\u001b[0m\u001b[1;33m)\u001b[0m\u001b[1;33m\u001b[0m\u001b[1;33m\u001b[0m\u001b[0m\n\u001b[0m\u001b[0;32m    605\u001b[0m \u001b[1;33m\u001b[0m\u001b[0m\n\u001b[0;32m    606\u001b[0m         \u001b[0mresult\u001b[0m \u001b[1;33m=\u001b[0m \u001b[1;33m[\u001b[0m\u001b[1;33m]\u001b[0m\u001b[1;33m\u001b[0m\u001b[1;33m\u001b[0m\u001b[0m\n",
      "\u001b[1;31mValueError\u001b[0m: No tables found"
     ]
    }
   ],
   "source": [
    "## INFLACION\n",
    "data = driver.find_element( By.XPATH,  '/html/body/div[2]')\n",
    "\n",
    "data_tab = data.get_attribute( 'outerHTML' )\n",
    "table_html_io = StringIO( data_tab )\n",
    "table_df      = pd.read_html( table_html_io )[ 0 ]\n",
    "table_df.head(5)"
   ]
  },
  {
   "cell_type": "code",
   "execution_count": 12,
   "id": "b60f3bfb",
   "metadata": {},
   "outputs": [],
   "source": [
    "url = 'https://www.sbs.gob.pe/'\n",
    "\n",
    "driver  = webdriver.Chrome()        \n",
    "driver.get( url )"
   ]
  },
  {
   "cell_type": "code",
   "execution_count": 10,
   "id": "0e47b145",
   "metadata": {},
   "outputs": [],
   "source": [
    "# driver.maximize_window()"
   ]
  },
  {
   "cell_type": "code",
   "execution_count": 13,
   "id": "ce366262",
   "metadata": {},
   "outputs": [
    {
     "name": "stdout",
     "output_type": "stream",
     "text": [
      "<selenium.webdriver.remote.webelement.WebElement (session=\"ac31cbe1075a6d1408f94f381fc8cb48\", element=\"f.882AC110E4441BCC6FFF8452E73B42B9.d.E4411E60CF11C489FE2ABF5C145E10CC.e.26\")>\n"
     ]
    }
   ],
   "source": [
    "data = driver.find_element( By.XPATH,  '//*[@id=\"dnn_ctr25850_HtmlModule_lblContent\"]/div/div/ul/li[1]/div[2]/table/tbody/tr')\n",
    "print(data)"
   ]
  },
  {
   "cell_type": "code",
   "execution_count": 14,
   "id": "04e3cadd",
   "metadata": {},
   "outputs": [
    {
     "name": "stdout",
     "output_type": "stream",
     "text": [
      "<tr>\n",
      "    <td>Compra\n",
      "    <div id=\"divCompra\">3.698</div>\n",
      "    </td>\n",
      "    <td class=\"text-right\">\n",
      "    <div class=\"ventas-home\">Venta\n",
      "    <div id=\"divVenta\">3.707</div>\n",
      "    </div>\n",
      "    </td>\n",
      "   </tr>\n"
     ]
    }
   ],
   "source": [
    "data = driver.find_element(By.XPATH, '//*[@id=\"dnn_ctr25850_HtmlModule_lblContent\"]/div/div/ul/li[1]/div[2]/table/tbody/tr')\n",
    "print(data.get_attribute('outerHTML'))  # Esto imprimirá el HTML completo del elemento\n"
   ]
  },
  {
   "cell_type": "code",
   "execution_count": 15,
   "id": "9b300421",
   "metadata": {},
   "outputs": [
    {
     "data": {
      "text/html": [
       "<div>\n",
       "<style scoped>\n",
       "    .dataframe tbody tr th:only-of-type {\n",
       "        vertical-align: middle;\n",
       "    }\n",
       "\n",
       "    .dataframe tbody tr th {\n",
       "        vertical-align: top;\n",
       "    }\n",
       "\n",
       "    .dataframe thead th {\n",
       "        text-align: right;\n",
       "    }\n",
       "</style>\n",
       "<table border=\"1\" class=\"dataframe\">\n",
       "  <thead>\n",
       "    <tr style=\"text-align: right;\">\n",
       "      <th></th>\n",
       "      <th>Compra</th>\n",
       "      <th>Venta</th>\n",
       "    </tr>\n",
       "  </thead>\n",
       "  <tbody>\n",
       "    <tr>\n",
       "      <th>0</th>\n",
       "      <td>3.698</td>\n",
       "      <td>3.707</td>\n",
       "    </tr>\n",
       "  </tbody>\n",
       "</table>\n",
       "</div>"
      ],
      "text/plain": [
       "  Compra  Venta\n",
       "0  3.698  3.707"
      ]
     },
     "execution_count": 15,
     "metadata": {},
     "output_type": "execute_result"
    }
   ],
   "source": [
    "from bs4 import BeautifulSoup\n",
    "import pandas as pd\n",
    "\n",
    "# Parseamos el HTML utilizando BeautifulSoup\n",
    "soup = BeautifulSoup(data.get_attribute('outerHTML'), 'html.parser')\n",
    "\n",
    "# Encontramos todas las etiquetas <tr> para extraer las filas de la tabla\n",
    "rows = soup.find_all('tr')\n",
    "\n",
    "# Creamos listas para almacenar los datos de la tabla\n",
    "compras = []\n",
    "ventas = []\n",
    "\n",
    "# Iteramos sobre las filas para extraer los datos de la tabla\n",
    "for row in rows:\n",
    "    cols = row.find_all('td')\n",
    "    compra = cols[0].text.strip()  # Obtenemos el texto de la primera columna\n",
    "    venta = cols[1].text.strip()   # Obtenemos el texto de la segunda columna\n",
    "    compras.append(compra)\n",
    "    ventas.append(venta)\n",
    "\n",
    "# Creamos un DataFrame de pandas con los datos obtenidos\n",
    "table_df = pd.DataFrame({'Compra': compras, 'Venta': ventas})\n",
    "\n",
    "# Eliminamos el texto adicional de \"Compra\" y \"Venta\" en los valores de las columnas\n",
    "table_df['Compra'] = table_df['Compra'].str.split().str[-1]  # Seleccionamos el último elemento después de dividir por espacios\n",
    "table_df['Venta'] = table_df['Venta'].str.split().str[-1]   # Seleccionamos el último elemento después de dividir por espacios\n",
    "\n",
    "# Eliminamos el texto adicional de \"Compra\" y \"Venta\" en los nombres de las columnas\n",
    "table_df.columns = table_df.columns.str.split().str[-1]  # Seleccionamos el último elemento después de dividir por espacios\n",
    "\n",
    "# Mostramos el DataFrame resultante\n",
    "table_df\n"
   ]
  },
  {
   "cell_type": "code",
   "execution_count": null,
   "id": "03eed502",
   "metadata": {},
   "outputs": [],
   "source": [
    "\n",
    "\n"
   ]
  }
 ],
 "metadata": {
  "kernelspec": {
   "display_name": "Python 3 (ipykernel)",
   "language": "python",
   "name": "python3"
  },
  "language_info": {
   "codemirror_mode": {
    "name": "ipython",
    "version": 3
   },
   "file_extension": ".py",
   "mimetype": "text/x-python",
   "name": "python",
   "nbconvert_exporter": "python",
   "pygments_lexer": "ipython3",
   "version": "3.12.0"
  }
 },
 "nbformat": 4,
 "nbformat_minor": 5
}
